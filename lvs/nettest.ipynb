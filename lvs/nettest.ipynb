{
 "cells": [
  {
   "cell_type": "markdown",
   "metadata": {
    "collapsed": false
   },
   "source": [
    "# Place to test creating small NDNT networks to see how they work"
   ]
  },
  {
   "cell_type": "code",
   "execution_count": 72,
   "metadata": {
    "collapsed": false
   },
   "outputs": [],
   "source": [
    "import sys\n",
    "# not best practice, but makes it easier to import from subdirectory\n",
    "sys.path.insert(0, './lib')\n",
    "\n",
    "import numpy as np\n",
    "import torch\n",
    "from copy import deepcopy\n",
    "\n",
    "import NDNT.utils as utils\n",
    "import NDNT.NDNT as NDN\n",
    "from NDNT.modules.layers import ChannelLayer, NDNLayer\n",
    "from NDNT.networks import FFnetwork\n",
    "import NTdatasets.HN.HNdatasets as datasets\n",
    "from NTdatasets.sensory_base import SensoryBase\n",
    "\n",
    "from importlib import reload\n",
    "\n",
    "import modellib as ml\n",
    "\n",
    "def redo():\n",
    "    reload(ml)\n"
   ]
  },
  {
   "cell_type": "code",
   "execution_count": 73,
   "metadata": {
    "collapsed": false
   },
   "outputs": [],
   "source": [
    "# create test dataset to fit with a model\n",
    "class TestDataset(SensoryBase):\n",
    "    def __init__(self):\n",
    "        # in this case, we don't need to call the parent constructor\n",
    "        #               since it is made up for the test\n",
    "        # this is the minimum set of data necessary to train a model\n",
    "        # at least, when the __getitem()__ returns a dictionary\n",
    "        # __getitem()__ can return a flat vector, I believe\n",
    "        self.stim = torch.rand(1000, 132)\n",
    "        self.robs = torch.rand(1000, 31)\n",
    "        self.dfs = torch.ones(1000, 31) # datafilter, 1 when valid, 0 when not\n",
    "        self.val_inds = range(0, 1000) # this is for validation\n",
    "        self.train_inds = range(0, 1000) # this is for training\n",
    "        self.NT = 1000 # this is the number of timepoints\n",
    "        # DANBUG: these should be moved to SensoryBase if it is referenced in the superclass\n",
    "        self.cov_dims = {}\n",
    "        self.covariates = {}\n",
    "        ###############\n",
    "\n",
    "    # this returns the item at the given index\n",
    "    def __getitem__(self, i):\n",
    "        out = {\n",
    "            'stim': self.stim[i,:],\n",
    "            'robs': self.robs[i,:],\n",
    "            'dfs': self.dfs[i, :]\n",
    "        }\n",
    "        if len(self.covariates) > 0:\n",
    "            self.append_covariates(out, i)\n",
    "        return out\n"
   ]
  },
  {
   "cell_type": "code",
   "execution_count": 81,
   "metadata": {
    "collapsed": false
   },
   "outputs": [
    {
     "data": {
      "text/plain": [
       "dict_keys(['stim', 'robs', 'dfs', 'cov'])"
      ]
     },
     "execution_count": 81,
     "metadata": {},
     "output_type": "execute_result"
    }
   ],
   "source": [
    "data = TestDataset() # create the test data to train on\n",
    "data.add_covariate('cov', torch.rand(1000, 132))\n",
    "data.__getitem__(0).keys()"
   ]
  },
  {
   "cell_type": "code",
   "execution_count": 80,
   "metadata": {
    "collapsed": false
   },
   "outputs": [
    {
     "name": "stdout",
     "output_type": "stream",
     "text": [
      "Mean LL-null: nan\n"
     ]
    },
    {
     "data": {
      "text/plain": [
       "array([      nan,       nan,       nan,       nan, 2.1651614,       nan,\n",
       "             nan,       nan,       nan,       nan,       nan,       nan,\n",
       "       1.8424454,       nan,       nan,       nan,       nan,       nan,\n",
       "             nan,       nan,       nan,       nan,       nan,       nan,\n",
       "             nan,       nan,       nan,       nan,       nan,       nan,\n",
       "             nan], dtype=float32)"
      ]
     },
     "execution_count": 80,
     "metadata": {},
     "output_type": "execute_result"
    }
   ],
   "source": [
    "lbfgs_pars = utils.create_optimizer_params(\n",
    "    optimizer_type='lbfgs',\n",
    "    tolerance_change=1e-10,\n",
    "    tolerance_grad=1e-10,\n",
    "    batch_size=2000,\n",
    "    history_size=100,\n",
    "    max_epochs=3,\n",
    "    max_iter = 2000)\n",
    "\n",
    "# TODO: validate that is learns something\n",
    "# TODO: add in another covariate (smoothed_robs) and make sure it works correctly\n",
    "# TODO: then, we can easily add new covariates in as we desire, and combine them as well\n",
    "\n",
    "# define the layers (inputs and outputs)\n",
    "Dreg = 0.005\n",
    "pars = NDNLayer.layer_dict(\n",
    "    input_dims=[1,11,1,12], num_filters=31, bias=False, norm_type=0, NLtype='lin')\n",
    "pars['reg_vals'] = {'d2t': Dreg, 'bcs':{'d2t':0}}\n",
    "parsN = deepcopy(pars)\n",
    "parsN['NLtype'] = 'softplus'\n",
    "\n",
    "# define the network\n",
    "# xstim_n = the key for the data provided by the dataset\n",
    "netN = FFnetwork.ffnet_dict(xstim_n = 'stim', layer_list = [parsN] )\n",
    "\n",
    "cov_layer = NDNLayer.layer_dict(\n",
    "    input_dims=[1, 11, 1, 12], num_filters=31, bias=False, norm_type=0, NLtype='lin')\n",
    "smoothed_net = FFnetwork.ffnet_dict(xstim_n='cov', layer_list=[cov_layer])\n",
    "\n",
    "comb_layer = ChannelLayer.layer_dict(num_filters=31) # just return 1 output\n",
    "comb_net = FFnetwork.ffnet_dict(xstim_n=None, ffnet_n=[0, 1], layer_list=[comb_layer], ffnet_type='add')\n",
    "\n",
    "# define the model\n",
    "model = NDN.NDN(ffnet_list = [netN, smoothed_net, comb_net], loss_type='poisson')\n",
    "\n",
    "# train the model\n",
    "model.fit(data, force_dict_training=True, **lbfgs_pars, verbose=0)\n",
    "\n",
    "# evaluate model using null-adjusted log-likelihood\n",
    "# TODO: these val_inds are all the indices. This is NOT correct.\n",
    "LLsNULL = model.eval_models(data[data.val_inds], null_adjusted=False)\n",
    "print(\"Mean LL-null:\", np.mean(LLsNULL))\n",
    "LLsNULL"
   ]
  },
  {
   "cell_type": "code",
   "execution_count": 82,
   "metadata": {
    "collapsed": false
   },
   "outputs": [
    {
     "name": "stdout",
     "output_type": "stream",
     "text": [
      "stim None\n",
      "cov None\n",
      "None [0, 1]\n"
     ]
    },
    {
     "data": {
      "image/png": "[encoded data removed]",
      "text/plain": [
       "<Figure size 432x288 with 1 Axes>"
      ]
     },
     "metadata": {},
     "output_type": "display_data"
    }
   ],
   "source": [
    "ml.draw_network(model)"
   ]
  },
  {
   "cell_type": "code",
   "execution_count": null,
   "metadata": {
    "collapsed": false
   },
   "outputs": [],
   "source": []
  },
  {
   "cell_type": "code",
   "execution_count": null,
   "metadata": {
    "collapsed": false
   },
   "outputs": [],
   "source": []
  }
 ],
 "metadata": {
  "kernelspec": {
   "display_name": "Python 3",
   "language": "python",
   "name": "python3"
  },
  "language_info": {
   "codemirror_mode": {
    "name": "ipython",
    "version": 2
   },
   "file_extension": ".py",
   "mimetype": "text/x-python",
   "name": "python",
   "nbconvert_exporter": "python",
   "pygments_lexer": "ipython2",
   "version": "2.7.6"
  }
 },
 "nbformat": 4,
 "nbformat_minor": 0
}
