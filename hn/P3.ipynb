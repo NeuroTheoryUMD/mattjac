{
 "cells": [
  {
   "cell_type": "code",
   "execution_count": 1,
   "id": "7292e41b-e0c7-48c3-85b1-237b3327d9ec",
   "metadata": {},
   "outputs": [
    {
     "name": "stdout",
     "output_type": "stream",
     "text": [
      "Running on Computer: [wireless-10-104-47-95.umd.edu]\n",
      "Invoking __init__.py for NDNT.utils\n",
      "cpu\n",
      "Save_dir = checkpoints\n"
     ]
    }
   ],
   "source": [
    "import sys\n",
    "import os\n",
    "import h5py \n",
    "import scipy.io as sio\n",
    "import pprint\n",
    "import matplotlib\n",
    "import matplotlib.cm as cm\n",
    "\n",
    "# setup paths\n",
    "iteration = 1 # which version of this tutorial to run (in case want results in different dirs)\n",
    "NBname = 'color_cloud_initial{}'.format(iteration)\n",
    "\n",
    "myhost = os.uname()[1] # get name of machine\n",
    "print(\"Running on Computer: [%s]\" %myhost)\n",
    "\n",
    "datadir = './Data/'\n",
    "\n",
    "       \n",
    "import numpy as np\n",
    "from copy import deepcopy\n",
    "\n",
    "# plotting\n",
    "import matplotlib.pyplot as plt\n",
    "from mpl_toolkits.mplot3d import Axes3D\n",
    "\n",
    "# Import torch\n",
    "import torch\n",
    "from torch import nn\n",
    "\n",
    "# NDN tools\n",
    "import NDNT.utils as utils # some other utilitiesi \n",
    "import NDNT.NDNT as NDN\n",
    "from NDNT.modules.layers import *\n",
    "from NDNT.networks import *\n",
    "from time import time\n",
    "\n",
    "device = torch.device(\"cuda:0\" if torch.cuda.is_available() else \"cpu\")\n",
    "dtype = torch.float32\n",
    "print(device)\n",
    "\n",
    "# Where saved models and checkpoints go -- this is to be automated\n",
    "print( 'Save_dir =', 'checkpoints')\n",
    "\n",
    "#%load_ext autoreload\n",
    "#%autoreload 2"
   ]
  },
  {
   "cell_type": "code",
   "execution_count": 2,
   "id": "f44c1d70-44cb-4f8a-9688-f57a1fa88f50",
   "metadata": {},
   "outputs": [
    {
     "name": "stdout",
     "output_type": "stream",
     "text": [
      "./Data/ ki_0126_V2_py.mat\n",
      "Loaded ki_0126_V2_py.mat\n",
      "190541 frames, 26 units, 870 trials with 192 frames each\n",
      "190541 26\n"
     ]
    }
   ],
   "source": [
    "import NTdatasets.HN.HNdatasets as datasets\n",
    "\n",
    "num_lags = 12\n",
    "\n",
    "inclMUs = True #set false for now\n",
    "fn = 'ki_0126_V2_py.mat'\n",
    "data = datasets.HNdataset(filename=fn, datadir=datadir, drift_interval=90)\n",
    "print(len(data), data.NC)"
   ]
  },
  {
   "cell_type": "code",
   "execution_count": 3,
   "id": "ab0a6f50-3f2f-4dc6-81bd-4189d78e63e2",
   "metadata": {},
   "outputs": [],
   "source": [
    "stim_to_correct = {}\n",
    "for sig, strength, side, choice in zip(data.TRsignal, data.TRstrength, data.TRcued, data.TRchoice):\n",
    "    if side < 0: side = 0 # make -1 sides into 0 for indexing purposes\n",
    "    side = 1 - side\n",
    "    \n",
    "    stim = sig[side]*strength[side] # stimulus is signal (-1 or +1) times it strength\n",
    "    \n",
    "    if stim not in stim_to_correct: stim_to_correct[stim] = [] # initialize if not created\n",
    "\n",
    "    '''sig[side]*choice'''\n",
    "    if choice > 0: # choice and signal have the same sign\n",
    "        stim_to_correct[stim].append(1)\n",
    "    else: # choice and signal have different signs\n",
    "        stim_to_correct[stim].append(0)"
   ]
  },
  {
   "cell_type": "code",
   "execution_count": 4,
   "id": "9cb2bcc1-bb32-401c-9a45-0d22ab2a2b7e",
   "metadata": {},
   "outputs": [
    {
     "data": {
      "text/plain": [
       "[(-0.5, 0.0),\n",
       " (-0.25, 0.0),\n",
       " (-0.125, 0.06666666666666667),\n",
       " (-0.06, 0.25609756097560976),\n",
       " (-0.03, 0.5),\n",
       " (-0.0, 0.5283018867924528),\n",
       " (0.03, 0.7027027027027027),\n",
       " (0.06, 0.7065217391304348),\n",
       " (0.125, 0.9230769230769231),\n",
       " (0.25, 1.0),\n",
       " (0.5, 1.0)]"
      ]
     },
     "execution_count": 4,
     "metadata": {},
     "output_type": "execute_result"
    }
   ],
   "source": [
    "sides = data.TRcued.copy() # copy the array so we don't corrupt the raw data\n",
    "sides[sides == 1] = 0 # make all +1 sides index into column 0\n",
    "sides[sides == -1] = 1 # make all the -1 sides index into column 1\n",
    "# create the array of stims which are the signal*strength at the given cued side\n",
    "X = [sig[side]*strength[side] for sig, side, strength in zip(data.TRsignal, sides, data.TRstrength)]\n",
    "\n",
    "# copy the array so we don't corrupt the raw data\n",
    "Y = data.TRchoice.copy()\n",
    "#  replace all -1 with 0 to make our choice counts easy to calculate by averaging\n",
    "Y[Y == -1] = 0\n",
    "\n",
    "stims = np.unique(X) # get the unique stimulus values\n",
    "# get the mean choices for each unique stimulus value\n",
    "responses = [Y[np.where(X == stim)].mean() for stim in stims]\n",
    "list(zip(stims, responses)) # print this out for reference"
   ]
  },
  {
   "cell_type": "code",
   "execution_count": 5,
   "id": "a38045c1-63d7-4317-9789-1f8b6dc2254a",
   "metadata": {},
   "outputs": [
    {
     "data": {
      "image/png": "[encoded data removed]",
      "text/plain": [
       "<Figure size 432x288 with 1 Axes>"
      ]
     },
     "metadata": {
      "needs_background": "light"
     },
     "output_type": "display_data"
    }
   ],
   "source": [
    "plt.plot(stims, responses)\n",
    "plt.plot(stims, responses, 'b.')\n",
    "plt.show()"
   ]
  },
  {
   "cell_type": "code",
   "execution_count": 6,
   "id": "589dfa06-63d5-4a4a-aeb7-40d48f133a17",
   "metadata": {},
   "outputs": [
    {
     "data": {
      "text/plain": [
       "array([[-0.5       ,  0.        ],\n",
       "       [-0.25      ,  0.        ],\n",
       "       [-0.125     ,  0.06666667],\n",
       "       [-0.06      ,  0.25609756],\n",
       "       [-0.03      ,  0.5       ],\n",
       "       [ 0.        ,  0.52830189],\n",
       "       [ 0.03      ,  0.7027027 ],\n",
       "       [ 0.06      ,  0.70652174],\n",
       "       [ 0.125     ,  0.92307692],\n",
       "       [ 0.25      ,  1.        ],\n",
       "       [ 0.5       ,  1.        ]])"
      ]
     },
     "execution_count": 6,
     "metadata": {},
     "output_type": "execute_result"
    }
   ],
   "source": [
    "stims_means = np.array([(stim, np.mean(correct)) for stim, correct in stim_to_correct.items()])\n",
    "sorted_stims_means = stims_means[stims_means[:, 0].argsort()]\n",
    "sorted_stims_means"
   ]
  },
  {
   "cell_type": "code",
   "execution_count": 7,
   "id": "0f5a93c4-f31a-45f6-b27f-6111494ea8f2",
   "metadata": {},
   "outputs": [
    {
     "data": {
      "image/png": "[encoded data removed]",
      "text/plain": [
       "<Figure size 432x288 with 1 Axes>"
      ]
     },
     "metadata": {
      "needs_background": "light"
     },
     "output_type": "display_data"
    }
   ],
   "source": [
    "plt.plot(sorted_stims_means[:,0], sorted_stims_means[:,1])\n",
    "plt.plot(sorted_stims_means[:,0], sorted_stims_means[:,1], 'b.')\n",
    "plt.show()"
   ]
  },
  {
   "cell_type": "code",
   "execution_count": null,
   "id": "02e3a451-e240-4a21-89ae-11c45d98b2b7",
   "metadata": {},
   "outputs": [],
   "source": []
  },
  {
   "cell_type": "code",
   "execution_count": null,
   "id": "94fac770-7b20-42b9-a02e-f0098a0407c3",
   "metadata": {},
   "outputs": [],
   "source": []
  }
 ],
 "metadata": {
  "kernelspec": {
   "display_name": "Python 3 (ipykernel)",
   "language": "python",
   "name": "python3"
  },
  "language_info": {
   "codemirror_mode": {
    "name": "ipython",
    "version": 3
   },
   "file_extension": ".py",
   "mimetype": "text/x-python",
   "name": "python",
   "nbconvert_exporter": "python",
   "pygments_lexer": "ipython3",
   "version": "3.9.10"
  }
 },
 "nbformat": 4,
 "nbformat_minor": 5
}
