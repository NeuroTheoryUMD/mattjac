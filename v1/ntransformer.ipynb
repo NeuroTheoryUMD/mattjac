{
 "cells": [
  {
   "cell_type": "code",
   "execution_count": 146,
   "metadata": {
    "ExecuteTime": {
     "end_time": "2023-04-04T13:44:51.630702Z",
     "start_time": "2023-04-04T13:44:51.593207Z"
    },
    "collapsed": true
   },
   "outputs": [
    {
     "name": "stdout",
     "output_type": "stream",
     "text": [
      "The autoreload extension is already loaded. To reload it, use:\n",
      "  %reload_ext autoreload\n"
     ]
    }
   ],
   "source": [
    "import sys\n",
    "sys.path.append('./')\n",
    "\n",
    "import former.former as former\n",
    "from former.former import util\n",
    "from former.former.transformers import NTransformer1D\n",
    "\n",
    "from former.former.util import d, here, tic, toc\n",
    "\n",
    "from NTdatasets.cumming.monocular import MultiDataset\n",
    "from torch.utils.data import DataLoader, random_split, Subset\n",
    "\n",
    "import torch\n",
    "from torch import nn\n",
    "from torch.autograd import Variable\n",
    "import torch.nn.functional as F\n",
    "import torch.distributions as dist\n",
    "import tqdm\n",
    "\n",
    "import numpy as np\n",
    "\n",
    "device = torch.device('cuda:0')\n",
    "\n",
    "%load_ext autoreload\n",
    "%autoreload 2"
   ]
  },
  {
   "cell_type": "code",
   "execution_count": 147,
   "metadata": {
    "ExecuteTime": {
     "end_time": "2023-04-04T13:44:51.694840Z",
     "start_time": "2023-04-04T13:44:51.631440Z"
    },
    "collapsed": false
   },
   "outputs": [
    {
     "data": {
      "text/plain": [
       "NTransformer1D(\n",
       "  (pos_embedding): Embedding(512, 128)\n",
       "  (tblocks): Sequential(\n",
       "    (0): TransformerBlock(\n",
       "      (attention): SelfAttention(\n",
       "        (tokeys): Linear(in_features=128, out_features=128, bias=False)\n",
       "        (toqueries): Linear(in_features=128, out_features=128, bias=False)\n",
       "        (tovalues): Linear(in_features=128, out_features=128, bias=False)\n",
       "        (unifyheads): Linear(in_features=128, out_features=128, bias=True)\n",
       "      )\n",
       "      (norm1): LayerNorm((128,), eps=1e-05, elementwise_affine=True)\n",
       "      (norm2): LayerNorm((128,), eps=1e-05, elementwise_affine=True)\n",
       "      (ff): Sequential(\n",
       "        (0): Linear(in_features=128, out_features=512, bias=True)\n",
       "        (1): ReLU()\n",
       "        (2): Linear(in_features=512, out_features=128, bias=True)\n",
       "      )\n",
       "      (do): Dropout(p=0.0, inplace=False)\n",
       "    )\n",
       "    (1): TransformerBlock(\n",
       "      (attention): SelfAttention(\n",
       "        (tokeys): Linear(in_features=128, out_features=128, bias=False)\n",
       "        (toqueries): Linear(in_features=128, out_features=128, bias=False)\n",
       "        (tovalues): Linear(in_features=128, out_features=128, bias=False)\n",
       "        (unifyheads): Linear(in_features=128, out_features=128, bias=True)\n",
       "      )\n",
       "      (norm1): LayerNorm((128,), eps=1e-05, elementwise_affine=True)\n",
       "      (norm2): LayerNorm((128,), eps=1e-05, elementwise_affine=True)\n",
       "      (ff): Sequential(\n",
       "        (0): Linear(in_features=128, out_features=512, bias=True)\n",
       "        (1): ReLU()\n",
       "        (2): Linear(in_features=512, out_features=128, bias=True)\n",
       "      )\n",
       "      (do): Dropout(p=0.0, inplace=False)\n",
       "    )\n",
       "    (2): TransformerBlock(\n",
       "      (attention): SelfAttention(\n",
       "        (tokeys): Linear(in_features=128, out_features=128, bias=False)\n",
       "        (toqueries): Linear(in_features=128, out_features=128, bias=False)\n",
       "        (tovalues): Linear(in_features=128, out_features=128, bias=False)\n",
       "        (unifyheads): Linear(in_features=128, out_features=128, bias=True)\n",
       "      )\n",
       "      (norm1): LayerNorm((128,), eps=1e-05, elementwise_affine=True)\n",
       "      (norm2): LayerNorm((128,), eps=1e-05, elementwise_affine=True)\n",
       "      (ff): Sequential(\n",
       "        (0): Linear(in_features=128, out_features=512, bias=True)\n",
       "        (1): ReLU()\n",
       "        (2): Linear(in_features=512, out_features=128, bias=True)\n",
       "      )\n",
       "      (do): Dropout(p=0.0, inplace=False)\n",
       "    )\n",
       "    (3): TransformerBlock(\n",
       "      (attention): SelfAttention(\n",
       "        (tokeys): Linear(in_features=128, out_features=128, bias=False)\n",
       "        (toqueries): Linear(in_features=128, out_features=128, bias=False)\n",
       "        (tovalues): Linear(in_features=128, out_features=128, bias=False)\n",
       "        (unifyheads): Linear(in_features=128, out_features=128, bias=True)\n",
       "      )\n",
       "      (norm1): LayerNorm((128,), eps=1e-05, elementwise_affine=True)\n",
       "      (norm2): LayerNorm((128,), eps=1e-05, elementwise_affine=True)\n",
       "      (ff): Sequential(\n",
       "        (0): Linear(in_features=128, out_features=512, bias=True)\n",
       "        (1): ReLU()\n",
       "        (2): Linear(in_features=512, out_features=128, bias=True)\n",
       "      )\n",
       "      (do): Dropout(p=0.0, inplace=False)\n",
       "    )\n",
       "    (4): TransformerBlock(\n",
       "      (attention): SelfAttention(\n",
       "        (tokeys): Linear(in_features=128, out_features=128, bias=False)\n",
       "        (toqueries): Linear(in_features=128, out_features=128, bias=False)\n",
       "        (tovalues): Linear(in_features=128, out_features=128, bias=False)\n",
       "        (unifyheads): Linear(in_features=128, out_features=128, bias=True)\n",
       "      )\n",
       "      (norm1): LayerNorm((128,), eps=1e-05, elementwise_affine=True)\n",
       "      (norm2): LayerNorm((128,), eps=1e-05, elementwise_affine=True)\n",
       "      (ff): Sequential(\n",
       "        (0): Linear(in_features=128, out_features=512, bias=True)\n",
       "        (1): ReLU()\n",
       "        (2): Linear(in_features=512, out_features=128, bias=True)\n",
       "      )\n",
       "      (do): Dropout(p=0.0, inplace=False)\n",
       "    )\n",
       "    (5): TransformerBlock(\n",
       "      (attention): SelfAttention(\n",
       "        (tokeys): Linear(in_features=128, out_features=128, bias=False)\n",
       "        (toqueries): Linear(in_features=128, out_features=128, bias=False)\n",
       "        (tovalues): Linear(in_features=128, out_features=128, bias=False)\n",
       "        (unifyheads): Linear(in_features=128, out_features=128, bias=True)\n",
       "      )\n",
       "      (norm1): LayerNorm((128,), eps=1e-05, elementwise_affine=True)\n",
       "      (norm2): LayerNorm((128,), eps=1e-05, elementwise_affine=True)\n",
       "      (ff): Sequential(\n",
       "        (0): Linear(in_features=128, out_features=512, bias=True)\n",
       "        (1): ReLU()\n",
       "        (2): Linear(in_features=512, out_features=128, bias=True)\n",
       "      )\n",
       "      (do): Dropout(p=0.0, inplace=False)\n",
       "    )\n",
       "  )\n",
       "  (torobs): Linear(in_features=128, out_features=95, bias=True)\n",
       "  (do): Dropout(p=0.0, inplace=False)\n",
       ")"
      ]
     },
     "execution_count": 147,
     "metadata": {},
     "output_type": "execute_result"
    }
   ],
   "source": [
    "embedding_size = 128\n",
    "num_heads = 8\n",
    "depth = 6\n",
    "seq_length = 512\n",
    "num_neurons = 95\n",
    "context = 512\n",
    "attention_type = 'default'\n",
    "\n",
    "model = NTransformer1D(stim=embedding_size, heads=num_heads, depth=depth, seq_length=context, num_neurons=95)\n",
    "model"
   ]
  },
  {
   "cell_type": "markdown",
   "metadata": {
    "collapsed": false
   },
   "source": [
    "# load the data"
   ]
  },
  {
   "cell_type": "code",
   "execution_count": 148,
   "metadata": {
    "ExecuteTime": {
     "end_time": "2023-04-04T13:44:52.065987Z",
     "start_time": "2023-04-04T13:44:51.694584Z"
    },
    "collapsed": false
   },
   "outputs": [
    {
     "name": "stdout",
     "output_type": "stream",
     "text": [
      "Loading ['expt04']\n",
      "Loading expt04\n",
      "11 cells, 362504 time steps.\n"
     ]
    },
    {
     "data": {
      "text/plain": [
       "(274739, 68780)"
      ]
     },
     "execution_count": 148,
     "metadata": {},
     "output_type": "execute_result"
    }
   ],
   "source": [
    "# Load Data\n",
    "num_lags = 10\n",
    "expts = ['expt04']\n",
    "datadir = './Mdata/'\n",
    "\n",
    "batch_size = 1000\n",
    "\n",
    "# TODO: we need to convert the items in the batch to sequences of stimuli,\n",
    "#       instead of individual time points\n",
    "#       Maybe just use time-embed, and reshape in the forward?\n",
    "#       But, we also need to get the corresponding sequence of robs...\n",
    "# TODO: we also need to change the model to predict a sequence of robs for each neuron,\n",
    "#       not just a single set of robs for all the neurons\n",
    "\n",
    "\n",
    "# we don't time embed to model the stimuli as a sequence with the transformer\n",
    "dataset = MultiDataset(datadir=datadir, filenames=expts, include_MUs=False, time_embed=False)\n",
    "print(\"%d cells, %d time steps.\"%(dataset.NC, dataset.NT))\n",
    "\n",
    "train_inds = dataset.train_inds\n",
    "val_inds = dataset.val_inds\n",
    "\n",
    "train_ds = Subset(dataset, train_inds)\n",
    "val_ds = Subset(dataset, val_inds)\n",
    "\n",
    "train_dl = DataLoader(train_ds, \n",
    "                      batch_size=batch_size, \n",
    "                      shuffle=True, \n",
    "                      num_workers=0)\n",
    "valid_dl = DataLoader(val_ds, \n",
    "                      batch_size=batch_size, \n",
    "                      shuffle=True, \n",
    "                      num_workers=0)\n",
    "\n",
    "len(train_ds), len(val_ds)"
   ]
  },
  {
   "cell_type": "markdown",
   "metadata": {
    "collapsed": false
   },
   "source": [
    "# create the model"
   ]
  },
  {
   "cell_type": "code",
   "execution_count": 149,
   "metadata": {
    "ExecuteTime": {
     "end_time": "2023-04-04T13:44:52.067750Z",
     "start_time": "2023-04-04T13:44:52.065070Z"
    },
    "collapsed": false
   },
   "outputs": [],
   "source": [
    "mx = 360 # max sequence length # 360 / 10 frames = 36 pixels per frame\n",
    "NC = 11\n",
    "final = False\n",
    "\n",
    "num_epochs = 2\n",
    "max_pool = True\n",
    "gradient_clipping = -1\n",
    "lr = 0.0001\n",
    "lr_warmup = 1000\n",
    "depth = 6\n",
    "num_heads = 6\n",
    "stim_length = 36\n",
    "\n",
    "\n",
    "model = NTransformer1D(stim=stim_length, heads=num_heads, depth=depth, seq_length=mx, num_neurons=dataset.NC, max_pool=max_pool)\n",
    "\n",
    "model.to(device)\n",
    "\n",
    "opt = torch.optim.Adam(lr=lr, params=model.parameters())\n",
    "sch = torch.optim.lr_scheduler.LambdaLR(opt, lambda i: min(i / (lr_warmup / batch_size), 1.0))"
   ]
  },
  {
   "cell_type": "markdown",
   "metadata": {
    "collapsed": false
   },
   "source": [
    "# training loop"
   ]
  },
  {
   "cell_type": "code",
   "execution_count": 150,
   "metadata": {
    "ExecuteTime": {
     "end_time": "2023-04-04T13:44:52.067938Z",
     "start_time": "2023-04-04T13:44:52.067069Z"
    },
    "collapsed": false
   },
   "outputs": [],
   "source": [
    "def batch_to_sequences(batch, device):\n",
    "    stim = batch['stim']\n",
    "    robs = batch['robs']\n",
    "    \n",
    "    stim = stim.to(device)\n",
    "    robs = robs.to(device)\n",
    "    \n",
    "    #print('stim', stim.shape)\n",
    "    #print('robs', robs.shape)\n",
    "    \n",
    "    if stim.shape[0] < 1000:\n",
    "        return None, None\n",
    "\n",
    "    # reshape the batch stim into a small set of batches of the desired sequence length\n",
    "    # 1000 x 36 --> 10 x 100 x 36\n",
    "    # TODO: this is not correct,\n",
    "    #  we want to stack the 36 dim vectors into a sequence\n",
    "    #  making a 3D vector: batch_size x seq_len x 36\n",
    "    stim_sequence = stim.reshape(10, 100, 36)\n",
    "    \n",
    "    # reshape the batch robs into a small set of batches of the desired sequence length\n",
    "    # 1000 x 11 --> 100 x 110\n",
    "    robs_sequence = robs.reshape(10, 100, 11)\n",
    "    \n",
    "    return stim_sequence, robs_sequence"
   ]
  },
  {
   "cell_type": "code",
   "execution_count": 155,
   "metadata": {
    "ExecuteTime": {
     "end_time": "2023-04-04T13:49:17.020459Z",
     "start_time": "2023-04-04T13:49:16.160166Z"
    },
    "collapsed": false
   },
   "outputs": [
    {
     "name": "stdout",
     "output_type": "stream",
     "text": [
      "\n",
      " epoch 0\n"
     ]
    },
    {
     "name": "stderr",
     "output_type": "stream",
     "text": [
      "  0%|                                                                                                       | 0/275 [00:00<?, ?it/s]\n"
     ]
    },
    {
     "name": "stdout",
     "output_type": "stream",
     "text": [
      "out tensor(-2.4000, device='cuda:0', grad_fn=<MeanBackward0>) tensor(0.0642, device='cuda:0', grad_fn=<StdBackward0>)\n",
      "robs tensor(0.2726, device='cuda:0') tensor(0.6457, device='cuda:0')\n"
     ]
    },
    {
     "name": "stderr",
     "output_type": "stream",
     "text": [
      "100%|███████████████████████████████████████████████████████████████████████████████████████████████| 69/69 [00:00<00:00, 85.87it/s]\n"
     ]
    }
   ],
   "source": [
    "losses = []\n",
    "seen = 0\n",
    "for e in range(1):\n",
    "    print(f'\\n epoch {e}')\n",
    "    model.train(True)\n",
    "\n",
    "    for batch in tqdm.tqdm(train_dl):\n",
    "        opt.zero_grad()\n",
    "\n",
    "        # convert the batch to sequences\n",
    "        stim_sequence, robs_sequence = batch_to_sequences(batch, device)\n",
    "        \n",
    "        if stim_sequence is None:\n",
    "            continue\n",
    "\n",
    "        # TODO: I don't think the output is being properly normalized\n",
    "        out = model(stim_sequence)\n",
    "        print('out', torch.mean(out), torch.std(out))\n",
    "        print('robs', torch.mean(robs_sequence), torch.std(robs_sequence))\n",
    "        loss = F.mse_loss(out, robs_sequence)\n",
    "        losses.append(loss.detach().cpu().numpy())\n",
    "\n",
    "        loss.backward()\n",
    "\n",
    "        # clip gradients\n",
    "        # - If the total gradient vector has a length > 1, we clip it back down to 1.\n",
    "        if gradient_clipping > 0.0:\n",
    "            nn.utils.clip_grad_norm_(model.parameters(),gradient_clipping)\n",
    "\n",
    "        opt.step()\n",
    "        sch.step()\n",
    "\n",
    "        seen += stim_sequence.size(0)\n",
    "        break\n",
    "\n",
    "    with torch.no_grad():\n",
    "        model.train(False)\n",
    "        tot, cor= 0.0, 0.0\n",
    "\n",
    "        for batch in tqdm.tqdm(valid_dl):\n",
    "            stim_sequence, robs_sequence = batch_to_sequences(batch, device)\n",
    "            if stim_sequence is None:\n",
    "                continue\n",
    "            out = model(stim_sequence)\n"
   ]
  },
  {
   "cell_type": "code",
   "execution_count": 152,
   "metadata": {
    "ExecuteTime": {
     "end_time": "2023-04-04T13:45:25.466427Z",
     "start_time": "2023-04-04T13:45:25.357641Z"
    },
    "collapsed": false
   },
   "outputs": [
    {
     "data": {
      "text/plain": [
       "[<matplotlib.lines.Line2D at 0x7f4936322df0>]"
      ]
     },
     "execution_count": 152,
     "metadata": {},
     "output_type": "execute_result"
    },
    {
     "data": {
      "image/png": "[encoded data removed]",
      "text/plain": [
       "<Figure size 640x480 with 1 Axes>"
      ]
     },
     "metadata": {},
     "output_type": "display_data"
    }
   ],
   "source": [
    "import matplotlib.pyplot as plt\n",
    "plt.plot(losses)"
   ]
  },
  {
   "cell_type": "code",
   "execution_count": 152,
   "metadata": {
    "ExecuteTime": {
     "end_time": "2023-04-04T13:45:25.466605Z",
     "start_time": "2023-04-04T13:45:25.466084Z"
    },
    "collapsed": false
   },
   "outputs": [],
   "source": []
  },
  {
   "cell_type": "markdown",
   "metadata": {
    "collapsed": false
   },
   "source": [
    "# test the model"
   ]
  },
  {
   "cell_type": "code",
   "execution_count": 158,
   "metadata": {
    "ExecuteTime": {
     "end_time": "2023-04-04T15:12:12.147572Z",
     "start_time": "2023-04-04T15:12:11.186955Z"
    },
    "collapsed": false
   },
   "outputs": [
    {
     "name": "stderr",
     "output_type": "stream",
     "text": [
      "100%|███████████████████████████████████████████████████████████████████████████████████████████████| 69/69 [00:00<00:00, 86.28it/s]\n"
     ]
    },
    {
     "data": {
      "text/plain": [
       "<matplotlib.legend.Legend at 0x7f49354bf0d0>"
      ]
     },
     "execution_count": 158,
     "metadata": {},
     "output_type": "execute_result"
    },
    {
     "data": {
      "image/png": "[encoded data removed]",
      "text/plain": [
       "<Figure size 640x480 with 1 Axes>"
      ]
     },
     "metadata": {},
     "output_type": "display_data"
    }
   ],
   "source": [
    "import matplotlib.pyplot as plt\n",
    "\n",
    "outs = []\n",
    "robs_sequences = []\n",
    "for batch in tqdm.tqdm(valid_dl):\n",
    "    stim_sequence, robs_sequence = batch_to_sequences(batch, device)\n",
    "    if stim_sequence is None:\n",
    "        continue\n",
    "    robs_sequences.append(robs_sequence)\n",
    "    out = model(stim_sequence)\n",
    "    outs.append(out)\n",
    "    \n",
    "# normalize the outputs and robs\n",
    "# normalized_outs = []\n",
    "# normalized_robs_sequences = []\n",
    "# for out, robs_sequence in zip(outs, robs_sequences):\n",
    "#     out = out / torch.max(out)\n",
    "#     robs_sequence = robs_sequence / torch.max(robs_sequence)\n",
    "#     normalized_outs.append(out)\n",
    "#     normalized_robs_sequences.append(robs_sequence)\n",
    "\n",
    "i = 100\n",
    "for out, robs_sequence in zip(outs, robs_sequences):\n",
    "    plt.plot(range(i-100,i), out[0,:,1].cpu().detach().numpy(), label='out')\n",
    "    plt.plot(range(i-100,i), robs_sequence[0,:,1].cpu().detach().numpy(), label='robs')\n",
    "    i += 100\n",
    "    if i > 200: break\n",
    "plt.legend()"
   ]
  },
  {
   "cell_type": "code",
   "execution_count": 153,
   "metadata": {
    "ExecuteTime": {
     "end_time": "2023-04-04T13:45:26.521807Z",
     "start_time": "2023-04-04T13:45:26.521426Z"
    },
    "collapsed": false
   },
   "outputs": [],
   "source": []
  }
 ],
 "metadata": {
  "kernelspec": {
   "display_name": "Python 3",
   "language": "python",
   "name": "python3"
  },
  "language_info": {
   "codemirror_mode": {
    "name": "ipython",
    "version": 2
   },
   "file_extension": ".py",
   "mimetype": "text/x-python",
   "name": "python",
   "nbconvert_exporter": "python",
   "pygments_lexer": "ipython2",
   "version": "2.7.6"
  }
 },
 "nbformat": 4,
 "nbformat_minor": 0
}
