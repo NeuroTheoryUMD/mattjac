{
 "cells": [
  {
   "cell_type": "markdown",
   "metadata": {
    "collapsed": false
   },
   "source": [
    "# imports"
   ]
  },
  {
   "cell_type": "code",
   "execution_count": 11,
   "metadata": {
    "ExecuteTime": {
     "end_time": "2023-06-30T21:24:35.316087Z",
     "start_time": "2023-06-30T21:24:35.160804Z"
    },
    "collapsed": false
   },
   "outputs": [
    {
     "name": "stdout",
     "output_type": "stream",
     "text": [
      "The autoreload extension is already loaded. To reload it, use:\n",
      "  %reload_ext autoreload\n"
     ]
    }
   ],
   "source": [
    "# Dataset preprocessor to prepare the data for training\n",
    "import numpy as np\n",
    "import torch\n",
    "import pickle\n",
    "import os\n",
    "import optuna\n",
    "\n",
    "from time import time\n",
    "import scipy.io as sio\n",
    "import matplotlib.pyplot as plt\n",
    "\n",
    "from NTdatasets.generic import GenericDataset\n",
    "from NTdatasets.cumming.monocular import MultiDataset\n",
    "import NTdatasets.conway.cloud_datasets as datasets\n",
    "\n",
    "import ColorDataUtils.ConwayUtils as CU\n",
    "import ColorDataUtils.EyeTrackingUtils as ETutils\n",
    "\n",
    "# NDN tools\n",
    "import NDNT.utils as utils # some other utilities\n",
    "import NDNT.NDNT as NDN\n",
    "from NDNT.modules.layers import *\n",
    "from NDNT.networks import *\n",
    "from time import time\n",
    "from copy import deepcopy\n",
    "\n",
    "import sys\n",
    "sys.path.append('./lib')\n",
    "import runner2 as r\n",
    "import model as m\n",
    "import experiment as exp\n",
    "import plot\n",
    "\n",
    "from NDNT.utils import imagesc   # because I'm lazy\n",
    "from NDNT.utils import ss        # because I'm real lazy\n",
    "\n",
    "%load_ext autoreload\n",
    "%autoreload 2"
   ]
  },
  {
   "cell_type": "code",
   "execution_count": 2,
   "metadata": {
    "ExecuteTime": {
     "end_time": "2023-06-30T21:18:55.156141Z",
     "start_time": "2023-06-30T21:18:55.139839Z"
    },
    "collapsed": false
   },
   "outputs": [],
   "source": [
    "datadir = '/home/dbutts/ColorV1/Data/'\n",
    "dirname = '/home/dbutts/ColorV1/CLRworkspace/'\n",
    "fn = 'Jocamo_220715_full_CC_ETCC_nofix_v08'\n",
    "#fn = 'Jocamo_220727_full_CC_ETCC_nofix_v08'\n",
    "num_lags=12"
   ]
  },
  {
   "cell_type": "markdown",
   "metadata": {
    "collapsed": false
   },
   "source": [
    "# load data"
   ]
  },
  {
   "cell_type": "code",
   "execution_count": 3,
   "metadata": {
    "ExecuteTime": {
     "end_time": "2023-06-30T21:20:42.985894Z",
     "start_time": "2023-06-30T21:18:55.157136Z"
    },
    "collapsed": false
   },
   "outputs": [
    {
     "name": "stdout",
     "output_type": "stream",
     "text": [
      "Reducing stimulus channels (3) to first dimension\n",
      "Loading data into memory...\n",
      "Adjusting stimulus read from disk: mean | std = -0.000 | 0.269\n",
      "T-range: 0 167520\n",
      "  Trimming experiment 365280->167520 time points based on eye_config and Tmax\n",
      "107.76439118385315 sec elapsed\n"
     ]
    }
   ],
   "source": [
    "t0 = time()\n",
    "data = datasets.ColorClouds(\n",
    "    datadir=datadir, filenames=[fn], eye_config=3, drift_interval=16,\n",
    "    luminance_only=True, binocular=False, include_MUs=True, num_lags=num_lags,\n",
    "    trial_sample=True)\n",
    "t1 = time()\n",
    "print(t1-t0, 'sec elapsed')"
   ]
  },
  {
   "cell_type": "code",
   "execution_count": 4,
   "metadata": {
    "ExecuteTime": {
     "end_time": "2023-06-30T21:20:43.280485Z",
     "start_time": "2023-06-30T21:20:42.980178Z"
    },
    "collapsed": false
   },
   "outputs": [
    {
     "name": "stdout",
     "output_type": "stream",
     "text": [
      "167520 (167520 valid) time points\n",
      "29 laminar units, 210 ET units\n",
      "  Redoing fix_n with saccade inputs: 6827 saccades\n",
      "3795 fixations\n",
      "[  0   1   2   3   4   5   6   7   8   9  10  11  12  13  14 128 129 130\n",
      " 131 132 133 134 135 136 137 138 139 140 141] laminar units torch.Size([167520, 239]) robs torch.Size([167520, 239]) dfs\n"
     ]
    }
   ],
   "source": [
    "NT = data.robs.shape[0]\n",
    "NA = data.Xdrift.shape[1]\n",
    "print(\"%d (%d valid) time points\"%(NT, len(data)))\n",
    "#data.valid_inds = np.arange(NT, dtype=np.int64)\n",
    "\n",
    "lam_units = np.where(data.channel_map < 32)[0]\n",
    "ETunits = np.where(data.channel_map >= 32)[0]\n",
    "UTunits = np.where(data.channel_map >= 32+127)[0]\n",
    "\n",
    "print( \"%d laminar units, %d ET units\"%(len(lam_units), len(ETunits)))\n",
    "\n",
    "# Replace DFs\n",
    "matdat = sio.loadmat(datadir+'Jocamo_220715_full_CC_ETCC_nofix_v08_DFextra.mat')\n",
    "data.dfs = torch.tensor( matdat['XDF'][:NT, :], dtype=torch.float32 )\n",
    "\n",
    "# Pull correct saccades\n",
    "matdat = sio.loadmat(datadir+'Jocamo_220715_full_CC_ETCC_v08_ETupdate.mat')\n",
    "sac_ts_all = matdat['ALLsac_bins'][0, :]\n",
    "\n",
    "data.process_fixations( sac_ts_all )\n",
    "sac_tsB = matdat['sac_binsB'][0, :]\n",
    "sac_tsL = matdat['sac_binsL'][0, :]\n",
    "sac_tsR = matdat['sac_binsR'][0, :]\n",
    "\n",
    "NFIX = torch.max(data.fix_n).detach().numpy()\n",
    "print(NFIX, 'fixations')\n",
    "et1kHzB = matdat['et1kHzB']\n",
    "et60B = matdat['et60HzB']\n",
    "et60all = matdat['et60Hz_all']\n",
    "\n",
    "print(lam_units, 'laminar units', data.robs.shape, 'robs', data.dfs.shape, 'dfs')"
   ]
  },
  {
   "cell_type": "code",
   "execution_count": 5,
   "metadata": {
    "ExecuteTime": {
     "end_time": "2023-06-30T21:21:28.942248Z",
     "start_time": "2023-06-30T21:20:43.284295Z"
    },
    "collapsed": false
   },
   "outputs": [
    {
     "name": "stdout",
     "output_type": "stream",
     "text": [
      "21 out of 29 units used\n",
      "Output set to 21 cells\n"
     ]
    },
    {
     "data": {
      "image/png": "[encoded data removed]",
      "text/plain": [
       "<Figure size 500x500 with 1 Axes>"
      ]
     },
     "metadata": {},
     "output_type": "display_data"
    },
    {
     "name": "stdout",
     "output_type": "stream",
     "text": [
      "  Stim expansion for shift: [918, 495, 1018, 595]\n",
      "  Writing lam stim 0: overlap 49, 44\n",
      "  Writing lam stim 1: overlap 49, 56\n",
      "  Writing lam stim 2: overlap 51, 56\n",
      "  Writing lam stim 3: overlap 51, 44\n",
      "  Adding fixation point\n",
      "  Shifting stim...\n",
      "  CROP: New stim size: 60 x 60\n",
      "  Done\n"
     ]
    }
   ],
   "source": [
    "# Set cells-to-analyze and pull best model configuration and mus\n",
    "Reff = torch.mul(data.robs[:, lam_units], data.dfs[:, lam_units]).numpy()\n",
    "nspks = np.sum(Reff, axis=0)\n",
    "a = np.where(nspks > 10)[0]\n",
    "vallam = lam_units[a]\n",
    "NCv = len(vallam)\n",
    "print(\"%d out of %d units used\"%(len(vallam), len(lam_units)))\n",
    "\n",
    "## CONVERT LLsNULL, which is based on \n",
    "\n",
    "# Read in previous data\n",
    "dirname2 = dirname+'0715/et/'\n",
    "matdat = sio.loadmat(dirname2+'LLsGLM.mat')\n",
    "Dreg = matdat['Dreg']\n",
    "top_cornerUT = matdat['top_corner'][:, 0]\n",
    "\n",
    "data.set_cells(vallam)\n",
    "\n",
    "# Load shifts and previous models\n",
    "dirname2 = dirname+'0715/et/'\n",
    "SHfile = sio.loadmat( dirname2 + 'BDshifts1.mat' )\n",
    "fix_n = SHfile['fix_n']\n",
    "shifts = SHfile['shifts']\n",
    "metricsLL = SHfile['metricsLL']\n",
    "metricsTH = SHfile['metricsTH']\n",
    "ETshifts = SHfile['ETshifts']\n",
    "ETmetrics = SHfile['ETmetrics']\n",
    "Ukeeps = SHfile['Ctrain']\n",
    "XVkeeps = SHfile['Cval']\n",
    "\n",
    "top_corner_lam = [938, 515]\n",
    "\n",
    "# Make 60x60 STAs (and GLMs)\n",
    "Xshift = 0 #8+4 \n",
    "Yshift = 0 #-10+4\n",
    "NX = 60\n",
    "\n",
    "new_tc = np.array([top_corner_lam[0]-Xshift, top_corner_lam[1]-Yshift], dtype=np.int64)\n",
    "data.draw_stim_locations(top_corner = new_tc, L=NX)\n",
    "\n",
    "data.assemble_stimulus(top_corner=[new_tc[0], new_tc[1]], L=NX, fixdot=0, shifts=-shifts)\n",
    "\n",
    "\n",
    "goodfix = np.where(ETmetrics[:,1] < 0.80)[0]\n",
    "valfix = torch.zeros([ETmetrics.shape[0], 1], dtype=torch.float32)\n",
    "valfix[goodfix] = 1.0\n",
    "# Test base-level performance (full DFs and then modify DFs)\n",
    "#DFsave = deepcopy(data2.dfs)  # this is also in data.dfs\n",
    "data.dfs_out *= valfix"
   ]
  },
  {
   "cell_type": "code",
   "execution_count": 10,
   "metadata": {
    "ExecuteTime": {
     "end_time": "2023-06-30T21:22:00.461812Z",
     "start_time": "2023-06-30T21:22:00.431902Z"
    },
    "collapsed": false
   },
   "outputs": [
    {
     "name": "stdout",
     "output_type": "stream",
     "text": [
      "68.5% fixations remaining\n"
     ]
    }
   ],
   "source": [
    "device = torch.device(\"cuda:1\" if torch.cuda.is_available() else \"cpu\")\n",
    "device0 = torch.device(\"cpu\")\n",
    "dtype = torch.float32\n",
    "\n",
    "goodfix = np.where(ETmetrics[:,1] < 0.80)[0]\n",
    "valfix = torch.zeros([ETmetrics.shape[0], 1], dtype=torch.float32)\n",
    "valfix[goodfix] = 1.0\n",
    "print(\"%0.1f%% fixations remaining\"%(100*len(goodfix)/ETmetrics.shape[0]))"
   ]
  },
  {
   "cell_type": "markdown",
   "metadata": {
    "collapsed": false
   },
   "source": [
    "# STAs"
   ]
  },
  {
   "cell_type": "code",
   "execution_count": 6,
   "metadata": {
    "ExecuteTime": {
     "end_time": "2023-06-30T21:21:32.866497Z",
     "start_time": "2023-06-30T21:21:28.943771Z"
    },
    "collapsed": false
   },
   "outputs": [],
   "source": [
    "Reff = torch.mul(data.robs[:, vallam], data.dfs[:, vallam])\n",
    "nspks = torch.sum(Reff, axis=0)\n",
    "lag = 4\n",
    "stas0 = ((data.stim[:-lag, ...].T @ Reff[lag:,:]).squeeze() / nspks).reshape([60,60,-1]).numpy()"
   ]
  },
  {
   "cell_type": "code",
   "execution_count": 7,
   "metadata": {
    "ExecuteTime": {
     "end_time": "2023-06-30T21:21:34.853089Z",
     "start_time": "2023-06-30T21:21:32.867386Z"
    },
    "collapsed": false
   },
   "outputs": [
    {
     "data": {
      "image/png": "[encoded data removed]",
      "text/plain": [
       "<Figure size 1600x750 with 21 Axes>"
      ]
     },
     "metadata": {},
     "output_type": "display_data"
    }
   ],
   "source": [
    "NCv = len(vallam)\n",
    "ss(3,7)\n",
    "for cc in range(NCv):\n",
    "    plt.subplot(3,7, cc+1)\n",
    "    imagesc(stas0[:,:, cc])\n",
    "    plt.title(str(cc))\n",
    "plt.show()"
   ]
  },
  {
   "cell_type": "code",
   "execution_count": 14,
   "metadata": {
    "ExecuteTime": {
     "end_time": "2023-06-30T21:41:22.952841Z",
     "start_time": "2023-06-30T21:41:22.894475Z"
    },
    "collapsed": false
   },
   "outputs": [],
   "source": [
    "driftmods = []\n",
    "glms = []\n",
    "glm2s = []\n",
    "gqms = []\n",
    "\n",
    "class Model:\n",
    "    def __init__(self, ndn_model, LLs, trial):\n",
    "        self.ndn_model = ndn_model\n",
    "        self.LLs = LLs\n",
    "        self.trial = trial"
   ]
  },
  {
   "cell_type": "markdown",
   "metadata": {
    "collapsed": false
   },
   "source": [
    "# Drift"
   ]
  },
  {
   "cell_type": "code",
   "execution_count": 25,
   "metadata": {
    "ExecuteTime": {
     "end_time": "2023-06-30T21:57:56.146258Z",
     "start_time": "2023-06-30T21:55:49.878015Z"
    },
    "collapsed": false
   },
   "outputs": [
    {
     "name": "stderr",
     "output_type": "stream",
     "text": [
      "[I 2023-06-30 17:55:49,923] A new study created in memory with name: no-name-268cd8a2-5e75-40cb-8682-f330ba4aee62\n"
     ]
    },
    {
     "name": "stdout",
     "output_type": "stream",
     "text": [
      "Output set to 1 cells\n"
     ]
    },
    {
     "name": "stderr",
     "output_type": "stream",
     "text": [
      "[I 2023-06-30 17:55:50,480] Trial 0 finished with value: 4.8887481689453125 and parameters: {'tolerance_change': 1e-08, 'tolerance_grad': 1e-08, 'd2t': 0.1}. Best is trial 0 with value: 4.8887481689453125.\n",
      "[I 2023-06-30 17:55:50,920] Trial 1 finished with value: 4.89316463470459 and parameters: {'tolerance_change': 1.268808145771392e-05, 'tolerance_grad': 1.3056347201049154e-08, 'd2t': 0.08434285178336998}. Best is trial 1 with value: 4.89316463470459.\n",
      "[I 2023-06-30 17:55:51,401] Trial 2 finished with value: 4.909045219421387 and parameters: {'tolerance_change': 4.6841856279583806e-05, 'tolerance_grad': 2.017427958073387e-08, 'd2t': 0.936510358861603}. Best is trial 2 with value: 4.909045219421387.\n",
      "[I 2023-06-30 17:55:52,024] Trial 3 finished with value: 4.888699531555176 and parameters: {'tolerance_change': 1.4484700493016216e-08, 'tolerance_grad': 1.268961185347136e-07, 'd2t': 0.20374881974048253}. Best is trial 2 with value: 4.909045219421387.\n",
      "[I 2023-06-30 17:55:52,642] Trial 4 finished with value: 4.888636112213135 and parameters: {'tolerance_change': 2.8835312498050206e-07, 'tolerance_grad': 3.965508842014182e-06, 'd2t': 0.3502461892547968}. Best is trial 2 with value: 4.909045219421387.\n",
      "[I 2023-06-30 17:55:53,106] Trial 5 finished with value: 4.906163215637207 and parameters: {'tolerance_change': 5.356668949161623e-06, 'tolerance_grad': 2.1297505122887864e-07, 'd2t': 0.49190868006603483}. Best is trial 2 with value: 4.909045219421387.\n",
      "[I 2023-06-30 17:55:53,973] Trial 6 finished with value: 4.888970375061035 and parameters: {'tolerance_change': 5.207526699182695e-08, 'tolerance_grad': 3.552876137252609e-05, 'd2t': 0.9849212128023359}. Best is trial 2 with value: 4.909045219421387.\n",
      "[I 2023-06-30 17:55:54,622] Trial 7 finished with value: 4.88923454284668 and parameters: {'tolerance_change': 1.3191197551802696e-06, 'tolerance_grad': 7.220723261617015e-07, 'd2t': 0.9974406815208083}. Best is trial 2 with value: 4.909045219421387.\n",
      "[I 2023-06-30 17:55:55,200] Trial 8 finished with value: 4.89007568359375 and parameters: {'tolerance_change': 3.1230149857431486e-06, 'tolerance_grad': 3.069192229186236e-08, 'd2t': 0.6132655456138982}. Best is trial 2 with value: 4.909045219421387.\n",
      "[I 2023-06-30 17:55:55,954] Trial 9 finished with value: 4.888917446136475 and parameters: {'tolerance_change': 1.6883772258831343e-08, 'tolerance_grad': 2.810856544062577e-06, 'd2t': 0.9413195454324468}. Best is trial 2 with value: 4.909045219421387.\n",
      "[I 2023-06-30 17:55:55,968] A new study created in memory with name: no-name-4120eb85-eef3-41ec-b6b9-faa6303b5773\n"
     ]
    },
    {
     "name": "stdout",
     "output_type": "stream",
     "text": [
      "2 {'tolerance_change': 4.6841856279583806e-05, 'tolerance_grad': 2.017427958073387e-08, 'd2t': 0.936510358861603}\n",
      "Output set to 1 cells\n"
     ]
    },
    {
     "name": "stderr",
     "output_type": "stream",
     "text": [
      "[I 2023-06-30 17:55:56,400] Trial 0 finished with value: 2.1308462619781494 and parameters: {'tolerance_change': 1e-08, 'tolerance_grad': 1e-08, 'd2t': 0.1}. Best is trial 0 with value: 2.1308462619781494.\n",
      "[I 2023-06-30 17:55:56,834] Trial 1 finished with value: 2.130991220474243 and parameters: {'tolerance_change': 1.5664056311768515e-07, 'tolerance_grad': 2.0568956095951568e-08, 'd2t': 0.253948855395275}. Best is trial 1 with value: 2.130991220474243.\n",
      "[I 2023-06-30 17:55:57,300] Trial 2 finished with value: 2.130985736846924 and parameters: {'tolerance_change': 4.0807595209980226e-08, 'tolerance_grad': 4.562333495143828e-07, 'd2t': 0.31688675449725645}. Best is trial 1 with value: 2.130991220474243.\n",
      "[I 2023-06-30 17:55:57,738] Trial 3 finished with value: 2.131544589996338 and parameters: {'tolerance_change': 2.207267195315522e-05, 'tolerance_grad': 3.0796349368021385e-08, 'd2t': 0.8407915940170567}. Best is trial 3 with value: 2.131544589996338.\n",
      "[I 2023-06-30 17:55:58,219] Trial 4 finished with value: 2.1310842037200928 and parameters: {'tolerance_change': 2.589660026555701e-07, 'tolerance_grad': 5.011458290111117e-07, 'd2t': 0.666739536018559}. Best is trial 3 with value: 2.131544589996338.\n",
      "[I 2023-06-30 17:55:58,745] Trial 5 finished with value: 2.131113290786743 and parameters: {'tolerance_change': 6.804868453258001e-08, 'tolerance_grad': 1.279319187124374e-07, 'd2t': 0.957252535606404}. Best is trial 3 with value: 2.131544589996338.\n",
      "[I 2023-06-30 17:55:59,184] Trial 6 finished with value: 2.1313881874084473 and parameters: {'tolerance_change': 3.5380811826613485e-05, 'tolerance_grad': 6.549543345543669e-05, 'd2t': 0.7112909513344486}. Best is trial 3 with value: 2.131544589996338.\n",
      "[I 2023-06-30 17:55:59,629] Trial 7 finished with value: 2.131422996520996 and parameters: {'tolerance_change': 1.9474704476223518e-05, 'tolerance_grad': 1.08663442225528e-08, 'd2t': 0.9979233558937858}. Best is trial 3 with value: 2.131544589996338.\n",
      "[I 2023-06-30 17:56:00,035] Trial 8 finished with value: 2.1306638717651367 and parameters: {'tolerance_change': 5.3715514709717525e-06, 'tolerance_grad': 1.557376453388796e-06, 'd2t': 0.030563344018801786}. Best is trial 3 with value: 2.131544589996338.\n",
      "[I 2023-06-30 17:56:00,465] Trial 9 finished with value: 2.1314492225646973 and parameters: {'tolerance_change': 2.7304291109833272e-05, 'tolerance_grad': 8.471286313297847e-05, 'd2t': 0.5651384849439753}. Best is trial 3 with value: 2.131544589996338.\n",
      "[I 2023-06-30 17:56:00,474] A new study created in memory with name: no-name-93d5af0b-4d73-4e0e-a7d7-b63394ac4bc5\n"
     ]
    },
    {
     "name": "stdout",
     "output_type": "stream",
     "text": [
      "3 {'tolerance_change': 2.207267195315522e-05, 'tolerance_grad': 3.0796349368021385e-08, 'd2t': 0.8407915940170567}\n",
      "Output set to 1 cells\n"
     ]
    },
    {
     "name": "stderr",
     "output_type": "stream",
     "text": [
      "[I 2023-06-30 17:56:01,099] Trial 0 finished with value: 3.041670322418213 and parameters: {'tolerance_change': 1e-08, 'tolerance_grad': 1e-08, 'd2t': 0.1}. Best is trial 0 with value: 3.041670322418213.\n",
      "[I 2023-06-30 17:56:01,828] Trial 1 finished with value: 3.042454957962036 and parameters: {'tolerance_change': 7.076724277977811e-08, 'tolerance_grad': 4.525238841804197e-06, 'd2t': 0.4714243063739446}. Best is trial 1 with value: 3.042454957962036.\n",
      "[I 2023-06-30 17:56:02,350] Trial 2 finished with value: 3.0453405380249023 and parameters: {'tolerance_change': 1.4865141752195121e-06, 'tolerance_grad': 2.2850332594522152e-07, 'd2t': 0.27353709550477057}. Best is trial 2 with value: 3.0453405380249023.\n",
      "[I 2023-06-30 17:56:03,202] Trial 3 finished with value: 3.0434579849243164 and parameters: {'tolerance_change': 1.4813408629368468e-07, 'tolerance_grad': 2.8552936507277064e-06, 'd2t': 0.9616526878165274}. Best is trial 2 with value: 3.0453405380249023.\n",
      "[I 2023-06-30 17:56:03,863] Trial 4 finished with value: 3.0416507720947266 and parameters: {'tolerance_change': 1.494702262528751e-08, 'tolerance_grad': 8.897550055463441e-07, 'd2t': 0.13567176992810215}. Best is trial 2 with value: 3.0453405380249023.\n",
      "[I 2023-06-30 17:56:04,519] Trial 5 finished with value: 3.041715621948242 and parameters: {'tolerance_change': 2.2162671283894777e-07, 'tolerance_grad': 4.9616469934650584e-08, 'd2t': 0.18633490809202802}. Best is trial 2 with value: 3.0453405380249023.\n",
      "[I 2023-06-30 17:56:05,352] Trial 6 finished with value: 3.042940855026245 and parameters: {'tolerance_change': 4.259533485020173e-08, 'tolerance_grad': 5.080713336411068e-07, 'd2t': 0.6847177711679452}. Best is trial 2 with value: 3.0453405380249023.\n",
      "[I 2023-06-30 17:56:06,223] Trial 7 finished with value: 3.0434751510620117 and parameters: {'tolerance_change': 2.574388308116933e-08, 'tolerance_grad': 1.0828536010813702e-06, 'd2t': 0.9834412245884308}. Best is trial 2 with value: 3.0453405380249023.\n",
      "[I 2023-06-30 17:56:06,688] Trial 8 finished with value: 3.0731701850891113 and parameters: {'tolerance_change': 2.194431156967759e-06, 'tolerance_grad': 1.9697328930283775e-06, 'd2t': 0.7732613425507107}. Best is trial 8 with value: 3.0731701850891113.\n",
      "[I 2023-06-30 17:56:07,115] Trial 9 finished with value: 3.0520224571228027 and parameters: {'tolerance_change': 1.9292537028976482e-05, 'tolerance_grad': 1.1387037230903939e-08, 'd2t': 0.1551132120784483}. Best is trial 8 with value: 3.0731701850891113.\n",
      "[I 2023-06-30 17:56:07,127] A new study created in memory with name: no-name-d4a371ce-0363-4e1e-abc7-cd4b260da9d2\n"
     ]
    },
    {
     "name": "stdout",
     "output_type": "stream",
     "text": [
      "8 {'tolerance_change': 2.194431156967759e-06, 'tolerance_grad': 1.9697328930283775e-06, 'd2t': 0.7732613425507107}\n",
      "Output set to 1 cells\n"
     ]
    },
    {
     "name": "stderr",
     "output_type": "stream",
     "text": [
      "[I 2023-06-30 17:56:08,025] Trial 0 finished with value: 4.1579270362854 and parameters: {'tolerance_change': 1e-08, 'tolerance_grad': 1e-08, 'd2t': 0.1}. Best is trial 0 with value: 4.1579270362854.\n",
      "[I 2023-06-30 17:56:08,478] Trial 1 finished with value: 4.159471035003662 and parameters: {'tolerance_change': 3.921532841781159e-06, 'tolerance_grad': 1.2037009799697175e-05, 'd2t': 0.016849282345879013}. Best is trial 1 with value: 4.159471035003662.\n",
      "[I 2023-06-30 17:56:09,375] Trial 2 finished with value: 4.166847229003906 and parameters: {'tolerance_change': 2.918499160159096e-07, 'tolerance_grad': 2.7503165479934123e-08, 'd2t': 0.534469056792893}. Best is trial 2 with value: 4.166847229003906.\n",
      "[I 2023-06-30 17:56:09,830] Trial 3 finished with value: 4.308161735534668 and parameters: {'tolerance_change': 6.447044494083922e-05, 'tolerance_grad': 1.7491642502902223e-05, 'd2t': 0.3481122878213747}. Best is trial 3 with value: 4.308161735534668.\n",
      "[I 2023-06-30 17:56:10,411] Trial 4 finished with value: 4.163348197937012 and parameters: {'tolerance_change': 1.4735383350929835e-06, 'tolerance_grad': 7.93339068032458e-08, 'd2t': 0.12200238732040924}. Best is trial 3 with value: 4.308161735534668.\n",
      "[I 2023-06-30 17:56:10,924] Trial 5 finished with value: 4.1687235832214355 and parameters: {'tolerance_change': 5.945173127594845e-06, 'tolerance_grad': 2.1958817226748955e-07, 'd2t': 0.23659579298853906}. Best is trial 3 with value: 4.308161735534668.\n",
      "[I 2023-06-30 17:56:11,643] Trial 6 finished with value: 4.1732683181762695 and parameters: {'tolerance_change': 1.4154522945514568e-06, 'tolerance_grad': 8.667780475532852e-08, 'd2t': 0.35012324931555394}. Best is trial 3 with value: 4.308161735534668.\n",
      "[I 2023-06-30 17:56:12,600] Trial 7 finished with value: 4.172302722930908 and parameters: {'tolerance_change': 7.88225503036487e-08, 'tolerance_grad': 2.3463494618651595e-08, 'd2t': 0.7553962039448566}. Best is trial 3 with value: 4.308161735534668.\n",
      "[I 2023-06-30 17:56:13,191] Trial 8 finished with value: 4.161656379699707 and parameters: {'tolerance_change': 2.3787544502454885e-06, 'tolerance_grad': 1.578648619149258e-06, 'd2t': 0.08981958509485799}. Best is trial 3 with value: 4.308161735534668.\n",
      "[I 2023-06-30 17:56:13,944] Trial 9 finished with value: 4.174894332885742 and parameters: {'tolerance_change': 9.359792001855509e-07, 'tolerance_grad': 1.128439958667314e-06, 'd2t': 0.4053668087554101}. Best is trial 3 with value: 4.308161735534668.\n",
      "[I 2023-06-30 17:56:13,956] A new study created in memory with name: no-name-11f03b4a-6a5f-4251-b45a-6c83c6306333\n"
     ]
    },
    {
     "name": "stdout",
     "output_type": "stream",
     "text": [
      "3 {'tolerance_change': 6.447044494083922e-05, 'tolerance_grad': 1.7491642502902223e-05, 'd2t': 0.3481122878213747}\n",
      "Output set to 1 cells\n"
     ]
    },
    {
     "name": "stderr",
     "output_type": "stream",
     "text": [
      "[I 2023-06-30 17:56:14,539] Trial 0 finished with value: 4.9823317527771 and parameters: {'tolerance_change': 1e-08, 'tolerance_grad': 1e-08, 'd2t': 0.1}. Best is trial 0 with value: 4.9823317527771.\n",
      "[I 2023-06-30 17:56:15,169] Trial 1 finished with value: 4.983809471130371 and parameters: {'tolerance_change': 7.138168247869819e-07, 'tolerance_grad': 2.2666829650597343e-07, 'd2t': 0.6955161988329447}. Best is trial 1 with value: 4.983809471130371.\n",
      "[I 2023-06-30 17:56:15,763] Trial 2 finished with value: 4.982575416564941 and parameters: {'tolerance_change': 1.7360943372195112e-08, 'tolerance_grad': 5.5785847294343155e-05, 'd2t': 0.261851334832208}. Best is trial 1 with value: 4.983809471130371.\n",
      "[I 2023-06-30 17:56:16,522] Trial 3 finished with value: 4.983044147491455 and parameters: {'tolerance_change': 4.584086357030682e-08, 'tolerance_grad': 3.403248035360389e-07, 'd2t': 0.8796173424501961}. Best is trial 1 with value: 4.983809471130371.\n",
      "[I 2023-06-30 17:56:17,241] Trial 4 finished with value: 4.983580112457275 and parameters: {'tolerance_change': 2.0900314501494876e-07, 'tolerance_grad': 2.6310874693627608e-06, 'd2t': 0.681351761098283}. Best is trial 1 with value: 4.983809471130371.\n",
      "[I 2023-06-30 17:56:17,729] Trial 5 finished with value: 4.995990753173828 and parameters: {'tolerance_change': 3.839748066999783e-05, 'tolerance_grad': 5.32481884772824e-06, 'd2t': 0.5142541646765976}. Best is trial 5 with value: 4.995990753173828.\n",
      "[I 2023-06-30 17:56:18,178] Trial 6 finished with value: 5.020112991333008 and parameters: {'tolerance_change': 3.849499235345345e-05, 'tolerance_grad': 2.0076705171866776e-07, 'd2t': 0.7901369230748343}. Best is trial 6 with value: 5.020112991333008.\n",
      "[I 2023-06-30 17:56:18,940] Trial 7 finished with value: 4.98237943649292 and parameters: {'tolerance_change': 1.3797414276670134e-08, 'tolerance_grad': 3.0083320983797504e-05, 'd2t': 0.6149903744034857}. Best is trial 6 with value: 5.020112991333008.\n",
      "[I 2023-06-30 17:56:19,700] Trial 8 finished with value: 4.983078479766846 and parameters: {'tolerance_change': 1.1705012988397332e-08, 'tolerance_grad': 4.1827602271521105e-05, 'd2t': 0.8664458888707333}. Best is trial 6 with value: 5.020112991333008.\n",
      "[I 2023-06-30 17:56:20,204] Trial 9 finished with value: 4.982970714569092 and parameters: {'tolerance_change': 1.8479122961388262e-06, 'tolerance_grad': 7.987622412635635e-08, 'd2t': 0.14982512694112893}. Best is trial 6 with value: 5.020112991333008.\n",
      "[I 2023-06-30 17:56:20,215] A new study created in memory with name: no-name-fdcabe12-b0d6-4aad-9d3c-3e4080504b81\n"
     ]
    },
    {
     "name": "stdout",
     "output_type": "stream",
     "text": [
      "6 {'tolerance_change': 3.849499235345345e-05, 'tolerance_grad': 2.0076705171866776e-07, 'd2t': 0.7901369230748343}\n",
      "Output set to 1 cells\n"
     ]
    },
    {
     "name": "stderr",
     "output_type": "stream",
     "text": [
      "[I 2023-06-30 17:56:20,871] Trial 0 finished with value: 4.738723278045654 and parameters: {'tolerance_change': 1e-08, 'tolerance_grad': 1e-08, 'd2t': 0.1}. Best is trial 0 with value: 4.738723278045654.\n",
      "[I 2023-06-30 17:56:21,520] Trial 1 finished with value: 4.732149124145508 and parameters: {'tolerance_change': 1.9754952985474608e-06, 'tolerance_grad': 1.5541993174091428e-06, 'd2t': 0.6607472509448458}. Best is trial 0 with value: 4.738723278045654.\n",
      "[I 2023-06-30 17:56:22,362] Trial 2 finished with value: 4.739418983459473 and parameters: {'tolerance_change': 1.6413304226900142e-08, 'tolerance_grad': 8.491643919712163e-06, 'd2t': 0.7532614795719373}. Best is trial 2 with value: 4.739418983459473.\n",
      "[I 2023-06-30 17:56:22,875] Trial 3 finished with value: 4.730771064758301 and parameters: {'tolerance_change': 1.3911573748245733e-05, 'tolerance_grad': 2.0385007140773077e-06, 'd2t': 0.363029027426223}. Best is trial 2 with value: 4.739418983459473.\n",
      "[I 2023-06-30 17:56:23,492] Trial 4 finished with value: 4.738319396972656 and parameters: {'tolerance_change': 2.7648306005158794e-07, 'tolerance_grad': 9.672862001711472e-06, 'd2t': 0.16032057625173757}. Best is trial 2 with value: 4.739418983459473.\n",
      "[I 2023-06-30 17:56:24,135] Trial 5 finished with value: 4.738395690917969 and parameters: {'tolerance_change': 8.683374748152667e-08, 'tolerance_grad': 2.400053172693977e-05, 'd2t': 0.15524021085538597}. Best is trial 2 with value: 4.739418983459473.\n",
      "[I 2023-06-30 17:56:24,683] Trial 6 finished with value: 4.73966646194458 and parameters: {'tolerance_change': 2.6512009253120232e-05, 'tolerance_grad': 5.851346878219939e-08, 'd2t': 0.8662331289725496}. Best is trial 6 with value: 4.73966646194458.\n",
      "[I 2023-06-30 17:56:25,389] Trial 7 finished with value: 4.737925052642822 and parameters: {'tolerance_change': 4.643862211007232e-07, 'tolerance_grad': 3.915382526791876e-05, 'd2t': 0.49088861006731777}. Best is trial 6 with value: 4.73966646194458.\n",
      "[I 2023-06-30 17:56:26,199] Trial 8 finished with value: 4.739163875579834 and parameters: {'tolerance_change': 1.4109280966104565e-08, 'tolerance_grad': 2.6856299940665358e-05, 'd2t': 0.8427970186837799}. Best is trial 6 with value: 4.73966646194458.\n",
      "[I 2023-06-30 17:56:26,609] Trial 9 finished with value: 4.727753162384033 and parameters: {'tolerance_change': 1.9432978063989847e-06, 'tolerance_grad': 8.241427192160469e-05, 'd2t': 0.0021565690557583395}. Best is trial 6 with value: 4.73966646194458.\n",
      "[I 2023-06-30 17:56:26,626] A new study created in memory with name: no-name-d5f78d9f-d74a-4bb7-af86-0a764ea2e471\n"
     ]
    },
    {
     "name": "stdout",
     "output_type": "stream",
     "text": [
      "6 {'tolerance_change': 2.6512009253120232e-05, 'tolerance_grad': 5.851346878219939e-08, 'd2t': 0.8662331289725496}\n",
      "Output set to 1 cells\n"
     ]
    },
    {
     "name": "stderr",
     "output_type": "stream",
     "text": [
      "[I 2023-06-30 17:56:27,222] Trial 0 finished with value: 4.376742839813232 and parameters: {'tolerance_change': 1e-08, 'tolerance_grad': 1e-08, 'd2t': 0.1}. Best is trial 0 with value: 4.376742839813232.\n",
      "[I 2023-06-30 17:56:27,659] Trial 1 finished with value: 4.45161771774292 and parameters: {'tolerance_change': 4.7501509187475216e-05, 'tolerance_grad': 1.5777671825417313e-08, 'd2t': 0.34584813224595234}. Best is trial 1 with value: 4.45161771774292.\n",
      "[I 2023-06-30 17:56:28,309] Trial 2 finished with value: 4.377851486206055 and parameters: {'tolerance_change': 2.847688074341164e-07, 'tolerance_grad': 1.2085586973447903e-08, 'd2t': 0.32501525885424176}. Best is trial 1 with value: 4.45161771774292.\n",
      "[I 2023-06-30 17:56:28,871] Trial 3 finished with value: 4.3767876625061035 and parameters: {'tolerance_change': 8.105301435611044e-08, 'tolerance_grad': 1.7090567449736943e-07, 'd2t': 0.09824294011459866}. Best is trial 1 with value: 4.45161771774292.\n",
      "[I 2023-06-30 17:56:29,631] Trial 4 finished with value: 4.378401279449463 and parameters: {'tolerance_change': 1.9393414141593185e-07, 'tolerance_grad': 1.9405379759589156e-08, 'd2t': 0.8094165115740369}. Best is trial 1 with value: 4.45161771774292.\n",
      "[I 2023-06-30 17:56:30,451] Trial 5 finished with value: 4.378103733062744 and parameters: {'tolerance_change': 1.7396683559103997e-08, 'tolerance_grad': 1.7850827030004715e-05, 'd2t': 0.8798672676851457}. Best is trial 1 with value: 4.45161771774292.\n",
      "[I 2023-06-30 17:56:30,972] Trial 6 finished with value: 4.386200428009033 and parameters: {'tolerance_change': 5.028278383212401e-05, 'tolerance_grad': 1.3590009352398538e-06, 'd2t': 0.6900037490690218}. Best is trial 1 with value: 4.45161771774292.\n",
      "[I 2023-06-30 17:56:31,702] Trial 7 finished with value: 4.378432750701904 and parameters: {'tolerance_change': 1.4239315680230069e-06, 'tolerance_grad': 2.3321680565619845e-08, 'd2t': 0.9365947078416907}. Best is trial 1 with value: 4.45161771774292.\n",
      "[I 2023-06-30 17:56:32,179] Trial 8 finished with value: 4.408533096313477 and parameters: {'tolerance_change': 9.823753534894073e-05, 'tolerance_grad': 2.828325437359373e-08, 'd2t': 0.4268557125469513}. Best is trial 1 with value: 4.45161771774292.\n",
      "[I 2023-06-30 17:56:32,795] Trial 9 finished with value: 4.378306865692139 and parameters: {'tolerance_change': 2.0609350433354646e-06, 'tolerance_grad': 5.218989546281922e-06, 'd2t': 0.4653733060704721}. Best is trial 1 with value: 4.45161771774292.\n",
      "[I 2023-06-30 17:56:32,806] A new study created in memory with name: no-name-a91d48a1-9be8-4b3c-aff5-fee3a67eea36\n"
     ]
    },
    {
     "name": "stdout",
     "output_type": "stream",
     "text": [
      "1 {'tolerance_change': 4.7501509187475216e-05, 'tolerance_grad': 1.5777671825417313e-08, 'd2t': 0.34584813224595234}\n",
      "Output set to 1 cells\n"
     ]
    },
    {
     "name": "stderr",
     "output_type": "stream",
     "text": [
      "[I 2023-06-30 17:56:33,254] Trial 0 finished with value: 3.003512382507324 and parameters: {'tolerance_change': 1e-08, 'tolerance_grad': 1e-08, 'd2t': 0.1}. Best is trial 0 with value: 3.003512382507324.\n",
      "[I 2023-06-30 17:56:33,686] Trial 1 finished with value: 3.003626585006714 and parameters: {'tolerance_change': 1.1404948139895678e-05, 'tolerance_grad': 1.3710212412899456e-08, 'd2t': 0.15952182051141595}. Best is trial 1 with value: 3.003626585006714.\n",
      "[I 2023-06-30 17:56:34,291] Trial 2 finished with value: 3.003425359725952 and parameters: {'tolerance_change': 4.23305565395707e-08, 'tolerance_grad': 4.3680250463434025e-07, 'd2t': 0.8901752818302494}. Best is trial 1 with value: 3.003626585006714.\n",
      "[I 2023-06-30 17:56:34,824] Trial 3 finished with value: 3.0034103393554688 and parameters: {'tolerance_change': 2.399904821586578e-07, 'tolerance_grad': 1.844311012797174e-07, 'd2t': 0.53182011833965}. Best is trial 1 with value: 3.003626585006714.\n",
      "[I 2023-06-30 17:56:35,368] Trial 4 finished with value: 3.0034525394439697 and parameters: {'tolerance_change': 6.427460036276753e-07, 'tolerance_grad': 1.9643247165856102e-05, 'd2t': 0.727387027336845}. Best is trial 1 with value: 3.003626585006714.\n",
      "[I 2023-06-30 17:56:35,870] Trial 5 finished with value: 3.003525495529175 and parameters: {'tolerance_change': 5.040189218621796e-06, 'tolerance_grad': 8.466461241943878e-08, 'd2t': 0.840799045533269}. Best is trial 1 with value: 3.003626585006714.\n",
      "[I 2023-06-30 17:56:36,440] Trial 6 finished with value: 3.003434658050537 and parameters: {'tolerance_change': 3.73263737098637e-08, 'tolerance_grad': 5.600940000229195e-06, 'd2t': 0.7494177484136814}. Best is trial 1 with value: 3.003626585006714.\n",
      "[I 2023-06-30 17:56:36,981] Trial 7 finished with value: 3.0035810470581055 and parameters: {'tolerance_change': 5.948327330096564e-07, 'tolerance_grad': 8.29489123226398e-05, 'd2t': 0.9342037417340632}. Best is trial 1 with value: 3.003626585006714.\n",
      "[I 2023-06-30 17:56:37,538] Trial 8 finished with value: 3.003406047821045 and parameters: {'tolerance_change': 9.866132634551017e-08, 'tolerance_grad': 1.9334131687842562e-07, 'd2t': 0.5783863093625213}. Best is trial 1 with value: 3.003626585006714.\n",
      "[I 2023-06-30 17:56:38,007] Trial 9 finished with value: 3.0033059120178223 and parameters: {'tolerance_change': 2.2963900435776664e-06, 'tolerance_grad': 4.8364362806723395e-06, 'd2t': 0.3924134552749846}. Best is trial 1 with value: 3.003626585006714.\n",
      "[I 2023-06-30 17:56:38,016] A new study created in memory with name: no-name-4683399b-08ce-4a0a-b922-f760e3936eab\n"
     ]
    },
    {
     "name": "stdout",
     "output_type": "stream",
     "text": [
      "1 {'tolerance_change': 1.1404948139895678e-05, 'tolerance_grad': 1.3710212412899456e-08, 'd2t': 0.15952182051141595}\n",
      "Output set to 1 cells\n"
     ]
    },
    {
     "name": "stderr",
     "output_type": "stream",
     "text": [
      "[I 2023-06-30 17:56:38,451] Trial 0 finished with value: 1.9041332006454468 and parameters: {'tolerance_change': 1e-08, 'tolerance_grad': 1e-08, 'd2t': 0.1}. Best is trial 0 with value: 1.9041332006454468.\n",
      "[I 2023-06-30 17:56:38,881] Trial 1 finished with value: 1.9044791460037231 and parameters: {'tolerance_change': 1.9708095031344378e-05, 'tolerance_grad': 1.029675272242926e-05, 'd2t': 0.7086477738255561}. Best is trial 1 with value: 1.9044791460037231.\n",
      "[I 2023-06-30 17:56:39,323] Trial 2 finished with value: 1.9041649103164673 and parameters: {'tolerance_change': 1.6012059890353177e-06, 'tolerance_grad': 6.7920007026911515e-06, 'd2t': 0.3358362289896396}. Best is trial 1 with value: 1.9044791460037231.\n",
      "[I 2023-06-30 17:56:39,836] Trial 3 finished with value: 1.9041638374328613 and parameters: {'tolerance_change': 1.615129096167082e-08, 'tolerance_grad': 5.74451817700588e-05, 'd2t': 0.9659197087191836}. Best is trial 1 with value: 1.9044791460037231.\n",
      "[I 2023-06-30 17:56:40,261] Trial 4 finished with value: 1.904493808746338 and parameters: {'tolerance_change': 3.2640295821695765e-05, 'tolerance_grad': 2.9806994975925116e-07, 'd2t': 0.49035349305825005}. Best is trial 4 with value: 1.904493808746338.\n",
      "[I 2023-06-30 17:56:40,694] Trial 5 finished with value: 1.9041366577148438 and parameters: {'tolerance_change': 1.0229651740931777e-07, 'tolerance_grad': 6.401346944189754e-05, 'd2t': 0.19451306482643627}. Best is trial 4 with value: 1.904493808746338.\n",
      "[I 2023-06-30 17:56:41,184] Trial 6 finished with value: 1.9041569232940674 and parameters: {'tolerance_change': 1.0371589899140712e-08, 'tolerance_grad': 1.8699162558907745e-07, 'd2t': 0.6563083090646362}. Best is trial 4 with value: 1.904493808746338.\n",
      "[I 2023-06-30 17:56:41,687] Trial 7 finished with value: 1.9041621685028076 and parameters: {'tolerance_change': 5.6238140715248916e-08, 'tolerance_grad': 1.6302070632543822e-08, 'd2t': 0.6919445975095418}. Best is trial 4 with value: 1.904493808746338.\n",
      "[I 2023-06-30 17:56:42,150] Trial 8 finished with value: 1.9041521549224854 and parameters: {'tolerance_change': 3.518527087297994e-07, 'tolerance_grad': 8.858751022467105e-07, 'd2t': 0.46073719136398883}. Best is trial 4 with value: 1.904493808746338.\n",
      "[I 2023-06-30 17:56:42,575] Trial 9 finished with value: 1.9041965007781982 and parameters: {'tolerance_change': 1.4156045115611161e-06, 'tolerance_grad': 3.140031496443187e-08, 'd2t': 0.24792131927560856}. Best is trial 4 with value: 1.904493808746338.\n",
      "[I 2023-06-30 17:56:42,583] A new study created in memory with name: no-name-29625d4c-b1a7-4f77-8a28-b6bc721f2726\n"
     ]
    },
    {
     "name": "stdout",
     "output_type": "stream",
     "text": [
      "4 {'tolerance_change': 3.2640295821695765e-05, 'tolerance_grad': 2.9806994975925116e-07, 'd2t': 0.49035349305825005}\n",
      "Output set to 1 cells\n"
     ]
    },
    {
     "name": "stderr",
     "output_type": "stream",
     "text": [
      "[I 2023-06-30 17:56:43,248] Trial 0 finished with value: 4.658034324645996 and parameters: {'tolerance_change': 1e-08, 'tolerance_grad': 1e-08, 'd2t': 0.1}. Best is trial 0 with value: 4.658034324645996.\n",
      "[I 2023-06-30 17:56:44,041] Trial 1 finished with value: 4.656978607177734 and parameters: {'tolerance_change': 4.2122192905197826e-08, 'tolerance_grad': 6.507679072790361e-06, 'd2t': 0.908867186012075}. Best is trial 0 with value: 4.658034324645996.\n",
      "[I 2023-06-30 17:56:44,537] Trial 2 finished with value: 4.714906215667725 and parameters: {'tolerance_change': 8.723710124183447e-05, 'tolerance_grad': 6.337120615565696e-07, 'd2t': 0.4657786061129161}. Best is trial 2 with value: 4.714906215667725.\n",
      "[I 2023-06-30 17:56:45,177] Trial 3 finished with value: 4.655742645263672 and parameters: {'tolerance_change': 4.09594906882923e-06, 'tolerance_grad': 3.4527215852998554e-06, 'd2t': 0.4248113203542746}. Best is trial 2 with value: 4.714906215667725.\n",
      "[I 2023-06-30 17:56:45,993] Trial 4 finished with value: 4.657329082489014 and parameters: {'tolerance_change': 2.2078796191303205e-08, 'tolerance_grad': 3.8000105888507577e-06, 'd2t': 0.4512729110147926}. Best is trial 2 with value: 4.714906215667725.\n",
      "[I 2023-06-30 17:56:46,793] Trial 5 finished with value: 4.657259464263916 and parameters: {'tolerance_change': 3.74336599402629e-07, 'tolerance_grad': 1.3830728688481676e-07, 'd2t': 0.8203144400540385}. Best is trial 2 with value: 4.714906215667725.\n",
      "[I 2023-06-30 17:56:47,485] Trial 6 finished with value: 4.654807090759277 and parameters: {'tolerance_change': 4.860209075006247e-07, 'tolerance_grad': 3.420437238060728e-06, 'd2t': 0.6839479483280855}. Best is trial 2 with value: 4.714906215667725.\n",
      "[I 2023-06-30 17:56:47,925] Trial 7 finished with value: 4.864950180053711 and parameters: {'tolerance_change': 6.546686641302344e-05, 'tolerance_grad': 1.2762515845882513e-06, 'd2t': 0.44515321439381306}. Best is trial 7 with value: 4.864950180053711.\n",
      "[I 2023-06-30 17:56:48,421] Trial 8 finished with value: 4.77556848526001 and parameters: {'tolerance_change': 3.5421766346101618e-06, 'tolerance_grad': 1.1400206530901323e-05, 'd2t': 0.7817268371322781}. Best is trial 7 with value: 4.864950180053711.\n",
      "[I 2023-06-30 17:56:49,229] Trial 9 finished with value: 4.657124042510986 and parameters: {'tolerance_change': 9.210007290007432e-08, 'tolerance_grad': 6.008161150220196e-06, 'd2t': 0.9448025271008887}. Best is trial 7 with value: 4.864950180053711.\n",
      "[I 2023-06-30 17:56:49,240] A new study created in memory with name: no-name-ed606282-9744-4a4f-9de5-3b4f3d94b07d\n"
     ]
    },
    {
     "name": "stdout",
     "output_type": "stream",
     "text": [
      "7 {'tolerance_change': 6.546686641302344e-05, 'tolerance_grad': 1.2762515845882513e-06, 'd2t': 0.44515321439381306}\n",
      "Output set to 1 cells\n"
     ]
    },
    {
     "name": "stderr",
     "output_type": "stream",
     "text": [
      "[I 2023-06-30 17:56:49,746] Trial 0 finished with value: 4.416576862335205 and parameters: {'tolerance_change': 1e-08, 'tolerance_grad': 1e-08, 'd2t': 0.1}. Best is trial 0 with value: 4.416576862335205.\n",
      "[I 2023-06-30 17:56:50,267] Trial 1 finished with value: 4.420424461364746 and parameters: {'tolerance_change': 7.386155024589559e-05, 'tolerance_grad': 2.115303536845855e-05, 'd2t': 0.9350262661966913}. Best is trial 1 with value: 4.420424461364746.\n",
      "[I 2023-06-30 17:56:50,827] Trial 2 finished with value: 4.41964054107666 and parameters: {'tolerance_change': 6.7828896151245715e-06, 'tolerance_grad': 8.330569776015331e-07, 'd2t': 0.6258372677509716}. Best is trial 1 with value: 4.420424461364746.\n",
      "[I 2023-06-30 17:56:51,247] Trial 3 finished with value: 4.417058944702148 and parameters: {'tolerance_change': 9.485223894081194e-07, 'tolerance_grad': 1.2643814620040721e-08, 'd2t': 0.006916173319508445}. Best is trial 1 with value: 4.420424461364746.\n",
      "[I 2023-06-30 17:56:51,717] Trial 4 finished with value: 4.4532060623168945 and parameters: {'tolerance_change': 6.700644203676136e-05, 'tolerance_grad': 5.3536328776262506e-08, 'd2t': 0.5714098255933296}. Best is trial 4 with value: 4.4532060623168945.\n",
      "[I 2023-06-30 17:56:52,363] Trial 5 finished with value: 4.4184250831604 and parameters: {'tolerance_change': 7.031340771065401e-07, 'tolerance_grad': 2.0468905419637415e-06, 'd2t': 0.7786549752705959}. Best is trial 4 with value: 4.4532060623168945.\n",
      "[I 2023-06-30 17:56:52,953] Trial 6 finished with value: 4.417276382446289 and parameters: {'tolerance_change': 3.084006998985981e-07, 'tolerance_grad': 2.913619223383225e-08, 'd2t': 0.35619469473752285}. Best is trial 4 with value: 4.4532060623168945.\n",
      "[I 2023-06-30 17:56:53,713] Trial 7 finished with value: 4.4181227684021 and parameters: {'tolerance_change': 1.1265372650172116e-08, 'tolerance_grad': 6.074530979406668e-06, 'd2t': 0.8886477453485842}. Best is trial 4 with value: 4.4532060623168945.\n",
      "[I 2023-06-30 17:56:54,275] Trial 8 finished with value: 4.416751861572266 and parameters: {'tolerance_change': 2.1010752532725923e-08, 'tolerance_grad': 7.0683528183089634e-06, 'd2t': 0.1514955032069587}. Best is trial 4 with value: 4.4532060623168945.\n",
      "[I 2023-06-30 17:56:54,858] Trial 9 finished with value: 4.4175333976745605 and parameters: {'tolerance_change': 7.953418138102055e-08, 'tolerance_grad': 9.229285987134686e-05, 'd2t': 0.38132091306902405}. Best is trial 4 with value: 4.4532060623168945.\n",
      "[I 2023-06-30 17:56:54,871] A new study created in memory with name: no-name-75dfbd4c-fea9-41dc-a451-eb295e98c5de\n"
     ]
    },
    {
     "name": "stdout",
     "output_type": "stream",
     "text": [
      "4 {'tolerance_change': 6.700644203676136e-05, 'tolerance_grad': 5.3536328776262506e-08, 'd2t': 0.5714098255933296}\n",
      "Output set to 1 cells\n"
     ]
    },
    {
     "name": "stderr",
     "output_type": "stream",
     "text": [
      "[I 2023-06-30 17:56:55,583] Trial 0 finished with value: 5.122799396514893 and parameters: {'tolerance_change': 1e-08, 'tolerance_grad': 1e-08, 'd2t': 0.1}. Best is trial 0 with value: 5.122799396514893.\n",
      "[I 2023-06-30 17:56:56,242] Trial 1 finished with value: 5.157942771911621 and parameters: {'tolerance_change': 1.34419277998958e-06, 'tolerance_grad': 2.3126557559947154e-08, 'd2t': 0.20375975231477472}. Best is trial 1 with value: 5.157942771911621.\n",
      "[I 2023-06-30 17:56:56,906] Trial 2 finished with value: 5.080639362335205 and parameters: {'tolerance_change': 7.78197904802915e-06, 'tolerance_grad': 3.6170692802574655e-05, 'd2t': 0.7599609156696246}. Best is trial 1 with value: 5.157942771911621.\n",
      "[I 2023-06-30 17:56:57,584] Trial 3 finished with value: 5.103954315185547 and parameters: {'tolerance_change': 3.1193078152791643e-06, 'tolerance_grad': 3.338946496751271e-07, 'd2t': 0.3693259990210769}. Best is trial 1 with value: 5.157942771911621.\n",
      "[I 2023-06-30 17:56:58,482] Trial 4 finished with value: 5.183791637420654 and parameters: {'tolerance_change': 3.098835416819257e-08, 'tolerance_grad': 1.702517111797343e-08, 'd2t': 0.8636406380486664}. Best is trial 4 with value: 5.183791637420654.\n",
      "[I 2023-06-30 17:56:58,957] Trial 5 finished with value: 4.825495719909668 and parameters: {'tolerance_change': 6.417685257363504e-08, 'tolerance_grad': 4.934480027564136e-05, 'd2t': 0.02763496677980204}. Best is trial 4 with value: 5.183791637420654.\n",
      "[I 2023-06-30 17:56:59,512] Trial 6 finished with value: 4.892687797546387 and parameters: {'tolerance_change': 1.330602069465277e-05, 'tolerance_grad': 4.933775757101301e-06, 'd2t': 0.5597766223205838}. Best is trial 4 with value: 5.183791637420654.\n",
      "[I 2023-06-30 17:56:59,972] Trial 7 finished with value: 4.855080604553223 and parameters: {'tolerance_change': 2.246373632239732e-07, 'tolerance_grad': 6.853638251577701e-05, 'd2t': 0.042900110520008194}. Best is trial 4 with value: 5.183791637420654.\n",
      "[I 2023-06-30 17:57:00,663] Trial 8 finished with value: 5.096584320068359 and parameters: {'tolerance_change': 5.469424791077638e-06, 'tolerance_grad': 1.0520844468374242e-07, 'd2t': 0.9595690095436105}. Best is trial 4 with value: 5.183791637420654.\n",
      "[I 2023-06-30 17:57:01,461] Trial 9 finished with value: 5.11366081237793 and parameters: {'tolerance_change': 2.0631290541874728e-07, 'tolerance_grad': 2.991459276578088e-07, 'd2t': 0.9906994325541003}. Best is trial 4 with value: 5.183791637420654.\n",
      "[I 2023-06-30 17:57:01,490] A new study created in memory with name: no-name-385e59af-005d-40c4-961e-1d29454c53c0\n"
     ]
    },
    {
     "name": "stdout",
     "output_type": "stream",
     "text": [
      "4 {'tolerance_change': 3.098835416819257e-08, 'tolerance_grad': 1.702517111797343e-08, 'd2t': 0.8636406380486664}\n",
      "Output set to 1 cells\n"
     ]
    },
    {
     "name": "stderr",
     "output_type": "stream",
     "text": [
      "[I 2023-06-30 17:57:01,978] Trial 0 finished with value: 3.4857687950134277 and parameters: {'tolerance_change': 1e-08, 'tolerance_grad': 1e-08, 'd2t': 0.1}. Best is trial 0 with value: 3.4857687950134277.\n",
      "[I 2023-06-30 17:57:02,445] Trial 1 finished with value: 3.4868011474609375 and parameters: {'tolerance_change': 4.801889057960486e-06, 'tolerance_grad': 2.400081367529344e-08, 'd2t': 0.3872433699346276}. Best is trial 1 with value: 3.4868011474609375.\n",
      "[I 2023-06-30 17:57:02,894] Trial 2 finished with value: 3.4846279621124268 and parameters: {'tolerance_change': 3.2177800982143215e-05, 'tolerance_grad': 4.306239586785005e-06, 'd2t': 0.2893616224378227}. Best is trial 1 with value: 3.4868011474609375.\n",
      "[I 2023-06-30 17:57:03,346] Trial 3 finished with value: 3.4879608154296875 and parameters: {'tolerance_change': 8.412319027146454e-05, 'tolerance_grad': 2.0960810606012467e-07, 'd2t': 0.7296878066851101}. Best is trial 3 with value: 3.4879608154296875.\n",
      "[I 2023-06-30 17:57:03,839] Trial 4 finished with value: 3.4868133068084717 and parameters: {'tolerance_change': 9.003914484816746e-06, 'tolerance_grad': 6.011038691572098e-06, 'd2t': 0.6658550017265085}. Best is trial 3 with value: 3.4879608154296875.\n",
      "[I 2023-06-30 17:57:04,307] Trial 5 finished with value: 3.4887423515319824 and parameters: {'tolerance_change': 7.623537807298158e-05, 'tolerance_grad': 7.739689121068417e-07, 'd2t': 0.7653584613811257}. Best is trial 5 with value: 3.4887423515319824.\n",
      "[I 2023-06-30 17:57:04,792] Trial 6 finished with value: 3.486316680908203 and parameters: {'tolerance_change': 9.224960042194503e-07, 'tolerance_grad': 6.0347191072023665e-05, 'd2t': 0.23486891880390448}. Best is trial 5 with value: 3.4887423515319824.\n",
      "[I 2023-06-30 17:57:05,309] Trial 7 finished with value: 3.486973285675049 and parameters: {'tolerance_change': 3.897350601974033e-06, 'tolerance_grad': 2.549740591813957e-05, 'd2t': 0.8850696639693758}. Best is trial 5 with value: 3.4887423515319824.\n",
      "[I 2023-06-30 17:57:05,718] Trial 8 finished with value: 3.5004894733428955 and parameters: {'tolerance_change': 4.1198660293145485e-05, 'tolerance_grad': 1.222591800289638e-07, 'd2t': 0.17103766556643374}. Best is trial 8 with value: 3.5004894733428955.\n",
      "[I 2023-06-30 17:57:06,160] Trial 9 finished with value: 3.497927665710449 and parameters: {'tolerance_change': 6.911950872199122e-05, 'tolerance_grad': 1.1782446022587506e-05, 'd2t': 0.9502832632113531}. Best is trial 8 with value: 3.5004894733428955.\n",
      "[I 2023-06-30 17:57:06,167] A new study created in memory with name: no-name-a9738857-1437-47af-845d-c761eef5e0bf\n"
     ]
    },
    {
     "name": "stdout",
     "output_type": "stream",
     "text": [
      "8 {'tolerance_change': 4.1198660293145485e-05, 'tolerance_grad': 1.222591800289638e-07, 'd2t': 0.17103766556643374}\n",
      "Output set to 1 cells\n"
     ]
    },
    {
     "name": "stderr",
     "output_type": "stream",
     "text": [
      "[I 2023-06-30 17:57:06,762] Trial 0 finished with value: 5.055920600891113 and parameters: {'tolerance_change': 1e-08, 'tolerance_grad': 1e-08, 'd2t': 0.1}. Best is trial 0 with value: 5.055920600891113.\n",
      "[I 2023-06-30 17:57:07,462] Trial 1 finished with value: 5.058396816253662 and parameters: {'tolerance_change': 2.606046459480133e-08, 'tolerance_grad': 6.981949559325777e-05, 'd2t': 0.8143952011898796}. Best is trial 1 with value: 5.058396816253662.\n",
      "[I 2023-06-30 17:57:07,888] Trial 2 finished with value: 5.102438449859619 and parameters: {'tolerance_change': 8.154524453596021e-05, 'tolerance_grad': 5.255576929831054e-05, 'd2t': 0.39116043463180883}. Best is trial 2 with value: 5.102438449859619.\n",
      "[I 2023-06-30 17:57:08,464] Trial 3 finished with value: 5.059844970703125 and parameters: {'tolerance_change': 1.7852233002399392e-05, 'tolerance_grad': 1.686737269228391e-08, 'd2t': 0.7695985918906723}. Best is trial 2 with value: 5.102438449859619.\n",
      "[I 2023-06-30 17:57:09,042] Trial 4 finished with value: 5.056780815124512 and parameters: {'tolerance_change': 1.7280936043357785e-07, 'tolerance_grad': 7.514051945146409e-07, 'd2t': 0.16633925510773862}. Best is trial 2 with value: 5.102438449859619.\n",
      "[I 2023-06-30 17:57:09,844] Trial 5 finished with value: 5.056589603424072 and parameters: {'tolerance_change': 1.1455431945046e-08, 'tolerance_grad': 9.50371087227817e-08, 'd2t': 0.43389657320455455}. Best is trial 2 with value: 5.102438449859619.\n",
      "[I 2023-06-30 17:57:10,515] Trial 6 finished with value: 5.057150363922119 and parameters: {'tolerance_change': 1.347449932547929e-07, 'tolerance_grad': 3.665803947847886e-05, 'd2t': 0.4101625399379428}. Best is trial 2 with value: 5.102438449859619.\n",
      "[I 2023-06-30 17:57:11,058] Trial 7 finished with value: 5.065969944000244 and parameters: {'tolerance_change': 3.908900801573765e-06, 'tolerance_grad': 1.6146911308699263e-06, 'd2t': 0.78939569346985}. Best is trial 2 with value: 5.102438449859619.\n",
      "[I 2023-06-30 17:57:11,772] Trial 8 finished with value: 5.056112766265869 and parameters: {'tolerance_change': 1.1697889285886475e-08, 'tolerance_grad': 2.057872084328463e-07, 'd2t': 0.18251686394101896}. Best is trial 2 with value: 5.102438449859619.\n",
      "[I 2023-06-30 17:57:12,233] Trial 9 finished with value: 5.05697774887085 and parameters: {'tolerance_change': 4.313859205574762e-07, 'tolerance_grad': 9.994200629925922e-07, 'd2t': 0.05181373573395731}. Best is trial 2 with value: 5.102438449859619.\n",
      "[I 2023-06-30 17:57:12,242] A new study created in memory with name: no-name-49bf8394-51cc-4f4f-8a90-3a6f649b3da7\n"
     ]
    },
    {
     "name": "stdout",
     "output_type": "stream",
     "text": [
      "2 {'tolerance_change': 8.154524453596021e-05, 'tolerance_grad': 5.255576929831054e-05, 'd2t': 0.39116043463180883}\n",
      "Output set to 1 cells\n"
     ]
    },
    {
     "name": "stderr",
     "output_type": "stream",
     "text": [
      "[I 2023-06-30 17:57:12,747] Trial 0 finished with value: 3.715280055999756 and parameters: {'tolerance_change': 1e-08, 'tolerance_grad': 1e-08, 'd2t': 0.1}. Best is trial 0 with value: 3.715280055999756.\n",
      "[I 2023-06-30 17:57:13,254] Trial 1 finished with value: 3.71612286567688 and parameters: {'tolerance_change': 2.0311615113055268e-07, 'tolerance_grad': 1.0502894417152633e-06, 'd2t': 0.17797335732741282}. Best is trial 1 with value: 3.71612286567688.\n",
      "[I 2023-06-30 17:57:13,836] Trial 2 finished with value: 3.7207417488098145 and parameters: {'tolerance_change': 1.3248329728226428e-06, 'tolerance_grad': 6.744086984343825e-06, 'd2t': 0.6161213744612766}. Best is trial 2 with value: 3.7207417488098145.\n",
      "[I 2023-06-30 17:57:14,283] Trial 3 finished with value: 3.7190706729888916 and parameters: {'tolerance_change': 8.531347729780946e-05, 'tolerance_grad': 3.738337561207055e-08, 'd2t': 0.7462114916569953}. Best is trial 2 with value: 3.7207417488098145.\n",
      "[I 2023-06-30 17:57:14,834] Trial 4 finished with value: 3.7201175689697266 and parameters: {'tolerance_change': 2.0755303512414086e-06, 'tolerance_grad': 8.158529274645145e-07, 'd2t': 0.6642665457995356}. Best is trial 2 with value: 3.7207417488098145.\n",
      "[I 2023-06-30 17:57:15,272] Trial 5 finished with value: 3.7135732173919678 and parameters: {'tolerance_change': 3.614020185945117e-05, 'tolerance_grad': 1.0989878879386015e-07, 'd2t': 0.1419245439077298}. Best is trial 2 with value: 3.7207417488098145.\n",
      "[I 2023-06-30 17:57:15,740] Trial 6 finished with value: 3.7151336669921875 and parameters: {'tolerance_change': 6.817025398459344e-06, 'tolerance_grad': 8.67717144111362e-08, 'd2t': 0.336126508802963}. Best is trial 2 with value: 3.7207417488098145.\n",
      "[I 2023-06-30 17:57:16,279] Trial 7 finished with value: 3.7174012660980225 and parameters: {'tolerance_change': 2.3860290195384536e-07, 'tolerance_grad': 1.1239271795538086e-05, 'd2t': 0.2812065875678891}. Best is trial 2 with value: 3.7207417488098145.\n",
      "[I 2023-06-30 17:57:16,733] Trial 8 finished with value: 3.7143959999084473 and parameters: {'tolerance_change': 1.817151398675524e-06, 'tolerance_grad': 3.8407699401584384e-05, 'd2t': 0.08301351668111945}. Best is trial 2 with value: 3.7207417488098145.\n",
      "[I 2023-06-30 17:57:17,143] Trial 9 finished with value: 3.7148499488830566 and parameters: {'tolerance_change': 1.6660804737418734e-05, 'tolerance_grad': 3.594772597446602e-08, 'd2t': 0.05696092050975221}. Best is trial 2 with value: 3.7207417488098145.\n",
      "[I 2023-06-30 17:57:17,161] A new study created in memory with name: no-name-5a7783ef-49a8-4206-82d2-69cc12dcc2ee\n"
     ]
    },
    {
     "name": "stdout",
     "output_type": "stream",
     "text": [
      "2 {'tolerance_change': 1.3248329728226428e-06, 'tolerance_grad': 6.744086984343825e-06, 'd2t': 0.6161213744612766}\n",
      "Output set to 1 cells\n"
     ]
    },
    {
     "name": "stderr",
     "output_type": "stream",
     "text": [
      "[I 2023-06-30 17:57:17,677] Trial 0 finished with value: 4.371939182281494 and parameters: {'tolerance_change': 1e-08, 'tolerance_grad': 1e-08, 'd2t': 0.1}. Best is trial 0 with value: 4.371939182281494.\n",
      "[I 2023-06-30 17:57:18,366] Trial 1 finished with value: 4.372891902923584 and parameters: {'tolerance_change': 1.1065688618774935e-08, 'tolerance_grad': 4.804062958939324e-08, 'd2t': 0.50316931283475}. Best is trial 1 with value: 4.372891902923584.\n",
      "[I 2023-06-30 17:57:18,837] Trial 2 finished with value: 4.3718976974487305 and parameters: {'tolerance_change': 1.9115926503873903e-07, 'tolerance_grad': 2.0172075436681227e-07, 'd2t': 0.10311597493747748}. Best is trial 1 with value: 4.372891902923584.\n",
      "[I 2023-06-30 17:57:19,471] Trial 3 finished with value: 4.372824668884277 and parameters: {'tolerance_change': 9.52669463401084e-08, 'tolerance_grad': 3.051896817202978e-06, 'd2t': 0.5116907706092936}. Best is trial 1 with value: 4.372891902923584.\n",
      "[I 2023-06-30 17:57:19,892] Trial 4 finished with value: 4.373427867889404 and parameters: {'tolerance_change': 6.378831800048237e-05, 'tolerance_grad': 1.1169100378822082e-07, 'd2t': 0.194814310554681}. Best is trial 4 with value: 4.373427867889404.\n",
      "[I 2023-06-30 17:57:20,364] Trial 5 finished with value: 4.372494697570801 and parameters: {'tolerance_change': 7.719574477617737e-06, 'tolerance_grad': 7.298214941607477e-06, 'd2t': 0.3613225720174267}. Best is trial 4 with value: 4.373427867889404.\n",
      "[I 2023-06-30 17:57:20,931] Trial 6 finished with value: 4.372983932495117 and parameters: {'tolerance_change': 1.2200725560931543e-08, 'tolerance_grad': 7.014803457950688e-05, 'd2t': 0.432147227099805}. Best is trial 4 with value: 4.373427867889404.\n",
      "[I 2023-06-30 17:57:21,407] Trial 7 finished with value: 4.372607707977295 and parameters: {'tolerance_change': 1.9006779909597367e-05, 'tolerance_grad': 7.901285955852738e-08, 'd2t': 0.591545499112405}. Best is trial 4 with value: 4.373427867889404.\n",
      "[I 2023-06-30 17:57:21,858] Trial 8 finished with value: 4.371301174163818 and parameters: {'tolerance_change': 7.487708777595027e-07, 'tolerance_grad': 1.4912038492167992e-06, 'd2t': 0.07435292331919385}. Best is trial 4 with value: 4.373427867889404.\n",
      "[I 2023-06-30 17:57:22,500] Trial 9 finished with value: 4.37319803237915 and parameters: {'tolerance_change': 5.566562227184284e-07, 'tolerance_grad': 5.440331563561245e-06, 'd2t': 0.8953940561965795}. Best is trial 4 with value: 4.373427867889404.\n",
      "[I 2023-06-30 17:57:22,509] A new study created in memory with name: no-name-82d12dcb-c713-47c7-8b38-c90d250e0c94\n"
     ]
    },
    {
     "name": "stdout",
     "output_type": "stream",
     "text": [
      "4 {'tolerance_change': 6.378831800048237e-05, 'tolerance_grad': 1.1169100378822082e-07, 'd2t': 0.194814310554681}\n",
      "Output set to 1 cells\n"
     ]
    },
    {
     "name": "stderr",
     "output_type": "stream",
     "text": [
      "[I 2023-06-30 17:57:23,032] Trial 0 finished with value: 4.226120471954346 and parameters: {'tolerance_change': 1e-08, 'tolerance_grad': 1e-08, 'd2t': 0.1}. Best is trial 0 with value: 4.226120471954346.\n",
      "[I 2023-06-30 17:57:23,586] Trial 1 finished with value: 4.226623058319092 and parameters: {'tolerance_change': 2.240036140612999e-08, 'tolerance_grad': 1.2908074805404096e-06, 'd2t': 0.15468973315023393}. Best is trial 1 with value: 4.226623058319092.\n",
      "[I 2023-06-30 17:57:24,284] Trial 2 finished with value: 4.227982044219971 and parameters: {'tolerance_change': 4.5557745837680365e-08, 'tolerance_grad': 4.409653640948028e-06, 'd2t': 0.6891142242578633}. Best is trial 2 with value: 4.227982044219971.\n",
      "[I 2023-06-30 17:57:24,738] Trial 3 finished with value: 4.227355480194092 and parameters: {'tolerance_change': 1.0573497765919148e-05, 'tolerance_grad': 2.2253443412371183e-06, 'd2t': 0.17712190202417133}. Best is trial 2 with value: 4.227982044219971.\n",
      "[I 2023-06-30 17:57:25,335] Trial 4 finished with value: 4.228018283843994 and parameters: {'tolerance_change': 6.073998924943516e-07, 'tolerance_grad': 1.0325852661830298e-06, 'd2t': 0.663449220070133}. Best is trial 4 with value: 4.228018283843994.\n",
      "[I 2023-06-30 17:57:25,875] Trial 5 finished with value: 4.22812557220459 and parameters: {'tolerance_change': 1.4193412848157746e-06, 'tolerance_grad': 6.349662090846366e-06, 'd2t': 0.6050261801880059}. Best is trial 5 with value: 4.22812557220459.\n",
      "[I 2023-06-30 17:57:26,348] Trial 6 finished with value: 4.2441277503967285 and parameters: {'tolerance_change': 5.8632375942968444e-05, 'tolerance_grad': 2.652018942678386e-07, 'd2t': 0.5238178438688381}. Best is trial 6 with value: 4.2441277503967285.\n",
      "[I 2023-06-30 17:57:26,912] Trial 7 finished with value: 4.2292327880859375 and parameters: {'tolerance_change': 8.80453094520411e-06, 'tolerance_grad': 1.0336330799189507e-08, 'd2t': 0.58671261305246}. Best is trial 6 with value: 4.2441277503967285.\n",
      "[I 2023-06-30 17:57:27,351] Trial 8 finished with value: 4.23220157623291 and parameters: {'tolerance_change': 4.016579308019533e-05, 'tolerance_grad': 7.677605994334876e-08, 'd2t': 0.24509543327488792}. Best is trial 6 with value: 4.2441277503967285.\n",
      "[I 2023-06-30 17:57:27,909] Trial 9 finished with value: 4.228255271911621 and parameters: {'tolerance_change': 8.82452918424459e-06, 'tolerance_grad': 1.0876590460965763e-07, 'd2t': 0.8812211964643866}. Best is trial 6 with value: 4.2441277503967285.\n",
      "[I 2023-06-30 17:57:27,919] A new study created in memory with name: no-name-9899d13b-15bc-45ec-a9df-e8435c34b439\n"
     ]
    },
    {
     "name": "stdout",
     "output_type": "stream",
     "text": [
      "6 {'tolerance_change': 5.8632375942968444e-05, 'tolerance_grad': 2.652018942678386e-07, 'd2t': 0.5238178438688381}\n",
      "Output set to 1 cells\n"
     ]
    },
    {
     "name": "stderr",
     "output_type": "stream",
     "text": [
      "[I 2023-06-30 17:57:28,465] Trial 0 finished with value: 3.991168260574341 and parameters: {'tolerance_change': 1e-08, 'tolerance_grad': 1e-08, 'd2t': 0.1}. Best is trial 0 with value: 3.991168260574341.\n",
      "[I 2023-06-30 17:57:28,916] Trial 1 finished with value: 3.993149518966675 and parameters: {'tolerance_change': 2.3461765928388287e-05, 'tolerance_grad': 4.126253099709094e-05, 'd2t': 0.2104269719578662}. Best is trial 1 with value: 3.993149518966675.\n",
      "[I 2023-06-30 17:57:29,388] Trial 2 finished with value: 3.9973747730255127 and parameters: {'tolerance_change': 3.4206152696817834e-05, 'tolerance_grad': 1.4822136829649726e-07, 'd2t': 0.5936150081545547}. Best is trial 2 with value: 3.9973747730255127.\n",
      "[I 2023-06-30 17:57:30,083] Trial 3 finished with value: 3.992093086242676 and parameters: {'tolerance_change': 2.4278650260681172e-08, 'tolerance_grad': 6.55389215615498e-07, 'd2t': 0.5942158510569505}. Best is trial 2 with value: 3.9973747730255127.\n",
      "[I 2023-06-30 17:57:30,730] Trial 4 finished with value: 3.9919798374176025 and parameters: {'tolerance_change': 5.535190328878589e-08, 'tolerance_grad': 6.304544705079313e-07, 'd2t': 0.4475191840472852}. Best is trial 2 with value: 3.9973747730255127.\n",
      "[I 2023-06-30 17:57:31,218] Trial 5 finished with value: 3.9916205406188965 and parameters: {'tolerance_change': 9.761727283617877e-07, 'tolerance_grad': 6.827914054565308e-08, 'd2t': 0.15896761606124088}. Best is trial 2 with value: 3.9973747730255127.\n",
      "[I 2023-06-30 17:57:31,852] Trial 6 finished with value: 3.9924304485321045 and parameters: {'tolerance_change': 1.412858125301738e-07, 'tolerance_grad': 3.128711836016027e-05, 'd2t': 0.9020542920200212}. Best is trial 2 with value: 3.9973747730255127.\n",
      "[I 2023-06-30 17:57:32,468] Trial 7 finished with value: 3.992342233657837 and parameters: {'tolerance_change': 3.7133020114406216e-07, 'tolerance_grad': 5.2671596052873974e-08, 'd2t': 0.6923503227894476}. Best is trial 2 with value: 3.9973747730255127.\n",
      "[I 2023-06-30 17:57:32,962] Trial 8 finished with value: 3.9924814701080322 and parameters: {'tolerance_change': 3.0946081734702713e-06, 'tolerance_grad': 2.376792895683095e-05, 'd2t': 0.30304571700986205}. Best is trial 2 with value: 3.9973747730255127.\n",
      "[I 2023-06-30 17:57:33,596] Trial 9 finished with value: 3.992447853088379 and parameters: {'tolerance_change': 3.4230839409164817e-07, 'tolerance_grad': 8.731591852508903e-07, 'd2t': 0.9500770122055618}. Best is trial 2 with value: 3.9973747730255127.\n",
      "[I 2023-06-30 17:57:33,609] A new study created in memory with name: no-name-e80e21f1-fa8e-4bb3-8644-0473171e58cb\n"
     ]
    },
    {
     "name": "stdout",
     "output_type": "stream",
     "text": [
      "2 {'tolerance_change': 3.4206152696817834e-05, 'tolerance_grad': 1.4822136829649726e-07, 'd2t': 0.5936150081545547}\n",
      "Output set to 1 cells\n"
     ]
    },
    {
     "name": "stderr",
     "output_type": "stream",
     "text": [
      "[I 2023-06-30 17:57:34,445] Trial 0 finished with value: 4.8363037109375 and parameters: {'tolerance_change': 1e-08, 'tolerance_grad': 1e-08, 'd2t': 0.1}. Best is trial 0 with value: 4.8363037109375.\n",
      "[I 2023-06-30 17:57:35,015] Trial 1 finished with value: 4.849285125732422 and parameters: {'tolerance_change': 3.274792999497034e-06, 'tolerance_grad': 6.733330505486859e-06, 'd2t': 0.16923045369563983}. Best is trial 1 with value: 4.849285125732422.\n",
      "[I 2023-06-30 17:57:35,901] Trial 2 finished with value: 4.839931011199951 and parameters: {'tolerance_change': 3.73864617428262e-07, 'tolerance_grad': 1.0024819859896865e-05, 'd2t': 0.3430851032169041}. Best is trial 1 with value: 4.849285125732422.\n",
      "[I 2023-06-30 17:57:36,348] Trial 3 finished with value: 4.852995872497559 and parameters: {'tolerance_change': 2.3818403827007187e-07, 'tolerance_grad': 2.993163964974481e-08, 'd2t': 0.18822341972751222}. Best is trial 3 with value: 4.852995872497559.\n",
      "[I 2023-06-30 17:57:37,322] Trial 4 finished with value: 4.840399742126465 and parameters: {'tolerance_change': 2.341088292847443e-08, 'tolerance_grad': 2.0165521605096623e-08, 'd2t': 0.8920719347420148}. Best is trial 3 with value: 4.852995872497559.\n",
      "[I 2023-06-30 17:57:38,104] Trial 5 finished with value: 4.856328010559082 and parameters: {'tolerance_change': 2.127292894734032e-06, 'tolerance_grad': 1.2523787681468484e-08, 'd2t': 0.904883725751787}. Best is trial 5 with value: 4.856328010559082.\n",
      "[I 2023-06-30 17:57:39,087] Trial 6 finished with value: 4.840333938598633 and parameters: {'tolerance_change': 8.765228978352808e-07, 'tolerance_grad': 1.5770251927976963e-07, 'd2t': 0.8979247605598284}. Best is trial 5 with value: 4.856328010559082.\n",
      "[I 2023-06-30 17:57:39,980] Trial 7 finished with value: 4.839609622955322 and parameters: {'tolerance_change': 6.760491290945284e-08, 'tolerance_grad': 9.49102346133984e-06, 'd2t': 0.4308214702175307}. Best is trial 5 with value: 4.856328010559082.\n",
      "[I 2023-06-30 17:57:40,836] Trial 8 finished with value: 4.840489864349365 and parameters: {'tolerance_change': 2.0156685903712968e-07, 'tolerance_grad': 8.320937433211474e-07, 'd2t': 0.4902058008852054}. Best is trial 5 with value: 4.856328010559082.\n",
      "[I 2023-06-30 17:57:41,732] Trial 9 finished with value: 4.842121601104736 and parameters: {'tolerance_change': 1.7567368427113284e-07, 'tolerance_grad': 5.871252736050786e-07, 'd2t': 0.6946300615876673}. Best is trial 5 with value: 4.856328010559082.\n",
      "[I 2023-06-30 17:57:41,758] A new study created in memory with name: no-name-8eaba4f9-e89f-4cdc-9ec0-5f9653f47c63\n"
     ]
    },
    {
     "name": "stdout",
     "output_type": "stream",
     "text": [
      "5 {'tolerance_change': 2.127292894734032e-06, 'tolerance_grad': 1.2523787681468484e-08, 'd2t': 0.904883725751787}\n",
      "Output set to 1 cells\n"
     ]
    },
    {
     "name": "stderr",
     "output_type": "stream",
     "text": [
      "[I 2023-06-30 17:57:42,407] Trial 0 finished with value: 3.4942996501922607 and parameters: {'tolerance_change': 1e-08, 'tolerance_grad': 1e-08, 'd2t': 0.1}. Best is trial 0 with value: 3.4942996501922607.\n",
      "[I 2023-06-30 17:57:42,980] Trial 1 finished with value: 3.4943878650665283 and parameters: {'tolerance_change': 2.3688536010318053e-06, 'tolerance_grad': 1.090118675627957e-07, 'd2t': 0.874025393115182}. Best is trial 1 with value: 3.4943878650665283.\n",
      "[I 2023-06-30 17:57:43,848] Trial 2 finished with value: 3.4930992126464844 and parameters: {'tolerance_change': 1.9391210775156228e-08, 'tolerance_grad': 5.739043784345425e-08, 'd2t': 0.5295430716217334}. Best is trial 1 with value: 3.4943878650665283.\n",
      "[I 2023-06-30 17:57:44,647] Trial 3 finished with value: 3.4931910037994385 and parameters: {'tolerance_change': 1.1228153227118193e-07, 'tolerance_grad': 9.019627662621286e-06, 'd2t': 0.4972250390134414}. Best is trial 1 with value: 3.4943878650665283.\n",
      "[I 2023-06-30 17:57:45,207] Trial 4 finished with value: 3.4950144290924072 and parameters: {'tolerance_change': 2.2000643189885674e-06, 'tolerance_grad': 2.1152708069892685e-06, 'd2t': 0.9012109277400715}. Best is trial 4 with value: 3.4950144290924072.\n",
      "[I 2023-06-30 17:57:45,669] Trial 5 finished with value: 3.503708600997925 and parameters: {'tolerance_change': 9.963281682188565e-05, 'tolerance_grad': 8.805588183324487e-07, 'd2t': 0.9293254867681194}. Best is trial 5 with value: 3.503708600997925.\n",
      "[I 2023-06-30 17:57:46,392] Trial 6 finished with value: 3.4936392307281494 and parameters: {'tolerance_change': 3.980867268270653e-08, 'tolerance_grad': 2.6204272293546306e-06, 'd2t': 0.31414699954770087}. Best is trial 5 with value: 3.503708600997925.\n",
      "[I 2023-06-30 17:57:46,874] Trial 7 finished with value: 3.4959590435028076 and parameters: {'tolerance_change': 1.693970873218263e-05, 'tolerance_grad': 3.36796234386475e-05, 'd2t': 0.49016518240973495}. Best is trial 5 with value: 3.503708600997925.\n",
      "[I 2023-06-30 17:57:47,323] Trial 8 finished with value: 3.4944345951080322 and parameters: {'tolerance_change': 5.541209154439228e-07, 'tolerance_grad': 3.6233077172888497e-06, 'd2t': 0.02024726791703324}. Best is trial 5 with value: 3.503708600997925.\n",
      "[I 2023-06-30 17:57:48,114] Trial 9 finished with value: 3.493206262588501 and parameters: {'tolerance_change': 1.755569944457043e-08, 'tolerance_grad': 2.668278080798349e-07, 'd2t': 0.46398751540479066}. Best is trial 5 with value: 3.503708600997925.\n",
      "[I 2023-06-30 17:57:48,126] A new study created in memory with name: no-name-8ba7c8ba-ae23-48c1-be61-2296e0a64e25\n"
     ]
    },
    {
     "name": "stdout",
     "output_type": "stream",
     "text": [
      "5 {'tolerance_change': 9.963281682188565e-05, 'tolerance_grad': 8.805588183324487e-07, 'd2t': 0.9293254867681194}\n",
      "Output set to 1 cells\n"
     ]
    },
    {
     "name": "stderr",
     "output_type": "stream",
     "text": [
      "[I 2023-06-30 17:57:48,869] Trial 0 finished with value: 4.622923851013184 and parameters: {'tolerance_change': 1e-08, 'tolerance_grad': 1e-08, 'd2t': 0.1}. Best is trial 0 with value: 4.622923851013184.\n",
      "[I 2023-06-30 17:57:49,746] Trial 1 finished with value: 4.633728504180908 and parameters: {'tolerance_change': 1.6301577770474326e-07, 'tolerance_grad': 1.1923275529027761e-05, 'd2t': 0.6149707293117997}. Best is trial 1 with value: 4.633728504180908.\n",
      "[I 2023-06-30 17:57:50,576] Trial 2 finished with value: 4.635803699493408 and parameters: {'tolerance_change': 2.411414060500105e-07, 'tolerance_grad': 9.721130838600074e-05, 'd2t': 0.7334613002616129}. Best is trial 2 with value: 4.635803699493408.\n",
      "[I 2023-06-30 17:57:51,699] Trial 3 finished with value: 4.612612724304199 and parameters: {'tolerance_change': 1.313507240082191e-08, 'tolerance_grad': 1.364027004271467e-08, 'd2t': 0.8919876017397728}. Best is trial 2 with value: 4.635803699493408.\n",
      "[I 2023-06-30 17:57:52,483] Trial 4 finished with value: 4.631292343139648 and parameters: {'tolerance_change': 4.5515874480937005e-07, 'tolerance_grad': 2.7796290392367445e-06, 'd2t': 0.4720193076696809}. Best is trial 2 with value: 4.635803699493408.\n",
      "[I 2023-06-30 17:57:53,110] Trial 5 finished with value: 4.656683921813965 and parameters: {'tolerance_change': 2.223534820585326e-05, 'tolerance_grad': 3.008780488978784e-05, 'd2t': 0.6044777850348263}. Best is trial 5 with value: 4.656683921813965.\n",
      "[I 2023-06-30 17:57:53,862] Trial 6 finished with value: 4.634378910064697 and parameters: {'tolerance_change': 1.1602670771109815e-06, 'tolerance_grad': 1.1655316118325355e-06, 'd2t': 0.41652037185219926}. Best is trial 5 with value: 4.656683921813965.\n",
      "[I 2023-06-30 17:57:54,665] Trial 7 finished with value: 4.627540111541748 and parameters: {'tolerance_change': 3.7948648518008946e-08, 'tolerance_grad': 2.5818927489044354e-05, 'd2t': 0.3347908142148619}. Best is trial 5 with value: 4.656683921813965.\n",
      "[I 2023-06-30 17:57:55,534] Trial 8 finished with value: 4.6398491859436035 and parameters: {'tolerance_change': 2.9875278237457055e-07, 'tolerance_grad': 8.749061415858355e-06, 'd2t': 0.9361417777876679}. Best is trial 5 with value: 4.656683921813965.\n",
      "[I 2023-06-30 17:57:56,149] Trial 9 finished with value: 4.675078392028809 and parameters: {'tolerance_change': 4.127959529671708e-05, 'tolerance_grad': 1.2995910505262208e-05, 'd2t': 0.8746013020647689}. Best is trial 9 with value: 4.675078392028809.\n"
     ]
    },
    {
     "name": "stdout",
     "output_type": "stream",
     "text": [
      "9 {'tolerance_change': 4.127959529671708e-05, 'tolerance_grad': 1.2995910505262208e-05, 'd2t': 0.8746013020647689}\n"
     ]
    }
   ],
   "source": [
    "for cc in range(NCv):\n",
    "    # # continue if the file already exists\n",
    "    if os.path.isfile('models/color_02/drift_cc'+str(cc)+'.pkl'):\n",
    "        # load the model and continue\n",
    "        print('loading model', cc)\n",
    "        with open('models/color_02/drift_cc'+str(cc)+'.pkl', 'rb') as f:\n",
    "            driftmods.append(pickle.load(f))\n",
    "        continue\n",
    "\n",
    "    data.set_cells([vallam[cc]])\n",
    "     \n",
    "    models = []\n",
    "    \n",
    "    def objective(trial):    \n",
    "        lbfgs_pars = utils.create_optimizer_params(\n",
    "            optimizer_type='lbfgs',\n",
    "            tolerance_change=trial.suggest_float('tolerance_change', 1e-8, 1e-4, log=True),\n",
    "            tolerance_grad=trial.suggest_float('tolerance_grad', 1e-8, 1e-4, log=True),\n",
    "            history_size=100,\n",
    "            batch_size=20,\n",
    "            max_epochs=3,\n",
    "            max_iter = 500,\n",
    "            device = device)\n",
    "        \n",
    "        # drift network\n",
    "        drift_pars1 = NDNLayer.layer_dict(\n",
    "            input_dims=[1,1,1,NA], num_filters=1, bias=False, norm_type=0, NLtype='lin')\n",
    "        drift_pars1['reg_vals'] = {'d2t': trial.suggest_float('d2t', 0.0, 1.0), 'bcs':{'d2t':0} }\n",
    "        # for stand-alone drift model\n",
    "        drift_pars1N = deepcopy(drift_pars1)\n",
    "        drift_pars1N['NLtype'] = 'softplus'\n",
    "        drift_net =  FFnetwork.ffnet_dict( xstim_n = 'Xdrift', layer_list = [drift_pars1] )\n",
    "\n",
    "        drift_ndn = NDN.NDN(\n",
    "            layer_list = [drift_pars1N], loss_type='poisson')\n",
    "        drift_ndn.block_sample=True\n",
    "        drift_ndn.networks[0].xstim_n = 'Xdrift'\n",
    "\n",
    "        drift_ndn.fit( data, force_dict_training=True, train_inds=None, **lbfgs_pars, verbose=0, version=1)\n",
    "        LLsNULL = drift_ndn.eval_models(data[data.val_blks], null_adjusted=False)[0]\n",
    "        \n",
    "        drift_model = Model(drift_ndn, LLsNULL, trial)\n",
    "        models.append(drift_model)\n",
    "            \n",
    "        return np.mean(LLsNULL)\n",
    "\n",
    "    study = optuna.create_study(direction='maximize')\n",
    "    \n",
    "    # enqueue initial parameters\n",
    "    study.enqueue_trial( \n",
    "        {'d2t': Dreg,\n",
    "         'tolerance_change': 1e-8,\n",
    "         'tolerance_grad': 1e-8})\n",
    "    \n",
    "    study.optimize(objective, n_trials=10)\n",
    "    \n",
    "    with open('models/color_02/drift_cc'+str(cc)+'.pkl', 'wb') as f:\n",
    "        pickle.dump(models[study.best_trial.number], f)\n",
    "    \n",
    "    print(study.best_trial.number, study.best_params)"
   ]
  },
  {
   "cell_type": "markdown",
   "metadata": {
    "collapsed": false
   },
   "source": [
    "# GLM"
   ]
  },
  {
   "cell_type": "code",
   "execution_count": 31,
   "metadata": {
    "ExecuteTime": {
     "end_time": "2023-06-30T22:57:50.797144Z",
     "start_time": "2023-06-30T22:18:34.955777Z"
    },
    "collapsed": false
   },
   "outputs": [
    {
     "name": "stderr",
     "output_type": "stream",
     "text": [
      "[I 2023-06-30 18:18:35,016] A new study created in memory with name: no-name-be4954c5-4766-443f-a08f-3052729746bf\n"
     ]
    },
    {
     "name": "stdout",
     "output_type": "stream",
     "text": [
      "Output set to 1 cells\n",
      "\n",
      "GPU Available: True, GPU Used: True\n",
      "Done fitting\n",
      "  Fit complete: 2.6564443111419678 sec elapsed\n"
     ]
    },
    {
     "name": "stderr",
     "output_type": "stream",
     "text": [
      "[I 2023-06-30 18:18:38,430] Trial 0 finished with value: -0.012500286102294922 and parameters: {'tolerance_change': 1e-08, 'tolerance_grad': 1e-08, 'd2x': 20.0, 'd2t': 1.0, 'l1': 0.1, 'glocalx': 10.0, 'edge_t': 10.0}. Best is trial 0 with value: -0.012500286102294922.\n"
     ]
    },
    {
     "name": "stdout",
     "output_type": "stream",
     "text": [
      "\n",
      "GPU Available: True, GPU Used: True\n",
      "Done fitting\n",
      "  Fit complete: 8.472005605697632 sec elapsed\n"
     ]
    },
    {
     "name": "stderr",
     "output_type": "stream",
     "text": [
      "[I 2023-06-30 18:18:47,660] Trial 1 finished with value: -0.01616048812866211 and parameters: {'tolerance_change': 3.863002940596452e-07, 'tolerance_grad': 7.017599543444989e-05, 'd2x': 0.0007737661410704864, 'd2t': 4482.911824580314, 'l1': 1.75575965604577, 'glocalx': 0.006696844377837097, 'edge_t': 3.5906415864822687}. Best is trial 0 with value: -0.012500286102294922.\n"
     ]
    },
    {
     "name": "stdout",
     "output_type": "stream",
     "text": [
      "\n",
      "GPU Available: True, GPU Used: True\n",
      "Done fitting\n",
      "  Fit complete: 2.4955496788024902 sec elapsed\n"
     ]
    },
    {
     "name": "stderr",
     "output_type": "stream",
     "text": [
      "[I 2023-06-30 18:18:50,912] Trial 2 finished with value: -0.1276230812072754 and parameters: {'tolerance_change': 5.8780256679576895e-05, 'tolerance_grad': 6.412681223921975e-07, 'd2x': 0.005870573413583661, 'd2t': 781.0690829080179, 'l1': 0.30432338594201847, 'glocalx': 3.273311956912843e-05, 'edge_t': 3.769402821362565e-05}. Best is trial 0 with value: -0.012500286102294922.\n"
     ]
    },
    {
     "name": "stdout",
     "output_type": "stream",
     "text": [
      "\n",
      "GPU Available: True, GPU Used: True\n",
      "Done fitting\n",
      "  Fit complete: 3.628929853439331 sec elapsed\n"
     ]
    },
    {
     "name": "stderr",
     "output_type": "stream",
     "text": [
      "[I 2023-06-30 18:18:55,317] Trial 3 finished with value: -0.0005688667297363281 and parameters: {'tolerance_change': 8.391305896887477e-10, 'tolerance_grad': 1.5160620385203782e-09, 'd2x': 341.9079620986621, 'd2t': 0.0006455469530251943, 'l1': 0.00770130037073312, 'glocalx': 11059.017818592327, 'edge_t': 1.2456897524221469e-05}. Best is trial 3 with value: -0.0005688667297363281.\n"
     ]
    },
    {
     "name": "stdout",
     "output_type": "stream",
     "text": [
      "\n",
      "GPU Available: True, GPU Used: True\n",
      "Done fitting\n",
      "  Fit complete: 4.277838468551636 sec elapsed\n"
     ]
    },
    {
     "name": "stderr",
     "output_type": "stream",
     "text": [
      "[I 2023-06-30 18:19:00,370] Trial 4 finished with value: -0.00021648406982421875 and parameters: {'tolerance_change': 1.756594627449034e-07, 'tolerance_grad': 2.3464342705411987e-06, 'd2x': 25.940393673543817, 'd2t': 0.02126060185833685, 'l1': 0.01962863237329885, 'glocalx': 69897.34704655464, 'edge_t': 50843.56790995683}. Best is trial 4 with value: -0.00021648406982421875.\n"
     ]
    },
    {
     "name": "stdout",
     "output_type": "stream",
     "text": [
      "\n",
      "GPU Available: True, GPU Used: True\n",
      "Done fitting\n",
      "  Fit complete: 9.886018753051758 sec elapsed\n"
     ]
    },
    {
     "name": "stderr",
     "output_type": "stream",
     "text": [
      "[I 2023-06-30 18:19:11,031] Trial 5 finished with value: -2.3365020751953125e-05 and parameters: {'tolerance_change': 3.7391215214552896e-08, 'tolerance_grad': 1.5612981342096708e-07, 'd2x': 2061.11511996678, 'd2t': 1.0516974883246013e-05, 'l1': 11.503211695720735, 'glocalx': 23720.892557428935, 'edge_t': 38.70616028513456}. Best is trial 5 with value: -2.3365020751953125e-05.\n"
     ]
    },
    {
     "name": "stdout",
     "output_type": "stream",
     "text": [
      "\n",
      "GPU Available: True, GPU Used: True\n",
      "Done fitting\n",
      "  Fit complete: 3.2716102600097656 sec elapsed\n"
     ]
    },
    {
     "name": "stderr",
     "output_type": "stream",
     "text": [
      "[I 2023-06-30 18:19:15,059] Trial 6 finished with value: -0.0018057823181152344 and parameters: {'tolerance_change': 2.441680927504463e-09, 'tolerance_grad': 5.7857627858022465e-09, 'd2x': 0.0004442870187112885, 'd2t': 0.0001190860799341176, 'l1': 0.0006074176318739366, 'glocalx': 655.658502801309, 'edge_t': 0.0006296232546914582}. Best is trial 5 with value: -2.3365020751953125e-05.\n"
     ]
    },
    {
     "name": "stdout",
     "output_type": "stream",
     "text": [
      "\n",
      "GPU Available: True, GPU Used: True\n",
      "Done fitting\n",
      "  Fit complete: 59.79527401924133 sec elapsed\n"
     ]
    },
    {
     "name": "stderr",
     "output_type": "stream",
     "text": [
      "[I 2023-06-30 18:20:15,612] Trial 7 finished with value: -0.00041961669921875 and parameters: {'tolerance_change': 2.5935587303480824e-10, 'tolerance_grad': 6.294821229646553e-08, 'd2x': 38856.14212175432, 'd2t': 1079.676872929696, 'l1': 68.28638905985335, 'glocalx': 37713.34911707506, 'edge_t': 1.1916636993773841}. Best is trial 5 with value: -2.3365020751953125e-05.\n"
     ]
    },
    {
     "name": "stdout",
     "output_type": "stream",
     "text": [
      "\n",
      "GPU Available: True, GPU Used: True\n",
      "Done fitting\n",
      "  Fit complete: 6.558748483657837 sec elapsed\n"
     ]
    },
    {
     "name": "stderr",
     "output_type": "stream",
     "text": [
      "[I 2023-06-30 18:20:22,945] Trial 8 finished with value: -0.14550447463989258 and parameters: {'tolerance_change': 2.403679227700143e-10, 'tolerance_grad': 5.700469753736991e-10, 'd2x': 4210.085048779818, 'd2t': 4.320887596683038, 'l1': 0.0002267932991774413, 'glocalx': 0.0002638864311440528, 'edge_t': 4.093831863051017e-05}. Best is trial 5 with value: -2.3365020751953125e-05.\n"
     ]
    },
    {
     "name": "stdout",
     "output_type": "stream",
     "text": [
      "\n",
      "GPU Available: True, GPU Used: True\n",
      "Done fitting\n",
      "  Fit complete: 60.23813843727112 sec elapsed\n"
     ]
    },
    {
     "name": "stderr",
     "output_type": "stream",
     "text": [
      "[I 2023-06-30 18:21:23,958] Trial 9 finished with value: -0.000507354736328125 and parameters: {'tolerance_change': 3.4603278994452087e-07, 'tolerance_grad': 3.6098895667248094e-10, 'd2x': 37.38711551132435, 'd2t': 136.9742847918684, 'l1': 286.0822111155606, 'glocalx': 31.050149356974703, 'edge_t': 9.641124933676815}. Best is trial 5 with value: -2.3365020751953125e-05.\n",
      "[I 2023-06-30 18:21:24,003] A new study created in memory with name: no-name-ce116475-9091-41f3-b9ab-2231bdf27a54\n"
     ]
    },
    {
     "name": "stdout",
     "output_type": "stream",
     "text": [
      "5 {'tolerance_change': 3.7391215214552896e-08, 'tolerance_grad': 1.5612981342096708e-07, 'd2x': 2061.11511996678, 'd2t': 1.0516974883246013e-05, 'l1': 11.503211695720735, 'glocalx': 23720.892557428935, 'edge_t': 38.70616028513456}\n",
      "Output set to 1 cells\n",
      "\n",
      "GPU Available: True, GPU Used: True\n",
      "Done fitting\n",
      "  Fit complete: 3.096153497695923 sec elapsed\n"
     ]
    },
    {
     "name": "stderr",
     "output_type": "stream",
     "text": [
      "[I 2023-06-30 18:21:27,873] Trial 0 finished with value: 0.02231621742248535 and parameters: {'tolerance_change': 1e-08, 'tolerance_grad': 1e-08, 'd2x': 20.0, 'd2t': 1.0, 'l1': 0.1, 'glocalx': 10.0, 'edge_t': 10.0}. Best is trial 0 with value: 0.02231621742248535.\n"
     ]
    },
    {
     "name": "stdout",
     "output_type": "stream",
     "text": [
      "\n",
      "GPU Available: True, GPU Used: True\n",
      "Done fitting\n",
      "  Fit complete: 3.7412071228027344 sec elapsed\n"
     ]
    },
    {
     "name": "stderr",
     "output_type": "stream",
     "text": [
      "[I 2023-06-30 18:21:32,375] Trial 1 finished with value: 0.024334430694580078 and parameters: {'tolerance_change': 4.246013654297944e-07, 'tolerance_grad': 6.325856633720562e-05, 'd2x': 0.0021672620175426835, 'd2t': 0.00974236567565187, 'l1': 1.6765614706322525e-05, 'glocalx': 174.66131655411058, 'edge_t': 0.009198572659753794}. Best is trial 1 with value: 0.024334430694580078.\n"
     ]
    },
    {
     "name": "stdout",
     "output_type": "stream",
     "text": [
      "\n",
      "GPU Available: True, GPU Used: True\n",
      "Done fitting\n",
      "  Fit complete: 3.312605619430542 sec elapsed\n"
     ]
    },
    {
     "name": "stderr",
     "output_type": "stream",
     "text": [
      "[I 2023-06-30 18:21:36,462] Trial 2 finished with value: 0.02054452896118164 and parameters: {'tolerance_change': 5.378981993550843e-05, 'tolerance_grad': 4.42358052886483e-05, 'd2x': 63662.02530313556, 'd2t': 0.1842142957188969, 'l1': 0.9645974479638624, 'glocalx': 0.00021423092583854292, 'edge_t': 130.1205491276388}. Best is trial 1 with value: 0.024334430694580078.\n"
     ]
    },
    {
     "name": "stdout",
     "output_type": "stream",
     "text": [
      "\n",
      "GPU Available: True, GPU Used: True\n",
      "Done fitting\n",
      "  Fit complete: 4.50443434715271 sec elapsed\n"
     ]
    },
    {
     "name": "stderr",
     "output_type": "stream",
     "text": [
      "[I 2023-06-30 18:21:41,740] Trial 3 finished with value: 0.021447181701660156 and parameters: {'tolerance_change': 1.016702939024906e-09, 'tolerance_grad': 1.1774078377031936e-07, 'd2x': 19.25103086668363, 'd2t': 5108.962150735531, 'l1': 0.016944668735759966, 'glocalx': 236.02191678653801, 'edge_t': 2.1423221138591892}. Best is trial 1 with value: 0.024334430694580078.\n"
     ]
    },
    {
     "name": "stdout",
     "output_type": "stream",
     "text": [
      "\n",
      "GPU Available: True, GPU Used: True\n",
      "Done fitting\n",
      "  Fit complete: 60.35717535018921 sec elapsed\n"
     ]
    },
    {
     "name": "stderr",
     "output_type": "stream",
     "text": [
      "[I 2023-06-30 18:22:42,873] Trial 4 finished with value: -8.559226989746094e-05 and parameters: {'tolerance_change': 2.56488869004425e-10, 'tolerance_grad': 1.1660865181767714e-07, 'd2x': 61.92476680994238, 'd2t': 142.83280563858278, 'l1': 797.0280673812177, 'glocalx': 34.679358138157355, 'edge_t': 27.316196137822182}. Best is trial 1 with value: 0.024334430694580078.\n"
     ]
    },
    {
     "name": "stdout",
     "output_type": "stream",
     "text": [
      "\n",
      "GPU Available: True, GPU Used: True\n",
      "Done fitting\n",
      "  Fit complete: 2.855133533477783 sec elapsed\n"
     ]
    },
    {
     "name": "stderr",
     "output_type": "stream",
     "text": [
      "[I 2023-06-30 18:22:46,504] Trial 5 finished with value: 0.01217341423034668 and parameters: {'tolerance_change': 1.0734022646458107e-06, 'tolerance_grad': 3.882618082665931e-07, 'd2x': 5455.773613346282, 'd2t': 0.00012663679507082378, 'l1': 0.0001244773519446861, 'glocalx': 6.17009802495789e-05, 'edge_t': 7.974934753432851}. Best is trial 1 with value: 0.024334430694580078.\n"
     ]
    },
    {
     "name": "stdout",
     "output_type": "stream",
     "text": [
      "\n",
      "GPU Available: True, GPU Used: True\n",
      "Done fitting\n",
      "  Fit complete: 3.96667218208313 sec elapsed\n"
     ]
    },
    {
     "name": "stderr",
     "output_type": "stream",
     "text": [
      "[I 2023-06-30 18:22:51,229] Trial 6 finished with value: 0.010828018188476562 and parameters: {'tolerance_change': 4.6160170431482606e-09, 'tolerance_grad': 4.4549043432446126e-05, 'd2x': 0.08416186979528219, 'd2t': 347.4053770985262, 'l1': 0.2632823434999558, 'glocalx': 0.00012266395646471249, 'edge_t': 455.0738047381193}. Best is trial 1 with value: 0.024334430694580078.\n"
     ]
    },
    {
     "name": "stdout",
     "output_type": "stream",
     "text": [
      "\n",
      "GPU Available: True, GPU Used: True\n",
      "Done fitting\n",
      "  Fit complete: 2.278874635696411 sec elapsed\n"
     ]
    },
    {
     "name": "stderr",
     "output_type": "stream",
     "text": [
      "[I 2023-06-30 18:22:54,264] Trial 7 finished with value: -0.004766702651977539 and parameters: {'tolerance_change': 3.210966468539074e-05, 'tolerance_grad': 2.232756004245989e-08, 'd2x': 0.0002066182291643634, 'd2t': 5.466203917362961, 'l1': 3.4120009403548604e-05, 'glocalx': 0.020581980076674593, 'edge_t': 0.0015233037977480843}. Best is trial 1 with value: 0.024334430694580078.\n"
     ]
    },
    {
     "name": "stdout",
     "output_type": "stream",
     "text": [
      "\n",
      "GPU Available: True, GPU Used: True\n",
      "Done fitting\n",
      "  Fit complete: 10.30908989906311 sec elapsed\n"
     ]
    },
    {
     "name": "stderr",
     "output_type": "stream",
     "text": [
      "[I 2023-06-30 18:23:05,370] Trial 8 finished with value: 0.01715254783630371 and parameters: {'tolerance_change': 2.1908340193759887e-09, 'tolerance_grad': 1.7101259536769582e-07, 'd2x': 0.008952047456084722, 'd2t': 4616.678656843846, 'l1': 0.0003673141997225335, 'glocalx': 0.005812296283181885, 'edge_t': 0.027631002311296955}. Best is trial 1 with value: 0.024334430694580078.\n"
     ]
    },
    {
     "name": "stdout",
     "output_type": "stream",
     "text": [
      "\n",
      "GPU Available: True, GPU Used: True\n",
      "Done fitting\n",
      "  Fit complete: 2.963709831237793 sec elapsed\n"
     ]
    },
    {
     "name": "stderr",
     "output_type": "stream",
     "text": [
      "[I 2023-06-30 18:23:09,122] Trial 9 finished with value: 0.016901254653930664 and parameters: {'tolerance_change': 3.562818819741406e-05, 'tolerance_grad': 2.7470108745410317e-08, 'd2x': 5.401288130188044, 'd2t': 6572.289161383311, 'l1': 11.946380906960815, 'glocalx': 1270.968388700983, 'edge_t': 0.09246130013283616}. Best is trial 1 with value: 0.024334430694580078.\n",
      "[I 2023-06-30 18:23:09,140] A new study created in memory with name: no-name-ead99020-65a7-43f3-a130-3ee87e522b80\n"
     ]
    },
    {
     "name": "stdout",
     "output_type": "stream",
     "text": [
      "1 {'tolerance_change': 4.246013654297944e-07, 'tolerance_grad': 6.325856633720562e-05, 'd2x': 0.0021672620175426835, 'd2t': 0.00974236567565187, 'l1': 1.6765614706322525e-05, 'glocalx': 174.66131655411058, 'edge_t': 0.009198572659753794}\n",
      "Output set to 1 cells\n",
      "\n",
      "GPU Available: True, GPU Used: True\n",
      "Done fitting\n",
      "  Fit complete: 2.428292751312256 sec elapsed\n"
     ]
    },
    {
     "name": "stderr",
     "output_type": "stream",
     "text": [
      "[I 2023-06-30 18:23:12,355] Trial 0 finished with value: -0.005002260208129883 and parameters: {'tolerance_change': 1e-08, 'tolerance_grad': 1e-08, 'd2x': 20.0, 'd2t': 1.0, 'l1': 0.1, 'glocalx': 10.0, 'edge_t': 10.0}. Best is trial 0 with value: -0.005002260208129883.\n"
     ]
    },
    {
     "name": "stdout",
     "output_type": "stream",
     "text": [
      "\n",
      "GPU Available: True, GPU Used: True\n",
      "Done fitting\n",
      "  Fit complete: 2.976837158203125 sec elapsed\n"
     ]
    },
    {
     "name": "stderr",
     "output_type": "stream",
     "text": [
      "[I 2023-06-30 18:23:16,124] Trial 1 finished with value: -0.033443450927734375 and parameters: {'tolerance_change': 1.358605030763917e-08, 'tolerance_grad': 8.012540681960602e-10, 'd2x': 0.40329046235958016, 'd2t': 86.0208592493704, 'l1': 0.025407503898815166, 'glocalx': 0.2167397012781389, 'edge_t': 161.46700026582667}. Best is trial 0 with value: -0.005002260208129883.\n"
     ]
    },
    {
     "name": "stdout",
     "output_type": "stream",
     "text": [
      "\n",
      "GPU Available: True, GPU Used: True\n",
      "Done fitting\n",
      "  Fit complete: 60.727075815200806 sec elapsed\n"
     ]
    },
    {
     "name": "stderr",
     "output_type": "stream",
     "text": [
      "[I 2023-06-30 18:24:17,639] Trial 2 finished with value: 0.001819610595703125 and parameters: {'tolerance_change': 3.0607013893479637e-07, 'tolerance_grad': 1.3329667202583153e-08, 'd2x': 44.14502316560895, 'd2t': 0.0006740549802864127, 'l1': 5.831842313417868, 'glocalx': 129.5957382937344, 'edge_t': 9.518811613071176}. Best is trial 2 with value: 0.001819610595703125.\n"
     ]
    },
    {
     "name": "stdout",
     "output_type": "stream",
     "text": [
      "\n",
      "GPU Available: True, GPU Used: True\n",
      "Done fitting\n",
      "  Fit complete: 2.0817160606384277 sec elapsed\n"
     ]
    },
    {
     "name": "stderr",
     "output_type": "stream",
     "text": [
      "[I 2023-06-30 18:24:20,493] Trial 3 finished with value: -0.05325484275817871 and parameters: {'tolerance_change': 1.19297984723306e-07, 'tolerance_grad': 9.158727005589098e-05, 'd2x': 8.641666608126217, 'd2t': 0.0001267870291108792, 'l1': 0.0009225049586874475, 'glocalx': 0.10931617472943247, 'edge_t': 4.270809553242352}. Best is trial 2 with value: 0.001819610595703125.\n"
     ]
    },
    {
     "name": "stdout",
     "output_type": "stream",
     "text": [
      "\n",
      "GPU Available: True, GPU Used: True\n",
      "Done fitting\n",
      "  Fit complete: 3.0828206539154053 sec elapsed\n"
     ]
    },
    {
     "name": "stderr",
     "output_type": "stream",
     "text": [
      "[I 2023-06-30 18:24:24,353] Trial 4 finished with value: 0.0015506744384765625 and parameters: {'tolerance_change': 7.950212907533663e-10, 'tolerance_grad': 1.009374106722761e-07, 'd2x': 0.0008745883004755102, 'd2t': 0.007619912254031568, 'l1': 3.318810868865089e-05, 'glocalx': 381.73699814855695, 'edge_t': 0.0011872849132788673}. Best is trial 2 with value: 0.001819610595703125.\n"
     ]
    },
    {
     "name": "stdout",
     "output_type": "stream",
     "text": [
      "\n",
      "GPU Available: True, GPU Used: True\n",
      "Done fitting\n",
      "  Fit complete: 60.43246841430664 sec elapsed\n"
     ]
    },
    {
     "name": "stderr",
     "output_type": "stream",
     "text": [
      "[I 2023-06-30 18:25:25,567] Trial 5 finished with value: -1.4055852890014648 and parameters: {'tolerance_change': 4.9225378734307063e-08, 'tolerance_grad': 5.342432251651276e-08, 'd2x': 68.59833424685692, 'd2t': 42092.568060864316, 'l1': 26138.29711200755, 'glocalx': 0.05803693599174435, 'edge_t': 0.023913390978851933}. Best is trial 2 with value: 0.001819610595703125.\n"
     ]
    },
    {
     "name": "stdout",
     "output_type": "stream",
     "text": [
      "\n",
      "GPU Available: True, GPU Used: True\n",
      "Done fitting\n",
      "  Fit complete: 3.0648441314697266 sec elapsed\n"
     ]
    },
    {
     "name": "stderr",
     "output_type": "stream",
     "text": [
      "[I 2023-06-30 18:25:29,399] Trial 6 finished with value: 0.0010280609130859375 and parameters: {'tolerance_change': 1.7883257864561e-09, 'tolerance_grad': 2.7792162858974266e-05, 'd2x': 7458.456631929787, 'd2t': 0.0008758497365285033, 'l1': 0.01198648321887124, 'glocalx': 148.5722986410356, 'edge_t': 0.04724052870096091}. Best is trial 2 with value: 0.001819610595703125.\n"
     ]
    },
    {
     "name": "stdout",
     "output_type": "stream",
     "text": [
      "\n",
      "GPU Available: True, GPU Used: True\n",
      "Done fitting\n",
      "  Fit complete: 60.446598052978516 sec elapsed\n"
     ]
    },
    {
     "name": "stderr",
     "output_type": "stream",
     "text": [
      "[I 2023-06-30 18:26:30,640] Trial 7 finished with value: -0.00011658668518066406 and parameters: {'tolerance_change': 4.451639990035427e-06, 'tolerance_grad': 4.934895329925459e-06, 'd2x': 0.03700133346553562, 'd2t': 2.1270677427094404, 'l1': 647.7378624550308, 'glocalx': 1.7450751894903789, 'edge_t': 0.0029402171708613274}. Best is trial 2 with value: 0.001819610595703125.\n"
     ]
    },
    {
     "name": "stdout",
     "output_type": "stream",
     "text": [
      "\n",
      "GPU Available: True, GPU Used: True\n",
      "Done fitting\n",
      "  Fit complete: 2.3055360317230225 sec elapsed\n"
     ]
    },
    {
     "name": "stderr",
     "output_type": "stream",
     "text": [
      "[I 2023-06-30 18:26:33,728] Trial 8 finished with value: 0.00034356117248535156 and parameters: {'tolerance_change': 2.8650691763242427e-05, 'tolerance_grad': 1.0638639815719297e-07, 'd2x': 20956.073040697636, 'd2t': 1.8539856335213296, 'l1': 1.7409272276793124, 'glocalx': 172.59088449139844, 'edge_t': 0.02094999987941849}. Best is trial 2 with value: 0.001819610595703125.\n"
     ]
    },
    {
     "name": "stdout",
     "output_type": "stream",
     "text": [
      "\n",
      "GPU Available: True, GPU Used: True\n",
      "Done fitting\n",
      "  Fit complete: 2.8525655269622803 sec elapsed\n"
     ]
    },
    {
     "name": "stderr",
     "output_type": "stream",
     "text": [
      "[I 2023-06-30 18:26:37,353] Trial 9 finished with value: -0.0037870407104492188 and parameters: {'tolerance_change': 2.1968842930737187e-10, 'tolerance_grad': 1.807629740326255e-06, 'd2x': 4.00309373248355e-05, 'd2t': 0.00044881210424896014, 'l1': 0.0050923197030738835, 'glocalx': 13.796715905023124, 'edge_t': 0.07712782210436614}. Best is trial 2 with value: 0.001819610595703125.\n",
      "[I 2023-06-30 18:26:37,409] A new study created in memory with name: no-name-0e36fe64-62ab-4f4c-8f9b-0cb0700773a7\n"
     ]
    },
    {
     "name": "stdout",
     "output_type": "stream",
     "text": [
      "2 {'tolerance_change': 3.0607013893479637e-07, 'tolerance_grad': 1.3329667202583153e-08, 'd2x': 44.14502316560895, 'd2t': 0.0006740549802864127, 'l1': 5.831842313417868, 'glocalx': 129.5957382937344, 'edge_t': 9.518811613071176}\n",
      "Output set to 1 cells\n",
      "\n",
      "GPU Available: True, GPU Used: True\n",
      "Done fitting\n",
      "  Fit complete: 2.85610032081604 sec elapsed\n"
     ]
    },
    {
     "name": "stderr",
     "output_type": "stream",
     "text": [
      "[I 2023-06-30 18:26:41,038] Trial 0 finished with value: -0.006215095520019531 and parameters: {'tolerance_change': 1e-08, 'tolerance_grad': 1e-08, 'd2x': 20.0, 'd2t': 1.0, 'l1': 0.1, 'glocalx': 10.0, 'edge_t': 10.0}. Best is trial 0 with value: -0.006215095520019531.\n"
     ]
    },
    {
     "name": "stdout",
     "output_type": "stream",
     "text": [
      "\n",
      "GPU Available: True, GPU Used: True\n",
      "Done fitting\n",
      "  Fit complete: 20.04231286048889 sec elapsed\n"
     ]
    },
    {
     "name": "stderr",
     "output_type": "stream",
     "text": [
      "[I 2023-06-30 18:27:01,853] Trial 1 finished with value: -0.03095245361328125 and parameters: {'tolerance_change': 4.89290883233741e-09, 'tolerance_grad': 1.8110223354888132e-10, 'd2x': 149.42223629455103, 'd2t': 139.54349928267337, 'l1': 1.4920521368702377, 'glocalx': 0.09574624882153737, 'edge_t': 83504.87396126564}. Best is trial 0 with value: -0.006215095520019531.\n"
     ]
    },
    {
     "name": "stdout",
     "output_type": "stream",
     "text": [
      "\n",
      "GPU Available: True, GPU Used: True\n",
      "Done fitting\n",
      "  Fit complete: 60.4612774848938 sec elapsed\n"
     ]
    },
    {
     "name": "stderr",
     "output_type": "stream",
     "text": [
      "[I 2023-06-30 18:28:03,087] Trial 2 finished with value: -0.0002269744873046875 and parameters: {'tolerance_change': 9.957095049183727e-06, 'tolerance_grad': 8.555811383170626e-06, 'd2x': 3551.8353132734323, 'd2t': 0.020178776315523214, 'l1': 16069.880251042901, 'glocalx': 1482.3899695057032, 'edge_t': 77.8535815646413}. Best is trial 2 with value: -0.0002269744873046875.\n"
     ]
    },
    {
     "name": "stdout",
     "output_type": "stream",
     "text": [
      "\n",
      "GPU Available: True, GPU Used: True\n",
      "Done fitting\n",
      "  Fit complete: 60.36437439918518 sec elapsed\n"
     ]
    },
    {
     "name": "stderr",
     "output_type": "stream",
     "text": [
      "[I 2023-06-30 18:29:04,206] Trial 3 finished with value: 0.0012569427490234375 and parameters: {'tolerance_change': 1.2370881666383692e-09, 'tolerance_grad': 1.975287500154306e-06, 'd2x': 0.989553096105101, 'd2t': 290.6891974202249, 'l1': 46001.93851243802, 'glocalx': 15738.882280099711, 'edge_t': 67531.34934946155}. Best is trial 3 with value: 0.0012569427490234375.\n"
     ]
    },
    {
     "name": "stdout",
     "output_type": "stream",
     "text": [
      "\n",
      "GPU Available: True, GPU Used: True\n",
      "Done fitting\n",
      "  Fit complete: 60.69412302970886 sec elapsed\n"
     ]
    },
    {
     "name": "stderr",
     "output_type": "stream",
     "text": [
      "[I 2023-06-30 18:30:05,655] Trial 4 finished with value: -4.094148635864258 and parameters: {'tolerance_change': 2.176024670234523e-10, 'tolerance_grad': 1.0996566166352085e-09, 'd2x': 0.05929193597079125, 'd2t': 0.5959276181442963, 'l1': 5842.387310401189, 'glocalx': 0.3207522431975554, 'edge_t': 1.5226371512157475}. Best is trial 3 with value: 0.0012569427490234375.\n"
     ]
    },
    {
     "name": "stdout",
     "output_type": "stream",
     "text": [
      "\n",
      "GPU Available: True, GPU Used: True\n",
      "Done fitting\n",
      "  Fit complete: 60.37353014945984 sec elapsed\n"
     ]
    },
    {
     "name": "stderr",
     "output_type": "stream",
     "text": [
      "[I 2023-06-30 18:31:06,815] Trial 5 finished with value: -0.14542484283447266 and parameters: {'tolerance_change': 3.046777535089355e-09, 'tolerance_grad': 5.128308903591431e-06, 'd2x': 0.6886309838066734, 'd2t': 55297.718224614386, 'l1': 26750.458798567626, 'glocalx': 0.5863872765205532, 'edge_t': 5.170156804040763}. Best is trial 3 with value: 0.0012569427490234375.\n"
     ]
    },
    {
     "name": "stdout",
     "output_type": "stream",
     "text": [
      "\n",
      "GPU Available: True, GPU Used: True\n",
      "Done fitting\n",
      "  Fit complete: 6.444272518157959 sec elapsed\n"
     ]
    },
    {
     "name": "stderr",
     "output_type": "stream",
     "text": [
      "[I 2023-06-30 18:31:14,031] Trial 6 finished with value: -0.04719400405883789 and parameters: {'tolerance_change': 2.1455890345897417e-06, 'tolerance_grad': 2.0498611042727878e-08, 'd2x': 0.09367665229734416, 'd2t': 30239.558569556055, 'l1': 0.16765372993967317, 'glocalx': 6.0299810535733596e-05, 'edge_t': 0.003061651345960127}. Best is trial 3 with value: 0.0012569427490234375.\n"
     ]
    },
    {
     "name": "stdout",
     "output_type": "stream",
     "text": [
      "\n",
      "GPU Available: True, GPU Used: True\n",
      "Done fitting\n",
      "  Fit complete: 2.8353166580200195 sec elapsed\n"
     ]
    },
    {
     "name": "stderr",
     "output_type": "stream",
     "text": [
      "[I 2023-06-30 18:31:17,638] Trial 7 finished with value: -0.000148773193359375 and parameters: {'tolerance_change': 1.8798934591405826e-06, 'tolerance_grad': 3.1258494287014634e-09, 'd2x': 0.04911776061264994, 'd2t': 154.61328027547955, 'l1': 5.142725210222961, 'glocalx': 4.8949926406067314, 'edge_t': 39.512331949845695}. Best is trial 3 with value: 0.0012569427490234375.\n"
     ]
    },
    {
     "name": "stdout",
     "output_type": "stream",
     "text": [
      "\n",
      "GPU Available: True, GPU Used: True\n",
      "Done fitting\n",
      "  Fit complete: 2.7405617237091064 sec elapsed\n"
     ]
    },
    {
     "name": "stderr",
     "output_type": "stream",
     "text": [
      "[I 2023-06-30 18:31:21,150] Trial 8 finished with value: -0.00021696090698242188 and parameters: {'tolerance_change': 4.5008342471872196e-07, 'tolerance_grad': 1.9374991504003105e-06, 'd2x': 1.8857853873246508, 'd2t': 1.480001556436372e-05, 'l1': 0.00014499614586075912, 'glocalx': 763.8937943567701, 'edge_t': 59.37495823778256}. Best is trial 3 with value: 0.0012569427490234375.\n"
     ]
    },
    {
     "name": "stdout",
     "output_type": "stream",
     "text": [
      "\n",
      "GPU Available: True, GPU Used: True\n",
      "Done fitting\n",
      "  Fit complete: 3.164945602416992 sec elapsed\n"
     ]
    },
    {
     "name": "stderr",
     "output_type": "stream",
     "text": [
      "[I 2023-06-30 18:31:25,069] Trial 9 finished with value: -0.0019249916076660156 and parameters: {'tolerance_change': 1.407796757326851e-10, 'tolerance_grad': 2.7190061023466936e-06, 'd2x': 0.0014508883476763513, 'd2t': 0.00045699182683777063, 'l1': 0.31637599241649855, 'glocalx': 62.547407230864415, 'edge_t': 0.003874326004107364}. Best is trial 3 with value: 0.0012569427490234375.\n",
      "[I 2023-06-30 18:31:25,127] A new study created in memory with name: no-name-c7d4c3fa-c193-47da-9bf9-54f9f1f7fb6b\n"
     ]
    },
    {
     "name": "stdout",
     "output_type": "stream",
     "text": [
      "3 {'tolerance_change': 1.2370881666383692e-09, 'tolerance_grad': 1.975287500154306e-06, 'd2x': 0.989553096105101, 'd2t': 290.6891974202249, 'l1': 46001.93851243802, 'glocalx': 15738.882280099711, 'edge_t': 67531.34934946155}\n",
      "Output set to 1 cells\n",
      "\n",
      "GPU Available: True, GPU Used: True\n",
      "Done fitting\n",
      "  Fit complete: 2.5134177207946777 sec elapsed\n"
     ]
    },
    {
     "name": "stderr",
     "output_type": "stream",
     "text": [
      "[I 2023-06-30 18:31:28,410] Trial 0 finished with value: -0.0013318061828613281 and parameters: {'tolerance_change': 1e-08, 'tolerance_grad': 1e-08, 'd2x': 20.0, 'd2t': 1.0, 'l1': 0.1, 'glocalx': 10.0, 'edge_t': 10.0}. Best is trial 0 with value: -0.0013318061828613281.\n"
     ]
    },
    {
     "name": "stdout",
     "output_type": "stream",
     "text": [
      "\n",
      "GPU Available: True, GPU Used: True\n",
      "Done fitting\n",
      "  Fit complete: 60.29023599624634 sec elapsed\n"
     ]
    },
    {
     "name": "stderr",
     "output_type": "stream",
     "text": [
      "[I 2023-06-30 18:32:29,453] Trial 1 finished with value: 0.0002536773681640625 and parameters: {'tolerance_change': 2.7196516570325873e-10, 'tolerance_grad': 3.152906707146018e-06, 'd2x': 1.9947320142067415, 'd2t': 70181.42632649203, 'l1': 57.146965605365324, 'glocalx': 46.33598650181465, 'edge_t': 0.18008493031259953}. Best is trial 1 with value: 0.0002536773681640625.\n"
     ]
    },
    {
     "name": "stdout",
     "output_type": "stream",
     "text": [
      "\n",
      "GPU Available: True, GPU Used: True\n",
      "Done fitting\n",
      "  Fit complete: 3.749163866043091 sec elapsed\n"
     ]
    },
    {
     "name": "stderr",
     "output_type": "stream",
     "text": [
      "[I 2023-06-30 18:32:33,972] Trial 2 finished with value: 0.0011944770812988281 and parameters: {'tolerance_change': 3.354037141551691e-09, 'tolerance_grad': 1.8578336387225177e-05, 'd2x': 0.0005261983548092762, 'd2t': 0.0013987087194921026, 'l1': 0.000293864875506989, 'glocalx': 4856.037094023538, 'edge_t': 0.006066795824641834}. Best is trial 2 with value: 0.0011944770812988281.\n"
     ]
    },
    {
     "name": "stdout",
     "output_type": "stream",
     "text": [
      "\n",
      "GPU Available: True, GPU Used: True\n",
      "Done fitting\n",
      "  Fit complete: 8.95725703239441 sec elapsed\n"
     ]
    },
    {
     "name": "stderr",
     "output_type": "stream",
     "text": [
      "[I 2023-06-30 18:32:43,685] Trial 3 finished with value: -0.033002376556396484 and parameters: {'tolerance_change': 2.2764305581586813e-07, 'tolerance_grad': 5.948442989149935e-10, 'd2x': 56187.89382237159, 'd2t': 0.006406857303690462, 'l1': 0.05714829821174214, 'glocalx': 0.13943892261922378, 'edge_t': 416.5303792888462}. Best is trial 2 with value: 0.0011944770812988281.\n"
     ]
    },
    {
     "name": "stdout",
     "output_type": "stream",
     "text": [
      "\n",
      "GPU Available: True, GPU Used: True\n",
      "Done fitting\n",
      "  Fit complete: 35.71519660949707 sec elapsed\n"
     ]
    },
    {
     "name": "stderr",
     "output_type": "stream",
     "text": [
      "[I 2023-06-30 18:33:20,161] Trial 4 finished with value: 0.0011148452758789062 and parameters: {'tolerance_change': 5.690568149678347e-10, 'tolerance_grad': 9.893913652610495e-09, 'd2x': 0.0003142107452896923, 'd2t': 0.018067976172919574, 'l1': 7.455652493609575, 'glocalx': 31762.487107288307, 'edge_t': 1.8859876327592337e-05}. Best is trial 2 with value: 0.0011944770812988281.\n"
     ]
    },
    {
     "name": "stdout",
     "output_type": "stream",
     "text": [
      "\n",
      "GPU Available: True, GPU Used: True\n",
      "Done fitting\n",
      "  Fit complete: 4.955225229263306 sec elapsed\n"
     ]
    },
    {
     "name": "stderr",
     "output_type": "stream",
     "text": [
      "[I 2023-06-30 18:33:25,888] Trial 5 finished with value: -0.020008087158203125 and parameters: {'tolerance_change': 7.50785706851847e-06, 'tolerance_grad': 7.432322937955076e-08, 'd2x': 42348.85189326512, 'd2t': 0.0052992127910041105, 'l1': 0.021288805703518356, 'glocalx': 0.5966495582570116, 'edge_t': 353.62627278998724}. Best is trial 2 with value: 0.0011944770812988281.\n"
     ]
    },
    {
     "name": "stdout",
     "output_type": "stream",
     "text": [
      "\n",
      "GPU Available: True, GPU Used: True\n",
      "Done fitting\n",
      "  Fit complete: 60.80478096008301 sec elapsed\n"
     ]
    },
    {
     "name": "stderr",
     "output_type": "stream",
     "text": [
      "[I 2023-06-30 18:34:27,445] Trial 6 finished with value: -0.07280206680297852 and parameters: {'tolerance_change': 6.738607646180959e-07, 'tolerance_grad': 3.7963727670920524e-05, 'd2x': 22181.483898901726, 'd2t': 13.980879282541839, 'l1': 609.154460484623, 'glocalx': 0.16742298498848, 'edge_t': 0.3582490959932093}. Best is trial 2 with value: 0.0011944770812988281.\n"
     ]
    },
    {
     "name": "stdout",
     "output_type": "stream",
     "text": [
      "\n",
      "GPU Available: True, GPU Used: True\n",
      "Done fitting\n",
      "  Fit complete: 2.723526954650879 sec elapsed\n"
     ]
    },
    {
     "name": "stderr",
     "output_type": "stream",
     "text": [
      "[I 2023-06-30 18:34:30,923] Trial 7 finished with value: -0.00020599365234375 and parameters: {'tolerance_change': 4.504343546944435e-09, 'tolerance_grad': 1.3628178664158379e-09, 'd2x': 43.9038020248125, 'd2t': 2.3190322457803772e-05, 'l1': 1.7897035934657473e-05, 'glocalx': 15.202969753841467, 'edge_t': 11.634381660950467}. Best is trial 2 with value: 0.0011944770812988281.\n"
     ]
    },
    {
     "name": "stdout",
     "output_type": "stream",
     "text": [
      "\n",
      "GPU Available: True, GPU Used: True\n",
      "Done fitting\n",
      "  Fit complete: 60.7836754322052 sec elapsed\n"
     ]
    },
    {
     "name": "stderr",
     "output_type": "stream",
     "text": [
      "[I 2023-06-30 18:35:32,473] Trial 8 finished with value: 4.76837158203125e-05 and parameters: {'tolerance_change': 7.685870392812512e-09, 'tolerance_grad': 1.5087001624463481e-05, 'd2x': 0.1130786835002289, 'd2t': 6713.101679892753, 'l1': 7913.816029306761, 'glocalx': 49584.18176353634, 'edge_t': 0.2030788399791969}. Best is trial 2 with value: 0.0011944770812988281.\n"
     ]
    },
    {
     "name": "stdout",
     "output_type": "stream",
     "text": [
      "\n",
      "GPU Available: True, GPU Used: True\n",
      "Done fitting\n",
      "  Fit complete: 60.55290174484253 sec elapsed\n"
     ]
    },
    {
     "name": "stderr",
     "output_type": "stream",
     "text": [
      "[I 2023-06-30 18:36:33,786] Trial 9 finished with value: -0.0006952285766601562 and parameters: {'tolerance_change': 3.736597811487025e-09, 'tolerance_grad': 6.409063640827378e-08, 'd2x': 69981.61140389397, 'd2t': 0.0005987550838945728, 'l1': 33845.71646312454, 'glocalx': 35694.773933429606, 'edge_t': 3.6880718837182838}. Best is trial 2 with value: 0.0011944770812988281.\n",
      "[I 2023-06-30 18:36:33,806] A new study created in memory with name: no-name-966f0ec3-c40d-4e24-8178-8c003f2cee6b\n"
     ]
    },
    {
     "name": "stdout",
     "output_type": "stream",
     "text": [
      "2 {'tolerance_change': 3.354037141551691e-09, 'tolerance_grad': 1.8578336387225177e-05, 'd2x': 0.0005261983548092762, 'd2t': 0.0013987087194921026, 'l1': 0.000293864875506989, 'glocalx': 4856.037094023538, 'edge_t': 0.006066795824641834}\n",
      "Output set to 1 cells\n",
      "\n",
      "GPU Available: True, GPU Used: True\n",
      "Done fitting\n",
      "  Fit complete: 2.629392147064209 sec elapsed\n"
     ]
    },
    {
     "name": "stderr",
     "output_type": "stream",
     "text": [
      "[I 2023-06-30 18:36:37,190] Trial 0 finished with value: 0.0028095245361328125 and parameters: {'tolerance_change': 1e-08, 'tolerance_grad': 1e-08, 'd2x': 20.0, 'd2t': 1.0, 'l1': 0.1, 'glocalx': 10.0, 'edge_t': 10.0}. Best is trial 0 with value: 0.0028095245361328125.\n"
     ]
    },
    {
     "name": "stdout",
     "output_type": "stream",
     "text": [
      "\n",
      "GPU Available: True, GPU Used: True\n",
      "Done fitting\n",
      "  Fit complete: 3.3966686725616455 sec elapsed\n"
     ]
    },
    {
     "name": "stderr",
     "output_type": "stream",
     "text": [
      "[I 2023-06-30 18:36:41,357] Trial 1 finished with value: 0.0011105537414550781 and parameters: {'tolerance_change': 3.942650786174843e-06, 'tolerance_grad': 9.948034670880073e-10, 'd2x': 0.00012551642216570088, 'd2t': 8.239586867152106, 'l1': 0.39128529434732856, 'glocalx': 55717.942021538576, 'edge_t': 3449.829630251193}. Best is trial 0 with value: 0.0028095245361328125.\n"
     ]
    },
    {
     "name": "stdout",
     "output_type": "stream",
     "text": [
      "\n",
      "GPU Available: True, GPU Used: True\n",
      "Done fitting\n",
      "  Fit complete: 2.4091861248016357 sec elapsed\n"
     ]
    },
    {
     "name": "stderr",
     "output_type": "stream",
     "text": [
      "[I 2023-06-30 18:36:44,537] Trial 2 finished with value: 0.005081653594970703 and parameters: {'tolerance_change': 2.592323427152334e-07, 'tolerance_grad': 2.24288732732755e-09, 'd2x': 0.12544344717153183, 'd2t': 8.97493191410639, 'l1': 0.011120385425275348, 'glocalx': 32.14998177344074, 'edge_t': 318.85082173052444}. Best is trial 2 with value: 0.005081653594970703.\n"
     ]
    },
    {
     "name": "stdout",
     "output_type": "stream",
     "text": [
      "\n",
      "GPU Available: True, GPU Used: True\n",
      "Done fitting\n",
      "  Fit complete: 60.28054475784302 sec elapsed\n"
     ]
    },
    {
     "name": "stderr",
     "output_type": "stream",
     "text": [
      "[I 2023-06-30 18:37:45,589] Trial 3 finished with value: -0.14919090270996094 and parameters: {'tolerance_change': 1.938984384831942e-06, 'tolerance_grad': 2.5997894352996936e-07, 'd2x': 4.152510135656669e-05, 'd2t': 0.0006826642087837953, 'l1': 730.3186750477596, 'glocalx': 0.001805958725498915, 'edge_t': 0.0004040464370641536}. Best is trial 2 with value: 0.005081653594970703.\n"
     ]
    },
    {
     "name": "stdout",
     "output_type": "stream",
     "text": [
      "\n",
      "GPU Available: True, GPU Used: True\n",
      "Done fitting\n",
      "  Fit complete: 60.836639642715454 sec elapsed\n"
     ]
    },
    {
     "name": "stderr",
     "output_type": "stream",
     "text": [
      "[I 2023-06-30 18:38:47,198] Trial 4 finished with value: 0.0004286766052246094 and parameters: {'tolerance_change': 3.843040631305635e-07, 'tolerance_grad': 1.0656466599925857e-10, 'd2x': 4.52909677070052, 'd2t': 5.150675240914907, 'l1': 39334.95835558157, 'glocalx': 151.4055838042967, 'edge_t': 267.41241582125355}. Best is trial 2 with value: 0.005081653594970703.\n"
     ]
    },
    {
     "name": "stdout",
     "output_type": "stream",
     "text": [
      "\n",
      "GPU Available: True, GPU Used: True\n",
      "Done fitting\n",
      "  Fit complete: 60.489981174468994 sec elapsed\n"
     ]
    },
    {
     "name": "stderr",
     "output_type": "stream",
     "text": [
      "[I 2023-06-30 18:39:48,459] Trial 5 finished with value: 0.0015721321105957031 and parameters: {'tolerance_change': 3.3070644708826616e-08, 'tolerance_grad': 6.417116995922414e-05, 'd2x': 44.724233481323516, 'd2t': 6108.409946419174, 'l1': 65271.63226471789, 'glocalx': 105.28081075968589, 'edge_t': 57.80356163862379}. Best is trial 2 with value: 0.005081653594970703.\n"
     ]
    },
    {
     "name": "stdout",
     "output_type": "stream",
     "text": [
      "\n",
      "GPU Available: True, GPU Used: True\n",
      "Done fitting\n",
      "  Fit complete: 60.19239377975464 sec elapsed\n"
     ]
    },
    {
     "name": "stderr",
     "output_type": "stream",
     "text": [
      "[I 2023-06-30 18:40:49,423] Trial 6 finished with value: 0.00041103363037109375 and parameters: {'tolerance_change': 1.5305601982198713e-10, 'tolerance_grad': 2.349398288600045e-10, 'd2x': 3.060475147866686e-05, 'd2t': 0.000226181941233708, 'l1': 3336.308596146798, 'glocalx': 0.23507095928976898, 'edge_t': 0.010571676632789542}. Best is trial 2 with value: 0.005081653594970703.\n"
     ]
    },
    {
     "name": "stdout",
     "output_type": "stream",
     "text": [
      "\n",
      "GPU Available: True, GPU Used: True\n",
      "Done fitting\n",
      "  Fit complete: 4.723164081573486 sec elapsed\n"
     ]
    },
    {
     "name": "stderr",
     "output_type": "stream",
     "text": [
      "[I 2023-06-30 18:40:54,900] Trial 7 finished with value: 0.0017476081848144531 and parameters: {'tolerance_change': 6.618989631526243e-07, 'tolerance_grad': 7.213963688551221e-07, 'd2x': 226.07691203947527, 'd2t': 0.010521427820500983, 'l1': 9.076942379032937, 'glocalx': 1640.4271724441523, 'edge_t': 0.07574727544021002}. Best is trial 2 with value: 0.005081653594970703.\n"
     ]
    },
    {
     "name": "stdout",
     "output_type": "stream",
     "text": [
      "\n",
      "GPU Available: True, GPU Used: True\n",
      "Done fitting\n",
      "  Fit complete: 60.46145582199097 sec elapsed\n"
     ]
    },
    {
     "name": "stderr",
     "output_type": "stream",
     "text": [
      "[I 2023-06-30 18:41:56,138] Trial 8 finished with value: -0.0008096694946289062 and parameters: {'tolerance_change': 1.0525184882090201e-10, 'tolerance_grad': 4.6196970630056735e-09, 'd2x': 30.11248908448251, 'd2t': 610.1025874953572, 'l1': 6.796937925956141, 'glocalx': 0.00011271496868384063, 'edge_t': 0.048254440050234874}. Best is trial 2 with value: 0.005081653594970703.\n"
     ]
    },
    {
     "name": "stdout",
     "output_type": "stream",
     "text": [
      "\n",
      "GPU Available: True, GPU Used: True\n",
      "Done fitting\n",
      "  Fit complete: 2.8495140075683594 sec elapsed\n"
     ]
    },
    {
     "name": "stderr",
     "output_type": "stream",
     "text": [
      "[I 2023-06-30 18:41:59,754] Trial 9 finished with value: -0.022152423858642578 and parameters: {'tolerance_change': 4.243781321642207e-10, 'tolerance_grad': 3.6239291112111165e-08, 'd2x': 4.971673278590992, 'd2t': 6.354593058558021, 'l1': 0.05993491721865863, 'glocalx': 0.47489272950832634, 'edge_t': 10.234082162321078}. Best is trial 2 with value: 0.005081653594970703.\n",
      "[I 2023-06-30 18:41:59,770] A new study created in memory with name: no-name-e410bac7-5d97-4d47-b711-52c4c33830e4\n"
     ]
    },
    {
     "name": "stdout",
     "output_type": "stream",
     "text": [
      "2 {'tolerance_change': 2.592323427152334e-07, 'tolerance_grad': 2.24288732732755e-09, 'd2x': 0.12544344717153183, 'd2t': 8.97493191410639, 'l1': 0.011120385425275348, 'glocalx': 32.14998177344074, 'edge_t': 318.85082173052444}\n",
      "Output set to 1 cells\n",
      "\n",
      "GPU Available: True, GPU Used: True\n",
      "Done fitting\n",
      "  Fit complete: 2.5946667194366455 sec elapsed\n"
     ]
    },
    {
     "name": "stderr",
     "output_type": "stream",
     "text": [
      "[I 2023-06-30 18:42:03,142] Trial 0 finished with value: -0.007079124450683594 and parameters: {'tolerance_change': 1e-08, 'tolerance_grad': 1e-08, 'd2x': 20.0, 'd2t': 1.0, 'l1': 0.1, 'glocalx': 10.0, 'edge_t': 10.0}. Best is trial 0 with value: -0.007079124450683594.\n"
     ]
    },
    {
     "name": "stdout",
     "output_type": "stream",
     "text": [
      "\n",
      "GPU Available: True, GPU Used: True\n",
      "Done fitting\n",
      "  Fit complete: 60.41331505775452 sec elapsed\n"
     ]
    },
    {
     "name": "stderr",
     "output_type": "stream",
     "text": [
      "[I 2023-06-30 18:43:04,330] Trial 1 finished with value: 0.0009675025939941406 and parameters: {'tolerance_change': 1.923857834854588e-05, 'tolerance_grad': 2.870400323606813e-09, 'd2x': 3.696260423586615e-05, 'd2t': 0.0019047120397152563, 'l1': 20206.470896506074, 'glocalx': 3639.100133507941, 'edge_t': 174.80419375223372}. Best is trial 1 with value: 0.0009675025939941406.\n"
     ]
    },
    {
     "name": "stdout",
     "output_type": "stream",
     "text": [
      "\n",
      "GPU Available: True, GPU Used: True\n",
      "Done fitting\n",
      "  Fit complete: 2.6387832164764404 sec elapsed\n"
     ]
    },
    {
     "name": "stderr",
     "output_type": "stream",
     "text": [
      "[I 2023-06-30 18:43:07,744] Trial 2 finished with value: -0.02231884002685547 and parameters: {'tolerance_change': 2.177432100312886e-07, 'tolerance_grad': 4.280275959769219e-10, 'd2x': 1069.688324652908, 'd2t': 0.6761511187830701, 'l1': 0.24326397836128977, 'glocalx': 1.8023482890089026, 'edge_t': 1.5492346541585053e-05}. Best is trial 1 with value: 0.0009675025939941406.\n"
     ]
    },
    {
     "name": "stdout",
     "output_type": "stream",
     "text": [
      "\n",
      "GPU Available: True, GPU Used: True\n",
      "Done fitting\n",
      "  Fit complete: 3.1886281967163086 sec elapsed\n"
     ]
    },
    {
     "name": "stderr",
     "output_type": "stream",
     "text": [
      "[I 2023-06-30 18:43:11,708] Trial 3 finished with value: 0.0004863739013671875 and parameters: {'tolerance_change': 1.6955811807176227e-09, 'tolerance_grad': 5.422436903439512e-05, 'd2x': 0.0031707877292534883, 'd2t': 1.6427956120178735, 'l1': 0.39018110540177203, 'glocalx': 1806.5010579322352, 'edge_t': 0.0008175675194014079}. Best is trial 1 with value: 0.0009675025939941406.\n"
     ]
    },
    {
     "name": "stdout",
     "output_type": "stream",
     "text": [
      "\n",
      "GPU Available: True, GPU Used: True\n",
      "Done fitting\n",
      "  Fit complete: 60.8335280418396 sec elapsed\n"
     ]
    },
    {
     "name": "stderr",
     "output_type": "stream",
     "text": [
      "[I 2023-06-30 18:44:13,300] Trial 4 finished with value: -0.0025815963745117188 and parameters: {'tolerance_change': 1.6083802597628425e-05, 'tolerance_grad': 5.227726558486703e-10, 'd2x': 29532.654302621333, 'd2t': 4057.7281248623426, 'l1': 1583.734326315053, 'glocalx': 6.07296719039801, 'edge_t': 0.022703645175683226}. Best is trial 1 with value: 0.0009675025939941406.\n"
     ]
    },
    {
     "name": "stdout",
     "output_type": "stream",
     "text": [
      "\n",
      "GPU Available: True, GPU Used: True\n",
      "Done fitting\n",
      "  Fit complete: 3.3918957710266113 sec elapsed\n"
     ]
    },
    {
     "name": "stderr",
     "output_type": "stream",
     "text": [
      "[I 2023-06-30 18:44:17,447] Trial 5 finished with value: -0.0005688667297363281 and parameters: {'tolerance_change': 4.7906350210388784e-05, 'tolerance_grad': 6.505017122482035e-07, 'd2x': 3.124631962571831, 'd2t': 1.886803144193936e-05, 'l1': 10.517870160228975, 'glocalx': 0.00043973703355091584, 'edge_t': 5458.701283810207}. Best is trial 1 with value: 0.0009675025939941406.\n"
     ]
    },
    {
     "name": "stdout",
     "output_type": "stream",
     "text": [
      "\n",
      "GPU Available: True, GPU Used: True\n",
      "Done fitting\n",
      "  Fit complete: 4.988758563995361 sec elapsed\n"
     ]
    },
    {
     "name": "stderr",
     "output_type": "stream",
     "text": [
      "[I 2023-06-30 18:44:23,212] Trial 6 finished with value: 0.00023698806762695312 and parameters: {'tolerance_change': 7.838346360896323e-10, 'tolerance_grad': 8.950933542225506e-09, 'd2x': 59381.20326168605, 'd2t': 0.0013776527674083155, 'l1': 2.0540970337975236e-05, 'glocalx': 48230.028378297655, 'edge_t': 6697.1937717602605}. Best is trial 1 with value: 0.0009675025939941406.\n"
     ]
    },
    {
     "name": "stdout",
     "output_type": "stream",
     "text": [
      "\n",
      "GPU Available: True, GPU Used: True\n",
      "Done fitting\n",
      "  Fit complete: 3.167785406112671 sec elapsed\n"
     ]
    },
    {
     "name": "stderr",
     "output_type": "stream",
     "text": [
      "[I 2023-06-30 18:44:27,138] Trial 7 finished with value: 0.0003199577331542969 and parameters: {'tolerance_change': 6.942313547699429e-07, 'tolerance_grad': 2.902997291496705e-07, 'd2x': 985.3957203604696, 'd2t': 0.035224280627082126, 'l1': 3.678158122071569e-05, 'glocalx': 23824.91690288276, 'edge_t': 0.006076542925114709}. Best is trial 1 with value: 0.0009675025939941406.\n"
     ]
    },
    {
     "name": "stdout",
     "output_type": "stream",
     "text": [
      "\n",
      "GPU Available: True, GPU Used: True\n",
      "Done fitting\n",
      "  Fit complete: 24.51134943962097 sec elapsed\n"
     ]
    },
    {
     "name": "stderr",
     "output_type": "stream",
     "text": [
      "[I 2023-06-30 18:44:52,409] Trial 8 finished with value: 0.0002818107604980469 and parameters: {'tolerance_change': 3.16484653733013e-10, 'tolerance_grad': 1.2506108281939518e-07, 'd2x': 0.6483512708908618, 'd2t': 50286.39436326378, 'l1': 6.150589653484363, 'glocalx': 4099.85661371222, 'edge_t': 0.32592784463998353}. Best is trial 1 with value: 0.0009675025939941406.\n"
     ]
    },
    {
     "name": "stdout",
     "output_type": "stream",
     "text": [
      "\n",
      "GPU Available: True, GPU Used: True\n",
      "Done fitting\n",
      "  Fit complete: 60.37970757484436 sec elapsed\n"
     ]
    },
    {
     "name": "stderr",
     "output_type": "stream",
     "text": [
      "[I 2023-06-30 18:45:53,545] Trial 9 finished with value: -6.846510410308838 and parameters: {'tolerance_change': 4.6912297793462564e-07, 'tolerance_grad': 6.159353714388941e-06, 'd2x': 6.162365741712805e-05, 'd2t': 0.00020605484134019283, 'l1': 2640.0253876039196, 'glocalx': 0.0001664772564856122, 'edge_t': 6.425564402516809}. Best is trial 1 with value: 0.0009675025939941406.\n",
      "[I 2023-06-30 18:45:53,602] A new study created in memory with name: no-name-abc9700c-f18b-41b8-b753-e16863f2c517\n"
     ]
    },
    {
     "name": "stdout",
     "output_type": "stream",
     "text": [
      "1 {'tolerance_change': 1.923857834854588e-05, 'tolerance_grad': 2.870400323606813e-09, 'd2x': 3.696260423586615e-05, 'd2t': 0.0019047120397152563, 'l1': 20206.470896506074, 'glocalx': 3639.100133507941, 'edge_t': 174.80419375223372}\n",
      "Output set to 1 cells\n",
      "\n",
      "GPU Available: True, GPU Used: True\n",
      "Done fitting\n",
      "  Fit complete: 2.6346614360809326 sec elapsed\n"
     ]
    },
    {
     "name": "stderr",
     "output_type": "stream",
     "text": [
      "[I 2023-06-30 18:45:56,991] Trial 0 finished with value: -0.008996963500976562 and parameters: {'tolerance_change': 1e-08, 'tolerance_grad': 1e-08, 'd2x': 20.0, 'd2t': 1.0, 'l1': 0.1, 'glocalx': 10.0, 'edge_t': 10.0}. Best is trial 0 with value: -0.008996963500976562.\n"
     ]
    },
    {
     "name": "stdout",
     "output_type": "stream",
     "text": [
      "\n",
      "GPU Available: True, GPU Used: True\n",
      "Done fitting\n",
      "  Fit complete: 1.2855067253112793 sec elapsed\n"
     ]
    },
    {
     "name": "stderr",
     "output_type": "stream",
     "text": [
      "[I 2023-06-30 18:45:59,037] Trial 1 finished with value: -0.0021114349365234375 and parameters: {'tolerance_change': 2.9788953115004662e-05, 'tolerance_grad': 9.75222570162525e-06, 'd2x': 0.10579710977225901, 'd2t': 0.0001763716552183517, 'l1': 359.2544318771975, 'glocalx': 0.12314405619410278, 'edge_t': 0.00039092985846881024}. Best is trial 1 with value: -0.0021114349365234375.\n"
     ]
    },
    {
     "name": "stdout",
     "output_type": "stream",
     "text": [
      "\n",
      "GPU Available: True, GPU Used: True\n",
      "Done fitting\n",
      "  Fit complete: 60.55432939529419 sec elapsed\n"
     ]
    },
    {
     "name": "stderr",
     "output_type": "stream",
     "text": [
      "[I 2023-06-30 18:47:00,348] Trial 2 finished with value: 7.462501525878906e-05 and parameters: {'tolerance_change': 1.4609076607604742e-07, 'tolerance_grad': 3.0888669131756203e-06, 'd2x': 0.0010240618771068378, 'd2t': 5009.721009221071, 'l1': 1313.9344360211678, 'glocalx': 1.7409015644586578, 'edge_t': 1.0231282366265153e-05}. Best is trial 2 with value: 7.462501525878906e-05.\n"
     ]
    },
    {
     "name": "stdout",
     "output_type": "stream",
     "text": [
      "\n",
      "GPU Available: True, GPU Used: True\n",
      "Done fitting\n",
      "  Fit complete: 2.6270103454589844 sec elapsed\n"
     ]
    },
    {
     "name": "stderr",
     "output_type": "stream",
     "text": [
      "[I 2023-06-30 18:47:03,751] Trial 3 finished with value: -0.0029659271240234375 and parameters: {'tolerance_change': 1.167299984507279e-07, 'tolerance_grad': 7.380798283856605e-07, 'd2x': 29.59248595396657, 'd2t': 0.7445721125827548, 'l1': 0.00010625292467924058, 'glocalx': 88.13005643912119, 'edge_t': 0.2859046792234937}. Best is trial 2 with value: 7.462501525878906e-05.\n"
     ]
    },
    {
     "name": "stdout",
     "output_type": "stream",
     "text": [
      "\n",
      "GPU Available: True, GPU Used: True\n",
      "Done fitting\n",
      "  Fit complete: 3.7328593730926514 sec elapsed\n"
     ]
    },
    {
     "name": "stderr",
     "output_type": "stream",
     "text": [
      "[I 2023-06-30 18:47:08,260] Trial 4 finished with value: -0.00010347366333007812 and parameters: {'tolerance_change': 2.4698480220341566e-09, 'tolerance_grad': 7.6285715066633054e-06, 'd2x': 344.9957003798451, 'd2t': 0.004496544611432867, 'l1': 0.0571750077606764, 'glocalx': 19854.214675215873, 'edge_t': 0.9992103705294562}. Best is trial 2 with value: 7.462501525878906e-05.\n"
     ]
    },
    {
     "name": "stdout",
     "output_type": "stream",
     "text": [
      "\n",
      "GPU Available: True, GPU Used: True\n",
      "Done fitting\n",
      "  Fit complete: 60.101327657699585 sec elapsed\n"
     ]
    },
    {
     "name": "stderr",
     "output_type": "stream",
     "text": [
      "[I 2023-06-30 18:48:09,120] Trial 5 finished with value: -8.273124694824219e-05 and parameters: {'tolerance_change': 1.6467776884106175e-07, 'tolerance_grad': 1.0959607899951043e-05, 'd2x': 0.030622535688233775, 'd2t': 0.00021807963012752227, 'l1': 448.04737456757937, 'glocalx': 47.6020591271151, 'edge_t': 0.31315380165646234}. Best is trial 2 with value: 7.462501525878906e-05.\n"
     ]
    },
    {
     "name": "stdout",
     "output_type": "stream",
     "text": [
      "\n",
      "GPU Available: True, GPU Used: True\n",
      "Done fitting\n",
      "  Fit complete: 7.618085861206055 sec elapsed\n"
     ]
    },
    {
     "name": "stderr",
     "output_type": "stream",
     "text": [
      "[I 2023-06-30 18:48:17,510] Trial 6 finished with value: -0.0007734298706054688 and parameters: {'tolerance_change': 1.2997425461793186e-09, 'tolerance_grad': 1.730776571824186e-06, 'd2x': 1.7423858185819485e-05, 'd2t': 60161.578573956656, 'l1': 0.22232398431773387, 'glocalx': 70.18147569660046, 'edge_t': 0.015319749749247895}. Best is trial 2 with value: 7.462501525878906e-05.\n"
     ]
    },
    {
     "name": "stdout",
     "output_type": "stream",
     "text": [
      "\n",
      "GPU Available: True, GPU Used: True\n",
      "Done fitting\n",
      "  Fit complete: 2.8299169540405273 sec elapsed\n"
     ]
    },
    {
     "name": "stderr",
     "output_type": "stream",
     "text": [
      "[I 2023-06-30 18:48:21,098] Trial 7 finished with value: -0.061049461364746094 and parameters: {'tolerance_change': 2.6162722260092057e-05, 'tolerance_grad': 1.0129668028485655e-10, 'd2x': 0.019813743109548743, 'd2t': 224.62146238187916, 'l1': 0.8876456188020102, 'glocalx': 0.0018942813718383644, 'edge_t': 0.0007387306771443737}. Best is trial 2 with value: 7.462501525878906e-05.\n"
     ]
    },
    {
     "name": "stdout",
     "output_type": "stream",
     "text": [
      "\n",
      "GPU Available: True, GPU Used: True\n",
      "Done fitting\n",
      "  Fit complete: 2.6153810024261475 sec elapsed\n"
     ]
    },
    {
     "name": "stderr",
     "output_type": "stream",
     "text": [
      "[I 2023-06-30 18:48:24,468] Trial 8 finished with value: -0.007387638092041016 and parameters: {'tolerance_change': 2.9413028560996135e-10, 'tolerance_grad': 2.52532020513692e-08, 'd2x': 0.0002085351038151408, 'd2t': 402.94738623368977, 'l1': 0.04560317236924063, 'glocalx': 10.21742739445153, 'edge_t': 6.110421555205517e-05}. Best is trial 2 with value: 7.462501525878906e-05.\n"
     ]
    },
    {
     "name": "stdout",
     "output_type": "stream",
     "text": [
      "\n",
      "GPU Available: True, GPU Used: True\n",
      "Done fitting\n",
      "  Fit complete: 60.34216284751892 sec elapsed\n"
     ]
    },
    {
     "name": "stderr",
     "output_type": "stream",
     "text": [
      "[I 2023-06-30 18:49:25,567] Trial 9 finished with value: 4.2438507080078125e-05 and parameters: {'tolerance_change': 6.075382121405533e-10, 'tolerance_grad': 6.247264125747356e-08, 'd2x': 0.04601580825848198, 'd2t': 0.002747536597503502, 'l1': 32907.96948645399, 'glocalx': 13198.795105587687, 'edge_t': 0.055574782318978715}. Best is trial 2 with value: 7.462501525878906e-05.\n",
      "[I 2023-06-30 18:49:25,624] A new study created in memory with name: no-name-f853d544-ad37-47a7-a002-74fc8f03d496\n"
     ]
    },
    {
     "name": "stdout",
     "output_type": "stream",
     "text": [
      "2 {'tolerance_change': 1.4609076607604742e-07, 'tolerance_grad': 3.0888669131756203e-06, 'd2x': 0.0010240618771068378, 'd2t': 5009.721009221071, 'l1': 1313.9344360211678, 'glocalx': 1.7409015644586578, 'edge_t': 1.0231282366265153e-05}\n",
      "Output set to 1 cells\n",
      "\n",
      "GPU Available: True, GPU Used: True\n",
      "Done fitting\n",
      "  Fit complete: 2.727648973464966 sec elapsed\n"
     ]
    },
    {
     "name": "stderr",
     "output_type": "stream",
     "text": [
      "[I 2023-06-30 18:49:29,105] Trial 0 finished with value: -0.0013065338134765625 and parameters: {'tolerance_change': 1e-08, 'tolerance_grad': 1e-08, 'd2x': 20.0, 'd2t': 1.0, 'l1': 0.1, 'glocalx': 10.0, 'edge_t': 10.0}. Best is trial 0 with value: -0.0013065338134765625.\n"
     ]
    },
    {
     "name": "stdout",
     "output_type": "stream",
     "text": [
      "\n",
      "GPU Available: True, GPU Used: True\n",
      "Done fitting\n",
      "  Fit complete: 5.9454920291900635 sec elapsed\n"
     ]
    },
    {
     "name": "stderr",
     "output_type": "stream",
     "text": [
      "[I 2023-06-30 18:49:35,822] Trial 1 finished with value: 0.002244114875793457 and parameters: {'tolerance_change': 1.9212183035474187e-06, 'tolerance_grad': 1.5309492603919825e-05, 'd2x': 967.1853222296647, 'd2t': 27029.869688132458, 'l1': 23.661405206119767, 'glocalx': 2.207532911939044e-05, 'edge_t': 7.377922099350632e-05}. Best is trial 1 with value: 0.002244114875793457.\n"
     ]
    },
    {
     "name": "stdout",
     "output_type": "stream",
     "text": [
      "\n",
      "GPU Available: True, GPU Used: True\n",
      "Done fitting\n",
      "  Fit complete: 60.60464572906494 sec elapsed\n"
     ]
    },
    {
     "name": "stderr",
     "output_type": "stream",
     "text": [
      "[I 2023-06-30 18:50:37,198] Trial 2 finished with value: -0.033446669578552246 and parameters: {'tolerance_change': 9.662510621186716e-10, 'tolerance_grad': 1.165731120569416e-08, 'd2x': 1323.4921834663905, 'd2t': 181.48186247601785, 'l1': 6606.108897640388, 'glocalx': 68.73901322880646, 'edge_t': 5.265714205391242}. Best is trial 1 with value: 0.002244114875793457.\n"
     ]
    },
    {
     "name": "stdout",
     "output_type": "stream",
     "text": [
      "\n",
      "GPU Available: True, GPU Used: True\n",
      "Done fitting\n",
      "  Fit complete: 3.83087420463562 sec elapsed\n"
     ]
    },
    {
     "name": "stderr",
     "output_type": "stream",
     "text": [
      "[I 2023-06-30 18:50:41,801] Trial 3 finished with value: -0.03185832500457764 and parameters: {'tolerance_change': 2.3747954381661377e-08, 'tolerance_grad': 1.8670935881580547e-08, 'd2x': 59.022571187832035, 'd2t': 17.644485861377568, 'l1': 0.0008682174536877347, 'glocalx': 0.0001358681209911035, 'edge_t': 0.0004165059080279106}. Best is trial 1 with value: 0.002244114875793457.\n"
     ]
    },
    {
     "name": "stdout",
     "output_type": "stream",
     "text": [
      "\n",
      "GPU Available: True, GPU Used: True\n",
      "Done fitting\n",
      "  Fit complete: 2.9393301010131836 sec elapsed\n"
     ]
    },
    {
     "name": "stderr",
     "output_type": "stream",
     "text": [
      "[I 2023-06-30 18:50:45,518] Trial 4 finished with value: 0.0011096000671386719 and parameters: {'tolerance_change': 4.526746752056422e-05, 'tolerance_grad': 7.1293554977748985e-06, 'd2x': 323.1145635127877, 'd2t': 62.85608145684327, 'l1': 0.6412280883114262, 'glocalx': 41393.93591721112, 'edge_t': 290.47587036623077}. Best is trial 1 with value: 0.002244114875793457.\n"
     ]
    },
    {
     "name": "stdout",
     "output_type": "stream",
     "text": [
      "\n",
      "GPU Available: True, GPU Used: True\n",
      "Done fitting\n",
      "  Fit complete: 5.738890886306763 sec elapsed\n"
     ]
    },
    {
     "name": "stderr",
     "output_type": "stream",
     "text": [
      "[I 2023-06-30 18:50:52,010] Trial 5 finished with value: 0.001408696174621582 and parameters: {'tolerance_change': 2.1797578994493134e-06, 'tolerance_grad': 1.4073697645209438e-08, 'd2x': 3.518120544897937e-05, 'd2t': 89439.01336267652, 'l1': 0.029804225520183053, 'glocalx': 1.3158930529059922e-05, 'edge_t': 51427.542382821804}. Best is trial 1 with value: 0.002244114875793457.\n"
     ]
    },
    {
     "name": "stdout",
     "output_type": "stream",
     "text": [
      "\n",
      "GPU Available: True, GPU Used: True\n",
      "Done fitting\n",
      "  Fit complete: 60.204455852508545 sec elapsed\n"
     ]
    },
    {
     "name": "stderr",
     "output_type": "stream",
     "text": [
      "[I 2023-06-30 18:51:52,981] Trial 6 finished with value: -0.1361989974975586 and parameters: {'tolerance_change': 7.792547549493581e-07, 'tolerance_grad': 2.508909103241421e-06, 'd2x': 98.2664650346173, 'd2t': 17.84481833934374, 'l1': 20986.535914517204, 'glocalx': 0.0011975463427626681, 'edge_t': 7.993486896060742e-05}. Best is trial 1 with value: 0.002244114875793457.\n"
     ]
    },
    {
     "name": "stdout",
     "output_type": "stream",
     "text": [
      "\n",
      "GPU Available: True, GPU Used: True\n",
      "Done fitting\n",
      "  Fit complete: 2.2878799438476562 sec elapsed\n"
     ]
    },
    {
     "name": "stderr",
     "output_type": "stream",
     "text": [
      "[I 2023-06-30 18:51:56,042] Trial 7 finished with value: 0.0020192861557006836 and parameters: {'tolerance_change': 9.665857574171771e-05, 'tolerance_grad': 3.4704055322063024e-10, 'd2x': 3.792224186509927e-05, 'd2t': 2.7081387349348164e-05, 'l1': 0.00015664060344753667, 'glocalx': 1884.4231355472136, 'edge_t': 102.59313238225418}. Best is trial 1 with value: 0.002244114875793457.\n"
     ]
    },
    {
     "name": "stdout",
     "output_type": "stream",
     "text": [
      "\n",
      "GPU Available: True, GPU Used: True\n",
      "Done fitting\n",
      "  Fit complete: 60.36890244483948 sec elapsed\n"
     ]
    },
    {
     "name": "stderr",
     "output_type": "stream",
     "text": [
      "[I 2023-06-30 18:52:57,164] Trial 8 finished with value: 1.2516975402832031e-05 and parameters: {'tolerance_change': 9.841733000076126e-09, 'tolerance_grad': 4.0087763180451705e-10, 'd2x': 0.01223829690461657, 'd2t': 1.5288044562173873, 'l1': 1235.6607675845771, 'glocalx': 3932.6076209863745, 'edge_t': 547.4344288158935}. Best is trial 1 with value: 0.002244114875793457.\n"
     ]
    },
    {
     "name": "stdout",
     "output_type": "stream",
     "text": [
      "\n",
      "GPU Available: True, GPU Used: True\n",
      "Done fitting\n",
      "  Fit complete: 5.308109521865845 sec elapsed\n"
     ]
    },
    {
     "name": "stderr",
     "output_type": "stream",
     "text": [
      "[I 2023-06-30 18:53:03,225] Trial 9 finished with value: 0.001007080078125 and parameters: {'tolerance_change': 3.960971385978365e-06, 'tolerance_grad': 2.155530982998066e-07, 'd2x': 92683.97924947292, 'd2t': 400.15495546203096, 'l1': 43.762037920898194, 'glocalx': 11.67917908837227, 'edge_t': 26.545200475362872}. Best is trial 1 with value: 0.002244114875793457.\n",
      "[I 2023-06-30 18:53:03,253] A new study created in memory with name: no-name-8085320a-05e8-4a6d-a572-594fdea846ec\n"
     ]
    },
    {
     "name": "stdout",
     "output_type": "stream",
     "text": [
      "1 {'tolerance_change': 1.9212183035474187e-06, 'tolerance_grad': 1.5309492603919825e-05, 'd2x': 967.1853222296647, 'd2t': 27029.869688132458, 'l1': 23.661405206119767, 'glocalx': 2.207532911939044e-05, 'edge_t': 7.377922099350632e-05}\n",
      "Output set to 1 cells\n",
      "\n",
      "GPU Available: True, GPU Used: True\n",
      "Done fitting\n",
      "  Fit complete: 2.7419557571411133 sec elapsed\n"
     ]
    },
    {
     "name": "stderr",
     "output_type": "stream",
     "text": [
      "[I 2023-06-30 18:53:06,750] Trial 0 finished with value: 0.00643157958984375 and parameters: {'tolerance_change': 1e-08, 'tolerance_grad': 1e-08, 'd2x': 20.0, 'd2t': 1.0, 'l1': 0.1, 'glocalx': 10.0, 'edge_t': 10.0}. Best is trial 0 with value: 0.00643157958984375.\n"
     ]
    },
    {
     "name": "stdout",
     "output_type": "stream",
     "text": [
      "\n",
      "GPU Available: True, GPU Used: True\n",
      "Done fitting\n",
      "  Fit complete: 59.93595504760742 sec elapsed\n"
     ]
    },
    {
     "name": "stderr",
     "output_type": "stream",
     "text": [
      "[I 2023-06-30 18:54:07,442] Trial 1 finished with value: -30.186174392700195 and parameters: {'tolerance_change': 1.1143229724326359e-10, 'tolerance_grad': 1.0954962073230124e-09, 'd2x': 0.00296093725745723, 'd2t': 0.004115394216212308, 'l1': 2512.602141160005, 'glocalx': 3.633221004079871e-05, 'edge_t': 89.61735251206716}. Best is trial 0 with value: 0.00643157958984375.\n"
     ]
    },
    {
     "name": "stdout",
     "output_type": "stream",
     "text": [
      "\n",
      "GPU Available: True, GPU Used: True\n",
      "Done fitting\n",
      "  Fit complete: 60.354161739349365 sec elapsed\n"
     ]
    },
    {
     "name": "stderr",
     "output_type": "stream",
     "text": [
      "[I 2023-06-30 18:55:08,547] Trial 2 finished with value: 0.0013141632080078125 and parameters: {'tolerance_change': 4.394117465078953e-07, 'tolerance_grad': 1.3573102016695865e-10, 'd2x': 0.001822903086072799, 'd2t': 0.0007785081485684943, 'l1': 83.47575734988007, 'glocalx': 65.262168728077, 'edge_t': 0.003193723406283571}. Best is trial 0 with value: 0.00643157958984375.\n"
     ]
    },
    {
     "name": "stdout",
     "output_type": "stream",
     "text": [
      "\n",
      "GPU Available: True, GPU Used: True\n",
      "Done fitting\n",
      "  Fit complete: 3.150141477584839 sec elapsed\n"
     ]
    },
    {
     "name": "stderr",
     "output_type": "stream",
     "text": [
      "[I 2023-06-30 18:55:12,449] Trial 3 finished with value: -0.05365753173828125 and parameters: {'tolerance_change': 2.3669411099649805e-05, 'tolerance_grad': 1.0304443740557756e-07, 'd2x': 7052.824893457341, 'd2t': 0.019897224611338322, 'l1': 6.669851749406124e-05, 'glocalx': 2.6628676929574315e-05, 'edge_t': 25.793786843562497}. Best is trial 0 with value: 0.00643157958984375.\n"
     ]
    },
    {
     "name": "stdout",
     "output_type": "stream",
     "text": [
      "\n",
      "GPU Available: True, GPU Used: True\n",
      "Done fitting\n",
      "  Fit complete: 3.8339056968688965 sec elapsed\n"
     ]
    },
    {
     "name": "stderr",
     "output_type": "stream",
     "text": [
      "[I 2023-06-30 18:55:17,035] Trial 4 finished with value: 0.002949237823486328 and parameters: {'tolerance_change': 1.0837931353723574e-05, 'tolerance_grad': 3.3873403478381205e-05, 'd2x': 0.8269291943675071, 'd2t': 0.000281466739830231, 'l1': 12.187397228131296, 'glocalx': 0.09652717258012176, 'edge_t': 0.8963371072158814}. Best is trial 0 with value: 0.00643157958984375.\n"
     ]
    },
    {
     "name": "stdout",
     "output_type": "stream",
     "text": [
      "\n",
      "GPU Available: True, GPU Used: True\n",
      "Done fitting\n",
      "  Fit complete: 1.9370341300964355 sec elapsed\n"
     ]
    },
    {
     "name": "stderr",
     "output_type": "stream",
     "text": [
      "[I 2023-06-30 18:55:19,726] Trial 5 finished with value: -0.017340660095214844 and parameters: {'tolerance_change': 1.8969495655910995e-10, 'tolerance_grad': 4.114978050750049e-05, 'd2x': 8.366809452303955e-05, 'd2t': 39.2856246240969, 'l1': 0.27951912102065984, 'glocalx': 0.26548400112879583, 'edge_t': 0.0007394797304840978}. Best is trial 0 with value: 0.00643157958984375.\n"
     ]
    },
    {
     "name": "stdout",
     "output_type": "stream",
     "text": [
      "\n",
      "GPU Available: True, GPU Used: True\n",
      "Done fitting\n",
      "  Fit complete: 60.30787253379822 sec elapsed\n"
     ]
    },
    {
     "name": "stderr",
     "output_type": "stream",
     "text": [
      "[I 2023-06-30 18:56:20,788] Trial 6 finished with value: 0.00433349609375 and parameters: {'tolerance_change': 1.237713328406441e-10, 'tolerance_grad': 1.1587177883417981e-05, 'd2x': 0.0023228879387468906, 'd2t': 1.3266169252020995e-05, 'l1': 3.03047193338074, 'glocalx': 313.344758625674, 'edge_t': 0.013948079372484372}. Best is trial 0 with value: 0.00643157958984375.\n"
     ]
    },
    {
     "name": "stdout",
     "output_type": "stream",
     "text": [
      "\n",
      "GPU Available: True, GPU Used: True\n",
      "Done fitting\n",
      "  Fit complete: 3.5932183265686035 sec elapsed\n"
     ]
    },
    {
     "name": "stderr",
     "output_type": "stream",
     "text": [
      "[I 2023-06-30 18:56:25,134] Trial 7 finished with value: 0.0017704963684082031 and parameters: {'tolerance_change': 1.7929133332919647e-07, 'tolerance_grad': 7.861006808721771e-09, 'd2x': 24.01655428009259, 'd2t': 0.011937712069807238, 'l1': 0.00045078232645937765, 'glocalx': 15462.52104598059, 'edge_t': 0.0010612066086894377}. Best is trial 0 with value: 0.00643157958984375.\n"
     ]
    },
    {
     "name": "stdout",
     "output_type": "stream",
     "text": [
      "\n",
      "GPU Available: True, GPU Used: True\n",
      "Done fitting\n",
      "  Fit complete: 60.359580993652344 sec elapsed\n"
     ]
    },
    {
     "name": "stderr",
     "output_type": "stream",
     "text": [
      "[I 2023-06-30 18:57:26,245] Trial 8 finished with value: 9.059906005859375e-06 and parameters: {'tolerance_change': 2.1856313827296765e-10, 'tolerance_grad': 1.8190415259852941e-10, 'd2x': 825.0486060148831, 'd2t': 4094.1108834816364, 'l1': 1067.808899893831, 'glocalx': 7.628939546516314, 'edge_t': 0.0001323952785776125}. Best is trial 0 with value: 0.00643157958984375.\n"
     ]
    },
    {
     "name": "stdout",
     "output_type": "stream",
     "text": [
      "\n",
      "GPU Available: True, GPU Used: True\n",
      "Done fitting\n",
      "  Fit complete: 5.05721640586853 sec elapsed\n"
     ]
    },
    {
     "name": "stderr",
     "output_type": "stream",
     "text": [
      "[I 2023-06-30 18:57:32,055] Trial 9 finished with value: 0.0069675445556640625 and parameters: {'tolerance_change': 1.3705985367146996e-10, 'tolerance_grad': 9.075677369710518e-07, 'd2x': 1125.6902705920622, 'd2t': 1707.5870805883155, 'l1': 0.3232333064627446, 'glocalx': 70.4355950644939, 'edge_t': 8320.8345747463}. Best is trial 9 with value: 0.0069675445556640625.\n",
      "[I 2023-06-30 18:57:32,079] A new study created in memory with name: no-name-d6baae67-bc9a-47f5-8a59-0e4e4f98be37\n"
     ]
    },
    {
     "name": "stdout",
     "output_type": "stream",
     "text": [
      "9 {'tolerance_change': 1.3705985367146996e-10, 'tolerance_grad': 9.075677369710518e-07, 'd2x': 1125.6902705920622, 'd2t': 1707.5870805883155, 'l1': 0.3232333064627446, 'glocalx': 70.4355950644939, 'edge_t': 8320.8345747463}\n",
      "Output set to 1 cells\n",
      "\n",
      "GPU Available: True, GPU Used: True\n",
      "Done fitting\n",
      "  Fit complete: 2.6215591430664062 sec elapsed\n"
     ]
    },
    {
     "name": "stderr",
     "output_type": "stream",
     "text": [
      "[I 2023-06-30 18:57:35,453] Trial 0 finished with value: -0.0016841888427734375 and parameters: {'tolerance_change': 1e-08, 'tolerance_grad': 1e-08, 'd2x': 20.0, 'd2t': 1.0, 'l1': 0.1, 'glocalx': 10.0, 'edge_t': 10.0}. Best is trial 0 with value: -0.0016841888427734375.\n"
     ]
    },
    {
     "name": "stdout",
     "output_type": "stream",
     "text": [
      "\n",
      "GPU Available: True, GPU Used: True\n"
     ]
    },
    {
     "name": "stderr",
     "output_type": "stream",
     "text": [
      "[W 2023-06-30 18:57:50,666] Trial 1 failed with parameters: {'tolerance_change': 1.744911467473228e-07, 'tolerance_grad': 1.1042846398627186e-07, 'd2x': 0.6525895951373396, 'd2t': 0.0015841829626598628, 'l1': 197.58467018128363, 'glocalx': 0.7921534037424244, 'edge_t': 0.9267553840650532} because of the following error: KeyboardInterrupt().\n",
      "Traceback (most recent call last):\n",
      "  File \"/home/mattjac/anaconda3/envs/pytorch2/lib/python3.11/site-packages/optuna/study/_optimize.py\", line 200, in _run_trial\n",
      "    value_or_values = func(trial)\n",
      "                      ^^^^^^^^^^^\n",
      "  File \"/tmp/ipykernel_1820465/3732071426.py\", line 60, in objective\n",
      "    glm_ndn.fit( data, force_dict_training=True, **lbfgs_pars)\n",
      "  File \"/home/mattjac/projects/mattjac/v1/NDNT/NDNT.py\", line 532, in fit\n",
      "    trainer.fit(self, dataset[train_inds], dataset[val_inds], seed=seed)\n",
      "  File \"/home/mattjac/projects/mattjac/v1/NDNT/training/trainer.py\", line 429, in fit\n",
      "    self.fit_data_dict(model, train_loader)\n",
      "  File \"/home/mattjac/projects/mattjac/v1/NDNT/training/trainer.py\", line 490, in fit_data_dict\n",
      "    loss = self.optimizer.step(closure)\n",
      "           ^^^^^^^^^^^^^^^^^^^^^^^^^^^^\n",
      "  File \"/home/mattjac/anaconda3/envs/pytorch2/lib/python3.11/site-packages/torch/optim/optimizer.py\", line 280, in wrapper\n",
      "    out = func(*args, **kwargs)\n",
      "          ^^^^^^^^^^^^^^^^^^^^^\n",
      "  File \"/home/mattjac/anaconda3/envs/pytorch2/lib/python3.11/site-packages/torch/utils/_contextlib.py\", line 115, in decorate_context\n",
      "    return func(*args, **kwargs)\n",
      "           ^^^^^^^^^^^^^^^^^^^^^\n",
      "  File \"/home/mattjac/anaconda3/envs/pytorch2/lib/python3.11/site-packages/torch/optim/lbfgs.py\", line 438, in step\n",
      "    loss = float(closure())\n",
      "           ^^^^^^^^^^^^^^^^\n",
      "KeyboardInterrupt\n",
      "[W 2023-06-30 18:57:50,667] Trial 1 failed with value None.\n"
     ]
    },
    {
     "ename": "KeyboardInterrupt",
     "evalue": "",
     "output_type": "error",
     "traceback": [
      "\u001b[0;31m---------------------------------------------------------------------------\u001b[0m",
      "\u001b[0;31mKeyboardInterrupt\u001b[0m                         Traceback (most recent call last)",
      "Cell \u001b[0;32mIn[31], line 81\u001b[0m\n\u001b[1;32m     71\u001b[0m \u001b[38;5;66;03m# enqueue initial parameters\u001b[39;00m\n\u001b[1;32m     72\u001b[0m study\u001b[38;5;241m.\u001b[39menqueue_trial( \n\u001b[1;32m     73\u001b[0m     {\u001b[38;5;124m'\u001b[39m\u001b[38;5;124md2t\u001b[39m\u001b[38;5;124m'\u001b[39m: \u001b[38;5;241m1\u001b[39m,\n\u001b[1;32m     74\u001b[0m      \u001b[38;5;124m'\u001b[39m\u001b[38;5;124md2x\u001b[39m\u001b[38;5;124m'\u001b[39m: \u001b[38;5;241m20\u001b[39m,\n\u001b[0;32m   (...)\u001b[0m\n\u001b[1;32m     78\u001b[0m      \u001b[38;5;124m'\u001b[39m\u001b[38;5;124mtolerance_change\u001b[39m\u001b[38;5;124m'\u001b[39m: \u001b[38;5;241m1e-8\u001b[39m,\n\u001b[1;32m     79\u001b[0m      \u001b[38;5;124m'\u001b[39m\u001b[38;5;124mtolerance_grad\u001b[39m\u001b[38;5;124m'\u001b[39m: \u001b[38;5;241m1e-8\u001b[39m})\n\u001b[0;32m---> 81\u001b[0m study\u001b[38;5;241m.\u001b[39moptimize(objective, n_trials\u001b[38;5;241m=\u001b[39m\u001b[38;5;241m10\u001b[39m)\n\u001b[1;32m     83\u001b[0m \u001b[38;5;28;01mwith\u001b[39;00m \u001b[38;5;28mopen\u001b[39m(glm_filename, \u001b[38;5;124m'\u001b[39m\u001b[38;5;124mwb\u001b[39m\u001b[38;5;124m'\u001b[39m) \u001b[38;5;28;01mas\u001b[39;00m f:\n\u001b[1;32m     84\u001b[0m     pickle\u001b[38;5;241m.\u001b[39mdump(models[study\u001b[38;5;241m.\u001b[39mbest_trial\u001b[38;5;241m.\u001b[39mnumber], f)\n",
      "File \u001b[0;32m~/anaconda3/envs/pytorch2/lib/python3.11/site-packages/optuna/study/study.py:443\u001b[0m, in \u001b[0;36mStudy.optimize\u001b[0;34m(self, func, n_trials, timeout, n_jobs, catch, callbacks, gc_after_trial, show_progress_bar)\u001b[0m\n\u001b[1;32m    339\u001b[0m \u001b[38;5;28;01mdef\u001b[39;00m \u001b[38;5;21moptimize\u001b[39m(\n\u001b[1;32m    340\u001b[0m     \u001b[38;5;28mself\u001b[39m,\n\u001b[1;32m    341\u001b[0m     func: ObjectiveFuncType,\n\u001b[0;32m   (...)\u001b[0m\n\u001b[1;32m    348\u001b[0m     show_progress_bar: \u001b[38;5;28mbool\u001b[39m \u001b[38;5;241m=\u001b[39m \u001b[38;5;28;01mFalse\u001b[39;00m,\n\u001b[1;32m    349\u001b[0m ) \u001b[38;5;241m-\u001b[39m\u001b[38;5;241m>\u001b[39m \u001b[38;5;28;01mNone\u001b[39;00m:\n\u001b[1;32m    350\u001b[0m \u001b[38;5;250m    \u001b[39m\u001b[38;5;124;03m\"\"\"Optimize an objective function.\u001b[39;00m\n\u001b[1;32m    351\u001b[0m \n\u001b[1;32m    352\u001b[0m \u001b[38;5;124;03m    Optimization is done by choosing a suitable set of hyperparameter values from a given\u001b[39;00m\n\u001b[0;32m   (...)\u001b[0m\n\u001b[1;32m    440\u001b[0m \u001b[38;5;124;03m            If nested invocation of this method occurs.\u001b[39;00m\n\u001b[1;32m    441\u001b[0m \u001b[38;5;124;03m    \"\"\"\u001b[39;00m\n\u001b[0;32m--> 443\u001b[0m     _optimize(\n\u001b[1;32m    444\u001b[0m         study\u001b[38;5;241m=\u001b[39m\u001b[38;5;28mself\u001b[39m,\n\u001b[1;32m    445\u001b[0m         func\u001b[38;5;241m=\u001b[39mfunc,\n\u001b[1;32m    446\u001b[0m         n_trials\u001b[38;5;241m=\u001b[39mn_trials,\n\u001b[1;32m    447\u001b[0m         timeout\u001b[38;5;241m=\u001b[39mtimeout,\n\u001b[1;32m    448\u001b[0m         n_jobs\u001b[38;5;241m=\u001b[39mn_jobs,\n\u001b[1;32m    449\u001b[0m         catch\u001b[38;5;241m=\u001b[39m\u001b[38;5;28mtuple\u001b[39m(catch) \u001b[38;5;28;01mif\u001b[39;00m \u001b[38;5;28misinstance\u001b[39m(catch, Iterable) \u001b[38;5;28;01melse\u001b[39;00m (catch,),\n\u001b[1;32m    450\u001b[0m         callbacks\u001b[38;5;241m=\u001b[39mcallbacks,\n\u001b[1;32m    451\u001b[0m         gc_after_trial\u001b[38;5;241m=\u001b[39mgc_after_trial,\n\u001b[1;32m    452\u001b[0m         show_progress_bar\u001b[38;5;241m=\u001b[39mshow_progress_bar,\n\u001b[1;32m    453\u001b[0m     )\n",
      "File \u001b[0;32m~/anaconda3/envs/pytorch2/lib/python3.11/site-packages/optuna/study/_optimize.py:66\u001b[0m, in \u001b[0;36m_optimize\u001b[0;34m(study, func, n_trials, timeout, n_jobs, catch, callbacks, gc_after_trial, show_progress_bar)\u001b[0m\n\u001b[1;32m     64\u001b[0m \u001b[38;5;28;01mtry\u001b[39;00m:\n\u001b[1;32m     65\u001b[0m     \u001b[38;5;28;01mif\u001b[39;00m n_jobs \u001b[38;5;241m==\u001b[39m \u001b[38;5;241m1\u001b[39m:\n\u001b[0;32m---> 66\u001b[0m         _optimize_sequential(\n\u001b[1;32m     67\u001b[0m             study,\n\u001b[1;32m     68\u001b[0m             func,\n\u001b[1;32m     69\u001b[0m             n_trials,\n\u001b[1;32m     70\u001b[0m             timeout,\n\u001b[1;32m     71\u001b[0m             catch,\n\u001b[1;32m     72\u001b[0m             callbacks,\n\u001b[1;32m     73\u001b[0m             gc_after_trial,\n\u001b[1;32m     74\u001b[0m             reseed_sampler_rng\u001b[38;5;241m=\u001b[39m\u001b[38;5;28;01mFalse\u001b[39;00m,\n\u001b[1;32m     75\u001b[0m             time_start\u001b[38;5;241m=\u001b[39m\u001b[38;5;28;01mNone\u001b[39;00m,\n\u001b[1;32m     76\u001b[0m             progress_bar\u001b[38;5;241m=\u001b[39mprogress_bar,\n\u001b[1;32m     77\u001b[0m         )\n\u001b[1;32m     78\u001b[0m     \u001b[38;5;28;01melse\u001b[39;00m:\n\u001b[1;32m     79\u001b[0m         \u001b[38;5;28;01mif\u001b[39;00m n_jobs \u001b[38;5;241m==\u001b[39m \u001b[38;5;241m-\u001b[39m\u001b[38;5;241m1\u001b[39m:\n",
      "File \u001b[0;32m~/anaconda3/envs/pytorch2/lib/python3.11/site-packages/optuna/study/_optimize.py:163\u001b[0m, in \u001b[0;36m_optimize_sequential\u001b[0;34m(study, func, n_trials, timeout, catch, callbacks, gc_after_trial, reseed_sampler_rng, time_start, progress_bar)\u001b[0m\n\u001b[1;32m    160\u001b[0m         \u001b[38;5;28;01mbreak\u001b[39;00m\n\u001b[1;32m    162\u001b[0m \u001b[38;5;28;01mtry\u001b[39;00m:\n\u001b[0;32m--> 163\u001b[0m     frozen_trial \u001b[38;5;241m=\u001b[39m _run_trial(study, func, catch)\n\u001b[1;32m    164\u001b[0m \u001b[38;5;28;01mfinally\u001b[39;00m:\n\u001b[1;32m    165\u001b[0m     \u001b[38;5;66;03m# The following line mitigates memory problems that can be occurred in some\u001b[39;00m\n\u001b[1;32m    166\u001b[0m     \u001b[38;5;66;03m# environments (e.g., services that use computing containers such as GitHub Actions).\u001b[39;00m\n\u001b[1;32m    167\u001b[0m     \u001b[38;5;66;03m# Please refer to the following PR for further details:\u001b[39;00m\n\u001b[1;32m    168\u001b[0m     \u001b[38;5;66;03m# https://github.com/optuna/optuna/pull/325.\u001b[39;00m\n\u001b[1;32m    169\u001b[0m     \u001b[38;5;28;01mif\u001b[39;00m gc_after_trial:\n",
      "File \u001b[0;32m~/anaconda3/envs/pytorch2/lib/python3.11/site-packages/optuna/study/_optimize.py:251\u001b[0m, in \u001b[0;36m_run_trial\u001b[0;34m(study, func, catch)\u001b[0m\n\u001b[1;32m    244\u001b[0m         \u001b[38;5;28;01massert\u001b[39;00m \u001b[38;5;28;01mFalse\u001b[39;00m, \u001b[38;5;124m\"\u001b[39m\u001b[38;5;124mShould not reach.\u001b[39m\u001b[38;5;124m\"\u001b[39m\n\u001b[1;32m    246\u001b[0m \u001b[38;5;28;01mif\u001b[39;00m (\n\u001b[1;32m    247\u001b[0m     frozen_trial\u001b[38;5;241m.\u001b[39mstate \u001b[38;5;241m==\u001b[39m TrialState\u001b[38;5;241m.\u001b[39mFAIL\n\u001b[1;32m    248\u001b[0m     \u001b[38;5;129;01mand\u001b[39;00m func_err \u001b[38;5;129;01mis\u001b[39;00m \u001b[38;5;129;01mnot\u001b[39;00m \u001b[38;5;28;01mNone\u001b[39;00m\n\u001b[1;32m    249\u001b[0m     \u001b[38;5;129;01mand\u001b[39;00m \u001b[38;5;129;01mnot\u001b[39;00m \u001b[38;5;28misinstance\u001b[39m(func_err, catch)\n\u001b[1;32m    250\u001b[0m ):\n\u001b[0;32m--> 251\u001b[0m     \u001b[38;5;28;01mraise\u001b[39;00m func_err\n\u001b[1;32m    252\u001b[0m \u001b[38;5;28;01mreturn\u001b[39;00m frozen_trial\n",
      "File \u001b[0;32m~/anaconda3/envs/pytorch2/lib/python3.11/site-packages/optuna/study/_optimize.py:200\u001b[0m, in \u001b[0;36m_run_trial\u001b[0;34m(study, func, catch)\u001b[0m\n\u001b[1;32m    198\u001b[0m \u001b[38;5;28;01mwith\u001b[39;00m get_heartbeat_thread(trial\u001b[38;5;241m.\u001b[39m_trial_id, study\u001b[38;5;241m.\u001b[39m_storage):\n\u001b[1;32m    199\u001b[0m     \u001b[38;5;28;01mtry\u001b[39;00m:\n\u001b[0;32m--> 200\u001b[0m         value_or_values \u001b[38;5;241m=\u001b[39m func(trial)\n\u001b[1;32m    201\u001b[0m     \u001b[38;5;28;01mexcept\u001b[39;00m exceptions\u001b[38;5;241m.\u001b[39mTrialPruned \u001b[38;5;28;01mas\u001b[39;00m e:\n\u001b[1;32m    202\u001b[0m         \u001b[38;5;66;03m# TODO(mamu): Handle multi-objective cases.\u001b[39;00m\n\u001b[1;32m    203\u001b[0m         state \u001b[38;5;241m=\u001b[39m TrialState\u001b[38;5;241m.\u001b[39mPRUNED\n",
      "Cell \u001b[0;32mIn[31], line 60\u001b[0m, in \u001b[0;36mobjective\u001b[0;34m(trial)\u001b[0m\n\u001b[1;32m     57\u001b[0m glm_ndn\u001b[38;5;241m.\u001b[39mnetworks[\u001b[38;5;241m1\u001b[39m]\u001b[38;5;241m.\u001b[39mlayers[\u001b[38;5;241m0\u001b[39m]\u001b[38;5;241m.\u001b[39mset_parameters(val\u001b[38;5;241m=\u001b[39m\u001b[38;5;28;01mFalse\u001b[39;00m)\n\u001b[1;32m     58\u001b[0m glm_ndn\u001b[38;5;241m.\u001b[39mnetworks[\u001b[38;5;241m2\u001b[39m]\u001b[38;5;241m.\u001b[39mlayers[\u001b[38;5;241m0\u001b[39m]\u001b[38;5;241m.\u001b[39mset_parameters(val\u001b[38;5;241m=\u001b[39m\u001b[38;5;28;01mFalse\u001b[39;00m,name\u001b[38;5;241m=\u001b[39m\u001b[38;5;124m'\u001b[39m\u001b[38;5;124mweight\u001b[39m\u001b[38;5;124m'\u001b[39m)\n\u001b[0;32m---> 60\u001b[0m glm_ndn\u001b[38;5;241m.\u001b[39mfit( data, force_dict_training\u001b[38;5;241m=\u001b[39m\u001b[38;5;28;01mTrue\u001b[39;00m, \u001b[38;5;241m*\u001b[39m\u001b[38;5;241m*\u001b[39mlbfgs_pars)\n\u001b[1;32m     61\u001b[0m LLs \u001b[38;5;241m=\u001b[39m glm_ndn\u001b[38;5;241m.\u001b[39meval_models(data[data\u001b[38;5;241m.\u001b[39mval_blks], null_adjusted\u001b[38;5;241m=\u001b[39m\u001b[38;5;28;01mFalse\u001b[39;00m)[\u001b[38;5;241m0\u001b[39m]\n\u001b[1;32m     62\u001b[0m null_adjusted_LLs \u001b[38;5;241m=\u001b[39m LLsNULL \u001b[38;5;241m-\u001b[39m LLs\n",
      "File \u001b[0;32m~/projects/mattjac/v1/NDNT/NDNT.py:532\u001b[0m, in \u001b[0;36mNDN.fit\u001b[0;34m(self, dataset, train_inds, val_inds, speckledXV, seed, save_dir, version, optimizer, scheduler, batch_size, force_dict_training, block_sample, reuse_trainer, device, **kwargs)\u001b[0m\n\u001b[1;32m    529\u001b[0m     \u001b[38;5;28;01massert\u001b[39;00m \u001b[38;5;28misinstance\u001b[39m(trainer, LBFGSTrainer), \u001b[38;5;124m\"\u001b[39m\u001b[38;5;124mforce_dict_training will not work unless using LBFGS.\u001b[39m\u001b[38;5;124m\"\u001b[39m \n\u001b[1;32m    531\u001b[0m     \u001b[38;5;66;03m#trainer.fit(self, train_dl.dataset[:], valid_dl.dataset[:], seed=seed)\u001b[39;00m\n\u001b[0;32m--> 532\u001b[0m     trainer\u001b[38;5;241m.\u001b[39mfit(\u001b[38;5;28mself\u001b[39m, dataset[train_inds], dataset[val_inds], seed\u001b[38;5;241m=\u001b[39mseed)\n\u001b[1;32m    533\u001b[0m \u001b[38;5;28;01melse\u001b[39;00m:\n\u001b[1;32m    534\u001b[0m     \u001b[38;5;66;03m# Create dataloaders / \u001b[39;00m\n\u001b[1;32m    535\u001b[0m     train_dl, valid_dl \u001b[38;5;241m=\u001b[39m \u001b[38;5;28mself\u001b[39m\u001b[38;5;241m.\u001b[39mget_dataloaders(\n\u001b[1;32m    536\u001b[0m         dataset, batch_size\u001b[38;5;241m=\u001b[39mbatch_size, \n\u001b[1;32m    537\u001b[0m         train_inds\u001b[38;5;241m=\u001b[39mtrain_inds, val_inds\u001b[38;5;241m=\u001b[39mval_inds, data_seed\u001b[38;5;241m=\u001b[39mseed, \u001b[38;5;241m*\u001b[39m\u001b[38;5;241m*\u001b[39mkwargs)\n",
      "File \u001b[0;32m~/projects/mattjac/v1/NDNT/training/trainer.py:429\u001b[0m, in \u001b[0;36mLBFGSTrainer.fit\u001b[0;34m(self, model, train_loader, val_loader, seed)\u001b[0m\n\u001b[1;32m    427\u001b[0m \u001b[38;5;28;01mif\u001b[39;00m \u001b[38;5;28misinstance\u001b[39m(train_loader, \u001b[38;5;28mdict\u001b[39m):\n\u001b[1;32m    428\u001b[0m \u001b[38;5;250m    \u001b[39m\u001b[38;5;124;03m''' fit entire dataset at once'''\u001b[39;00m\n\u001b[0;32m--> 429\u001b[0m     \u001b[38;5;28mself\u001b[39m\u001b[38;5;241m.\u001b[39mfit_data_dict(model, train_loader)\n\u001b[1;32m    431\u001b[0m     \u001b[38;5;28;01mif\u001b[39;00m val_loader \u001b[38;5;129;01mis\u001b[39;00m \u001b[38;5;28;01mNone\u001b[39;00m:\n\u001b[1;32m    432\u001b[0m         val_loader \u001b[38;5;241m=\u001b[39m train_loader\n",
      "File \u001b[0;32m~/projects/mattjac/v1/NDNT/training/trainer.py:490\u001b[0m, in \u001b[0;36mLBFGSTrainer.fit_data_dict\u001b[0;34m(self, model, train_data)\u001b[0m\n\u001b[1;32m    486\u001b[0m         \u001b[38;5;28mprint\u001b[39m(\u001b[38;5;124m'\u001b[39m\u001b[38;5;124mIteration: \u001b[39m\u001b[38;5;132;01m{}\u001b[39;00m\u001b[38;5;124m | Loss: \u001b[39m\u001b[38;5;132;01m{}\u001b[39;00m\u001b[38;5;124m'\u001b[39m\u001b[38;5;241m.\u001b[39mformat(\u001b[38;5;28mself\u001b[39m\u001b[38;5;241m.\u001b[39moptimizer\u001b[38;5;241m.\u001b[39mstate_dict()[\u001b[38;5;124m'\u001b[39m\u001b[38;5;124mstate\u001b[39m\u001b[38;5;124m'\u001b[39m][\u001b[38;5;241m0\u001b[39m][\u001b[38;5;124m'\u001b[39m\u001b[38;5;124mn_iter\u001b[39m\u001b[38;5;124m'\u001b[39m], loss\u001b[38;5;241m.\u001b[39mitem()))\n\u001b[1;32m    488\u001b[0m     \u001b[38;5;28;01mreturn\u001b[39;00m loss\n\u001b[0;32m--> 490\u001b[0m loss \u001b[38;5;241m=\u001b[39m \u001b[38;5;28mself\u001b[39m\u001b[38;5;241m.\u001b[39moptimizer\u001b[38;5;241m.\u001b[39mstep(closure)\n\u001b[1;32m    491\u001b[0m \u001b[38;5;28mself\u001b[39m\u001b[38;5;241m.\u001b[39moptimizer\u001b[38;5;241m.\u001b[39mzero_grad(set_to_none\u001b[38;5;241m=\u001b[39m\u001b[38;5;28mself\u001b[39m\u001b[38;5;241m.\u001b[39mset_to_none)\n\u001b[1;32m    492\u001b[0m \u001b[38;5;28;01mif\u001b[39;00m \u001b[38;5;28mself\u001b[39m\u001b[38;5;241m.\u001b[39muse_gpu:\n",
      "File \u001b[0;32m~/anaconda3/envs/pytorch2/lib/python3.11/site-packages/torch/optim/optimizer.py:280\u001b[0m, in \u001b[0;36mOptimizer.profile_hook_step.<locals>.wrapper\u001b[0;34m(*args, **kwargs)\u001b[0m\n\u001b[1;32m    276\u001b[0m         \u001b[38;5;28;01melse\u001b[39;00m:\n\u001b[1;32m    277\u001b[0m             \u001b[38;5;28;01mraise\u001b[39;00m \u001b[38;5;167;01mRuntimeError\u001b[39;00m(\u001b[38;5;124mf\u001b[39m\u001b[38;5;124m\"\u001b[39m\u001b[38;5;132;01m{\u001b[39;00mfunc\u001b[38;5;132;01m}\u001b[39;00m\u001b[38;5;124m must return None or a tuple of (new_args, new_kwargs),\u001b[39m\u001b[38;5;124m\"\u001b[39m\n\u001b[1;32m    278\u001b[0m                                \u001b[38;5;124mf\u001b[39m\u001b[38;5;124m\"\u001b[39m\u001b[38;5;124mbut got \u001b[39m\u001b[38;5;132;01m{\u001b[39;00mresult\u001b[38;5;132;01m}\u001b[39;00m\u001b[38;5;124m.\u001b[39m\u001b[38;5;124m\"\u001b[39m)\n\u001b[0;32m--> 280\u001b[0m out \u001b[38;5;241m=\u001b[39m func(\u001b[38;5;241m*\u001b[39margs, \u001b[38;5;241m*\u001b[39m\u001b[38;5;241m*\u001b[39mkwargs)\n\u001b[1;32m    281\u001b[0m \u001b[38;5;28mself\u001b[39m\u001b[38;5;241m.\u001b[39m_optimizer_step_code()\n\u001b[1;32m    283\u001b[0m \u001b[38;5;66;03m# call optimizer step post hooks\u001b[39;00m\n",
      "File \u001b[0;32m~/anaconda3/envs/pytorch2/lib/python3.11/site-packages/torch/utils/_contextlib.py:115\u001b[0m, in \u001b[0;36mcontext_decorator.<locals>.decorate_context\u001b[0;34m(*args, **kwargs)\u001b[0m\n\u001b[1;32m    112\u001b[0m \u001b[38;5;129m@functools\u001b[39m\u001b[38;5;241m.\u001b[39mwraps(func)\n\u001b[1;32m    113\u001b[0m \u001b[38;5;28;01mdef\u001b[39;00m \u001b[38;5;21mdecorate_context\u001b[39m(\u001b[38;5;241m*\u001b[39margs, \u001b[38;5;241m*\u001b[39m\u001b[38;5;241m*\u001b[39mkwargs):\n\u001b[1;32m    114\u001b[0m     \u001b[38;5;28;01mwith\u001b[39;00m ctx_factory():\n\u001b[0;32m--> 115\u001b[0m         \u001b[38;5;28;01mreturn\u001b[39;00m func(\u001b[38;5;241m*\u001b[39margs, \u001b[38;5;241m*\u001b[39m\u001b[38;5;241m*\u001b[39mkwargs)\n",
      "File \u001b[0;32m~/anaconda3/envs/pytorch2/lib/python3.11/site-packages/torch/optim/lbfgs.py:438\u001b[0m, in \u001b[0;36mLBFGS.step\u001b[0;34m(self, closure)\u001b[0m\n\u001b[1;32m    433\u001b[0m \u001b[38;5;28;01mif\u001b[39;00m n_iter \u001b[38;5;241m!=\u001b[39m max_iter:\n\u001b[1;32m    434\u001b[0m     \u001b[38;5;66;03m# re-evaluate function only if not in last iteration\u001b[39;00m\n\u001b[1;32m    435\u001b[0m     \u001b[38;5;66;03m# the reason we do this: in a stochastic setting,\u001b[39;00m\n\u001b[1;32m    436\u001b[0m     \u001b[38;5;66;03m# no use to re-evaluate that function here\u001b[39;00m\n\u001b[1;32m    437\u001b[0m     \u001b[38;5;28;01mwith\u001b[39;00m torch\u001b[38;5;241m.\u001b[39menable_grad():\n\u001b[0;32m--> 438\u001b[0m         loss \u001b[38;5;241m=\u001b[39m \u001b[38;5;28mfloat\u001b[39m(closure())\n\u001b[1;32m    439\u001b[0m     flat_grad \u001b[38;5;241m=\u001b[39m \u001b[38;5;28mself\u001b[39m\u001b[38;5;241m.\u001b[39m_gather_flat_grad()\n\u001b[1;32m    440\u001b[0m     opt_cond \u001b[38;5;241m=\u001b[39m flat_grad\u001b[38;5;241m.\u001b[39mabs()\u001b[38;5;241m.\u001b[39mmax() \u001b[38;5;241m<\u001b[39m\u001b[38;5;241m=\u001b[39m tolerance_grad\n",
      "\u001b[0;31mKeyboardInterrupt\u001b[0m: "
     ]
    }
   ],
   "source": [
    "for cc in range(NCv):\n",
    "    glm_filename = 'models/color_02/glm_cc'+str(cc)+'.pkl'\n",
    "    \n",
    "    drift_weights = driftmods[cc].ndn_model.networks[0].layers[0].weight.data[:,0]\n",
    "    \n",
    "    # # continue if the file already exists\n",
    "    if os.path.isfile(glm_filename):\n",
    "        # load the model and continue\n",
    "        print('loading model', cc)\n",
    "        with open(glm_filename, 'rb') as f:\n",
    "            glms.append(pickle.load(f))\n",
    "        continue\n",
    "\n",
    "    data.set_cells([vallam[cc]])\n",
    "    \n",
    "    models = []\n",
    "\n",
    "    LLsNULL = driftmods[cc].LLs\n",
    "    \n",
    "    def objective(trial):\n",
    "        lbfgs_pars = utils.create_optimizer_params(\n",
    "            optimizer_type='lbfgs',\n",
    "            tolerance_change=trial.suggest_float('tolerance_change', 1e-10, 1e-4, log=True),\n",
    "            tolerance_grad=trial.suggest_float('tolerance_grad', 1e-10, 1e-4, log=True),\n",
    "            history_size=100,\n",
    "            batch_size=20,\n",
    "            max_epochs=3,\n",
    "            max_iter = 500,\n",
    "            device = device)\n",
    "        \n",
    "        # drift network\n",
    "        drift_pars1 = NDNLayer.layer_dict(\n",
    "            input_dims=[1,1,1,NA], num_filters=1, bias=False, norm_type=0, NLtype='lin')\n",
    "        # for stand-alone drift model\n",
    "        drift_net =  FFnetwork.ffnet_dict( xstim_n = 'Xdrift', layer_list = [drift_pars1] )\n",
    "\n",
    "        glm_layer = Tlayer.layer_dict(\n",
    "            input_dims=data.stim_dims, num_filters=1, bias=False, num_lags=num_lags,\n",
    "            NLtype='lin', initialize_center = True)\n",
    "        glm_layer['reg_vals'] = {'d2x': trial.suggest_float('d2x', 1e-5, 1e5, log=True),\n",
    "                                 'd2t': trial.suggest_float('d2t', 1e-5, 1e5, log=True),\n",
    "                                 'l1': trial.suggest_float('l1', 1e-5, 1e5, log=True),\n",
    "                                 'glocalx': trial.suggest_float('glocalx', 1e-5, 1e5, log=True),\n",
    "                                 'edge_t': trial.suggest_float('edge_t', 1e-5, 1e5, log=True)}\n",
    "        stim_net =  FFnetwork.ffnet_dict( xstim_n = 'stim', layer_list = [glm_layer] )\n",
    "\n",
    "        comb_layer = NDNLayer.layer_dict(\n",
    "            num_filters = 1, NLtype='softplus', bias=False)\n",
    "        comb_layer['weights_initializer'] = 'ones'\n",
    "        net_comb = FFnetwork.ffnet_dict(\n",
    "            xstim_n = None, ffnet_n=[0,1],\n",
    "            layer_list = [comb_layer], ffnet_type='add')\n",
    "\n",
    "        glm_ndn = NDN.NDN(ffnet_list = [stim_net, drift_net, net_comb], loss_type='poisson')\n",
    "        glm_ndn.block_sample=True\n",
    "        glm_ndn.networks[1].layers[0].weight.data[:,0] = deepcopy(drift_weights)\n",
    "        glm_ndn.networks[1].layers[0].set_parameters(val=False)\n",
    "        glm_ndn.networks[2].layers[0].set_parameters(val=False,name='weight')\n",
    "\n",
    "        glm_ndn.fit( data, force_dict_training=True, **lbfgs_pars)\n",
    "        LLs = glm_ndn.eval_models(data[data.val_blks], null_adjusted=False)[0]\n",
    "        null_adjusted_LLs = LLsNULL - LLs\n",
    "        \n",
    "        glm_model = Model(glm_ndn, null_adjusted_LLs, trial)\n",
    "        models.append(glm_model)\n",
    "        \n",
    "        return np.mean(null_adjusted_LLs)\n",
    "\n",
    "    study = optuna.create_study(direction='maximize')\n",
    "    \n",
    "    # enqueue initial parameters\n",
    "    study.enqueue_trial( \n",
    "        {'d2t': 1,\n",
    "         'd2x': 20,\n",
    "         'l1': 0.1,\n",
    "         'glocalx': 10.0,\n",
    "         'edge_t': 10,\n",
    "         'tolerance_change': 1e-8,\n",
    "         'tolerance_grad': 1e-8})\n",
    "    \n",
    "    study.optimize(objective, n_trials=10)\n",
    "    \n",
    "    with open(glm_filename, 'wb') as f:\n",
    "        pickle.dump(models[study.best_trial.number], f)\n",
    "    \n",
    "    print(study.best_trial.number, study.best_params)"
   ]
  },
  {
   "cell_type": "code",
   "execution_count": null,
   "metadata": {
    "collapsed": false
   },
   "outputs": [],
   "source": []
  }
 ],
 "metadata": {
  "kernelspec": {
   "display_name": "Python 3",
   "language": "python",
   "name": "python3"
  },
  "language_info": {
   "codemirror_mode": {
    "name": "ipython",
    "version": 2
   },
   "file_extension": ".py",
   "mimetype": "text/x-python",
   "name": "python",
   "nbconvert_exporter": "python",
   "pygments_lexer": "ipython2",
   "version": "2.7.6"
  }
 },
 "nbformat": 4,
 "nbformat_minor": 0
}
