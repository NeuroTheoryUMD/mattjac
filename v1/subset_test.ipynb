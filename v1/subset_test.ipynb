{
 "cells": [
  {
   "cell_type": "code",
   "execution_count": 1,
   "metadata": {
    "collapsed": true
   },
   "outputs": [
    {
     "name": "stdout",
     "output_type": "stream",
     "text": [
      "Invoking __init__.py for NDNT.utils\n"
     ]
    }
   ],
   "source": [
    "import sys\n",
    "# not best practice, but makes it easier to import from subdirectory\n",
    "sys.path.insert(0, './lib')\n",
    "\n",
    "import experiment as exp\n",
    "from torch.utils.data import DataLoader, random_split, Subset\n",
    "from NTdatasets.generic import GenericDataset\n",
    "\n",
    "%load_ext autoreload\n",
    "%autoreload 2"
   ]
  },
  {
   "cell_type": "code",
   "execution_count": 2,
   "metadata": {
    "collapsed": false
   },
   "outputs": [],
   "source": [
    "# load the experiment\n",
    "e = exp.load('is_multiexp_test05', 'experiments', datadir='Mdata')"
   ]
  },
  {
   "cell_type": "code",
   "execution_count": 3,
   "metadata": {
    "collapsed": false
   },
   "outputs": [
    {
     "name": "stdout",
     "output_type": "stream",
     "text": [
      "lazy loading dataset\n",
      "Loading expt04\n",
      "  Time embedding...\n",
      "  Done.\n",
      "Loading expt05\n",
      "  Time embedding...\n",
      "  Done.\n",
      "Loading expt06\n",
      "  Time embedding...\n",
      "  Done.\n",
      "Loading expt07\n",
      "  Time embedding...\n",
      "  Done.\n",
      "Loading expt08\n",
      "  Time embedding...\n",
      "  Done.\n"
     ]
    }
   ],
   "source": [
    "trial = e.trials_where(name='cnim_scaffold15')[0]\n",
    "dataset = trial.dataset"
   ]
  },
  {
   "cell_type": "code",
   "execution_count": 4,
   "metadata": {
    "collapsed": false
   },
   "outputs": [
    {
     "data": {
      "text/plain": [
       "((1126230,), (282059,))"
      ]
     },
     "execution_count": 4,
     "metadata": {},
     "output_type": "execute_result"
    }
   ],
   "source": [
    "dataset.train_inds.shape, dataset.val_inds.shape"
   ]
  },
  {
   "cell_type": "code",
   "execution_count": 5,
   "metadata": {
    "collapsed": false
   },
   "outputs": [],
   "source": [
    "# figure out why the Subset is different from the GenericDataset\n",
    "train_ds_sub = Subset(dataset, dataset.train_inds)\n",
    "val_ds_sub = Subset(dataset, dataset.val_inds)"
   ]
  },
  {
   "cell_type": "code",
   "execution_count": 6,
   "metadata": {
    "collapsed": false
   },
   "outputs": [],
   "source": [
    "train_ds_gen = GenericDataset(dataset[dataset.train_inds])\n",
    "val_ds_gen = GenericDataset(dataset[dataset.val_inds])"
   ]
  },
  {
   "cell_type": "code",
   "execution_count": 7,
   "metadata": {
    "collapsed": false
   },
   "outputs": [
    {
     "name": "stdout",
     "output_type": "stream",
     "text": [
      "--> 20\n"
     ]
    },
    {
     "data": {
      "text/plain": [
       "(dict_keys(['stim', 'robs', 'dfs']), dict_keys(['stim', 'robs', 'dfs']))"
      ]
     },
     "execution_count": 7,
     "metadata": {},
     "output_type": "execute_result"
    }
   ],
   "source": [
    "train_ds_sub[0].keys(), train_ds_gen[0].keys()"
   ]
  },
  {
   "cell_type": "code",
   "execution_count": 8,
   "metadata": {
    "collapsed": false
   },
   "outputs": [
    {
     "name": "stdout",
     "output_type": "stream",
     "text": [
      "--> 20\n"
     ]
    },
    {
     "data": {
      "text/plain": [
       "(torch.Size([1, 360]), torch.Size([360]))"
      ]
     },
     "execution_count": 8,
     "metadata": {},
     "output_type": "execute_result"
    }
   ],
   "source": [
    "train_ds_sub[0]['stim'].shape, train_ds_gen[0]['stim'].shape"
   ]
  },
  {
   "cell_type": "code",
   "execution_count": 8,
   "metadata": {
    "collapsed": false
   },
   "outputs": [],
   "source": []
  },
  {
   "cell_type": "code",
   "execution_count": 8,
   "metadata": {
    "collapsed": false
   },
   "outputs": [],
   "source": []
  },
  {
   "cell_type": "code",
   "execution_count": 18,
   "metadata": {
    "collapsed": false
   },
   "outputs": [
    {
     "data": {
      "text/plain": [
       "torch.Size([100, 360])"
      ]
     },
     "execution_count": 18,
     "metadata": {},
     "output_type": "execute_result"
    }
   ],
   "source": [
    "dataset[:100]['stim'].shape"
   ]
  },
  {
   "cell_type": "code",
   "execution_count": 9,
   "metadata": {
    "collapsed": false
   },
   "outputs": [],
   "source": []
  },
  {
   "cell_type": "code",
   "execution_count": 10,
   "metadata": {
    "collapsed": false
   },
   "outputs": [
    {
     "name": "stdout",
     "output_type": "stream",
     "text": [
      "stim torch.Size([360])\n",
      "robs torch.Size([38])\n",
      "dfs torch.Size([38])\n"
     ]
    }
   ],
   "source": [
    "for key in train_ds_gen[0].keys():\n",
    "    print(key, train_ds_gen[0][key].shape)"
   ]
  },
  {
   "cell_type": "code",
   "execution_count": 11,
   "metadata": {
    "collapsed": false
   },
   "outputs": [
    {
     "name": "stdout",
     "output_type": "stream",
     "text": [
      "--> 20\n",
      "--> 20\n",
      "stim torch.Size([1, 360])\n",
      "--> 20\n",
      "robs torch.Size([1, 38])\n",
      "--> 20\n",
      "dfs torch.Size([1, 38])\n"
     ]
    }
   ],
   "source": [
    "for key in train_ds_sub[0].keys():\n",
    "    print(key, train_ds_sub[0][key].shape)"
   ]
  },
  {
   "cell_type": "code",
   "execution_count": 12,
   "metadata": {
    "collapsed": false
   },
   "outputs": [
    {
     "data": {
      "text/plain": [
       "(1126230, 1126230)"
      ]
     },
     "execution_count": 12,
     "metadata": {},
     "output_type": "execute_result"
    }
   ],
   "source": [
    "len(train_ds_gen), len(train_ds_sub)"
   ]
  },
  {
   "cell_type": "code",
   "execution_count": 13,
   "metadata": {
    "collapsed": false
   },
   "outputs": [
    {
     "name": "stdout",
     "output_type": "stream",
     "text": [
      "--> 0\n"
     ]
    },
    {
     "data": {
      "text/plain": [
       "torch.Size([1, 360])"
      ]
     },
     "execution_count": 13,
     "metadata": {},
     "output_type": "execute_result"
    }
   ],
   "source": [
    "dataset[0]['stim'].shape"
   ]
  },
  {
   "cell_type": "code",
   "execution_count": 14,
   "metadata": {
    "collapsed": false
   },
   "outputs": [
    {
     "data": {
      "text/plain": [
       "torch.Size([1, 360])"
      ]
     },
     "execution_count": 14,
     "metadata": {},
     "output_type": "execute_result"
    }
   ],
   "source": [
    "import numpy as np\n",
    "index = 1\n",
    "index = np.array([index], dtype=np.int64)\n",
    "dataset.stim[index,:].shape"
   ]
  },
  {
   "cell_type": "code",
   "execution_count": 14,
   "metadata": {
    "collapsed": false
   },
   "outputs": [],
   "source": []
  }
 ],
 "metadata": {
  "kernelspec": {
   "display_name": "Python 3",
   "language": "python",
   "name": "python3"
  },
  "language_info": {
   "codemirror_mode": {
    "name": "ipython",
    "version": 2
   },
   "file_extension": ".py",
   "mimetype": "text/x-python",
   "name": "python",
   "nbconvert_exporter": "python",
   "pygments_lexer": "ipython2",
   "version": "2.7.6"
  }
 },
 "nbformat": 4,
 "nbformat_minor": 0
}
