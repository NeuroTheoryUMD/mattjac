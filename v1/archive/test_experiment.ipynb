{
 "cells": [
  {
   "cell_type": "markdown",
   "metadata": {
    "collapsed": false
   },
   "source": [
    "# imports"
   ]
  },
  {
   "cell_type": "code",
   "execution_count": 1,
   "metadata": {
    "collapsed": false
   },
   "outputs": [
    {
     "name": "stdout",
     "output_type": "stream",
     "text": [
      "Invoking __init__.py for NDNT.utils\n",
      "Loading expt04\n",
      "  Time embedding...\n"
     ]
    }
   ],
   "source": [
    "import torch\n",
    "import shutil # for filesystem manipulation\n",
    "\n",
    "# NDN tools\n",
    "import NDNT.utils as utils # some other utilities\n",
    "from NTdatasets.cumming.monocular import MultiDataset\n",
    "from NDNT.modules.layers import *\n",
    "from NDNT.networks import *\n",
    "\n",
    "import experiment as exp\n",
    "import model as m\n",
    "\n",
    "device = torch.device(\"cuda:1\")\n",
    "dtype = torch.float32\n",
    "\n",
    "# load sample dataset to construct the model appropriately\n",
    "datadir = './Mdata/'\n",
    "num_lags = 10\n",
    "expts = ['expt04']\n",
    "dataset = MultiDataset(\n",
    "    datadir=datadir, filenames=expts, include_MUs=False,\n",
    "    time_embed=True, num_lags=num_lags )"
   ]
  },
  {
   "cell_type": "markdown",
   "metadata": {
    "collapsed": false
   },
   "source": [
    "# create model"
   ]
  },
  {
   "cell_type": "code",
   "execution_count": 2,
   "metadata": {
    "collapsed": false
   },
   "outputs": [
    {
     "data": {
      "image/png": "[encoded data removed]",
      "text/plain": [
       "<Figure size 640x480 with 1 Axes>"
      ]
     },
     "metadata": {},
     "output_type": "display_data"
    }
   ],
   "source": [
    "# create the Model\n",
    "conv_layer0 = m.ConvolutionalLayer(\n",
    "    norm_type=m.Norm.none,\n",
    "    NLtype=m.NL.relu,\n",
    "    bias=False,\n",
    "    initialize_center=True,\n",
    "    reg_vals={'d2xt': 0.0001, 'center': None, 'bcs':{'d2xt':1} },\n",
    "    num_filters=8,\n",
    "    filter_dims=21,\n",
    "    window='hamming',\n",
    "    output_norm='batch',\n",
    "    num_inh=4\n",
    ")\n",
    "conv_layer1 = m.ConvolutionalLayer().like(conv_layer0)\n",
    "conv_layer1.params['num_filters'] = 8\n",
    "conv_layer1.params['num_inh'] = 4\n",
    "conv_layer1.params['filter_dims'] = 9\n",
    "conv_layer2 = m.ConvolutionalLayer().like(conv_layer0)\n",
    "conv_layer2.params['num_filters'] = 4\n",
    "conv_layer2.params['num_inh'] = 2\n",
    "conv_layer2.params['filter_dims'] = 9\n",
    "\n",
    "readout_layer0 = m.Layer(\n",
    "    norm_type=m.Norm.none,\n",
    "    NLtype=m.NL.softplus,\n",
    "    bias=True,\n",
    "    reg_vals=[\n",
    "        {'glocalx': 0.001}],\n",
    "    pos_constraint=True\n",
    ")\n",
    "\n",
    "inp_stim = m.Input(covariate='stim', input_dims=dataset.stim_dims)\n",
    "\n",
    "scaffold_net = m.Network(layers=[conv_layer0, conv_layer1, conv_layer2],\n",
    "                         network_type=m.NetworkType.scaffold,\n",
    "                         name='scaffold')\n",
    "readout_net = m.Network(layers=[readout_layer0],\n",
    "                        name='readout')\n",
    "output_11 = m.Output(num_neurons=dataset.NC)\n",
    "\n",
    "inp_stim.to(scaffold_net)\n",
    "scaffold_net.to(readout_net)\n",
    "readout_net.to(output_11)\n",
    "\n",
    "model = m.Model(output_11)\n",
    "model.draw_network()"
   ]
  },
  {
   "cell_type": "markdown",
   "metadata": {
    "collapsed": false
   },
   "source": [
    "# generate_trial"
   ]
  },
  {
   "cell_type": "code",
   "execution_count": 3,
   "metadata": {
    "collapsed": false
   },
   "outputs": [],
   "source": [
    "# for each data\n",
    "# load sample dataset to construct the model appropriately\n",
    "datadir = './Mdata/'\n",
    "num_lags = 10\n",
    "expts = [['expt04'], ['expt05']]\n",
    "\n",
    "adam_pars = utils.create_optimizer_params(\n",
    "    optimizer_type='AdamW', batch_size=2000, num_workers=0,\n",
    "    learning_rate=0.01, early_stopping_patience=4,\n",
    "    optimize_graph=False, weight_decay = 0.1, max_epochs=1)\n",
    "adam_pars['device'] = device\n",
    "\n",
    "def generate_trial(prev_trials):\n",
    "    trial_idx = 0\n",
    "    for expt in expts:\n",
    "        print('prev_trials', len(prev_trials))\n",
    "        \n",
    "        print('Loading dataset for', expt)\n",
    "        dataset_params = {\n",
    "            'datadir': datadir, \n",
    "            'filenames': expt, \n",
    "            'include_MUs': False,\n",
    "            'time_embed': True,\n",
    "            'num_lags': num_lags\n",
    "        }\n",
    "        expt_dataset = MultiDataset(**dataset_params)\n",
    "        \n",
    "        eval_params = {\n",
    "            'null_adjusted': True\n",
    "        }\n",
    "        \n",
    "        # update model based on the provided params\n",
    "        # modify the model_template.output to match the data.NC before creating\n",
    "        print('Updating model output neurons to:', expt_dataset.NC)\n",
    "        model.update_num_neurons(expt_dataset.NC)\n",
    "        \n",
    "        trial_info = exp.TrialInfo(name='test'+str(trial_idx),\n",
    "                                   description='testdesc'+str(trial_idx),\n",
    "                                   dataset_params=dataset_params,\n",
    "                                   dataset_class=MultiDataset,\n",
    "                                   fit_params=adam_pars,\n",
    "                                   eval_params=eval_params)\n",
    "        \n",
    "        trial = exp.Trial(trial_info=trial_info,\n",
    "                          model=model,\n",
    "                          dataset=expt_dataset)\n",
    "        trial_idx += 1\n",
    "        \n",
    "        yield trial"
   ]
  },
  {
   "cell_type": "markdown",
   "metadata": {
    "collapsed": false
   },
   "source": [
    "# run experiment"
   ]
  },
  {
   "cell_type": "code",
   "execution_count": 4,
   "metadata": {
    "collapsed": false
   },
   "outputs": [
    {
     "name": "stdout",
     "output_type": "stream",
     "text": [
      "prev_trials 0\n",
      "Loading dataset for ['expt04']\n",
      "Loading expt04\n",
      "  Time embedding...\n",
      "Updating model output neurons to: 11\n",
      "\n",
      "GPU Available: True, GPU Used: True\n",
      "Epoch 1: train loss 1028.7593 val loss 1004.2520\n",
      "Done fitting\n",
      "  Fit complete: 14.52156400680542 sec elapsed\n",
      "prev_trials 1\n",
      "Loading dataset for ['expt05']\n",
      "Loading expt05\n",
      "  Time embedding...\n",
      "Updating model output neurons to: 9\n",
      "\n",
      "GPU Available: True, GPU Used: True\n",
      "Epoch 1: train loss 1123.0527 val loss 1112.5046\n",
      "Done fitting\n",
      "  Fit complete: 7.008072137832642 sec elapsed\n"
     ]
    }
   ],
   "source": [
    "from importlib import reload\n",
    "experiment = exp.Experiment(name='testexp',\n",
    "                            description='testexpdesc',\n",
    "                            generate_trial=generate_trial,\n",
    "                            experiment_location='test_experiments',\n",
    "                            overwrite=exp.Overwrite.overwrite)\n",
    "experiment.run()"
   ]
  },
  {
   "cell_type": "code",
   "execution_count": 5,
   "metadata": {
    "collapsed": false
   },
   "outputs": [
    {
     "data": {
      "text/plain": [
       "[<experiment.Trial at 0x7f6a2c5e5850>, <experiment.Trial at 0x7f6a2c59c040>]"
      ]
     },
     "execution_count": 5,
     "metadata": {},
     "output_type": "execute_result"
    }
   ],
   "source": [
    "experiment.trials"
   ]
  },
  {
   "cell_type": "code",
   "execution_count": 6,
   "metadata": {
    "collapsed": false
   },
   "outputs": [],
   "source": [
    "loaded = exp.load('testexp', 'test_experiment')"
   ]
  },
  {
   "cell_type": "code",
   "execution_count": 7,
   "metadata": {
    "collapsed": false
   },
   "outputs": [
    {
     "data": {
      "text/plain": [
       "[<experiment.Trial at 0x7f696d0b2ca0>, <experiment.Trial at 0x7f696d0c5f10>]"
      ]
     },
     "execution_count": 7,
     "metadata": {},
     "output_type": "execute_result"
    }
   ],
   "source": [
    "loaded.trials"
   ]
  },
  {
   "cell_type": "code",
   "execution_count": 10,
   "metadata": {
    "collapsed": false
   },
   "outputs": [
    {
     "data": {
      "text/plain": [
       "<NTdatasets.cumming.monocular.MultiDataset at 0x7f696d0adf70>"
      ]
     },
     "execution_count": 10,
     "metadata": {},
     "output_type": "execute_result"
    }
   ],
   "source": [
    "loaded['test0'].dataset"
   ]
  },
  {
   "cell_type": "code",
   "execution_count": 12,
   "metadata": {
    "collapsed": false
   },
   "outputs": [
    {
     "name": "stdout",
     "output_type": "stream",
     "text": [
      "lazy loading dataset\n",
      "Loading expt05\n",
      "  Time embedding...\n"
     ]
    },
    {
     "data": {
      "text/plain": [
       "<NTdatasets.cumming.monocular.MultiDataset at 0x7f69585ab4c0>"
      ]
     },
     "execution_count": 12,
     "metadata": {},
     "output_type": "execute_result"
    }
   ],
   "source": [
    "loaded['test1'].dataset"
   ]
  },
  {
   "cell_type": "code",
   "execution_count": 9,
   "metadata": {
    "collapsed": false
   },
   "outputs": [],
   "source": []
  }
 ],
 "metadata": {
  "kernelspec": {
   "display_name": "Python 3",
   "language": "python",
   "name": "python3"
  },
  "language_info": {
   "codemirror_mode": {
    "name": "ipython",
    "version": 2
   },
   "file_extension": ".py",
   "mimetype": "text/x-python",
   "name": "python",
   "nbconvert_exporter": "python",
   "pygments_lexer": "ipython2",
   "version": "2.7.6"
  }
 },
 "nbformat": 4,
 "nbformat_minor": 0
}
