{
 "cells": [
  {
   "cell_type": "markdown",
   "metadata": {
    "collapsed": false
   },
   "source": [
    "## can we fit multiple datasets simultaneously using the DataFilters? Does the NDNT support this, or do I need to add this feature?"
   ]
  },
  {
   "cell_type": "markdown",
   "metadata": {
    "collapsed": false
   },
   "source": [
    "## imports"
   ]
  },
  {
   "cell_type": "code",
   "execution_count": 3,
   "metadata": {
    "collapsed": false
   },
   "outputs": [
    {
     "name": "stdout",
     "output_type": "stream",
     "text": [
      "Running on Computer: [beast]\n",
      "Invoking __init__.py for NDNT.utils\n",
      "Save_dir = ./Monocular/\n"
     ]
    }
   ],
   "source": [
    "import sys\n",
    "import os\n",
    "import h5py\n",
    "\n",
    "# setup paths\n",
    "iteration = 1 # which version of this tutorial to run (in case want results in different dirs)\n",
    "NBname = 'color_cloud_initial{}'.format(iteration)\n",
    "\n",
    "myhost = os.uname()[1] # get name of machine\n",
    "print(\"Running on Computer: [%s]\" %myhost)\n",
    "\n",
    "datadir = './Mdata/'\n",
    "dirname = './Monocular/' # Working directory \n",
    "\n",
    "import numpy as np\n",
    "import scipy.io as sio\n",
    "from copy import deepcopy\n",
    "\n",
    "# plotting\n",
    "import matplotlib.pyplot as plt\n",
    "import mattplotlib as m\n",
    "import mattrics as met\n",
    "\n",
    "# Import torch\n",
    "import torch\n",
    "from torch import nn\n",
    "\n",
    "# NDN tools\n",
    "import NDNT.utils as utils # some other utilities\n",
    "from NDNT.utils import imagesc   # because I'm lazy\n",
    "from NDNT.utils import ss        # because I'm real lazy\n",
    "import NDNT.NDNT as NDN\n",
    "from NDNT.modules.layers import *\n",
    "from NDNT.networks import *\n",
    "from importlib import reload\n",
    "from time import time\n",
    "import dill # more comprehensive pickle\n",
    "\n",
    "from NTdatasets.generic import GenericDataset\n",
    "from NTdatasets.cumming.binocular import binocular_single\n",
    "\n",
    "device = torch.device(\"cuda:1\")\n",
    "dtype = torch.float32\n",
    "\n",
    "# Where saved models and checkpoints go -- this is to be automated\n",
    "print( 'Save_dir =', dirname)\n",
    "\n",
    "# Lazy stuff\n",
    "from NDNT.utils.DanUtils import ss\n",
    "from NDNT.utils.DanUtils import imagesc\n",
    "\n",
    "%load_ext autoreload\n",
    "%autoreload 2"
   ]
  },
  {
   "cell_type": "code",
   "execution_count": 14,
   "metadata": {
    "collapsed": false
   },
   "outputs": [
    {
     "name": "stdout",
     "output_type": "stream",
     "text": [
      "Loading expt01\n",
      "  Time embedding...\n",
      "Loading expt02\n",
      "  Time embedding...\n",
      "Loading expt03\n",
      "  Time embedding...\n",
      "Loading expt04\n",
      "  Time embedding...\n",
      "Loading expt05\n",
      "  Time embedding...\n",
      "Loading expt06\n",
      "  Time embedding...\n",
      "Loading expt07\n",
      "  Time embedding...\n",
      "Loading expt08\n",
      "  Time embedding...\n",
      "Loading expt09\n",
      "  Time embedding...\n",
      "Loading expt10\n",
      "  Time embedding...\n",
      "Loading expt11\n",
      "  Time embedding...\n",
      "Loading expt12\n",
      "  Time embedding...\n",
      "Loading expt13\n",
      "  Time embedding...\n",
      "Loading expt14\n",
      "  Time embedding...\n",
      "Loading expt15\n",
      "  Time embedding...\n",
      "Loading expt16\n",
      "  Time embedding...\n",
      "Loading expt17\n",
      "  Time embedding...\n",
      "Loading expt18\n",
      "  Time embedding...\n",
      "Loading expt19\n",
      "  Time embedding...\n",
      "Loading expt20\n",
      "  Time embedding...\n",
      "Loading expt21\n",
      "  Time embedding...\n",
      "121 cells, 7007855 time steps.\n"
     ]
    },
    {
     "data": {
      "image/png": "[encoded data removed]",
      "text/plain": [
       "<Figure size 640x480 with 1 Axes>"
      ]
     },
     "metadata": {},
     "output_type": "display_data"
    }
   ],
   "source": [
    "# Load Data\n",
    "num_lags = 10\n",
    "# this can handle multiple experiments\n",
    "expts = ['expt0'+str(num) for num in range(1,10)] + ['expt'+str(num) for num in range(10,22)]\n",
    "\n",
    "from NTdatasets.cumming.monocular import MultiDataset\n",
    "data = MultiDataset(\n",
    "    datadir=datadir, filenames=expts, include_MUs=False,\n",
    "    time_embed=True, num_lags=num_lags )\n",
    "imagesc(data.dfs.detach().numpy())\n",
    "print(\"%d cells, %d time steps.\"%(data.NC, data.NT))"
   ]
  },
  {
   "cell_type": "code",
   "execution_count": 21,
   "metadata": {
    "collapsed": false
   },
   "outputs": [
    {
     "data": {
      "text/plain": [
       "(121, 7007855)"
      ]
     },
     "execution_count": 21,
     "metadata": {},
     "output_type": "execute_result"
    }
   ],
   "source": [
    "data.NC, data.NT"
   ]
  },
  {
   "cell_type": "code",
   "execution_count": 16,
   "metadata": {
    "collapsed": false
   },
   "outputs": [],
   "source": []
  },
  {
   "cell_type": "markdown",
   "metadata": {
    "collapsed": false
   },
   "source": [
    "## fit cascade model with mutliple datasets"
   ]
  },
  {
   "cell_type": "code",
   "execution_count": 17,
   "metadata": {
    "collapsed": false
   },
   "outputs": [],
   "source": [
    "# ADAM parameters\n",
    "adam_pars = utils.create_optimizer_params(\n",
    "    optimizer_type='AdamW', batch_size=2000, num_workers=0,\n",
    "    learning_rate=0.01, early_stopping_patience=4,\n",
    "    optimize_graph=False, weight_decay = 0.1)\n",
    "adam_pars['device'] = device"
   ]
  },
  {
   "cell_type": "code",
   "execution_count": 18,
   "metadata": {
    "collapsed": false
   },
   "outputs": [],
   "source": [
    "## If there is enough memory on the device, can put the whole dataloader on the GPU\n",
    "#del train_ds , val_ds\n",
    "#torch.cuda.empty_cache()\n",
    "\n",
    "#data.set_cells()\n",
    "#train_ds = GenericDataset(data[data.train_inds], device=device)\n",
    "#val_ds = GenericDataset(data[data.val_inds], device=device)"
   ]
  },
  {
   "cell_type": "code",
   "execution_count": 19,
   "metadata": {
    "collapsed": false
   },
   "outputs": [
    {
     "name": "stdout",
     "output_type": "stream",
     "text": [
      "Network 0:\n",
      "  Layer 0:\n",
      "      weight: torch.Size([210, 8])\n",
      "  Layer 1:\n",
      "      weight: torch.Size([72, 8])\n",
      "  Layer 2:\n",
      "      weight: torch.Size([72, 4])\n",
      "Network 1:\n",
      "  Layer 0:\n",
      "      weight: torch.Size([720, 121])\n",
      "      bias: torch.Size([121])\n"
     ]
    },
    {
     "data": {
      "image/png": "[encoded data removed]",
      "text/plain": [
       "<Figure size 640x480 with 1 Axes>"
      ]
     },
     "metadata": {},
     "output_type": "display_data"
    }
   ],
   "source": [
    "num_subs = [8, 8, 4]\n",
    "fws = [21, 9, 9]\n",
    "XTregB = 0.0001\n",
    "Greg = 0.001\n",
    "Creg= None\n",
    "clayers = []\n",
    "for ii in range(0,len(num_subs)):\n",
    "    clayers.append(\n",
    "        ConvLayer.layer_dict(\n",
    "            num_filters=num_subs[ii], bias=False, norm_type=1, num_inh=num_subs[ii]//2,\n",
    "            filter_dims=fws[ii], padding='same', NLtype='relu', initialize_center = True) )\n",
    "    clayers[ii]['output_norm'] = 'batch'\n",
    "    clayers[ii]['window'] = 'hamming'\n",
    "clayers[0]['input_dims'] = data.stim_dims\n",
    "clayers[0]['reg_vals'] = {'d2xt': XTregB, 'center': Creg, 'bcs':{'d2xt':1} }\n",
    "\n",
    "scaffold_net =  FFnetwork.ffnet_dict(\n",
    "    ffnet_type='scaffold',\n",
    "    xstim_n = 'stim', layer_list = clayers )\n",
    "\n",
    "# 'readout' layer\n",
    "readout_par = NDNLayer.layer_dict(\n",
    "    num_filters=data.NC, norm_type=0,\n",
    "    NLtype='softplus', bias=True,\n",
    "    pos_constraint=True,\n",
    "    initialize_center = True)\n",
    "readout_par['reg_vals'] = {'glocalx': Greg  }\n",
    "\n",
    "readout_net = FFnetwork.ffnet_dict(\n",
    "    xstim_n = None, ffnet_n=[0],\n",
    "    layer_list = [readout_par], ffnet_type='normal')\n",
    "\n",
    "cnn0 = NDN.NDN( ffnet_list=[scaffold_net, readout_net] )\n",
    "m.draw_model(cnn0)\n",
    "cnn0.list_parameters()"
   ]
  },
  {
   "cell_type": "code",
   "execution_count": 24,
   "metadata": {
    "collapsed": false
   },
   "outputs": [
    {
     "data": {
      "text/plain": [
       "([20, 36, 1, 1], [20, 36, 1, 1])"
      ]
     },
     "execution_count": 24,
     "metadata": {},
     "output_type": "execute_result"
    }
   ],
   "source": [
    "cnn0.networks[0].output_dims, cnn0.networks[1].input_dims"
   ]
  },
  {
   "cell_type": "code",
   "execution_count": 20,
   "metadata": {
    "collapsed": false
   },
   "outputs": [
    {
     "name": "stdout",
     "output_type": "stream",
     "text": [
      "Model: M121_CCC_N\n",
      "\n",
      "GPU Available: True, GPU Used: True\n"
     ]
    },
    {
     "name": "stderr",
     "output_type": "stream",
     "text": [
      "Epoch 1:  19%|███████████                                              | 500/2565 [02:54<11:59,  2.87it/s, train_loss=45]\n"
     ]
    },
    {
     "name": "stdout",
     "output_type": "stream",
     "text": [
      "Done fitting\n",
      "  Fit complete: 174.181955575943 sec elapsed\n",
      "[-1.5928745e-03 -2.4199486e-04 -1.9896030e-03 -3.1259060e-03\n",
      " -1.2311935e-03 -8.8546276e-03 -4.2288303e-03 -9.7720623e-03\n",
      " -4.2424202e-03 -8.0542564e-03 -4.5566559e-03 -3.1309128e-03\n",
      "  1.6224384e-04 -2.2621155e-03 -7.7486038e-05 -2.2404194e-03\n",
      " -4.2066574e-03 -4.0340424e-04 -3.6075115e-03 -3.6997795e-02\n",
      " -7.3435307e-03 -1.7758608e-02 -1.5113354e-03 -1.9692183e-03\n",
      " -1.4007092e-04 -1.0659695e-03 -1.2490749e-03 -1.9401312e-03\n",
      " -2.3130417e-02 -4.5812130e-04 -1.1463165e-03 -1.6336441e-03\n",
      " -7.1549416e-03 -5.9673786e-03 -5.3918362e-03 -4.2734146e-03\n",
      " -3.7026405e-04 -7.2479248e-04 -1.1272669e-02 -1.1203289e-03\n",
      " -4.4224262e-03 -1.9793510e-03 -3.8799047e-03 -3.0720234e-04\n",
      " -3.1232834e-05 -1.0174513e-04 -7.6153278e-02 -1.3394356e-03\n",
      " -1.0119677e-03 -2.0580530e-02 -3.2114983e-04 -3.6470890e-03\n",
      "  3.7050247e-04 -4.7802925e-04 -2.0205975e-04 -6.4711571e-03\n",
      " -5.9413910e-04 -1.7774105e-03 -2.7668476e-04 -2.5868416e-04\n",
      " -2.4461746e-04 -1.7354488e-03 -1.1311769e-03 -5.3095818e-04\n",
      " -4.4810772e-03 -1.6715765e-02 -3.2488108e-02 -2.7420521e-02\n",
      " -3.2019615e-04 -3.5061836e-03 -2.6726723e-04 -3.9017200e-04\n",
      " -5.0327778e-03 -5.9080124e-04 -1.6082525e-03 -3.9572716e-03\n",
      " -1.0240078e-03 -2.8204918e-03 -1.4603138e-03 -2.6726723e-04\n",
      " -1.8749237e-03 -1.8085241e-03 -2.4547577e-03 -9.6940994e-04\n",
      " -2.3077965e-02 -1.2028217e-02 -3.1839967e-02 -1.1932850e-04\n",
      " -6.9975853e-05 -6.4730644e-04 -2.0194054e-04 -2.3674965e-04\n",
      " -4.9161911e-04 -3.1974316e-03 -7.5879097e-03 -3.1060934e-02\n",
      " -1.7094612e-04 -7.0226192e-04 -1.5791655e-02 -1.1050701e-04\n",
      " -6.0509682e-02 -1.7567873e-02 -2.5141239e-03 -7.4454546e-03\n",
      " -7.4210167e-03 -2.9095888e-02 -2.3722649e-03 -7.9627037e-03\n",
      " -3.2340527e-02 -2.0763874e-03 -7.2622299e-04 -1.6689301e-04\n",
      " -4.7614574e-03 -3.9291382e-03 -1.8708706e-03 -1.7881393e-05\n",
      " -8.5294247e-04 -3.3527374e-02 -8.0060959e-04 -4.6613216e-03\n",
      " -3.0972958e-03] -0.00647845\n"
     ]
    }
   ],
   "source": [
    "cnn0.fit(data, **adam_pars, verbose=2)\n",
    "LLs1 = cnn0.eval_models(data[data.val_inds], null_adjusted=True)\n",
    "print(LLs1, np.mean(LLs1))"
   ]
  },
  {
   "cell_type": "code",
   "execution_count": 20,
   "metadata": {
    "collapsed": false
   },
   "outputs": [
    {
     "name": "stderr",
     "output_type": "stream",
     "text": [
      "/tmp/ipykernel_75473/1961796872.py:4: MatplotlibDeprecationWarning: Auto-removal of overlapping axes is deprecated since 3.6 and will be removed two minor releases later; explicitly call ax.remove() as needed.\n",
      "  plt.subplot(2, 4, c+1)\n"
     ]
    },
    {
     "data": {
      "image/png": "[encoded data removed]",
      "text/plain": [
       "<Figure size 1600x500 with 8 Axes>"
      ]
     },
     "metadata": {},
     "output_type": "display_data"
    }
   ],
   "source": [
    "# plot GLM filters\n",
    "ss(2, 6)\n",
    "for c in range(8):\n",
    "    plt.subplot(2, 4, c+1)\n",
    "    imagesc(cnn0.networks[0].layers[0].get_weights()[:,:,c])\n",
    "plt.show()"
   ]
  },
  {
   "cell_type": "code",
   "execution_count": 10,
   "metadata": {
    "collapsed": false
   },
   "outputs": [
    {
     "data": {
      "image/png": "[encoded data removed]",
      "text/plain": [
       "<Figure size 1600x200 with 8 Axes>"
      ]
     },
     "metadata": {},
     "output_type": "display_data"
    }
   ],
   "source": [
    "cnn0.plot_filters()"
   ]
  },
  {
   "cell_type": "code",
   "execution_count": 14,
   "metadata": {
    "collapsed": false
   },
   "outputs": [
    {
     "data": {
      "text/plain": [
       "<Figure size 640x480 with 0 Axes>"
      ]
     },
     "metadata": {},
     "output_type": "display_data"
    },
    {
     "data": {
      "image/png": "[encoded data removed]",
      "text/plain": [
       "<Figure size 2000x1000 with 1 Axes>"
      ]
     },
     "metadata": {},
     "output_type": "display_data"
    }
   ],
   "source": [
    "# R2\n",
    "m.fig()\n",
    "plt.bar(range(data.NC), met.r2(data, cnn0))\n",
    "plt.show()"
   ]
  },
  {
   "cell_type": "markdown",
   "metadata": {
    "collapsed": false
   },
   "source": [
    "## TODO compare r2 of cells trained by themselves and with other cells"
   ]
  },
  {
   "cell_type": "code",
   "execution_count": null,
   "metadata": {
    "collapsed": false
   },
   "outputs": [],
   "source": []
  },
  {
   "cell_type": "code",
   "execution_count": 21,
   "metadata": {
    "collapsed": false
   },
   "outputs": [
    {
     "data": {
      "text/plain": [
       "torch.Size([572628, 20])"
      ]
     },
     "execution_count": 21,
     "metadata": {},
     "output_type": "execute_result"
    }
   ],
   "source": [
    "data.robs.shape"
   ]
  },
  {
   "cell_type": "markdown",
   "metadata": {
    "collapsed": false
   },
   "source": [
    "## GPUtil"
   ]
  },
  {
   "cell_type": "code",
   "execution_count": 25,
   "metadata": {
    "collapsed": false
   },
   "outputs": [
    {
     "name": "stdout",
     "output_type": "stream",
     "text": [
      "| ID | GPU | MEM |\n",
      "------------------\n",
      "|  0 |  0% | 43% |\n",
      "|  1 |  0% | 19% |\n"
     ]
    }
   ],
   "source": [
    "import GPUtil\n",
    "GPUtil.showUtilization()"
   ]
  },
  {
   "cell_type": "code",
   "execution_count": null,
   "metadata": {
    "collapsed": false
   },
   "outputs": [],
   "source": []
  }
 ],
 "metadata": {
  "kernelspec": {
   "display_name": "Python 3",
   "language": "python",
   "name": "python3"
  },
  "language_info": {
   "codemirror_mode": {
    "name": "ipython",
    "version": 2
   },
   "file_extension": ".py",
   "mimetype": "text/x-python",
   "name": "python",
   "nbconvert_exporter": "python",
   "pygments_lexer": "ipython2",
   "version": "2.7.6"
  }
 },
 "nbformat": 4,
 "nbformat_minor": 0
}
