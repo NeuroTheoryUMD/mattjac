{
 "cells": [
  {
   "cell_type": "code",
   "execution_count": 242,
   "metadata": {},
   "outputs": [],
   "source": [
    "# https://www.stefaanlippens.net/jupyter-custom-d3-visualization.html"
   ]
  },
  {
   "cell_type": "code",
   "execution_count": 243,
   "metadata": {},
   "outputs": [],
   "source": [
    "from IPython.display import display, Javascript, HTML\n",
    "import json"
   ]
  },
  {
   "cell_type": "code",
   "execution_count": 251,
   "metadata": {},
   "outputs": [
    {
     "data": {
      "application/javascript": [
       "require.config({paths: {d3: 'https://d3js.org/d3.v5.min'}});"
      ],
      "text/plain": [
       "<IPython.core.display.Javascript object>"
      ]
     },
     "metadata": {},
     "output_type": "display_data"
    },
    {
     "data": {
      "application/javascript": [
       "// First undefine 'circles' so we can easily reload this file.\n",
       "require.undef('grids');\n",
       "\n",
       "define('grids', ['d3'], function (d3) {\n",
       "    function draw(container, layers, edges, width, height, layer_dims, padding, layer_padding) {\n",
       "    \n",
       "        // TODO: remove this bad global var\n",
       "        var cells = [];\n",
       "        \n",
       "        function gridData(layers) {\n",
       "            console.log(layers);\n",
       "            console.log(edges);\n",
       "            \n",
       "            var id = 0;\n",
       "            var data = new Array();\n",
       "            for (var layer = 0; layer < layers.length; layer++) {\n",
       "                // get the rows and cols for this layer\n",
       "                var rows = layer_dims[layer].rows;\n",
       "                var cols = layer_dims[layer].cols;\n",
       "            \n",
       "                console.log('==LAYER==',layer);\n",
       "                var boxes = layers[layer]; // get the boxes out of the layer\n",
       "                var num_boxes = boxes.length;\n",
       "                \n",
       "                var layer_height = height/layers.length - layer_padding;\n",
       "                console.log('layer_height=',layer_height);\n",
       "                var width_minus_padding = (width-(padding*(cols-1)));\n",
       "                console.log('layer_padding='+layer_padding);\n",
       "                var layer_height_minus_padding = layer_height - (padding*(rows-1));\n",
       "                console.log('width_minus_padding = ' + width_minus_padding);\n",
       "                console.log('heigt_minus_padding = ' + layer_height_minus_padding);\n",
       "                \n",
       "                var box = 0;\n",
       "                // iterate over rows\n",
       "                for (var row = 0; row < rows; row++) {\n",
       "                    for (var col = 0; col < cols; col++) {\n",
       "                        var sqrows = boxes[0].length;\n",
       "                        var sqcols = boxes[0][0].length;\n",
       "                        console.log('row='+row+', col='+col);\n",
       "                        var ypos = row*(layer_height/rows) + layer*layer_height + layer*layer_padding;\n",
       "                        var xpos = col*(width/cols);\n",
       "                        \n",
       "                        console.log('x',xpos,'y',ypos);\n",
       "                        \n",
       "                        for (var sqrow = 0; sqrow < sqrows; sqrow++) {\n",
       "                            for (var sqcol = 0; sqcol < sqcols; sqcol++) {\n",
       "                                var w = width_minus_padding/cols/sqcols;\n",
       "                                var h = layer_height_minus_padding/rows/sqrows;\n",
       "                                console.log('w='+w+',h='+h);\n",
       "                                var click = 0;\n",
       "                                var val = boxes[box][sqrow][sqcol];\n",
       "                                \n",
       "                                var props = {\n",
       "                                    x: xpos,\n",
       "                                    y: ypos,\n",
       "                                    width: w,\n",
       "                                    height: h,\n",
       "                                    click: click,\n",
       "                                    id: \"c\"+id,\n",
       "                                    assoc: edges[\"c\"+id],\n",
       "                                    color: \"rgb(\"+255*val+\",\"+255*val+\",\"+255*val+\")\",\n",
       "                                    val: val\n",
       "                                };\n",
       "                                \n",
       "                                data.push(new Array());\n",
       "                                data[row].push(props)\n",
       "                                cells.push(props); // push all the cells into a flat array for convenience \n",
       "                                \n",
       "                                // increment the x position. I.e. move it over by w\n",
       "                                xpos += w;                                \n",
       "                                id++; // incremenent the global id for the next cell\n",
       "                            }\n",
       "                            // reset the x position after a row is complete\n",
       "                            xpos = col * width/cols;\n",
       "                            // increment the y position for the next row. Move it down by h\n",
       "                            ypos += h;\n",
       "                        }\n",
       "                        box++; // increment the box we are looking at\n",
       "                    }\n",
       "                }\n",
       "            }\n",
       "            return data;\n",
       "        }\n",
       "    \n",
       "        var gridData = gridData(layers);\t\n",
       "    \n",
       "        // set default width and height\n",
       "        //width = width || 400;\n",
       "        //height = height || 200;\n",
       "        \n",
       "        // create the grid svg \n",
       "        var grid = d3.select(container).append(\"svg\")\n",
       "            .attr('width', width)\n",
       "            .attr('height', height);\n",
       "        \n",
       "        var row = grid.selectAll(\".row\")\n",
       "        \t.data(gridData)\n",
       "        \t.enter().append(\"g\")\n",
       "        \t.attr(\"class\", \"row\");\n",
       "        \n",
       "        var column = row.selectAll(\".square\")\n",
       "        \t.data(function(d) { return d; })\n",
       "        \t.enter().append(\"rect\")\n",
       "        \t.attr(\"id\", function(d) { return d.id; })\n",
       "        \t.attr(\"class\",\"square\")\n",
       "        \t.attr(\"x\", function(d) { return d.x; })\n",
       "        \t.attr(\"y\", function(d) { return d.y; })\n",
       "        \t.attr(\"width\", function(d) { return d.width; })\n",
       "        \t.attr(\"height\", function(d) { return d.height; })\n",
       "        \t.style(\"fill\", function(d) { return d.color; })\n",
       "        \t//.style(\"stroke\", \"#222\")\n",
       "        \t.on('mouseover', function(d) {\n",
       "        \t    console.log('d', d);\n",
       "                for (var c=0; c < d.assoc.length; c++) {\n",
       "                    d3.select('#c'+d.assoc[c])\n",
       "                      .transition('fade').duration(200)\n",
       "                      .attr(\"opacity\", 1.0)\n",
       "                      .style(\"fill\", \"rgb(255,0,0)\");\n",
       "                }\n",
       "            })\n",
       "            .on('mouseout', function(d) {\n",
       "                for (var c=0; c < d.assoc.length; c++) {\n",
       "                    d3.select('#c'+d.assoc[c])\n",
       "                      .transition('fade').duration(200)\n",
       "                      .attr(\"opacity\", 1.0)\n",
       "                      .style(\"fill\", cells[c].color);\n",
       "                }\n",
       "            });\n",
       "    }\n",
       "\n",
       "    return draw;\n",
       "});\n",
       "\n",
       "element.append('<small>&#x25C9; &#x25CB; &#x25EF; Loaded gridex.js &#x25CC; &#x25CE; &#x25CF;</small>');"
      ],
      "text/plain": [
       "<IPython.core.display.Javascript object>"
      ]
     },
     "metadata": {},
     "output_type": "display_data"
    },
    {
     "data": {
      "text/html": [
       "<style>\n",
       "svg grids {\n",
       "}\n",
       "</style>"
      ],
      "text/plain": [
       "<IPython.core.display.HTML object>"
      ]
     },
     "metadata": {},
     "output_type": "display_data"
    }
   ],
   "source": [
    "display(Javascript(\"require.config({paths: {d3: 'https://d3js.org/d3.v5.min'}});\"))\n",
    "display(Javascript(filename=\"grids.js\"))\n",
    "display(HTML(filename=\"grids.css.html\"))\n",
    "\n",
    "def draw_grids(data, edges, width, height, layer_dims, padding, layer_padding):\n",
    "    display(Javascript(\"\"\"\n",
    "        (function(element){\n",
    "            require(['grids'], function(grids) {\n",
    "                grids(element.get(0), %s, %s, %d, %d, %s, %d, %d);\n",
    "            });\n",
    "        })(element);\n",
    "    \"\"\" % (json.dumps(data), edges, width, height, layer_dims, padding, layer_padding)))"
   ]
  },
  {
   "cell_type": "code",
   "execution_count": 252,
   "metadata": {},
   "outputs": [
    {
     "data": {
      "application/javascript": [
       "\n",
       "        (function(element){\n",
       "            require(['grids'], function(grids) {\n",
       "                grids(element.get(0), [[[[0.1, 0.1, 0.1], [0.4, 0.5, 0.6], [0.4, 0.5, 0.6]], [[0.1, 0.1, 0.1], [0.4, 0.5, 0.6], [0.4, 0.5, 0.6]], [[0.1, 0.1, 0.1], [0.4, 0.5, 0.6], [0.4, 0.5, 0.6]], [[0.1, 0.1, 0.1], [0.4, 0.5, 0.6], [0.4, 0.5, 0.6]], [[0.1, 0.1, 0.1], [0.4, 0.5, 0.6], [0.4, 0.5, 0.6]], [[0.1, 0.1, 0.1], [0.4, 0.5, 0.6], [0.4, 0.5, 0.6]]], [[[0.24186601451031908, 0.5677249948898576, 0.6684603813420933], [0.02682693061978958, 0.012942152285045694, 0.16199039280052507], [0.9866238642850527, 0.08589043640490979, 0.8363485845002638]], [[0.28180487423967426, 0.8554849569066096, 0.28663916909571097], [0.2961984418535111, 0.453780007209327, 0.301636665871029], [0.43133678943297893, 0.769100953292237, 0.3713688453637711]], [[0.8066540218123223, 0.32222860153398947, 0.09087354760663624], [0.5898326933723542, 0.1617015876832818, 0.5146364388787846], [0.1579508007348992, 0.9384273813717106, 0.40522987460252413]], [[0.7602835866514155, 0.7447354654124968, 0.4588284137478412], [0.16082344491704736, 0.2997373250279768, 0.79216062185857], [0.28467478459652906, 0.9796037037816652, 0.8008114695921048]], [[0.549481735277403, 0.4639820379731685, 0.440252451014881], [0.2584712480358282, 0.0681422704685728, 0.7774907579508998], [0.4646603654055198, 0.5175779500006714, 0.7558996877386815]], [[0.22057574131572588, 0.26491268579931826, 0.5572524987351642], [0.5907234314791259, 0.4621217221656546, 0.8775564038441771], [0.2707580378972798, 0.23539664196987797, 0.6031324547184862]]], [[[0.09226455683795609, 0.324072975649507, 0.3932491190399382], [0.35194345380062375, 0.7791607032830616, 0.7268532707231156], [0.6987045097413281, 0.07890163266439243, 0.20966983464892575]], [[0.6205926393530021, 0.02432990415720626, 0.39064755031972553], [0.09967120698469056, 0.8729426116314372, 0.6475140541217611], [0.3007779307419831, 0.22114610878979568, 0.34183224092799025]], [[0.5591294216611247, 0.5500563380139826, 0.10861293373786063], [0.997296298601568, 0.589405588935471, 0.9582603826724518], [0.8068337541993199, 0.6190855407717785, 0.34200243513582496]], [[0.16375981013659513, 0.9577471203380264, 0.8242551770169373], [0.9944480833619284, 0.5740054325622136, 0.834237545713177], [0.9744796250245398, 0.892517115494459, 0.16543314473441995]], [[0.5407495058391156, 0.6173466561984341, 0.005479501001058429], [0.4849094188192601, 0.7030226641509569, 0.41226651837322137], [0.12643803666043574, 0.7578297745174081, 0.48451540960375283]], [[0.7990776554224739, 0.015033557957139787, 0.639089781370582], [0.22573485392161174, 0.44883351992641907, 0.4846336493662835], [0.5748775933669751, 0.4977188734629129, 0.27481462192989814]], [[0.7391242460579551, 0.7804992913927591, 0.7770258083274012], [0.718449951934993, 0.34977426261088207, 0.06819849745636608], [0.00024308794660532484, 0.5791851033968067, 0.7904118995506345]], [[0.708023309288428, 0.8743420959097914, 0.9491481512464004], [0.9939970008504209, 0.45539020554623144, 0.6626195518922682], [0.26920217081576925, 0.5270892475315875, 0.18723913157045502]], [[0.8969055947708106, 0.5426118863004643, 0.5016388872427785], [0.773827539066891, 0.8575304595679658, 0.028599562133618806], [0.9629709418991649, 0.8187755290200578, 0.7896518402593318]], [[0.684157109327388, 0.22796944227698257, 0.5393204550600343], [0.6253711632202326, 0.7452954053756441, 0.766428684502921], [0.2869434942284965, 0.7671450119621651, 0.6739976235881457]], [[0.6772109468855692, 0.7897393239895071, 0.8312230430625948], [0.09544635112209665, 0.4140592115795355, 0.6999694043006599], [0.544776896018517, 0.3198770655286892, 0.9590641347451523]], [[0.028330345793127765, 0.7317894856893077, 0.8012803017681822], [0.2167149089950876, 0.9860478846566959, 0.30005785127954965], [0.8087110880984407, 0.13803382369594352, 0.9313218656330483]]]], {'c1': [1, 2, 3, 10]}, 400, 500, {0: {'rows': 2, 'cols': 3}, 1: {'rows': 2, 'cols': 3}, 2: {'rows': 3, 'cols': 4}}, 10, 30);\n",
       "            });\n",
       "        })(element);\n",
       "    "
      ],
      "text/plain": [
       "<IPython.core.display.Javascript object>"
      ]
     },
     "metadata": {},
     "output_type": "display_data"
    }
   ],
   "source": [
    "# [X] draw a grid of rectangles\n",
    "# [X] make the rectangles selectable with the mouse\n",
    "# [X] draw the grid based on what is passed in by the user\n",
    "# [X] draw list of grids\n",
    "# [X] pass in two sets of arrs and draw them one on top of the other\n",
    "# [X] connect the selecting change in appearance of grids\n",
    "# [X] highlight the corresponding weights when mousing over\n",
    "# [X] make the rows and cols per layer, not the same for all layers\n",
    "# TODO: convert the NDNT network to the layers and edges format needed for this API\n",
    "# TODO: draw a fun curvy arrow between the two networks\n",
    "# TODO: make it maintain aspect ratio when drawing different dimensions\n",
    "#       NOTE: this is weird b/c a lot of the width/height incrementing is hardcoded \n",
    "#             and space is divided up into equal space partitions\n",
    "#             Allowing different spaced partitions will likely require\n",
    "#             refactoring the structure of each layer and the grids.\n",
    "#             Not a bad idea, but possibly more work. Will have to think on it...\n",
    "\n",
    "arr0 = [np.random.random((3,3)).tolist() for _ in range(6)]\n",
    "arr2 = [np.random.random((3,3)).tolist() for _ in range(12)]\n",
    "arr1 = [[[0.1, 0.1, 0.1],\n",
    "         [0.4, 0.5, 0.6],\n",
    "         [0.4, 0.5, 0.6]],\n",
    "        [[0.1, 0.1, 0.1],\n",
    "         [0.4, 0.5, 0.6],\n",
    "         [0.4, 0.5, 0.6]],\n",
    "        [[0.1, 0.1, 0.1],\n",
    "         [0.4, 0.5, 0.6],\n",
    "         [0.4, 0.5, 0.6]],\n",
    "        [[0.1, 0.1, 0.1],\n",
    "         [0.4, 0.5, 0.6],\n",
    "         [0.4, 0.5, 0.6]],\n",
    "        [[0.1, 0.1, 0.1],\n",
    "         [0.4, 0.5, 0.6],\n",
    "         [0.4, 0.5, 0.6]],\n",
    "        [[0.1, 0.1, 0.1],\n",
    "         [0.4, 0.5, 0.6],\n",
    "         [0.4, 0.5, 0.6]]]\n",
    "\n",
    "layers = [arr1, arr0, arr2]\n",
    "edges = {\n",
    "    \"c1\": [1,2,3,10]\n",
    "}\n",
    "layer_dims = {\n",
    "    0: {'rows':2, 'cols':3},\n",
    "    1: {'rows':2, 'cols':3},\n",
    "    2: {'rows':3, 'cols':4}\n",
    "}\n",
    "\n",
    "draw_grids(layers,\n",
    "           edges,\n",
    "           height=500, width=400,\n",
    "           layer_dims=layer_dims,\n",
    "           padding=10,\n",
    "           layer_padding=30)\n"
   ]
  },
  {
   "cell_type": "code",
   "execution_count": null,
   "metadata": {},
   "outputs": [],
   "source": []
  }
 ],
 "metadata": {
  "kernelspec": {
   "display_name": "Python 3 (ipykernel)",
   "language": "python",
   "name": "python3"
  },
  "language_info": {
   "codemirror_mode": {
    "name": "ipython",
    "version": 3
   },
   "file_extension": ".py",
   "mimetype": "text/x-python",
   "name": "python",
   "nbconvert_exporter": "python",
   "pygments_lexer": "ipython3",
   "version": "3.8.13"
  }
 },
 "nbformat": 4,
 "nbformat_minor": 1
}
