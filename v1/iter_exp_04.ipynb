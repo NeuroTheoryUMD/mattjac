{
 "cells": [
  {
   "cell_type": "code",
   "execution_count": 1,
   "metadata": {
    "ExecuteTime": {
     "end_time": "2023-06-11T15:52:11.579608Z",
     "start_time": "2023-06-11T15:52:09.879160Z"
    },
    "collapsed": true
   },
   "outputs": [
    {
     "name": "stdout",
     "output_type": "stream",
     "text": [
      "Invoking __init__.py for NDNT.utils\n"
     ]
    }
   ],
   "source": [
    "import sys\n",
    "# not best practice, but makes it easier to import from subdirectory\n",
    "sys.path.insert(0, './lib')\n",
    "\n",
    "import experiment as exp\n",
    "import model as m\n",
    "import plot\n",
    "import predict\n",
    "import runner2 as r\n",
    "\n",
    "import numpy as np\n",
    "import matplotlib.pyplot as plt\n",
    "\n",
    "import os\n",
    "import torch\n",
    "\n",
    "import umap\n",
    "import matplotlib\n",
    "from sklearn.preprocessing import StandardScaler\n",
    "\n",
    "from plotly.subplots import make_subplots\n",
    "import plotly.graph_objects as go\n",
    "import plotly.express as px\n",
    "\n",
    "_ = plt.rcParams['axes.grid'] = False # turn off grid\n",
    "\n",
    "%load_ext autoreload\n",
    "%autoreload 2\n",
    "\n",
    "device = torch.device('cuda:0')"
   ]
  },
  {
   "cell_type": "code",
   "execution_count": 2,
   "metadata": {
    "ExecuteTime": {
     "end_time": "2023-06-11T15:52:12.398433Z",
     "start_time": "2023-06-11T15:52:11.587796Z"
    },
    "collapsed": false
   },
   "outputs": [
    {
     "data": {
      "text/plain": [
       "0.091617465"
      ]
     },
     "execution_count": 2,
     "metadata": {},
     "output_type": "execute_result"
    }
   ],
   "source": [
    "e = exp.load('iter_exps11_3iters', experiment_location='experiments', datadir='Mdata')\n",
    "np.mean(e.trials[0].LLs)"
   ]
  },
  {
   "cell_type": "code",
   "execution_count": 3,
   "metadata": {
    "ExecuteTime": {
     "end_time": "2023-06-11T15:52:17.518447Z",
     "start_time": "2023-06-11T15:52:12.398185Z"
    },
    "collapsed": false
   },
   "outputs": [
    {
     "name": "stdout",
     "output_type": "stream",
     "text": [
      "lazy loading dataset\n",
      "Loading expt04\n",
      "  Time embedding...\n",
      "  Done.\n",
      "Loading expt06\n",
      "  Time embedding...\n",
      "  Done.\n",
      "Loading expt09\n",
      "  Time embedding...\n",
      "  Done.\n",
      "Loading expt11\n",
      "  Time embedding...\n",
      "  Done.\n"
     ]
    },
    {
     "data": {
      "text/plain": [
       "array([  0,  35,  63,  86, 111])"
      ]
     },
     "execution_count": 3,
     "metadata": {},
     "output_type": "execute_result"
    }
   ],
   "source": [
    "dataset = e.trials[0].dataset\n",
    "expt_boundaries = np.concatenate([[0], np.cumsum(dataset.num_units)])\n",
    "expt_boundaries"
   ]
  },
  {
   "cell_type": "code",
   "execution_count": 4,
   "metadata": {
    "ExecuteTime": {
     "end_time": "2023-06-11T15:52:17.833902Z",
     "start_time": "2023-06-11T15:52:17.527565Z"
    },
    "collapsed": false
   },
   "outputs": [
    {
     "ename": "IndexError",
     "evalue": "list index out of range",
     "output_type": "error",
     "traceback": [
      "\u001b[0;31m---------------------------------------------------------------------------\u001b[0m",
      "\u001b[0;31mIndexError\u001b[0m                                Traceback (most recent call last)",
      "Cell \u001b[0;32mIn[4], line 5\u001b[0m\n\u001b[1;32m      3\u001b[0m \u001b[38;5;28;01mfor\u001b[39;00m i \u001b[38;5;129;01min\u001b[39;00m \u001b[38;5;28mrange\u001b[39m(\u001b[38;5;241m16\u001b[39m):\n\u001b[1;32m      4\u001b[0m     ax \u001b[38;5;241m=\u001b[39m fig\u001b[38;5;241m.\u001b[39madd_subplot(\u001b[38;5;241m4\u001b[39m,\u001b[38;5;241m4\u001b[39m,i\u001b[38;5;241m+\u001b[39m\u001b[38;5;241m1\u001b[39m)\n\u001b[0;32m----> 5\u001b[0m     ax\u001b[38;5;241m.\u001b[39mimshow(\u001b[43me\u001b[49m\u001b[38;5;241;43m.\u001b[39;49m\u001b[43mtrials\u001b[49m\u001b[43m[\u001b[49m\u001b[38;5;241;43m0\u001b[39;49m\u001b[43m]\u001b[49m\u001b[38;5;241;43m.\u001b[39;49m\u001b[43mmodel\u001b[49m\u001b[38;5;241;43m.\u001b[39;49m\u001b[43mnetworks\u001b[49m\u001b[43m[\u001b[49m\u001b[38;5;241;43m0\u001b[39;49m\u001b[43m]\u001b[49m\u001b[38;5;241;43m.\u001b[39;49m\u001b[43mlayers\u001b[49m\u001b[43m[\u001b[49m\u001b[38;5;241;43m1\u001b[39;49m\u001b[43m]\u001b[49m\u001b[38;5;241m.\u001b[39mweights[:,:,i])\n\u001b[1;32m      6\u001b[0m     ax\u001b[38;5;241m.\u001b[39maxis(\u001b[38;5;124m'\u001b[39m\u001b[38;5;124moff\u001b[39m\u001b[38;5;124m'\u001b[39m)\n",
      "\u001b[0;31mIndexError\u001b[0m: list index out of range"
     ]
    },
    {
     "data": {
      "image/png": "[encoded data removed]",
      "text/plain": [
       "<Figure size 1000x400 with 1 Axes>"
      ]
     },
     "metadata": {},
     "output_type": "display_data"
    }
   ],
   "source": [
    "# plot the weights in a 4x4 grid\n",
    "fig = plt.figure(figsize=(10,4))\n",
    "for i in range(16):\n",
    "    ax = fig.add_subplot(4,4,i+1)\n",
    "    ax.imshow(e.trials[0].model.networks[0].layers[1].weights[:,:,i])\n",
    "    ax.axis('off')"
   ]
  },
  {
   "cell_type": "code",
   "execution_count": null,
   "metadata": {
    "collapsed": false
   },
   "outputs": [],
   "source": [
    "e.trials[0].model.NDN.plot_filters()"
   ]
  },
  {
   "cell_type": "markdown",
   "metadata": {
    "collapsed": false
   },
   "source": [
    "# readout weights"
   ]
  },
  {
   "cell_type": "code",
   "execution_count": null,
   "metadata": {
    "collapsed": false
   },
   "outputs": [],
   "source": [
    "readout_weights = np.sum(e.trials[0].model.networks[2].layers[0].weights[:,:,:], axis=1)\n",
    "print(readout_weights.shape)\n",
    "# make inhibitory weights negative (every 12 weights need to be flipped)\n",
    "readout_weights[3,:] = -readout_weights[3,:]\n",
    "for i in range(12,readout_weights.shape[0],16):\n",
    "    readout_weights[i:i+8,:] = -readout_weights[i:i+8,:]\n",
    "\n",
    "# get the mean LLs for just the SUs in k\n",
    "mean_SU_LLs = np.mean(e.trials[0].LLs[dataset.SUs])\n",
    "\n",
    "# get the mean LLs for k\n",
    "mean_LLs = np.mean(e.trials[0].LLs)\n",
    "\n",
    "fig = plt.figure(figsize=(20,10))\n",
    "plot.imagesc(readout_weights, cmap='bwr', colrow=False, origin='upper')\n",
    "plt.title('(mean LL = %.4f)' % mean_LLs + ' (mean SU LL = %.4f)' % mean_SU_LLs, fontsize=16)\n",
    "plt.axis('off')\n",
    "\n",
    "# put a vertical line between each experiment\n",
    "for expt_boundary in expt_boundaries:\n",
    "    plt.axvline(expt_boundary-1-0.5, color='k', linewidth=2, alpha=0.5)\n",
    "\n",
    "# put a vertical line between the SUs and the MUs\n",
    "# get the indices of the SUs where the experiment boundaries are\n",
    "SU_boundaries = np.where(np.diff(dataset.SUs) > 1)[0]\n",
    "\n",
    "for SU_boundary in SU_boundaries:\n",
    "    plt.axvline(dataset.SUs[SU_boundary]+1-0.5, color='k', linewidth=1, alpha=0.5, linestyle='--')\n",
    "# plot the last SU boundary\n",
    "plt.axvline(dataset.SUs[-1]+1, color='k', linewidth=1, alpha=0.5, linestyle='--')\n",
    "\n",
    "layer_boundaries = [0, 4, 20, 36, 52, 68]\n",
    "\n",
    "# put a horizontal line between each layer\n",
    "for layer_boundary in layer_boundaries[1:-1]:\n",
    "    plt.axhline(layer_boundary-0.5, color='k', linewidth=1, alpha=0.3)\n",
    "\n",
    "plt.tight_layout()\n",
    "plt.show()"
   ]
  },
  {
   "cell_type": "markdown",
   "metadata": {
    "collapsed": false
   },
   "source": [
    "# projection weights"
   ]
  },
  {
   "cell_type": "code",
   "execution_count": null,
   "metadata": {
    "collapsed": false
   },
   "outputs": [],
   "source": [
    "proj_weights = e.trials[0].model.networks[1].layers[0].weights\n",
    "proj_weights[1,:,:] = -proj_weights[1,:,:]\n",
    "proj_max = np.max(proj_weights)\n",
    "proj_min = -proj_max\n",
    "\n",
    "print('Projection weights shape', proj_weights.shape)\n",
    "\n",
    "e.trials[0].model.NDN.plot_filters()\n",
    "\n",
    "# make a 2x2 grid\n",
    "fig = plt.figure(figsize=(25,4))\n",
    "# put space between the plots\n",
    "fig.subplots_adjust(wspace=0.2, hspace=0.8)\n",
    "rows,cols = 2,8\n",
    "gridspec = fig.add_gridspec(rows,cols)\n",
    "for i in range(proj_weights.shape[2]):\n",
    "    row,col = np.unravel_index(i, (rows,cols))\n",
    "    ax = fig.add_subplot(gridspec[row,col])\n",
    "    ax.imshow(proj_weights[:,:,i], cmap='bwr', aspect='auto', vmin=proj_min, vmax=proj_max)\n",
    "    ax.set_title('PROJ Filter '+str(i))\n",
    "    ax.set_xlabel('Space')\n",
    "    ax.set_ylabel('Outputs')\n",
    "plt.show()"
   ]
  },
  {
   "cell_type": "markdown",
   "metadata": {
    "collapsed": false
   },
   "source": [
    "# jacobian"
   ]
  },
  {
   "cell_type": "code",
   "execution_count": 5,
   "metadata": {
    "ExecuteTime": {
     "end_time": "2023-06-11T15:52:33.842880Z",
     "start_time": "2023-06-11T15:52:27.184203Z"
    },
    "collapsed": false
   },
   "outputs": [
    {
     "name": "stdout",
     "output_type": "stream",
     "text": [
      "num_inps 5\n",
      "prev_output shape torch.Size([5, 504]) ni 0 NetworkType.normal li 0\n"
     ]
    },
    {
     "name": "stderr",
     "output_type": "stream",
     "text": [
      "100%|█████████████████████████████████████████████████████████████████████████████████████████████████████████████████████████████████████████████████| 5/5 [00:00<00:00, 21.04it/s]\n"
     ]
    },
    {
     "name": "stdout",
     "output_type": "stream",
     "text": [
      "torch.Size([5, 504]) --> torch.Size([5, 288])\n",
      "prev_output shape torch.Size([5, 288]) ni 1 NetworkType.scaffold li 0\n"
     ]
    },
    {
     "name": "stderr",
     "output_type": "stream",
     "text": [
      "100%|█████████████████████████████████████████████████████████████████████████████████████████████████████████████████████████████████████████████████| 5/5 [00:02<00:00,  2.25it/s]\n"
     ]
    },
    {
     "name": "stdout",
     "output_type": "stream",
     "text": [
      "torch.Size([5, 288]) --> torch.Size([5, 2304])\n",
      "prev_output shape torch.Size([5, 2304]) ni 1 NetworkType.scaffold li 1\n"
     ]
    },
    {
     "name": "stderr",
     "output_type": "stream",
     "text": [
      "100%|█████████████████████████████████████████████████████████████████████████████████████████████████████████████████████████████████████████████████| 5/5 [00:03<00:00,  1.47it/s]\n"
     ]
    },
    {
     "name": "stdout",
     "output_type": "stream",
     "text": [
      "torch.Size([5, 2304]) --> torch.Size([5, 1728])\n",
      "li 0 tconv_layer_height 576\n",
      "accumulated_prev_outputs 2\n",
      "prev_output shape torch.Size([5, 2304]) ni 2 NetworkType.normal li 0\n"
     ]
    },
    {
     "name": "stderr",
     "output_type": "stream",
     "text": [
      " 40%|██████████████████████████████████████████████████████████                                                                                       | 2/5 [00:00<00:00, 13.30it/s]"
     ]
    },
    {
     "name": "stdout",
     "output_type": "stream",
     "text": [
      "li 0 tconv_layer_height 576\n",
      "accumulated_prev_outputs 2\n",
      "li 0 tconv_layer_height 576\n",
      "accumulated_prev_outputs 2\n",
      "li 0 tconv_layer_height 576\n",
      "accumulated_prev_outputs 2\n"
     ]
    },
    {
     "name": "stderr",
     "output_type": "stream",
     "text": [
      "100%|█████████████████████████████████████████████████████████████████████████████████████████████████████████████████████████████████████████████████| 5/5 [00:00<00:00, 13.30it/s]\n",
      "/home/mattjac/projects/mattjac/v1/./lib/predict.py:131: RuntimeWarning: divide by zero encountered in divide\n",
      "  r2 = 1 - np.sum((robs - pred)**2, axis=0) / np.sum((robs - np.mean(robs))**2, axis=0)\n"
     ]
    },
    {
     "name": "stdout",
     "output_type": "stream",
     "text": [
      "li 0 tconv_layer_height 576\n",
      "accumulated_prev_outputs 2\n",
      "li 0 tconv_layer_height 576\n",
      "accumulated_prev_outputs 2\n",
      "torch.Size([5, 2304]) --> torch.Size([5, 111])\n"
     ]
    },
    {
     "name": "stderr",
     "output_type": "stream",
     "text": [
      "100%|█████████████████████████████████████████████████████████████████████████████████████████████████████████████████████████████████████████████████| 5/5 [00:00<00:00, 13.35it/s]\n"
     ]
    }
   ],
   "source": [
    "results = predict.predict(e.trials[0].model, dataset=dataset[:5], calc_jacobian=True, verbose=True)"
   ]
  },
  {
   "cell_type": "markdown",
   "metadata": {
    "collapsed": false
   },
   "source": [
    "# projection layer with smaller filter width"
   ]
  },
  {
   "cell_type": "code",
   "execution_count": null,
   "metadata": {
    "collapsed": false
   },
   "outputs": [],
   "source": [
    "e12 = exp.load('iter_exps12', experiment_location='experiments', datadir='Mdata')\n",
    "e12.trials_df"
   ]
  },
  {
   "cell_type": "code",
   "execution_count": null,
   "metadata": {
    "collapsed": false
   },
   "outputs": [],
   "source": [
    "e12.trials[0].model.NDN.list_parameters()"
   ]
  },
  {
   "cell_type": "code",
   "execution_count": null,
   "metadata": {
    "collapsed": false
   },
   "outputs": [],
   "source": [
    "lgn = e12.trials[0].model.networks[0].layers[0].weights\n",
    "lgn[1,:,:] = -lgn[1,:,:]\n",
    "\n",
    "proj_weights = e12.trials[0].model.networks[1].layers[0].weights\n",
    "proj_weights[1,:,:] = -proj_weights[1,:,:]\n",
    "proj_max = np.max(proj_weights)\n",
    "proj_min = -proj_max\n",
    "\n",
    "e12.trials[0].model.NDN.plot_filters()\n",
    "\n",
    "print('LGN weights shape', lgn.shape)\n",
    "print('Projection weights shape', proj_weights.shape)\n",
    "\n",
    "# make a 2x2 grid\n",
    "fig = plt.figure(figsize=(25,4))\n",
    "# put space between the plots\n",
    "fig.subplots_adjust(wspace=0.2, hspace=0.8)\n",
    "rows,cols = 2,8\n",
    "gridspec = fig.add_gridspec(rows,cols)\n",
    "for i in range(proj_weights.shape[2]):\n",
    "    row,col = np.unravel_index(i, (rows,cols))\n",
    "    ax = fig.add_subplot(gridspec[row,col])\n",
    "    ax.imshow(proj_weights[:,:,i], cmap='bwr', aspect='auto', vmin=proj_min, vmax=proj_max)\n",
    "    ax.set_title('PROJ Filter '+str(i))\n",
    "    ax.set_xlabel('Space')\n",
    "    ax.set_ylabel('Outputs')\n",
    "plt.show()\n",
    "\n",
    "\n",
    "# make a linear approximation of the projection weights by averaging the LGN filters where the weights are\n",
    "# for each projection filter, copy the LGN filter to the corresponding output weighted by the projection weights\n",
    "\n",
    "# normalize the projection weights\n",
    "proj_weights_normalized = proj_weights / abs(np.max(proj_weights))\n",
    "\n",
    "proj_filters_exc = np.zeros((16,15,11))\n",
    "proj_filters_inh = np.zeros((16,15,11))\n",
    "for subunit in range(proj_filters_exc.shape[0]):\n",
    "    for space in range(proj_filters_exc.shape[1]):\n",
    "        for exc in range(proj_weights.shape[0]//2):\n",
    "            proj_filters_exc[subunit, space, :] += lgn[space, :, exc] * proj_weights_normalized[exc, space, subunit]\n",
    "        for inh in range(proj_weights.shape[0]//2, proj_weights.shape[0]):\n",
    "            proj_filters_inh[subunit, space, :] += lgn[space, :, inh] * proj_weights_normalized[inh, space, subunit]\n",
    "\n",
    "exc_max = np.max(proj_filters_exc)\n",
    "exc_min = -exc_max\n",
    "inh_max = np.max(proj_filters_inh)\n",
    "inh_min = -inh_max\n",
    "\n",
    "# plot the filters\n",
    "fig = plt.figure(figsize=(25,8))\n",
    "# put space between the plots\n",
    "fig.subplots_adjust(wspace=0.3, hspace=0.8)\n",
    "rows,cols = 4,8\n",
    "gridspec = fig.add_gridspec(rows,cols)\n",
    "i = 0\n",
    "for row in range(0, rows, 2):\n",
    "    for col in range(cols):\n",
    "        ax = fig.add_subplot(gridspec[row,col])\n",
    "        ax.imshow(proj_filters_exc[i,:,:].T, cmap='copper', aspect='auto', origin='lower', alpha=0.5, vmin=exc_min, vmax=exc_max)\n",
    "        ax.set_title('Exc Filter '+str(i))\n",
    "        ax.set_xlabel('Space')\n",
    "        ax.set_ylabel('Time')\n",
    "        ax = fig.add_subplot(gridspec[row+1,col])\n",
    "        ax.imshow(proj_filters_inh[i,:,:].T, cmap='bone', aspect='auto', origin='lower', alpha=0.5, vmin=inh_min, vmax=inh_max)\n",
    "        ax.set_title('Inh Filter '+str(i))\n",
    "        ax.set_xlabel('Space')\n",
    "        ax.set_ylabel('Time')\n",
    "        i += 1\n",
    "plt.suptitle('Linear Approximation of LGN Filters Weighted by Projection Weights')\n",
    "plt.show()"
   ]
  },
  {
   "cell_type": "code",
   "execution_count": null,
   "metadata": {
    "collapsed": false
   },
   "outputs": [],
   "source": []
  }
 ],
 "metadata": {
  "kernelspec": {
   "display_name": "Python 3",
   "language": "python",
   "name": "python3"
  },
  "language_info": {
   "codemirror_mode": {
    "name": "ipython",
    "version": 2
   },
   "file_extension": ".py",
   "mimetype": "text/x-python",
   "name": "python",
   "nbconvert_exporter": "python",
   "pygments_lexer": "ipython2",
   "version": "2.7.6"
  }
 },
 "nbformat": 4,
 "nbformat_minor": 0
}
