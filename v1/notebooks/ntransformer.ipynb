{
 "cells": [
  {
   "cell_type": "code",
   "execution_count": 1,
   "metadata": {
    "ExecuteTime": {
     "end_time": "2023-04-11T13:08:19.744879Z",
     "start_time": "2023-04-11T13:08:18.522795Z"
    },
    "collapsed": true
   },
   "outputs": [
    {
     "name": "stdout",
     "output_type": "stream",
     "text": [
      "Invoking __init__.py for NDNT.utils\n"
     ]
    }
   ],
   "source": [
    "import sys\n",
    "sys.path.append('./')\n",
    "\n",
    "import former.former as former\n",
    "from former.former import util\n",
    "from former.former.transformers import NTransformer1D\n",
    "\n",
    "from former.former.util import d, here, tic, toc\n",
    "\n",
    "from NTdatasets.cumming.monocular import MultiDataset\n",
    "from torch.utils.data import DataLoader, random_split, Subset\n",
    "\n",
    "import torch\n",
    "from torch import nn\n",
    "from torch.autograd import Variable\n",
    "import torch.nn.functional as F\n",
    "import torch.distributions as dist\n",
    "import tqdm\n",
    "\n",
    "import numpy as np\n",
    "\n",
    "device = torch.device('cuda:0')\n",
    "\n",
    "%load_ext autoreload\n",
    "%autoreload 2"
   ]
  },
  {
   "cell_type": "code",
   "execution_count": 1,
   "metadata": {
    "ExecuteTime": {
     "end_time": "2023-04-11T13:08:19.745060Z",
     "start_time": "2023-04-11T13:08:19.352781Z"
    },
    "collapsed": false
   },
   "outputs": [],
   "source": []
  },
  {
   "cell_type": "code",
   "execution_count": 2,
   "metadata": {
    "ExecuteTime": {
     "end_time": "2023-04-11T13:08:19.745243Z",
     "start_time": "2023-04-11T13:08:19.352800Z"
    },
    "collapsed": false
   },
   "outputs": [
    {
     "data": {
      "text/plain": [
       "NTransformer1D(\n",
       "  (pos_embedding): Embedding(512, 128)\n",
       "  (tblocks): Sequential(\n",
       "    (0): TransformerBlock(\n",
       "      (attention): SelfAttention(\n",
       "        (tokeys): Linear(in_features=128, out_features=128, bias=False)\n",
       "        (toqueries): Linear(in_features=128, out_features=128, bias=False)\n",
       "        (tovalues): Linear(in_features=128, out_features=128, bias=False)\n",
       "        (unifyheads): Linear(in_features=128, out_features=128, bias=True)\n",
       "      )\n",
       "      (norm1): LayerNorm((128,), eps=1e-05, elementwise_affine=True)\n",
       "      (norm2): LayerNorm((128,), eps=1e-05, elementwise_affine=True)\n",
       "      (ff): Sequential(\n",
       "        (0): Linear(in_features=128, out_features=512, bias=True)\n",
       "        (1): ReLU()\n",
       "        (2): Linear(in_features=512, out_features=128, bias=True)\n",
       "      )\n",
       "      (do): Dropout(p=0.0, inplace=False)\n",
       "    )\n",
       "    (1): TransformerBlock(\n",
       "      (attention): SelfAttention(\n",
       "        (tokeys): Linear(in_features=128, out_features=128, bias=False)\n",
       "        (toqueries): Linear(in_features=128, out_features=128, bias=False)\n",
       "        (tovalues): Linear(in_features=128, out_features=128, bias=False)\n",
       "        (unifyheads): Linear(in_features=128, out_features=128, bias=True)\n",
       "      )\n",
       "      (norm1): LayerNorm((128,), eps=1e-05, elementwise_affine=True)\n",
       "      (norm2): LayerNorm((128,), eps=1e-05, elementwise_affine=True)\n",
       "      (ff): Sequential(\n",
       "        (0): Linear(in_features=128, out_features=512, bias=True)\n",
       "        (1): ReLU()\n",
       "        (2): Linear(in_features=512, out_features=128, bias=True)\n",
       "      )\n",
       "      (do): Dropout(p=0.0, inplace=False)\n",
       "    )\n",
       "    (2): TransformerBlock(\n",
       "      (attention): SelfAttention(\n",
       "        (tokeys): Linear(in_features=128, out_features=128, bias=False)\n",
       "        (toqueries): Linear(in_features=128, out_features=128, bias=False)\n",
       "        (tovalues): Linear(in_features=128, out_features=128, bias=False)\n",
       "        (unifyheads): Linear(in_features=128, out_features=128, bias=True)\n",
       "      )\n",
       "      (norm1): LayerNorm((128,), eps=1e-05, elementwise_affine=True)\n",
       "      (norm2): LayerNorm((128,), eps=1e-05, elementwise_affine=True)\n",
       "      (ff): Sequential(\n",
       "        (0): Linear(in_features=128, out_features=512, bias=True)\n",
       "        (1): ReLU()\n",
       "        (2): Linear(in_features=512, out_features=128, bias=True)\n",
       "      )\n",
       "      (do): Dropout(p=0.0, inplace=False)\n",
       "    )\n",
       "    (3): TransformerBlock(\n",
       "      (attention): SelfAttention(\n",
       "        (tokeys): Linear(in_features=128, out_features=128, bias=False)\n",
       "        (toqueries): Linear(in_features=128, out_features=128, bias=False)\n",
       "        (tovalues): Linear(in_features=128, out_features=128, bias=False)\n",
       "        (unifyheads): Linear(in_features=128, out_features=128, bias=True)\n",
       "      )\n",
       "      (norm1): LayerNorm((128,), eps=1e-05, elementwise_affine=True)\n",
       "      (norm2): LayerNorm((128,), eps=1e-05, elementwise_affine=True)\n",
       "      (ff): Sequential(\n",
       "        (0): Linear(in_features=128, out_features=512, bias=True)\n",
       "        (1): ReLU()\n",
       "        (2): Linear(in_features=512, out_features=128, bias=True)\n",
       "      )\n",
       "      (do): Dropout(p=0.0, inplace=False)\n",
       "    )\n",
       "    (4): TransformerBlock(\n",
       "      (attention): SelfAttention(\n",
       "        (tokeys): Linear(in_features=128, out_features=128, bias=False)\n",
       "        (toqueries): Linear(in_features=128, out_features=128, bias=False)\n",
       "        (tovalues): Linear(in_features=128, out_features=128, bias=False)\n",
       "        (unifyheads): Linear(in_features=128, out_features=128, bias=True)\n",
       "      )\n",
       "      (norm1): LayerNorm((128,), eps=1e-05, elementwise_affine=True)\n",
       "      (norm2): LayerNorm((128,), eps=1e-05, elementwise_affine=True)\n",
       "      (ff): Sequential(\n",
       "        (0): Linear(in_features=128, out_features=512, bias=True)\n",
       "        (1): ReLU()\n",
       "        (2): Linear(in_features=512, out_features=128, bias=True)\n",
       "      )\n",
       "      (do): Dropout(p=0.0, inplace=False)\n",
       "    )\n",
       "    (5): TransformerBlock(\n",
       "      (attention): SelfAttention(\n",
       "        (tokeys): Linear(in_features=128, out_features=128, bias=False)\n",
       "        (toqueries): Linear(in_features=128, out_features=128, bias=False)\n",
       "        (tovalues): Linear(in_features=128, out_features=128, bias=False)\n",
       "        (unifyheads): Linear(in_features=128, out_features=128, bias=True)\n",
       "      )\n",
       "      (norm1): LayerNorm((128,), eps=1e-05, elementwise_affine=True)\n",
       "      (norm2): LayerNorm((128,), eps=1e-05, elementwise_affine=True)\n",
       "      (ff): Sequential(\n",
       "        (0): Linear(in_features=128, out_features=512, bias=True)\n",
       "        (1): ReLU()\n",
       "        (2): Linear(in_features=512, out_features=128, bias=True)\n",
       "      )\n",
       "      (do): Dropout(p=0.0, inplace=False)\n",
       "    )\n",
       "  )\n",
       "  (torobs): Linear(in_features=128, out_features=95, bias=True)\n",
       "  (do): Dropout(p=0.0, inplace=False)\n",
       ")"
      ]
     },
     "execution_count": 2,
     "metadata": {},
     "output_type": "execute_result"
    }
   ],
   "source": [
    "embedding_size = 128\n",
    "num_heads = 8\n",
    "depth = 6\n",
    "seq_length = 512\n",
    "num_neurons = 95\n",
    "context = 512\n",
    "attention_type = 'default'\n",
    "\n",
    "model = NTransformer1D(stim=embedding_size, heads=num_heads, depth=depth, seq_length=context, num_neurons=95)\n",
    "model"
   ]
  },
  {
   "cell_type": "markdown",
   "metadata": {
    "collapsed": false
   },
   "source": [
    "# load the data"
   ]
  },
  {
   "cell_type": "code",
   "execution_count": 3,
   "metadata": {
    "ExecuteTime": {
     "end_time": "2023-04-11T13:08:19.746725Z",
     "start_time": "2023-04-11T13:08:19.356289Z"
    },
    "collapsed": false
   },
   "outputs": [
    {
     "name": "stdout",
     "output_type": "stream",
     "text": [
      "Loading ['expt04']\n",
      "Loading expt04\n",
      "11 cells, 362504 time steps.\n"
     ]
    },
    {
     "data": {
      "text/plain": [
       "(274739, 68780)"
      ]
     },
     "execution_count": 3,
     "metadata": {},
     "output_type": "execute_result"
    }
   ],
   "source": [
    "# Load Data\n",
    "num_lags = 10\n",
    "expts = ['expt04']\n",
    "datadir = './Mdata/'\n",
    "\n",
    "batch_size = 2000\n",
    "\n",
    "# TODO: we need to convert the items in the batch to sequences of stimuli,\n",
    "#       instead of individual time points\n",
    "#       Maybe just use time-embed, and reshape in the forward?\n",
    "#       But, we also need to get the corresponding sequence of robs...\n",
    "# TODO: we also need to change the model to predict a sequence of robs for each neuron,\n",
    "#       not just a single set of robs for all the neurons\n",
    "\n",
    "\n",
    "# we don't time embed to model the stimuli as a sequence with the transformer\n",
    "dataset = MultiDataset(datadir=datadir, filenames=expts, include_MUs=False, time_embed=False)\n",
    "print(\"%d cells, %d time steps.\"%(dataset.NC, dataset.NT))\n",
    "\n",
    "train_inds = dataset.train_inds\n",
    "val_inds = dataset.val_inds\n",
    "\n",
    "train_ds = Subset(dataset, train_inds)\n",
    "val_ds = Subset(dataset, val_inds)\n",
    "\n",
    "train_dl = DataLoader(train_ds, \n",
    "                      batch_size=batch_size, \n",
    "                      shuffle=True, \n",
    "                      num_workers=0)\n",
    "valid_dl = DataLoader(val_ds, \n",
    "                      batch_size=batch_size, \n",
    "                      shuffle=True, \n",
    "                      num_workers=0)\n",
    "\n",
    "len(train_ds), len(val_ds)"
   ]
  },
  {
   "cell_type": "markdown",
   "metadata": {
    "collapsed": false
   },
   "source": [
    "# create the model"
   ]
  },
  {
   "cell_type": "code",
   "execution_count": 42,
   "metadata": {
    "ExecuteTime": {
     "end_time": "2023-04-11T13:15:09.023954Z",
     "start_time": "2023-04-11T13:15:08.997792Z"
    },
    "collapsed": false
   },
   "outputs": [],
   "source": [
    "# from GPT-4\n",
    "\n",
    "import torch\n",
    "import torch.nn as nn\n",
    "\n",
    "# Positional Encoding module to inject information about the relative or absolute position of the tokens in the sequence\n",
    "class PositionalEncoding(nn.Module):\n",
    "    def __init__(self, d_model, dropout=0.1, max_len=5000):\n",
    "        super(PositionalEncoding, self).__init__()\n",
    "        self.dropout = nn.Dropout(p=dropout)\n",
    "\n",
    "        pe = torch.zeros(max_len, d_model)\n",
    "        position = torch.arange(0, max_len, dtype=torch.float).unsqueeze(1)\n",
    "        div_term = torch.exp(torch.arange(0, d_model, 2).float() * (-np.log(10000.0) / d_model))\n",
    "        pe[:, 0::2] = torch.sin(position * div_term)\n",
    "        pe[:, 1::2] = torch.cos(position * div_term)\n",
    "        pe = pe.unsqueeze(0).transpose(0, 1)\n",
    "        self.register_buffer('pe', pe)\n",
    "\n",
    "    def forward(self, x):\n",
    "        x = x + self.pe[:x.size(0), :x.size(1)]\n",
    "        return self.dropout(x)\n",
    "\n",
    "\n",
    "# Main Transformer Model\n",
    "class TransformerModel(nn.Module):\n",
    "    def __init__(self, input_dim, output_dim, ninp, nhead, nhid, nlayers, dropout=0.5):\n",
    "        super(TransformerModel, self).__init__()\n",
    "        self.input_dim = input_dim\n",
    "        self.output_dim = output_dim\n",
    "        self.ninp = ninp\n",
    "        self.nhead = nhead\n",
    "        self.nhid = nhid\n",
    "        self.nlayers = nlayers\n",
    "\n",
    "        # Add a 1D convolutional layer\n",
    "        self.conv1 = nn.Conv1d(in_channels=1, out_channels=ninp, kernel_size=21, stride=1, padding=10)\n",
    "\n",
    "        self.pos_encoder = PositionalEncoding(ninp, dropout)\n",
    "        encoder_layers = nn.TransformerEncoderLayer(ninp, nhead, nhid, dropout)\n",
    "        self.transformer_encoder = nn.TransformerEncoder(encoder_layers, nlayers)\n",
    "        self.decoder = nn.Linear(ninp, output_dim)\n",
    "        self.relu = nn.ReLU()\n",
    "\n",
    "        self.init_weights()\n",
    "\n",
    "    def init_weights(self):\n",
    "        initrange = 0.1\n",
    "        self.decoder.bias.data.zero_()\n",
    "        self.decoder.weight.data.uniform_(-initrange, initrange)\n",
    "\n",
    "    def forward(self, src):\n",
    "        # Apply the 1D convolution to the input\n",
    "        src = self.conv1(src.unsqueeze(1)).squeeze(1)\n",
    "    \n",
    "        src = src.permute(2, 0, 1)  # Change dimensions to (sequence_length, batch_size, features)\n",
    "    \n",
    "        src = src * np.sqrt(self.ninp)\n",
    "        src = self.pos_encoder(src)\n",
    "        output = self.transformer_encoder(src)\n",
    "        output = self.decoder(output)\n",
    "        output = self.relu(output)\n",
    "        return output\n",
    "\n",
    "\n",
    "# Hyperparameters\n",
    "ntokens = 36  # input dimension (length of image vector)\n",
    "ninp = 512   # embedding dimension\n",
    "nhid = 256    # hidden dimension\n",
    "nlayers = 2   # number of layers\n",
    "nhead = 8     # number of attention heads\n",
    "dropout = 0.2 # dropout rate\n",
    "output_dim = 11 # output dimension (number of neurons)\n",
    "\n",
    "# Create the model\n",
    "model = TransformerModel(ntokens, output_dim, ninp, nhead, nhid, nlayers, dropout)"
   ]
  },
  {
   "cell_type": "code",
   "execution_count": 43,
   "metadata": {
    "ExecuteTime": {
     "end_time": "2023-04-11T13:15:09.508677Z",
     "start_time": "2023-04-11T13:15:09.446884Z"
    },
    "collapsed": false
   },
   "outputs": [
    {
     "data": {
      "text/plain": [
       "TransformerModel(\n",
       "  (conv1): Conv1d(1, 512, kernel_size=(21,), stride=(1,), padding=(10,))\n",
       "  (pos_encoder): PositionalEncoding(\n",
       "    (dropout): Dropout(p=0.2, inplace=False)\n",
       "  )\n",
       "  (transformer_encoder): TransformerEncoder(\n",
       "    (layers): ModuleList(\n",
       "      (0): TransformerEncoderLayer(\n",
       "        (self_attn): MultiheadAttention(\n",
       "          (out_proj): NonDynamicallyQuantizableLinear(in_features=512, out_features=512, bias=True)\n",
       "        )\n",
       "        (linear1): Linear(in_features=512, out_features=256, bias=True)\n",
       "        (dropout): Dropout(p=0.2, inplace=False)\n",
       "        (linear2): Linear(in_features=256, out_features=512, bias=True)\n",
       "        (norm1): LayerNorm((512,), eps=1e-05, elementwise_affine=True)\n",
       "        (norm2): LayerNorm((512,), eps=1e-05, elementwise_affine=True)\n",
       "        (dropout1): Dropout(p=0.2, inplace=False)\n",
       "        (dropout2): Dropout(p=0.2, inplace=False)\n",
       "      )\n",
       "      (1): TransformerEncoderLayer(\n",
       "        (self_attn): MultiheadAttention(\n",
       "          (out_proj): NonDynamicallyQuantizableLinear(in_features=512, out_features=512, bias=True)\n",
       "        )\n",
       "        (linear1): Linear(in_features=512, out_features=256, bias=True)\n",
       "        (dropout): Dropout(p=0.2, inplace=False)\n",
       "        (linear2): Linear(in_features=256, out_features=512, bias=True)\n",
       "        (norm1): LayerNorm((512,), eps=1e-05, elementwise_affine=True)\n",
       "        (norm2): LayerNorm((512,), eps=1e-05, elementwise_affine=True)\n",
       "        (dropout1): Dropout(p=0.2, inplace=False)\n",
       "        (dropout2): Dropout(p=0.2, inplace=False)\n",
       "      )\n",
       "    )\n",
       "  )\n",
       "  (decoder): Linear(in_features=512, out_features=11, bias=True)\n",
       "  (relu): ReLU()\n",
       ")"
      ]
     },
     "execution_count": 43,
     "metadata": {},
     "output_type": "execute_result"
    }
   ],
   "source": [
    "model.to(device)"
   ]
  },
  {
   "cell_type": "code",
   "execution_count": 44,
   "metadata": {
    "ExecuteTime": {
     "end_time": "2023-04-11T13:15:09.978876Z",
     "start_time": "2023-04-11T13:15:09.937959Z"
    },
    "collapsed": false
   },
   "outputs": [
    {
     "data": {
      "text/plain": [
       "(array([    20,     21,     22, ..., 362499, 362500, 362501]),\n",
       " array([   821,    822,    823, ..., 362098, 362099, 362100]))"
      ]
     },
     "execution_count": 44,
     "metadata": {},
     "output_type": "execute_result"
    }
   ],
   "source": [
    "dataset.train_inds, dataset.val_inds"
   ]
  },
  {
   "cell_type": "code",
   "execution_count": 45,
   "metadata": {
    "ExecuteTime": {
     "end_time": "2023-04-11T13:15:11.725549Z",
     "start_time": "2023-04-11T13:15:11.386265Z"
    },
    "collapsed": false
   },
   "outputs": [
    {
     "data": {
      "text/plain": [
       "torch.Size([36, 10, 11])"
      ]
     },
     "execution_count": 45,
     "metadata": {},
     "output_type": "execute_result"
    }
   ],
   "source": [
    "stim = dataset[:10]['stim']\n",
    "stim = stim.to(device)\n",
    "model = model.to(device)\n",
    "\n",
    "model(stim).shape"
   ]
  },
  {
   "cell_type": "code",
   "execution_count": 46,
   "metadata": {
    "ExecuteTime": {
     "end_time": "2023-04-11T13:15:16.831659Z",
     "start_time": "2023-04-11T13:15:13.979340Z"
    },
    "collapsed": false
   },
   "outputs": [
    {
     "name": "stdout",
     "output_type": "stream",
     "text": [
      "7.0\n"
     ]
    }
   ],
   "source": [
    "max_spike_rate = 0\n",
    "for idx in dataset.train_inds:\n",
    "    max_spike_rate = max(max_spike_rate, dataset[idx]['robs'].max().item())\n",
    "print(max_spike_rate)"
   ]
  },
  {
   "cell_type": "markdown",
   "metadata": {
    "collapsed": false
   },
   "source": [
    "# train the GPT-4 model"
   ]
  },
  {
   "cell_type": "code",
   "execution_count": 47,
   "metadata": {
    "ExecuteTime": {
     "end_time": "2023-04-11T13:17:44.005879Z",
     "start_time": "2023-04-11T13:15:16.832220Z"
    },
    "collapsed": false
   },
   "outputs": [
    {
     "name": "stdout",
     "output_type": "stream",
     "text": [
      "Epoch 1/5, Train Loss: 0.8211, Validation Loss: 0.8213\n",
      "Epoch 2/5, Train Loss: 0.8210, Validation Loss: 0.8213\n",
      "Epoch 3/5, Train Loss: 0.8208, Validation Loss: 0.8213\n",
      "Epoch 4/5, Train Loss: 0.8210, Validation Loss: 0.8213\n",
      "Epoch 5/5, Train Loss: 0.8210, Validation Loss: 0.8213\n"
     ]
    }
   ],
   "source": [
    "import torch.optim as optim\n",
    "\n",
    "# Hyperparameters\n",
    "batch_size = 2000\n",
    "num_epochs = 5\n",
    "learning_rate = 0.001\n",
    "\n",
    "# Poisson loss function\n",
    "def poisson_loss(output, target):\n",
    "    return torch.mean(output - target * torch.log(output + 1e-9))\n",
    "\n",
    "# Create data loaders for training and validation sets\n",
    "train_loader = torch.utils.data.DataLoader(\n",
    "    torch.utils.data.Subset(dataset, dataset.train_inds),\n",
    "    batch_size=batch_size,\n",
    "    shuffle=True,\n",
    ")\n",
    "\n",
    "val_loader = torch.utils.data.DataLoader(\n",
    "    torch.utils.data.Subset(dataset, dataset.val_inds),\n",
    "    batch_size=batch_size,\n",
    "    shuffle=False,\n",
    ")\n",
    "\n",
    "# Set device\n",
    "device = torch.device('cuda' if torch.cuda.is_available() else 'cpu')\n",
    "\n",
    "# Move the model to the device\n",
    "model = model.to(device)\n",
    "\n",
    "# Define the optimizer\n",
    "optimizer = optim.Adam(model.parameters(), lr=learning_rate, weight_decay=1e-5)\n",
    "\n",
    "# Training loop\n",
    "for epoch in range(num_epochs):\n",
    "    model.train()\n",
    "    train_loss = 0\n",
    "\n",
    "    for batch in train_loader:\n",
    "        stim = batch['stim'].to(device)\n",
    "        robs = batch['robs'].to(device)\n",
    "        \n",
    "        # normalize the spike rate\n",
    "        robs = robs / max_spike_rate\n",
    "\n",
    "        optimizer.zero_grad()\n",
    "        output = model(stim)\n",
    "\n",
    "        # calculate loss with MSE loss\n",
    "        loss = poisson_loss(output, robs)\n",
    "        #loss = nn.MSELoss()(output, robs)\n",
    "        \n",
    "        loss.backward()\n",
    "        optimizer.step()\n",
    "\n",
    "        train_loss += loss.item()\n",
    "\n",
    "    train_loss /= len(train_loader)\n",
    "\n",
    "    # Validation loop\n",
    "    model.eval()\n",
    "    val_loss = 0\n",
    "    with torch.no_grad():\n",
    "        for batch in val_loader:\n",
    "            stim = batch['stim'].to(device)\n",
    "            robs = batch['robs'].to(device)\n",
    "\n",
    "            # normalize the spike rate\n",
    "            robs = robs / max_spike_rate\n",
    "\n",
    "            output = model(stim)\n",
    "            loss = poisson_loss(output, robs)\n",
    "\n",
    "            val_loss += loss.item()\n",
    "\n",
    "    val_loss /= len(val_loader)\n",
    "\n",
    "    print(f\"Epoch {epoch + 1}/{num_epochs}, Train Loss: {train_loss:.4f}, Validation Loss: {val_loss:.4f}\")"
   ]
  },
  {
   "cell_type": "code",
   "execution_count": 63,
   "metadata": {
    "ExecuteTime": {
     "end_time": "2023-04-11T13:21:22.721472Z",
     "start_time": "2023-04-11T13:21:22.511441Z"
    },
    "collapsed": false
   },
   "outputs": [
    {
     "ename": "RuntimeError",
     "evalue": "CUDA out of memory. Tried to allocate 72.00 MiB (GPU 0; 10.76 GiB total capacity; 9.44 GiB already allocated; 35.81 MiB free; 9.67 GiB reserved in total by PyTorch) If reserved memory is >> allocated memory try setting max_split_size_mb to avoid fragmentation.  See documentation for Memory Management and PYTORCH_CUDA_ALLOC_CONF",
     "output_type": "error",
     "traceback": [
      "\u001b[0;31m---------------------------------------------------------------------------\u001b[0m",
      "\u001b[0;31mRuntimeError\u001b[0m                              Traceback (most recent call last)",
      "Cell \u001b[0;32mIn[63], line 5\u001b[0m\n\u001b[1;32m      3\u001b[0m stim \u001b[38;5;241m=\u001b[39m stim\u001b[38;5;241m.\u001b[39mto(device)\n\u001b[1;32m      4\u001b[0m \u001b[38;5;66;03m# plot the histogram of the predicted spike rates\u001b[39;00m\n\u001b[0;32m----> 5\u001b[0m pred \u001b[38;5;241m=\u001b[39m \u001b[43mmodel\u001b[49m\u001b[43m(\u001b[49m\u001b[43mstim\u001b[49m\u001b[43m)\u001b[49m\u001b[38;5;241m.\u001b[39mdetach()\u001b[38;5;241m.\u001b[39mcpu()\u001b[38;5;241m.\u001b[39mnumpy()\u001b[38;5;241m.\u001b[39mflatten()\n\u001b[1;32m      6\u001b[0m _ \u001b[38;5;241m=\u001b[39m plt\u001b[38;5;241m.\u001b[39mhist(pred, bins\u001b[38;5;241m=\u001b[39m\u001b[38;5;241m100\u001b[39m)\n",
      "File \u001b[0;32m~/anaconda3/envs/pytorch/lib/python3.8/site-packages/torch/nn/modules/module.py:1130\u001b[0m, in \u001b[0;36mModule._call_impl\u001b[0;34m(self, *input, **kwargs)\u001b[0m\n\u001b[1;32m   1126\u001b[0m \u001b[38;5;66;03m# If we don't have any hooks, we want to skip the rest of the logic in\u001b[39;00m\n\u001b[1;32m   1127\u001b[0m \u001b[38;5;66;03m# this function, and just call forward.\u001b[39;00m\n\u001b[1;32m   1128\u001b[0m \u001b[38;5;28;01mif\u001b[39;00m \u001b[38;5;129;01mnot\u001b[39;00m (\u001b[38;5;28mself\u001b[39m\u001b[38;5;241m.\u001b[39m_backward_hooks \u001b[38;5;129;01mor\u001b[39;00m \u001b[38;5;28mself\u001b[39m\u001b[38;5;241m.\u001b[39m_forward_hooks \u001b[38;5;129;01mor\u001b[39;00m \u001b[38;5;28mself\u001b[39m\u001b[38;5;241m.\u001b[39m_forward_pre_hooks \u001b[38;5;129;01mor\u001b[39;00m _global_backward_hooks\n\u001b[1;32m   1129\u001b[0m         \u001b[38;5;129;01mor\u001b[39;00m _global_forward_hooks \u001b[38;5;129;01mor\u001b[39;00m _global_forward_pre_hooks):\n\u001b[0;32m-> 1130\u001b[0m     \u001b[38;5;28;01mreturn\u001b[39;00m \u001b[43mforward_call\u001b[49m\u001b[43m(\u001b[49m\u001b[38;5;241;43m*\u001b[39;49m\u001b[38;5;28;43minput\u001b[39;49m\u001b[43m,\u001b[49m\u001b[43m \u001b[49m\u001b[38;5;241;43m*\u001b[39;49m\u001b[38;5;241;43m*\u001b[39;49m\u001b[43mkwargs\u001b[49m\u001b[43m)\u001b[49m\n\u001b[1;32m   1131\u001b[0m \u001b[38;5;66;03m# Do not call functions when jit is used\u001b[39;00m\n\u001b[1;32m   1132\u001b[0m full_backward_hooks, non_full_backward_hooks \u001b[38;5;241m=\u001b[39m [], []\n",
      "Cell \u001b[0;32mIn[42], line 60\u001b[0m, in \u001b[0;36mTransformerModel.forward\u001b[0;34m(self, src)\u001b[0m\n\u001b[1;32m     58\u001b[0m src \u001b[38;5;241m=\u001b[39m src \u001b[38;5;241m*\u001b[39m np\u001b[38;5;241m.\u001b[39msqrt(\u001b[38;5;28mself\u001b[39m\u001b[38;5;241m.\u001b[39mninp)\n\u001b[1;32m     59\u001b[0m src \u001b[38;5;241m=\u001b[39m \u001b[38;5;28mself\u001b[39m\u001b[38;5;241m.\u001b[39mpos_encoder(src)\n\u001b[0;32m---> 60\u001b[0m output \u001b[38;5;241m=\u001b[39m \u001b[38;5;28;43mself\u001b[39;49m\u001b[38;5;241;43m.\u001b[39;49m\u001b[43mtransformer_encoder\u001b[49m\u001b[43m(\u001b[49m\u001b[43msrc\u001b[49m\u001b[43m)\u001b[49m\n\u001b[1;32m     61\u001b[0m output \u001b[38;5;241m=\u001b[39m \u001b[38;5;28mself\u001b[39m\u001b[38;5;241m.\u001b[39mdecoder(output)\n\u001b[1;32m     62\u001b[0m output \u001b[38;5;241m=\u001b[39m \u001b[38;5;28mself\u001b[39m\u001b[38;5;241m.\u001b[39mrelu(output)\n",
      "File \u001b[0;32m~/anaconda3/envs/pytorch/lib/python3.8/site-packages/torch/nn/modules/module.py:1130\u001b[0m, in \u001b[0;36mModule._call_impl\u001b[0;34m(self, *input, **kwargs)\u001b[0m\n\u001b[1;32m   1126\u001b[0m \u001b[38;5;66;03m# If we don't have any hooks, we want to skip the rest of the logic in\u001b[39;00m\n\u001b[1;32m   1127\u001b[0m \u001b[38;5;66;03m# this function, and just call forward.\u001b[39;00m\n\u001b[1;32m   1128\u001b[0m \u001b[38;5;28;01mif\u001b[39;00m \u001b[38;5;129;01mnot\u001b[39;00m (\u001b[38;5;28mself\u001b[39m\u001b[38;5;241m.\u001b[39m_backward_hooks \u001b[38;5;129;01mor\u001b[39;00m \u001b[38;5;28mself\u001b[39m\u001b[38;5;241m.\u001b[39m_forward_hooks \u001b[38;5;129;01mor\u001b[39;00m \u001b[38;5;28mself\u001b[39m\u001b[38;5;241m.\u001b[39m_forward_pre_hooks \u001b[38;5;129;01mor\u001b[39;00m _global_backward_hooks\n\u001b[1;32m   1129\u001b[0m         \u001b[38;5;129;01mor\u001b[39;00m _global_forward_hooks \u001b[38;5;129;01mor\u001b[39;00m _global_forward_pre_hooks):\n\u001b[0;32m-> 1130\u001b[0m     \u001b[38;5;28;01mreturn\u001b[39;00m \u001b[43mforward_call\u001b[49m\u001b[43m(\u001b[49m\u001b[38;5;241;43m*\u001b[39;49m\u001b[38;5;28;43minput\u001b[39;49m\u001b[43m,\u001b[49m\u001b[43m \u001b[49m\u001b[38;5;241;43m*\u001b[39;49m\u001b[38;5;241;43m*\u001b[39;49m\u001b[43mkwargs\u001b[49m\u001b[43m)\u001b[49m\n\u001b[1;32m   1131\u001b[0m \u001b[38;5;66;03m# Do not call functions when jit is used\u001b[39;00m\n\u001b[1;32m   1132\u001b[0m full_backward_hooks, non_full_backward_hooks \u001b[38;5;241m=\u001b[39m [], []\n",
      "File \u001b[0;32m~/anaconda3/envs/pytorch/lib/python3.8/site-packages/torch/nn/modules/transformer.py:238\u001b[0m, in \u001b[0;36mTransformerEncoder.forward\u001b[0;34m(self, src, mask, src_key_padding_mask)\u001b[0m\n\u001b[1;32m    236\u001b[0m         output \u001b[38;5;241m=\u001b[39m mod(output, src_mask\u001b[38;5;241m=\u001b[39mmask)\n\u001b[1;32m    237\u001b[0m     \u001b[38;5;28;01melse\u001b[39;00m:\n\u001b[0;32m--> 238\u001b[0m         output \u001b[38;5;241m=\u001b[39m \u001b[43mmod\u001b[49m\u001b[43m(\u001b[49m\u001b[43moutput\u001b[49m\u001b[43m,\u001b[49m\u001b[43m \u001b[49m\u001b[43msrc_mask\u001b[49m\u001b[38;5;241;43m=\u001b[39;49m\u001b[43mmask\u001b[49m\u001b[43m,\u001b[49m\u001b[43m \u001b[49m\u001b[43msrc_key_padding_mask\u001b[49m\u001b[38;5;241;43m=\u001b[39;49m\u001b[43msrc_key_padding_mask\u001b[49m\u001b[43m)\u001b[49m\n\u001b[1;32m    240\u001b[0m \u001b[38;5;28;01mif\u001b[39;00m convert_to_nested:\n\u001b[1;32m    241\u001b[0m     output \u001b[38;5;241m=\u001b[39m output\u001b[38;5;241m.\u001b[39mto_padded_tensor(\u001b[38;5;241m0.\u001b[39m)\n",
      "File \u001b[0;32m~/anaconda3/envs/pytorch/lib/python3.8/site-packages/torch/nn/modules/module.py:1130\u001b[0m, in \u001b[0;36mModule._call_impl\u001b[0;34m(self, *input, **kwargs)\u001b[0m\n\u001b[1;32m   1126\u001b[0m \u001b[38;5;66;03m# If we don't have any hooks, we want to skip the rest of the logic in\u001b[39;00m\n\u001b[1;32m   1127\u001b[0m \u001b[38;5;66;03m# this function, and just call forward.\u001b[39;00m\n\u001b[1;32m   1128\u001b[0m \u001b[38;5;28;01mif\u001b[39;00m \u001b[38;5;129;01mnot\u001b[39;00m (\u001b[38;5;28mself\u001b[39m\u001b[38;5;241m.\u001b[39m_backward_hooks \u001b[38;5;129;01mor\u001b[39;00m \u001b[38;5;28mself\u001b[39m\u001b[38;5;241m.\u001b[39m_forward_hooks \u001b[38;5;129;01mor\u001b[39;00m \u001b[38;5;28mself\u001b[39m\u001b[38;5;241m.\u001b[39m_forward_pre_hooks \u001b[38;5;129;01mor\u001b[39;00m _global_backward_hooks\n\u001b[1;32m   1129\u001b[0m         \u001b[38;5;129;01mor\u001b[39;00m _global_forward_hooks \u001b[38;5;129;01mor\u001b[39;00m _global_forward_pre_hooks):\n\u001b[0;32m-> 1130\u001b[0m     \u001b[38;5;28;01mreturn\u001b[39;00m \u001b[43mforward_call\u001b[49m\u001b[43m(\u001b[49m\u001b[38;5;241;43m*\u001b[39;49m\u001b[38;5;28;43minput\u001b[39;49m\u001b[43m,\u001b[49m\u001b[43m \u001b[49m\u001b[38;5;241;43m*\u001b[39;49m\u001b[38;5;241;43m*\u001b[39;49m\u001b[43mkwargs\u001b[49m\u001b[43m)\u001b[49m\n\u001b[1;32m   1131\u001b[0m \u001b[38;5;66;03m# Do not call functions when jit is used\u001b[39;00m\n\u001b[1;32m   1132\u001b[0m full_backward_hooks, non_full_backward_hooks \u001b[38;5;241m=\u001b[39m [], []\n",
      "File \u001b[0;32m~/anaconda3/envs/pytorch/lib/python3.8/site-packages/torch/nn/modules/transformer.py:463\u001b[0m, in \u001b[0;36mTransformerEncoderLayer.forward\u001b[0;34m(self, src, src_mask, src_key_padding_mask)\u001b[0m\n\u001b[1;32m    461\u001b[0m     x \u001b[38;5;241m=\u001b[39m x \u001b[38;5;241m+\u001b[39m \u001b[38;5;28mself\u001b[39m\u001b[38;5;241m.\u001b[39m_ff_block(\u001b[38;5;28mself\u001b[39m\u001b[38;5;241m.\u001b[39mnorm2(x))\n\u001b[1;32m    462\u001b[0m \u001b[38;5;28;01melse\u001b[39;00m:\n\u001b[0;32m--> 463\u001b[0m     x \u001b[38;5;241m=\u001b[39m \u001b[38;5;28;43mself\u001b[39;49m\u001b[38;5;241;43m.\u001b[39;49m\u001b[43mnorm1\u001b[49m\u001b[43m(\u001b[49m\u001b[43mx\u001b[49m\u001b[43m \u001b[49m\u001b[38;5;241;43m+\u001b[39;49m\u001b[43m \u001b[49m\u001b[38;5;28;43mself\u001b[39;49m\u001b[38;5;241;43m.\u001b[39;49m\u001b[43m_sa_block\u001b[49m\u001b[43m(\u001b[49m\u001b[43mx\u001b[49m\u001b[43m,\u001b[49m\u001b[43m \u001b[49m\u001b[43msrc_mask\u001b[49m\u001b[43m,\u001b[49m\u001b[43m \u001b[49m\u001b[43msrc_key_padding_mask\u001b[49m\u001b[43m)\u001b[49m\u001b[43m)\u001b[49m\n\u001b[1;32m    464\u001b[0m     x \u001b[38;5;241m=\u001b[39m \u001b[38;5;28mself\u001b[39m\u001b[38;5;241m.\u001b[39mnorm2(x \u001b[38;5;241m+\u001b[39m \u001b[38;5;28mself\u001b[39m\u001b[38;5;241m.\u001b[39m_ff_block(x))\n\u001b[1;32m    466\u001b[0m \u001b[38;5;28;01mreturn\u001b[39;00m x\n",
      "File \u001b[0;32m~/anaconda3/envs/pytorch/lib/python3.8/site-packages/torch/nn/modules/module.py:1130\u001b[0m, in \u001b[0;36mModule._call_impl\u001b[0;34m(self, *input, **kwargs)\u001b[0m\n\u001b[1;32m   1126\u001b[0m \u001b[38;5;66;03m# If we don't have any hooks, we want to skip the rest of the logic in\u001b[39;00m\n\u001b[1;32m   1127\u001b[0m \u001b[38;5;66;03m# this function, and just call forward.\u001b[39;00m\n\u001b[1;32m   1128\u001b[0m \u001b[38;5;28;01mif\u001b[39;00m \u001b[38;5;129;01mnot\u001b[39;00m (\u001b[38;5;28mself\u001b[39m\u001b[38;5;241m.\u001b[39m_backward_hooks \u001b[38;5;129;01mor\u001b[39;00m \u001b[38;5;28mself\u001b[39m\u001b[38;5;241m.\u001b[39m_forward_hooks \u001b[38;5;129;01mor\u001b[39;00m \u001b[38;5;28mself\u001b[39m\u001b[38;5;241m.\u001b[39m_forward_pre_hooks \u001b[38;5;129;01mor\u001b[39;00m _global_backward_hooks\n\u001b[1;32m   1129\u001b[0m         \u001b[38;5;129;01mor\u001b[39;00m _global_forward_hooks \u001b[38;5;129;01mor\u001b[39;00m _global_forward_pre_hooks):\n\u001b[0;32m-> 1130\u001b[0m     \u001b[38;5;28;01mreturn\u001b[39;00m \u001b[43mforward_call\u001b[49m\u001b[43m(\u001b[49m\u001b[38;5;241;43m*\u001b[39;49m\u001b[38;5;28;43minput\u001b[39;49m\u001b[43m,\u001b[49m\u001b[43m \u001b[49m\u001b[38;5;241;43m*\u001b[39;49m\u001b[38;5;241;43m*\u001b[39;49m\u001b[43mkwargs\u001b[49m\u001b[43m)\u001b[49m\n\u001b[1;32m   1131\u001b[0m \u001b[38;5;66;03m# Do not call functions when jit is used\u001b[39;00m\n\u001b[1;32m   1132\u001b[0m full_backward_hooks, non_full_backward_hooks \u001b[38;5;241m=\u001b[39m [], []\n",
      "File \u001b[0;32m~/anaconda3/envs/pytorch/lib/python3.8/site-packages/torch/nn/modules/normalization.py:189\u001b[0m, in \u001b[0;36mLayerNorm.forward\u001b[0;34m(self, input)\u001b[0m\n\u001b[1;32m    188\u001b[0m \u001b[38;5;28;01mdef\u001b[39;00m \u001b[38;5;21mforward\u001b[39m(\u001b[38;5;28mself\u001b[39m, \u001b[38;5;28minput\u001b[39m: Tensor) \u001b[38;5;241m-\u001b[39m\u001b[38;5;241m>\u001b[39m Tensor:\n\u001b[0;32m--> 189\u001b[0m     \u001b[38;5;28;01mreturn\u001b[39;00m \u001b[43mF\u001b[49m\u001b[38;5;241;43m.\u001b[39;49m\u001b[43mlayer_norm\u001b[49m\u001b[43m(\u001b[49m\n\u001b[1;32m    190\u001b[0m \u001b[43m        \u001b[49m\u001b[38;5;28;43minput\u001b[39;49m\u001b[43m,\u001b[49m\u001b[43m \u001b[49m\u001b[38;5;28;43mself\u001b[39;49m\u001b[38;5;241;43m.\u001b[39;49m\u001b[43mnormalized_shape\u001b[49m\u001b[43m,\u001b[49m\u001b[43m \u001b[49m\u001b[38;5;28;43mself\u001b[39;49m\u001b[38;5;241;43m.\u001b[39;49m\u001b[43mweight\u001b[49m\u001b[43m,\u001b[49m\u001b[43m \u001b[49m\u001b[38;5;28;43mself\u001b[39;49m\u001b[38;5;241;43m.\u001b[39;49m\u001b[43mbias\u001b[49m\u001b[43m,\u001b[49m\u001b[43m \u001b[49m\u001b[38;5;28;43mself\u001b[39;49m\u001b[38;5;241;43m.\u001b[39;49m\u001b[43meps\u001b[49m\u001b[43m)\u001b[49m\n",
      "File \u001b[0;32m~/anaconda3/envs/pytorch/lib/python3.8/site-packages/torch/nn/functional.py:2503\u001b[0m, in \u001b[0;36mlayer_norm\u001b[0;34m(input, normalized_shape, weight, bias, eps)\u001b[0m\n\u001b[1;32m   2499\u001b[0m \u001b[38;5;28;01mif\u001b[39;00m has_torch_function_variadic(\u001b[38;5;28minput\u001b[39m, weight, bias):\n\u001b[1;32m   2500\u001b[0m     \u001b[38;5;28;01mreturn\u001b[39;00m handle_torch_function(\n\u001b[1;32m   2501\u001b[0m         layer_norm, (\u001b[38;5;28minput\u001b[39m, weight, bias), \u001b[38;5;28minput\u001b[39m, normalized_shape, weight\u001b[38;5;241m=\u001b[39mweight, bias\u001b[38;5;241m=\u001b[39mbias, eps\u001b[38;5;241m=\u001b[39meps\n\u001b[1;32m   2502\u001b[0m     )\n\u001b[0;32m-> 2503\u001b[0m \u001b[38;5;28;01mreturn\u001b[39;00m \u001b[43mtorch\u001b[49m\u001b[38;5;241;43m.\u001b[39;49m\u001b[43mlayer_norm\u001b[49m\u001b[43m(\u001b[49m\u001b[38;5;28;43minput\u001b[39;49m\u001b[43m,\u001b[49m\u001b[43m \u001b[49m\u001b[43mnormalized_shape\u001b[49m\u001b[43m,\u001b[49m\u001b[43m \u001b[49m\u001b[43mweight\u001b[49m\u001b[43m,\u001b[49m\u001b[43m \u001b[49m\u001b[43mbias\u001b[49m\u001b[43m,\u001b[49m\u001b[43m \u001b[49m\u001b[43meps\u001b[49m\u001b[43m,\u001b[49m\u001b[43m \u001b[49m\u001b[43mtorch\u001b[49m\u001b[38;5;241;43m.\u001b[39;49m\u001b[43mbackends\u001b[49m\u001b[38;5;241;43m.\u001b[39;49m\u001b[43mcudnn\u001b[49m\u001b[38;5;241;43m.\u001b[39;49m\u001b[43menabled\u001b[49m\u001b[43m)\u001b[49m\n",
      "\u001b[0;31mRuntimeError\u001b[0m: CUDA out of memory. Tried to allocate 72.00 MiB (GPU 0; 10.76 GiB total capacity; 9.44 GiB already allocated; 35.81 MiB free; 9.67 GiB reserved in total by PyTorch) If reserved memory is >> allocated memory try setting max_split_size_mb to avoid fragmentation.  See documentation for Memory Management and PYTORCH_CUDA_ALLOC_CONF"
     ]
    }
   ],
   "source": [
    "import matplotlib.pyplot as plt\n",
    "stim = dataset[:1000]['stim']\n",
    "stim = stim.to(device)\n",
    "# plot the histogram of the predicted spike rates\n",
    "pred = model(stim).detach().cpu().numpy().flatten()\n",
    "_ = plt.hist(pred, bins=100)"
   ]
  },
  {
   "cell_type": "code",
   "execution_count": null,
   "metadata": {
    "collapsed": false
   },
   "outputs": [],
   "source": []
  },
  {
   "cell_type": "markdown",
   "metadata": {
    "collapsed": false
   },
   "source": [
    "# plot the predictions vs the ground truth"
   ]
  },
  {
   "cell_type": "code",
   "execution_count": 49,
   "metadata": {
    "ExecuteTime": {
     "end_time": "2023-04-11T11:04:48.707440Z",
     "start_time": "2023-04-11T11:04:47.280387Z"
    },
    "collapsed": false
   },
   "outputs": [
    {
     "name": "stderr",
     "output_type": "stream",
     "text": [
      "/tmp/ipykernel_370786/1501634465.py:32: VisibleDeprecationWarning: Creating an ndarray from ragged nested sequences (which is a list-or-tuple of lists-or-tuples-or ndarrays with different lengths or shapes) is deprecated. If you meant to do this, you must specify 'dtype=object' when creating the ndarray.\n",
      "  robs_preds = np.array(robs_preds)\n"
     ]
    },
    {
     "ename": "IndexError",
     "evalue": "too many indices for array: array is 1-dimensional, but 2 were indexed",
     "output_type": "error",
     "traceback": [
      "\u001b[0;31m---------------------------------------------------------------------------\u001b[0m",
      "\u001b[0;31mIndexError\u001b[0m                                Traceback (most recent call last)",
      "Cell \u001b[0;32mIn[49], line 34\u001b[0m\n\u001b[1;32m     31\u001b[0m robs_trues \u001b[38;5;241m=\u001b[39m np\u001b[38;5;241m.\u001b[39marray(robs_trues)\n\u001b[1;32m     32\u001b[0m robs_preds \u001b[38;5;241m=\u001b[39m np\u001b[38;5;241m.\u001b[39marray(robs_preds)\n\u001b[0;32m---> 34\u001b[0m \u001b[38;5;28mprint\u001b[39m(np\u001b[38;5;241m.\u001b[39mmin(\u001b[43mrobs_preds\u001b[49m\u001b[43m[\u001b[49m\u001b[43m:\u001b[49m\u001b[43m,\u001b[49m\u001b[38;5;241;43m1\u001b[39;49m\u001b[43m]\u001b[49m), np\u001b[38;5;241m.\u001b[39mmax(robs_preds[:,\u001b[38;5;241m1\u001b[39m]))\n\u001b[1;32m     35\u001b[0m \u001b[38;5;28mprint\u001b[39m(np\u001b[38;5;241m.\u001b[39mmin(robs_trues[:,\u001b[38;5;241m1\u001b[39m]), np\u001b[38;5;241m.\u001b[39mmax(robs_trues[:,\u001b[38;5;241m1\u001b[39m]))\n\u001b[1;32m     37\u001b[0m \u001b[38;5;66;03m# plot a histogram of the predictions\u001b[39;00m\n",
      "\u001b[0;31mIndexError\u001b[0m: too many indices for array: array is 1-dimensional, but 2 were indexed"
     ]
    }
   ],
   "source": [
    "import matplotlib.pyplot as plt\n",
    "import numpy as np\n",
    "from sklearn.metrics import r2_score\n",
    "\n",
    "# Get all validation data\n",
    "val_data = torch.utils.data.Subset(dataset, dataset.val_inds)\n",
    "val_loader = torch.utils.data.DataLoader(val_data, batch_size=2000, shuffle=False)\n",
    "\n",
    "# Get predictions and ground truth values\n",
    "robs_preds = []\n",
    "robs_trues = []\n",
    "model.eval()\n",
    "with torch.no_grad():\n",
    "    for batch in val_loader:\n",
    "        stim = batch['stim'].to(device)\n",
    "        robs_true = batch['robs'].cpu().numpy()\n",
    "        # divide the spike rate by the max spike rate\n",
    "        robs_true = robs_true / max_spike_rate\n",
    "        \n",
    "        robs_pred = model(stim).cpu().numpy()\n",
    "        # multiply the spike rate by the max spike rate\n",
    "        #robs_pred = robs_pred * max_spike_rate\n",
    "        \n",
    "        robs_preds.extend(robs_pred)\n",
    "        robs_trues.extend(robs_true)\n",
    "\n",
    "# Calculate R^2 value\n",
    "r2 = r2_score(robs_true, robs_pred)\n",
    "print(f'R^2 = {r2:.4f}')\n",
    "\n",
    "robs_trues = np.array(robs_trues)\n",
    "robs_preds = np.array(robs_preds)\n",
    "\n",
    "print(np.min(robs_preds[:,1]), np.max(robs_preds[:,1]))\n",
    "print(np.min(robs_trues[:,1]), np.max(robs_trues[:,1]))\n",
    "\n",
    "# plot a histogram of the predictions\n",
    "plt.figure(figsize=(10, 5))\n",
    "plt.hist(robs_preds[:,1], bins=100, label='Predicted')\n",
    "#plt.hist(robs_trues[:,1], bins=100, label='Actual')\n",
    "plt.xlabel('Spike rate')\n",
    "plt.ylabel('Count')\n",
    "plt.title('Histogram of Predicted vs. Actual Spike Rates')\n",
    "plt.legend()"
   ]
  },
  {
   "cell_type": "code",
   "execution_count": 85,
   "metadata": {
    "ExecuteTime": {
     "end_time": "2023-04-11T10:53:55.757445Z",
     "start_time": "2023-04-11T10:53:55.603010Z"
    },
    "collapsed": false
   },
   "outputs": [
    {
     "data": {
      "image/png": "[encoded data removed]",
      "text/plain": [
       "<Figure size 1000x500 with 1 Axes>"
      ]
     },
     "metadata": {},
     "output_type": "display_data"
    }
   ],
   "source": [
    "# Plot predictions and ground truth values\n",
    "plt.figure(figsize=(10, 5))\n",
    "plt.plot(robs_trues[:100,1], 'b-', label='Actual robs')\n",
    "plt.plot(robs_preds[:100,1], 'r-', label='Predicted robs')\n",
    "plt.xlabel('Time bins')\n",
    "plt.ylabel('Spike rates')\n",
    "plt.title(f'Actual vs. Predicted Spike Rates (R^2 = {r2:.4f})')\n",
    "plt.legend()\n",
    "plt.show()"
   ]
  },
  {
   "cell_type": "code",
   "execution_count": null,
   "metadata": {
    "collapsed": false
   },
   "outputs": [],
   "source": []
  },
  {
   "cell_type": "code",
   "execution_count": 149,
   "metadata": {
    "ExecuteTime": {
     "end_time": "2023-04-04T13:44:52.067750Z",
     "start_time": "2023-04-04T13:44:52.065070Z"
    },
    "collapsed": false
   },
   "outputs": [],
   "source": [
    "mx = 360 # max sequence length # 360 / 10 frames = 36 pixels per frame\n",
    "NC = 11\n",
    "final = False\n",
    "\n",
    "num_epochs = 2\n",
    "max_pool = True\n",
    "gradient_clipping = -1\n",
    "lr = 0.0001\n",
    "lr_warmup = 1000\n",
    "depth = 6\n",
    "num_heads = 6\n",
    "stim_length = 36\n",
    "\n",
    "\n",
    "model = NTransformer1D(stim=stim_length, heads=num_heads, depth=depth, seq_length=mx, num_neurons=dataset.NC, max_pool=max_pool)\n",
    "\n",
    "model.to(device)\n",
    "\n",
    "opt = torch.optim.Adam(lr=lr, params=model.parameters())\n",
    "sch = torch.optim.lr_scheduler.LambdaLR(opt, lambda i: min(i / (lr_warmup / batch_size), 1.0))"
   ]
  },
  {
   "cell_type": "markdown",
   "metadata": {
    "collapsed": false
   },
   "source": [
    "# training loop"
   ]
  },
  {
   "cell_type": "code",
   "execution_count": 150,
   "metadata": {
    "ExecuteTime": {
     "end_time": "2023-04-04T13:44:52.067938Z",
     "start_time": "2023-04-04T13:44:52.067069Z"
    },
    "collapsed": false
   },
   "outputs": [],
   "source": [
    "def batch_to_sequences(batch, device):\n",
    "    stim = batch['stim']\n",
    "    robs = batch['robs']\n",
    "    \n",
    "    stim = stim.to(device)\n",
    "    robs = robs.to(device)\n",
    "    \n",
    "    #print('stim', stim.shape)\n",
    "    #print('robs', robs.shape)\n",
    "    \n",
    "    if stim.shape[0] < 1000:\n",
    "        return None, None\n",
    "\n",
    "    # reshape the batch stim into a small set of batches of the desired sequence length\n",
    "    # 1000 x 36 --> 10 x 100 x 36\n",
    "    # TODO: this is not correct,\n",
    "    #  we want to stack the 36 dim vectors into a sequence\n",
    "    #  making a 3D vector: batch_size x seq_len x 36\n",
    "    stim_sequence = stim.reshape(10, 100, 36)\n",
    "    \n",
    "    # reshape the batch robs into a small set of batches of the desired sequence length\n",
    "    # 1000 x 11 --> 100 x 110\n",
    "    robs_sequence = robs.reshape(10, 100, 11)\n",
    "    \n",
    "    return stim_sequence, robs_sequence"
   ]
  },
  {
   "cell_type": "code",
   "execution_count": 155,
   "metadata": {
    "ExecuteTime": {
     "end_time": "2023-04-04T13:49:17.020459Z",
     "start_time": "2023-04-04T13:49:16.160166Z"
    },
    "collapsed": false
   },
   "outputs": [
    {
     "name": "stdout",
     "output_type": "stream",
     "text": [
      "\n",
      " epoch 0\n"
     ]
    },
    {
     "name": "stderr",
     "output_type": "stream",
     "text": [
      "  0%|                                                                                                       | 0/275 [00:00<?, ?it/s]\n"
     ]
    },
    {
     "name": "stdout",
     "output_type": "stream",
     "text": [
      "out tensor(-2.4000, device='cuda:0', grad_fn=<MeanBackward0>) tensor(0.0642, device='cuda:0', grad_fn=<StdBackward0>)\n",
      "robs tensor(0.2726, device='cuda:0') tensor(0.6457, device='cuda:0')\n"
     ]
    },
    {
     "name": "stderr",
     "output_type": "stream",
     "text": [
      "100%|███████████████████████████████████████████████████████████████████████████████████████████████| 69/69 [00:00<00:00, 85.87it/s]\n"
     ]
    }
   ],
   "source": [
    "losses = []\n",
    "seen = 0\n",
    "for e in range(1):\n",
    "    print(f'\\n epoch {e}')\n",
    "    model.train(True)\n",
    "\n",
    "    for batch in tqdm.tqdm(train_dl):\n",
    "        opt.zero_grad()\n",
    "\n",
    "        # convert the batch to sequences\n",
    "        stim_sequence, robs_sequence = batch_to_sequences(batch, device)\n",
    "        \n",
    "        if stim_sequence is None:\n",
    "            continue\n",
    "\n",
    "        # TODO: I don't think the output is being properly normalized\n",
    "        out = model(stim_sequence)\n",
    "        print('out', torch.mean(out), torch.std(out))\n",
    "        print('robs', torch.mean(robs_sequence), torch.std(robs_sequence))\n",
    "        loss = F.mse_loss(out, robs_sequence)\n",
    "        losses.append(loss.detach().cpu().numpy())\n",
    "\n",
    "        loss.backward()\n",
    "\n",
    "        # clip gradients\n",
    "        # - If the total gradient vector has a length > 1, we clip it back down to 1.\n",
    "        if gradient_clipping > 0.0:\n",
    "            nn.utils.clip_grad_norm_(model.parameters(),gradient_clipping)\n",
    "\n",
    "        opt.step()\n",
    "        sch.step()\n",
    "\n",
    "        seen += stim_sequence.size(0)\n",
    "        break\n",
    "\n",
    "    with torch.no_grad():\n",
    "        model.train(False)\n",
    "        tot, cor= 0.0, 0.0\n",
    "\n",
    "        for batch in tqdm.tqdm(valid_dl):\n",
    "            stim_sequence, robs_sequence = batch_to_sequences(batch, device)\n",
    "            if stim_sequence is None:\n",
    "                continue\n",
    "            out = model(stim_sequence)\n"
   ]
  },
  {
   "cell_type": "code",
   "execution_count": 152,
   "metadata": {
    "ExecuteTime": {
     "end_time": "2023-04-04T13:45:25.466427Z",
     "start_time": "2023-04-04T13:45:25.357641Z"
    },
    "collapsed": false
   },
   "outputs": [
    {
     "data": {
      "text/plain": [
       "[<matplotlib.lines.Line2D at 0x7f4936322df0>]"
      ]
     },
     "execution_count": 152,
     "metadata": {},
     "output_type": "execute_result"
    },
    {
     "data": {
      "image/png": "[encoded data removed]",
      "text/plain": [
       "<Figure size 640x480 with 1 Axes>"
      ]
     },
     "metadata": {},
     "output_type": "display_data"
    }
   ],
   "source": [
    "import matplotlib.pyplot as plt\n",
    "plt.plot(losses)"
   ]
  },
  {
   "cell_type": "code",
   "execution_count": 152,
   "metadata": {
    "ExecuteTime": {
     "end_time": "2023-04-04T13:45:25.466605Z",
     "start_time": "2023-04-04T13:45:25.466084Z"
    },
    "collapsed": false
   },
   "outputs": [],
   "source": []
  },
  {
   "cell_type": "markdown",
   "metadata": {
    "collapsed": false
   },
   "source": [
    "# test the model"
   ]
  },
  {
   "cell_type": "code",
   "execution_count": 158,
   "metadata": {
    "ExecuteTime": {
     "end_time": "2023-04-04T15:12:12.147572Z",
     "start_time": "2023-04-04T15:12:11.186955Z"
    },
    "collapsed": false
   },
   "outputs": [
    {
     "name": "stderr",
     "output_type": "stream",
     "text": [
      "100%|███████████████████████████████████████████████████████████████████████████████████████████████| 69/69 [00:00<00:00, 86.28it/s]\n"
     ]
    },
    {
     "data": {
      "text/plain": [
       "<matplotlib.legend.Legend at 0x7f49354bf0d0>"
      ]
     },
     "execution_count": 158,
     "metadata": {},
     "output_type": "execute_result"
    },
    {
     "data": {
      "image/png": "[encoded data removed]",
      "text/plain": [
       "<Figure size 640x480 with 1 Axes>"
      ]
     },
     "metadata": {},
     "output_type": "display_data"
    }
   ],
   "source": [
    "import matplotlib.pyplot as plt\n",
    "\n",
    "outs = []\n",
    "robs_sequences = []\n",
    "for batch in tqdm.tqdm(valid_dl):\n",
    "    stim_sequence, robs_sequence = batch_to_sequences(batch, device)\n",
    "    if stim_sequence is None:\n",
    "        continue\n",
    "    robs_sequences.append(robs_sequence)\n",
    "    out = model(stim_sequence)\n",
    "    outs.append(out)\n",
    "    \n",
    "# normalize the outputs and robs\n",
    "# normalized_outs = []\n",
    "# normalized_robs_sequences = []\n",
    "# for out, robs_sequence in zip(outs, robs_sequences):\n",
    "#     out = out / torch.max(out)\n",
    "#     robs_sequence = robs_sequence / torch.max(robs_sequence)\n",
    "#     normalized_outs.append(out)\n",
    "#     normalized_robs_sequences.append(robs_sequence)\n",
    "\n",
    "i = 100\n",
    "for out, robs_sequence in zip(outs, robs_sequences):\n",
    "    plt.plot(range(i-100,i), out[0,:,1].cpu().detach().numpy(), label='out')\n",
    "    plt.plot(range(i-100,i), robs_sequence[0,:,1].cpu().detach().numpy(), label='robs')\n",
    "    i += 100\n",
    "    if i > 200: break\n",
    "plt.legend()"
   ]
  },
  {
   "cell_type": "code",
   "execution_count": 153,
   "metadata": {
    "ExecuteTime": {
     "end_time": "2023-04-04T13:45:26.521807Z",
     "start_time": "2023-04-04T13:45:26.521426Z"
    },
    "collapsed": false
   },
   "outputs": [],
   "source": []
  }
 ],
 "metadata": {
  "kernelspec": {
   "display_name": "Python 3",
   "language": "python",
   "name": "python3"
  },
  "language_info": {
   "codemirror_mode": {
    "name": "ipython",
    "version": 2
   },
   "file_extension": ".py",
   "mimetype": "text/x-python",
   "name": "python",
   "nbconvert_exporter": "python",
   "pygments_lexer": "ipython2",
   "version": "2.7.6"
  }
 },
 "nbformat": 4,
 "nbformat_minor": 0
}
