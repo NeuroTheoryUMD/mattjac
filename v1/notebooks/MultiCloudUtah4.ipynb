{
 "cells": [
  {
   "cell_type": "markdown",
   "id": "8b85bd2da9206cef",
   "metadata": {
    "collapsed": false
   },
   "source": [
    "# Multi-array: Utah 4"
   ]
  },
  {
   "cell_type": "code",
   "execution_count": 2,
   "id": "f3449c63777be4cd",
   "metadata": {
    "ExecuteTime": {
     "end_time": "2023-08-15T13:31:02.604743Z",
     "start_time": "2023-08-15T13:31:00.855023Z"
    },
    "collapsed": false
   },
   "outputs": [
    {
     "name": "stdout",
     "output_type": "stream",
     "text": [
      "Running on Computer: [ca1]\n",
      "Invoking __init__.py for NDNT.utils\n",
      "Save_dir = /home/dbutts/ColorV1/CLRworkspace/\n",
      "cuda:0\n"
     ]
    }
   ],
   "source": [
    "import sys\n",
    "import os\n",
    "import h5py \n",
    "\n",
    "# setup paths\n",
    "iteration = 1 # which version of this tutorial to run (in case want results in different dirs)\n",
    "NBname = 'color_cloud_initial{}'.format(iteration)\n",
    "\n",
    "myhost = os.uname()[1] # get name of machine/\n",
    "print(\"Running on Computer: [%s]\" %myhost)\n",
    "\n",
    "if myhost=='hoser':\n",
    "    sys.path.insert(0, '/Users/dbutts/')\n",
    "    dirname = os.path.join('.', 'checkpoints')\n",
    "    datadir = '/Users/dbutts/V1/Conway/'\n",
    "else:\n",
    "    sys.path.insert(0, '/home/dbutts/Code/') \n",
    "    datadir = '/home/dbutts/ColorV1/Data/'  \n",
    "    dirname = '/home/dbutts/ColorV1/CLRworkspace/' # Working directory \n",
    "\n",
    "import numpy as np\n",
    "import scipy.io as sio\n",
    "from copy import deepcopy\n",
    "\n",
    "# plotting\n",
    "import matplotlib.pyplot as plt\n",
    "\n",
    "# Import torch\n",
    "import torch\n",
    "from torch import nn\n",
    "\n",
    "# NDN tools\n",
    "import NDNT.utils as utils # some other utilities\n",
    "import NDNT.NDNT as NDN\n",
    "from NDNT.modules.layers import *\n",
    "from NDNT.networks import *\n",
    "from time import time\n",
    "import dill\n",
    "\n",
    "from NTdatasets.generic import GenericDataset\n",
    "import NTdatasets.conway.cloud_datasets as datasets\n",
    "import NTdatasets.conway.multi_datasets as multidata\n",
    "\n",
    "# Utilities\n",
    "import ColorDataUtils.ConwayUtils as CU\n",
    "import ColorDataUtils.EyeTrackingUtils as ETutils\n",
    "from NDNT.utils import imagesc   # because I'm lazy\n",
    "from NDNT.utils import ss        # because I'm real lazy\n",
    "\n",
    "device = torch.device(\"cuda:0\" if torch.cuda.is_available() else \"cpu\")\n",
    "device0 = torch.device(\"cpu\")\n",
    "dtype = torch.float32\n",
    "\n",
    "# Where saved models and checkpoints go -- this is to be automated\n",
    "print( 'Save_dir =', dirname)\n",
    "print(device)\n",
    "%load_ext autoreload\n",
    "%autoreload 2"
   ]
  },
  {
   "cell_type": "markdown",
   "id": "52a499da52eb191c",
   "metadata": {
    "collapsed": false
   },
   "source": [
    "## Data preprocessing"
   ]
  },
  {
   "cell_type": "code",
   "execution_count": 9,
   "id": "2028eb1b34a94f48",
   "metadata": {
    "ExecuteTime": {
     "end_time": "2023-08-15T13:33:03.043581Z",
     "start_time": "2023-08-15T13:33:03.024913Z"
    },
    "collapsed": false
   },
   "outputs": [
    {
     "name": "stdout",
     "output_type": "stream",
     "text": [
      "0 J220715  |  J220715/J220715_CC_CC_v08\n"
     ]
    }
   ],
   "source": [
    "#expts = ['J220715','J220722','J220801','J220808']\n",
    "expts = ['J220715']\n",
    "\n",
    "pdir = datadir+'proc/'\n",
    "NE = len(expts)\n",
    "fns = []\n",
    "for ee in range(NE):\n",
    "    #fns.append(\"Jocamo_%s_full_CC_ETCC_nofix_v08\"%edates[ee])\n",
    "    fns.append( \"%s/%s_CC_CC_v08\"%(expts[ee], expts[ee]) )\n",
    "    print(ee, expts[ee], ' | ', fns[ee] )\n",
    "\n",
    "shifts = [None]*NE\n",
    "metrics = [None]*NE\n",
    "eLLsNULL = [None]*NE\n",
    "eLLsGLM = [None]*NE\n",
    "eLLsGQM = [None]*NE\n",
    "eRFcenters = [None]*NE\n",
    "edrifts = [None]*NE\n",
    "tcs = [None]*NE\n",
    "cell_lists = [None]*NE"
   ]
  },
  {
   "cell_type": "code",
   "execution_count": 10,
   "id": "7af7210bc3d0aa9d",
   "metadata": {
    "ExecuteTime": {
     "end_time": "2023-08-15T13:33:03.664595Z",
     "start_time": "2023-08-15T13:33:03.645088Z"
    },
    "collapsed": false
   },
   "outputs": [
    {
     "data": {
      "text/plain": [
       "dict_keys(['__header__', '__version__', '__globals__', 'LLsNULL', 'LLsGLM', 'drift_terms', 'Dreg', 'RFcenters', 'top_corner', 'valUT', 'NX'])"
      ]
     },
     "execution_count": 10,
     "metadata": {},
     "output_type": "execute_result"
    }
   ],
   "source": [
    "ee = 0\n",
    "matdat = sio.loadmat(datadir+\"%s/%s_UT_stimpos.mat\"%(expts[ee], expts[ee]))\n",
    "test = np.array(matdat['drift_terms'], dtype=np.float32)\n",
    "matdat.keys()"
   ]
  },
  {
   "cell_type": "code",
   "execution_count": 11,
   "id": "6fddaea62480c4ab",
   "metadata": {
    "ExecuteTime": {
     "end_time": "2023-08-15T13:33:04.158071Z",
     "start_time": "2023-08-15T13:33:04.138575Z"
    },
    "collapsed": false
   },
   "outputs": [],
   "source": [
    "for ee in range(NE):\n",
    "    matdat = sio.loadmat(datadir+\"%s/%s_UT_stimpos.mat\"%(expts[ee], expts[ee]))\n",
    "    cell_lists[ee] = np.array(matdat['val_lam'], dtype=np.int64).squeeze()\n",
    "    cell_lists[ee] = np.array(matdat['valUT'], dtype=np.int64).squeeze()\n",
    "    eLLsNULL[ee] = np.array(matdat['LLsNULL'], dtype=np.float32).squeeze()\n",
    "    eLLsGLM[ee] = np.array(matdat['LLsGLM'], dtype=np.float32).squeeze()\n",
    "    edrifts[ee] = np.array(matdat['drift_terms'], dtype=np.float32)\n",
    "    eRFcenters[ee] = np.array(matdat['RFcenters'], dtype=np.int64)\n",
    "    tcs[ee] = np.array(matdat['top_corner'], dtype=np.int64).squeeze()\n",
    "\n",
    "    # Shifts\n",
    "    matdat = sio.loadmat(datadir+\"%s/%s_CC_CC_shifts_best.mat\"%(expts[ee], expts[ee]))\n",
    "    shifts[ee] = np.array(matdat['ETshifts'], dtype=np.int64)\n",
    "    metrics[ee] = np.array(matdat['ETmetrics'], dtype=np.float32).squeeze()"
   ]
  },
  {
   "cell_type": "code",
   "execution_count": 12,
   "id": "dc3a09bcbc091646",
   "metadata": {
    "ExecuteTime": {
     "end_time": "2023-08-15T13:33:09.055901Z",
     "start_time": "2023-08-15T13:33:06.101611Z"
    },
    "collapsed": false
   },
   "outputs": [
    {
     "name": "stdout",
     "output_type": "stream",
     "text": [
      "  FILE_INFO: stim_locsLP list again -- ok but output check\n",
      "167520 total time steps, 239 units\n",
      "2.43 sec elapsed\n"
     ]
    }
   ],
   "source": [
    "num_lags=16\n",
    "\n",
    "t0 = time()\n",
    "mdata = multidata.MultiClouds(\n",
    "    datadir=datadir, filenames=fns, eye_config=3, drift_interval=16,\n",
    "    luminance_only=True, binocular=False, include_MUs=True, num_lags=num_lags,\n",
    "    cell_lists=cell_lists,\n",
    "    trial_sample=True)\n",
    "t1 = time()\n",
    "print(\"%0.2f sec elapsed\"%(t1-t0))\n",
    "\n",
    "for ee in range(NE):\n",
    "    DFdat = sio.loadmat(datadir + expts[ee] + '/%s_CC_CC_DFupdate.mat'%expts[ee])\n",
    "    mdata.updateDF( ee, DFdat['XDF'] )"
   ]
  },
  {
   "cell_type": "code",
   "execution_count": null,
   "id": "62377e6bb1e0f162",
   "metadata": {
    "collapsed": false
   },
   "outputs": [],
   "source": [
    "mdata.fileNT"
   ]
  },
  {
   "cell_type": "code",
   "execution_count": 13,
   "id": "642e83e919f6a4a1",
   "metadata": {
    "ExecuteTime": {
     "end_time": "2023-08-15T13:34:22.593966Z",
     "start_time": "2023-08-15T13:33:12.214324Z"
    },
    "collapsed": false
   },
   "outputs": [
    {
     "name": "stdout",
     "output_type": "stream",
     "text": [
      "  Stim expansion for shift: [885, 477, 985, 577]\n",
      "  Writing lam stim 0: overlap 60, 60\n",
      "  Writing lam stim 1: overlap 60, 38\n",
      "  Writing lam stim 2: overlap 18, 38\n",
      "  Writing lam stim 3: overlap 18, 60\n",
      "  Writing ETstim 0: overlap 22, 38\n",
      "  Writing ETstim 1: overlap 22, 60\n",
      "  Adding fixation point\n",
      "  Shifting stim...\n"
     ]
    },
    {
     "name": "stderr",
     "output_type": "stream",
     "text": [
      "100%|█████████████████████████████████████████| 34/34 [00:19<00:00,  1.75it/s]\n"
     ]
    },
    {
     "name": "stdout",
     "output_type": "stream",
     "text": [
      "  CROP: New stim size: 60 x 60\n",
      "  Done: expt 0\n",
      "Stimulus assembly complete\n"
     ]
    }
   ],
   "source": [
    "L = 60\n",
    "for ee in range(NE):\n",
    "    mdata.build_stim( ee, top_corner=tcs[ee]-[15,15], L=L, shifts=shifts[ee] )\n",
    "mdata.assemble_stim()"
   ]
  },
  {
   "cell_type": "code",
   "execution_count": null,
   "id": "b36c31f5dbcac81a",
   "metadata": {
    "collapsed": false
   },
   "outputs": [],
   "source": [
    "stas = torch.zeros([L**2, mdata.NC])\n",
    "nspks = torch.zeros(mdata.NC)\n",
    "bsize = 40\n",
    "lag = 4\n",
    "for bb in range(len(mdata.block_inds)//bsize):\n",
    "    ts =  np.arange(bb*bsize, (bb+1)*bsize)\n",
    "    Reff = torch.mul(mdata[ts]['robs'], mdata[ts]['dfs'])\n",
    "    nspks += torch.sum(Reff, axis=0)\n",
    "    stas += (mdata[ts]['stim'][:-lag, ...].T @ Reff[lag:,:])\n",
    "\n",
    "stas0 = (stas/nspks).reshape([L,L,mdata.NC]).detach().numpy()\n",
    "stas0.shape"
   ]
  },
  {
   "cell_type": "code",
   "execution_count": null,
   "id": "a14e0efac74d4af9",
   "metadata": {
    "collapsed": false
   },
   "outputs": [],
   "source": [
    "ss(117,5)\n",
    "for cc in range(mdata.NC):\n",
    "    #for clr in range(3):\n",
    "    plt.subplot(117,5, cc+1)\n",
    "    imagesc(stas0[:,:,cc])\n",
    "    plt.title('c%d'%cc)\n",
    "plt.show()"
   ]
  },
  {
   "cell_type": "code",
   "execution_count": null,
   "id": "6fc584c93127e47",
   "metadata": {
    "collapsed": false
   },
   "outputs": [],
   "source": [
    "## Difference in cells included in 7/15 dataset\n",
    "set(test)-set(cell_lists[0])"
   ]
  },
  {
   "cell_type": "code",
   "execution_count": null,
   "id": "c886a2ff0766a760",
   "metadata": {
    "collapsed": false
   },
   "outputs": [],
   "source": [
    "eRFcenters[0].shape"
   ]
  },
  {
   "cell_type": "code",
   "execution_count": null,
   "id": "72a954bee6dd7d8b",
   "metadata": {
    "collapsed": false
   },
   "outputs": [],
   "source": []
  },
  {
   "cell_type": "code",
   "execution_count": null,
   "id": "87a54fdb435ce0d0",
   "metadata": {
    "collapsed": false
   },
   "outputs": [],
   "source": []
  }
 ],
 "metadata": {
  "kernelspec": {
   "display_name": "Python 3",
   "language": "python",
   "name": "python3"
  },
  "language_info": {
   "codemirror_mode": {
    "name": "ipython",
    "version": 2
   },
   "file_extension": ".py",
   "mimetype": "text/x-python",
   "name": "python",
   "nbconvert_exporter": "python",
   "pygments_lexer": "ipython2",
   "version": "2.7.6"
  }
 },
 "nbformat": 4,
 "nbformat_minor": 5
}
