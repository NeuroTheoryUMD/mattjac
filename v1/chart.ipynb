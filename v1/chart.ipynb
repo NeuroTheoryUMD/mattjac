{
 "cells": [
  {
   "cell_type": "code",
   "execution_count": 143,
   "id": "2d018894",
   "metadata": {},
   "outputs": [],
   "source": [
    "from IPython.display import display, Javascript, HTML\n",
    "import json\n",
    "\n",
    "def plot(data):\n",
    "    display(Javascript(\"\"\"\n",
    "        (function(element){\n",
    "            require(['plot'], function(plot) {\n",
    "                plot(element.get(0), %s);\n",
    "            });\n",
    "        })(element);\n",
    "    \"\"\" % (json.dumps(data))))"
   ]
  },
  {
   "cell_type": "code",
   "execution_count": 144,
   "id": "5505153d",
   "metadata": {},
   "outputs": [
    {
     "data": {
      "application/javascript": [
       "require.config({paths: {d3: 'https://d3js.org/d3.v5.min', chartjs: 'https://cdnjs.cloudflare.com/ajax/libs/Chart.js/3.7.1/chart.min'}});"
      ],
      "text/plain": [
       "<IPython.core.display.Javascript object>"
      ]
     },
     "metadata": {},
     "output_type": "display_data"
    },
    {
     "data": {
      "application/javascript": [
       "// First undefine 'circles' so we can easily reload this file.\n",
       "require.undef('plot');\n",
       "\n",
       "define('plot', ['d3', 'chartjs'], function (d3, chart) {\n",
       "    function draw(container, data) {\n",
       "        console.log('something');\n",
       "        console.log(data);\n",
       "        \n",
       "        var canvases = d3.select(\"#myChart\")\n",
       "          .selectAll('canvas') // select the nonexistent ps and make them\n",
       "          .data(data)\n",
       "          .enter()\n",
       "          .append('div')\n",
       "          .attr(\"id\", function(d) { return d; });\n",
       "        console.log(canvases);\n",
       "\n",
       "        document.getElementById('#1').innerHTML = '<canvas id=\"chart\"></canvas>';\n",
       "        const ctx = document.getElementById(\"#chart\");\n",
       "        var mychart = new Chart(ctx, {\n",
       "        type: 'bar',\n",
       "        data: {\n",
       "          labels: ['Red', 'Blue', 'Yellow', 'Green', 'Purple', 'Orange'],\n",
       "          datasets: [{\n",
       "            label: '# of Votes',\n",
       "            data: [12, 19, 3, 5, 2, 3],\n",
       "            borderWidth: 1\n",
       "          }]\n",
       "        },\n",
       "        options: {\n",
       "          scales: {\n",
       "            y: {\n",
       "              beginAtZero: true\n",
       "            }\n",
       "          }\n",
       "        }\n",
       "        });\n",
       "        mychart.update();\n",
       "    }\n",
       "\n",
       "    return draw;\n",
       "});\n",
       "\n",
       "console.log('something2');\n",
       "element.append('<small>&#x25C9; &#x25CB; &#x25EF; Loaded plot.js &#x25CC; &#x25CE; &#x25CF;</small>');"
      ],
      "text/plain": [
       "<IPython.core.display.Javascript object>"
      ]
     },
     "metadata": {},
     "output_type": "display_data"
    },
    {
     "data": {
      "text/html": [
       "<div>\n",
       "    <div id=\"myChart\"></div>\n",
       "</div>\n"
      ],
      "text/plain": [
       "<IPython.core.display.HTML object>"
      ]
     },
     "metadata": {},
     "output_type": "display_data"
    },
    {
     "data": {
      "application/javascript": [
       "\n",
       "        (function(element){\n",
       "            require(['plot'], function(plot) {\n",
       "                plot(element.get(0), [1, 2, 3]);\n",
       "            });\n",
       "        })(element);\n",
       "    "
      ],
      "text/plain": [
       "<IPython.core.display.Javascript object>"
      ]
     },
     "metadata": {},
     "output_type": "display_data"
    }
   ],
   "source": [
    "display(Javascript(\"require.config({paths: {d3: 'https://d3js.org/d3.v5.min', chartjs: 'https://cdnjs.cloudflare.com/ajax/libs/Chart.js/3.7.1/chart.min'}});\"))\n",
    "#display(Javascript(\"require.config({paths: {chartjs: 'https://cdnjs.cloudflare.com/ajax/libs/Chart.js/3.7.1/chart.min'}});\"))\n",
    "display(Javascript(filename=\"plot.js\"))\n",
    "display(HTML(filename=\"plot.html\"))\n",
    "# the layers to display\n",
    "plot([1,2,3])"
   ]
  },
  {
   "cell_type": "code",
   "execution_count": null,
   "id": "afcec914",
   "metadata": {},
   "outputs": [],
   "source": []
  },
  {
   "cell_type": "code",
   "execution_count": null,
   "id": "8c80e29b",
   "metadata": {},
   "outputs": [],
   "source": []
  },
  {
   "cell_type": "code",
   "execution_count": null,
   "id": "61094a91",
   "metadata": {},
   "outputs": [],
   "source": []
  }
 ],
 "metadata": {
  "kernelspec": {
   "display_name": "Python 3 (ipykernel)",
   "language": "python",
   "name": "python3"
  },
  "language_info": {
   "codemirror_mode": {
    "name": "ipython",
    "version": 3
   },
   "file_extension": ".py",
   "mimetype": "text/x-python",
   "name": "python",
   "nbconvert_exporter": "python",
   "pygments_lexer": "ipython3",
   "version": "3.8.13"
  }
 },
 "nbformat": 4,
 "nbformat_minor": 5
}
