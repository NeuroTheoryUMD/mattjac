{
 "cells": [
  {
   "cell_type": "code",
   "execution_count": 3,
   "metadata": {
    "ExecuteTime": {
     "end_time": "2023-06-01T23:37:52.980983Z",
     "start_time": "2023-06-01T23:37:52.977021Z"
    },
    "collapsed": true
   },
   "outputs": [
    {
     "data": {
      "text/plain": [
       "[{'name': 'John', 'age': 22}]"
      ]
     },
     "execution_count": 3,
     "metadata": {},
     "output_type": "execute_result"
    }
   ],
   "source": [
    "from tinydb import TinyDB, Query\n",
    "db = TinyDB('db.json')\n",
    "User = Query()\n",
    "#db.insert({'name': 'John', 'age': 22})\n",
    "db.search(User.name == 'John')"
   ]
  },
  {
   "cell_type": "code",
   "execution_count": 4,
   "metadata": {
    "ExecuteTime": {
     "end_time": "2023-06-01T23:38:35.584409Z",
     "start_time": "2023-06-01T23:38:31.481690Z"
    },
    "collapsed": false
   },
   "outputs": [
    {
     "name": "stdout",
     "output_type": "stream",
     "text": [
      "Invoking __init__.py for NDNT.utils\n"
     ]
    }
   ],
   "source": [
    "import sys\n",
    "# not best practice, but makes it easier to import from subdirectory\n",
    "sys.path.insert(0, './lib')\n",
    "\n",
    "import experiment as exp\n",
    "\n",
    "e = exp.load('iter_exps07_2iters', experiment_location='experiments', datadir='Mdata')"
   ]
  },
  {
   "cell_type": "code",
   "execution_count": 12,
   "metadata": {
    "ExecuteTime": {
     "end_time": "2023-06-01T23:49:41.123631Z",
     "start_time": "2023-06-01T23:49:41.120386Z"
    },
    "collapsed": false
   },
   "outputs": [
    {
     "name": "stdout",
     "output_type": "stream",
     "text": [
      "=== MODEL ===\n",
      "=== NETWORK 0 ===\n",
      "{'ffnet_type': 'scaffold',\n",
      " 'index': 0,\n",
      " 'input_covariate': 'stim',\n",
      " 'inputs': [<model.Input object at 0x7f2ebe1de9a0>],\n",
      " 'layers': [<model.TemporalConvolutionalLayer object at 0x7f2ebcf95f10>,\n",
      "            <model.IterativeTemporalConvolutionalLayer object at 0x7f2ebcf95f40>],\n",
      " 'model': <model.Model object at 0x7f2ec4a49760>,\n",
      " 'name': 'core',\n",
      " 'network_type': <NetworkType.scaffold: 'scaffold'>,\n",
      " 'output': <model.Network object at 0x7f2ebe1dea30>}\n",
      "=== LAYER 0 ===\n",
      "{'index': 0,\n",
      " 'network': <model.Network object at 0x7f2ebe1de9d0>,\n",
      " 'params': {'NLtype': 'relu',\n",
      "            'bias': False,\n",
      "            'filter_width': 17,\n",
      "            'initialize_center': True,\n",
      "            'input_dims': [1, 36, 1, 14],\n",
      "            'internal_layer_type': <class 'NDNT.modules.layers.convlayers.TconvLayer'>,\n",
      "            'norm_type': 1,\n",
      "            'num_filters': 12,\n",
      "            'num_inh': 6,\n",
      "            'num_lags': 12,\n",
      "            'output_norm': 'batch',\n",
      "            'padding': 'spatial',\n",
      "            'pos_constraint': False,\n",
      "            'reg_vals': {'bcs': {'d2xt': 1}, 'center': 0, 'd2xt': 0.0001},\n",
      "            'window': 'hamming'}}\n",
      "=== LAYER 1 ===\n",
      "{'index': 1,\n",
      " 'network': <model.Network object at 0x7f2ebe1de9d0>,\n",
      " 'params': {'NLtype': 'relu',\n",
      "            'bias': False,\n",
      "            'filter_width': 7,\n",
      "            'initialize_center': True,\n",
      "            'internal_layer_type': <class 'NDNT.modules.layers.reslayers.IterTlayer'>,\n",
      "            'norm_type': 1,\n",
      "            'num_filters': 12,\n",
      "            'num_inh': 6,\n",
      "            'num_iter': 2,\n",
      "            'num_lags': 2,\n",
      "            'output_config': 'full',\n",
      "            'output_norm': 'batch',\n",
      "            'padding': 'spatial',\n",
      "            'pos_constraint': False,\n",
      "            'reg_vals': {'activity': 0,\n",
      "                         'bcs': {'d2xt': 1},\n",
      "                         'center': 0,\n",
      "                         'd2xt': 0.0001},\n",
      "            'res_layer': True,\n",
      "            'window': 'hamming'}}\n",
      "=== NETWORK 1 ===\n",
      "{'ffnet_type': 'normal',\n",
      " 'index': 1,\n",
      " 'input_covariate': None,\n",
      " 'inputs': [<model.Network object at 0x7f2ebe1de9d0>],\n",
      " 'layers': [<model.Layer object at 0x7f2ebcf95df0>],\n",
      " 'model': <model.Model object at 0x7f2ec4a49760>,\n",
      " 'name': 'readout',\n",
      " 'network_type': <NetworkType.normal: 'normal'>,\n",
      " 'output': <model.Output object at 0x7f2ebe1dea60>}\n",
      "=== LAYER 0 ===\n",
      "{'index': 0,\n",
      " 'network': <model.Network object at 0x7f2ebe1dea30>,\n",
      " 'params': {'NLtype': 'softplus',\n",
      "            'bias': True,\n",
      "            'initialize_center': True,\n",
      "            'internal_layer_type': <class 'NDNT.modules.layers.ndnlayer.NDNLayer'>,\n",
      "            'norm_type': 0,\n",
      "            'num_filters': 139,\n",
      "            'pos_constraint': True}}\n"
     ]
    }
   ],
   "source": [
    "import pprint\n",
    "print(\"=== MODEL ===\")\n",
    "for ni in range(len(e.trials[0].model.networks)):\n",
    "    print(\"=== NETWORK {} ===\".format(ni))\n",
    "    pprint.pprint(e.trials[0].model.networks[ni].__dict__)\n",
    "    for li in range(len(e.trials[0].model.networks[ni].layers)):\n",
    "        print(\"=== LAYER {} ===\".format(li))\n",
    "        pprint.pprint(e.trials[0].model.networks[ni].layers[li].__dict__)"
   ]
  },
  {
   "cell_type": "code",
   "execution_count": null,
   "metadata": {
    "collapsed": false
   },
   "outputs": [],
   "source": []
  }
 ],
 "metadata": {
  "kernelspec": {
   "display_name": "Python 3",
   "language": "python",
   "name": "python3"
  },
  "language_info": {
   "codemirror_mode": {
    "name": "ipython",
    "version": 2
   },
   "file_extension": ".py",
   "mimetype": "text/x-python",
   "name": "python",
   "nbconvert_exporter": "python",
   "pygments_lexer": "ipython2",
   "version": "2.7.6"
  }
 },
 "nbformat": 4,
 "nbformat_minor": 0
}
