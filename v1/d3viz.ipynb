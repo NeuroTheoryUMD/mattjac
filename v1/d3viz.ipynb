{
 "cells": [
  {
   "cell_type": "code",
   "execution_count": 16,
   "metadata": {},
   "outputs": [],
   "source": [
    "# https://www.stefaanlippens.net/jupyter-custom-d3-visualization.html"
   ]
  },
  {
   "cell_type": "code",
   "execution_count": 17,
   "metadata": {},
   "outputs": [],
   "source": [
    "from IPython.display import display, Javascript, HTML\n",
    "import json"
   ]
  },
  {
   "cell_type": "code",
   "execution_count": 22,
   "metadata": {},
   "outputs": [
    {
     "data": {
      "application/javascript": [
       "require.config({paths: {d3: 'https://d3js.org/d3.v5.min'}});"
      ],
      "text/plain": [
       "<IPython.core.display.Javascript object>"
      ]
     },
     "metadata": {},
     "output_type": "display_data"
    },
    {
     "data": {
      "application/javascript": [
       "// First undefine 'circles' so we can easily reload this file.\n",
       "require.undef('images');\n",
       "\n",
       "define('images', ['d3'], function (d3) {\n",
       "\n",
       "    function draw(container, data, width, height) {\n",
       "        width = width || 600;\n",
       "        height = height || 200;\n",
       "        var svg = d3.select(container).append(\"svg\")\n",
       "            .attr('width', width)\n",
       "            .attr('height', height)\n",
       "            .append(\"g\");\n",
       "\n",
       "        var image = svg.selectAll('image').data(data);\n",
       "\n",
       "        image.enter()\n",
       "            .append('image')\n",
       "            .attr(\"xlink:href\", function (d) {return d;})\n",
       "            .on('mouseover', function() {\n",
       "                d3.select(this)\n",
       "                  .transition('fade').duration(500)\n",
       "                  .attr(\"opacity\", 1);\n",
       "            })\n",
       "            .on('mouseout', function() {\n",
       "                d3.select(this)\n",
       "                    .transition('fade').duration(500)\n",
       "                    .attr(\"opacity\", 0.1);\n",
       "            })\n",
       "            .transition('fade').duration(2000)\n",
       "            .attr(\"opacity\", 1);\n",
       "    }\n",
       "\n",
       "    return draw;\n",
       "});\n",
       "\n",
       "element.append('<small>&#x25C9; &#x25CB; &#x25EF; Loaded images.js &#x25CC; &#x25CE; &#x25CF;</small>');\n"
      ],
      "text/plain": [
       "<IPython.core.display.Javascript object>"
      ]
     },
     "metadata": {},
     "output_type": "display_data"
    },
    {
     "data": {
      "text/html": [
       "<style>\n",
       "svg image {\n",
       "}\n",
       "</style>"
      ],
      "text/plain": [
       "<IPython.core.display.HTML object>"
      ]
     },
     "metadata": {},
     "output_type": "display_data"
    }
   ],
   "source": [
    "display(Javascript(\"require.config({paths: {d3: 'https://d3js.org/d3.v5.min'}});\"))\n",
    "display(Javascript(filename=\"images.js\"))\n",
    "display(HTML(filename=\"images.css.html\"))"
   ]
  },
  {
   "cell_type": "code",
   "execution_count": 23,
   "metadata": {},
   "outputs": [],
   "source": [
    "def draw_image(data, width=600, height=400):\n",
    "    display(Javascript(\"\"\"\n",
    "        (function(element){\n",
    "            require(['images'], function(images) {\n",
    "                images(element.get(0), %s, %d, %d);\n",
    "            });\n",
    "        })(element);\n",
    "    \"\"\" % (json.dumps(data), width, height)))"
   ]
  },
  {
   "cell_type": "code",
   "execution_count": 28,
   "metadata": {},
   "outputs": [],
   "source": [
    "# convert numpy array to base64 encoded string\n",
    "import numpy as np\n",
    "from PIL import Image\n",
    "from matplotlib import cm\n",
    "import base64\n",
    "\n",
    "def convert_to_base64(im):\n",
    "    im = Image.fromarray(np.uint8(cm.inferno(im)*255))\n",
    "    im = im.convert('RGB')\n",
    "\n",
    "    from io import BytesIO \n",
    "    output = BytesIO()\n",
    "    im.save(output, format='JPEG')\n",
    "    im_data = output.getvalue()\n",
    "\n",
    "    image_data = base64.b64encode(im_data)\n",
    "    if not isinstance(image_data, str):\n",
    "        # Python 3, decode from bytes to string\n",
    "        image_data = image_data.decode()\n",
    "    return 'data:image/jpg;base64,' + image_data"
   ]
  },
  {
   "cell_type": "code",
   "execution_count": 35,
   "metadata": {},
   "outputs": [
    {
     "name": "stdout",
     "output_type": "stream",
     "text": [
      "data:image/jpg;base64,/9j/4AAQSkZJRgABAQAAAQABAAD/2wBDAAgGBgcGBQgHBwcJCQgKDBQNDAsLDBkSEw8UHRofHh0aHB\n"
     ]
    },
    {
     "data": {
      "application/javascript": [
       "\n",
       "        (function(element){\n",
       "            require(['images'], function(images) {\n",
       "                images(element.get(0), [\"data:image/jpg;base64,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\"], 100, 100);\n",
       "            });\n",
       "        })(element);\n",
       "    "
      ],
      "text/plain": [
       "<IPython.core.display.Javascript object>"
      ]
     },
     "metadata": {},
     "output_type": "display_data"
    }
   ],
   "source": [
    "data_url = convert_to_base64(np.random.random((100,100)))\n",
    "print(data_url[:100])\n",
    "draw_image([data_url], width=100, height=100)"
   ]
  },
  {
   "cell_type": "code",
   "execution_count": null,
   "metadata": {},
   "outputs": [],
   "source": []
  },
  {
   "cell_type": "code",
   "execution_count": null,
   "metadata": {},
   "outputs": [],
   "source": []
  },
  {
   "cell_type": "code",
   "execution_count": 36,
   "metadata": {},
   "outputs": [
    {
     "data": {
      "application/javascript": [
       "require.config({paths: {d3: 'https://d3js.org/d3.v5.min'}});"
      ],
      "text/plain": [
       "<IPython.core.display.Javascript object>"
      ]
     },
     "metadata": {},
     "output_type": "display_data"
    },
    {
     "data": {
      "application/javascript": [
       "// First undefine 'circles' so we can easily reload this file.\n",
       "require.undef('graphex');\n",
       "\n",
       "define('graphex', ['d3'], function (d3) {\n",
       "\n",
       "    function draw(container, data, width, height) {\n",
       "        width = width || 600;\n",
       "        height = height || 200;\n",
       "        \n",
       "        // set the dimensions and margins of the graph\n",
       "        var margin = {top: 10, right: 30, bottom: 30, left: 40},\n",
       "        width = 400 - margin.left - margin.right,\n",
       "        height = 400 - margin.top - margin.bottom;\n",
       "        \n",
       "        // append the svg object to the body of the page\n",
       "        var svg = d3.select(\"\")\n",
       "        .append(\"svg\")\n",
       "            .attr(\"width\", width + margin.left + margin.right)\n",
       "            .attr(\"height\", height + margin.top + margin.bottom)\n",
       "        .append(\"g\")\n",
       "            .attr(\"transform\",\n",
       "                  \"translate(\" + margin.left + \",\" + margin.top + \")\");\n",
       "        \n",
       "        d3.json(\"https://raw.githubusercontent.com/holtzy/D3-graph-gallery/master/DATA/data_network.json\", function(data) {\n",
       "            // Initialize the links\n",
       "            var link = svg\n",
       "            .selectAll(\"line\")\n",
       "            .data(data.links)\n",
       "            .enter()\n",
       "            .append(\"line\")\n",
       "                .style(\"stroke\", \"#aaa\")\n",
       "            \n",
       "            // Initialize the nodes\n",
       "            var node = svg\n",
       "            .selectAll(\"circle\")\n",
       "            .data(data.nodes)\n",
       "            .enter()\n",
       "            .append(\"circle\")\n",
       "                .attr(\"r\", 20)\n",
       "                .style(\"fill\", \"#69b3a2\")\n",
       "            \n",
       "            // Let's list the force we wanna apply on the network\n",
       "            var simulation = d3.forceSimulation(data.nodes)                 // Force algorithm is applied to data.nodes\n",
       "                .force(\"link\", d3.forceLink()                               // This force provides links between nodes\n",
       "                    .id(function(d) { return d.id; })                       // This provide  the id of a node\n",
       "                    .links(data.links)                                      // and this the list of links\n",
       "                )\n",
       "                .force(\"charge\", d3.forceManyBody().strength(-400))         // This adds repulsion between nodes. Play with the -400 for the repulsion strength\n",
       "                .force(\"center\", d3.forceCenter(width / 2, height / 2))     // This force attracts nodes to the center of the svg area\n",
       "                .on(\"end\", ticked);\n",
       "       \n",
       "            // This function is run at each iteration of the force algorithm, updating the nodes position.\n",
       "            function ticked() {\n",
       "                link\n",
       "                    .attr(\"x1\", function(d) { return d.source.x; })\n",
       "                    .attr(\"y1\", function(d) { return d.source.y; })\n",
       "                    .attr(\"x2\", function(d) { return d.target.x; })\n",
       "                    .attr(\"y2\", function(d) { return d.target.y; });\n",
       "                \n",
       "                node\n",
       "                     .attr(\"cx\", function (d) { return d.x+6; })\n",
       "                     .attr(\"cy\", function(d) { return d.y-6; });\n",
       "            }\n",
       "        });\n",
       "    }\n",
       "\n",
       "    return draw;\n",
       "});\n",
       "\n",
       "element.append('<small>&#x25C9; &#x25CB; &#x25EF; Loaded graphex.js &#x25CC; &#x25CE; &#x25CF;</small>');\n"
      ],
      "text/plain": [
       "<IPython.core.display.Javascript object>"
      ]
     },
     "metadata": {},
     "output_type": "display_data"
    }
   ],
   "source": [
    "display(Javascript(\"require.config({paths: {d3: 'https://d3js.org/d3.v5.min'}});\"))\n",
    "display(Javascript(filename=\"graphex.js\"))"
   ]
  },
  {
   "cell_type": "code",
   "execution_count": 37,
   "metadata": {},
   "outputs": [],
   "source": [
    "def draw_net(data, width=600, height=400):\n",
    "    display(Javascript(\"\"\"\n",
    "        (function(element){\n",
    "            require(['graphex'], function(graphex) {\n",
    "                graphex(element.get(0), %s, %d, %d);\n",
    "            });\n",
    "        })(element);\n",
    "    \"\"\" % (json.dumps(data), width, height)))"
   ]
  },
  {
   "cell_type": "code",
   "execution_count": null,
   "metadata": {
    "collapsed": false
   },
   "outputs": [],
   "source": []
  },
  {
   "cell_type": "code",
   "execution_count": 640,
   "metadata": {},
   "outputs": [
    {
     "data": {
      "application/javascript": [
       "\n",
       "        (function(element){\n",
       "            require(['graphex'], function(graphex) {\n",
       "                graphex(element.get(0), [\"\"], 600, 600);\n",
       "            });\n",
       "        })(element);\n",
       "    "
      ],
      "text/plain": [
       "<IPython.core.display.Javascript object>"
      ]
     },
     "metadata": {},
     "output_type": "display_data"
    }
   ],
   "source": [
    "draw_net([''], 600, 600)"
   ]
  },
  {
   "cell_type": "code",
   "execution_count": null,
   "metadata": {},
   "outputs": [],
   "source": []
  }
 ],
 "metadata": {
  "kernelspec": {
   "display_name": "Python 3 (ipykernel)",
   "language": "python",
   "name": "python3"
  },
  "language_info": {
   "codemirror_mode": {
    "name": "ipython",
    "version": 3
   },
   "file_extension": ".py",
   "mimetype": "text/x-python",
   "name": "python",
   "nbconvert_exporter": "python",
   "pygments_lexer": "ipython3",
   "version": "3.10.8"
  }
 },
 "nbformat": 4,
 "nbformat_minor": 1
}
