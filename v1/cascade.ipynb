{
 "cells": [
  {
   "cell_type": "markdown",
   "metadata": {},
   "source": [
    "## imports"
   ]
  },
  {
   "cell_type": "code",
   "execution_count": 1,
   "metadata": {},
   "outputs": [
    {
     "name": "stdout",
     "output_type": "stream",
     "text": [
      "Running on Computer: [beast]\n",
      "Invoking __init__.py for NDNT.utils\n",
      "Save_dir = ./Monocular/\n"
     ]
    }
   ],
   "source": [
    "import sys\n",
    "import os\n",
    "import h5py\n",
    "import pickle\n",
    "\n",
    "# setup paths\n",
    "iteration = 1 # which version of this tutorial to run (in case want results in different dirs)\n",
    "NBname = 'color_cloud_initial{}'.format(iteration)\n",
    "\n",
    "myhost = os.uname()[1] # get name of machine\n",
    "print(\"Running on Computer: [%s]\" %myhost)\n",
    "\n",
    "datadir = './Mdata/'\n",
    "dirname = './Monocular/' # Working directory \n",
    "\n",
    "import numpy as np\n",
    "import scipy.io as sio\n",
    "from copy import deepcopy\n",
    "\n",
    "# plotting\n",
    "import matplotlib.pyplot as plt\n",
    "import mattplotlib as m\n",
    "import mattrics as met\n",
    "\n",
    "# Import torch\n",
    "import torch\n",
    "from torch import nn\n",
    "\n",
    "# NDN tools\n",
    "import NDNT.utils as utils # some other utilities\n",
    "from NDNT.utils import imagesc   # because I'm lazy\n",
    "from NDNT.utils import ss        # because I'm real lazy\n",
    "import NDNT.NDNT as NDN\n",
    "from NDNT.modules.layers import *\n",
    "from NDNT.networks import *\n",
    "from importlib import reload\n",
    "from time import time\n",
    "import dill # more comprehensive pickle\n",
    "\n",
    "from NTdatasets.generic import GenericDataset\n",
    "from NTdatasets.cumming.binocular import binocular_single\n",
    "\n",
    "device = torch.device(\"cuda:1\")\n",
    "dtype = torch.float32\n",
    "\n",
    "# Where saved models and checkpoints go -- this is to be automated\n",
    "print( 'Save_dir =', dirname)\n",
    "\n",
    "# Lazy stuff\n",
    "from NDNT.utils.DanUtils import ss\n",
    "from NDNT.utils.DanUtils import imagesc\n",
    "\n",
    "%load_ext autoreload\n",
    "%autoreload 2"
   ]
  },
  {
   "cell_type": "code",
   "execution_count": 2,
   "metadata": {},
   "outputs": [
    {
     "name": "stdout",
     "output_type": "stream",
     "text": [
      "Loading expt04\n",
      "  Time embedding...\n",
      "11 cells, 362504 time steps.\n"
     ]
    },
    {
     "data": {
      "image/png": "[encoded data removed]",
      "text/plain": [
       "<Figure size 640x480 with 1 Axes>"
      ]
     },
     "metadata": {},
     "output_type": "display_data"
    }
   ],
   "source": [
    "# Load Data\n",
    "num_lags = 10\n",
    "expts = ['expt04']\n",
    "# this can handle multiple experiments\n",
    "#expts = ['expt04', 'expt05']\n",
    "\n",
    "from NTdatasets.cumming.monocular import MultiDataset\n",
    "data = MultiDataset(\n",
    "    datadir=datadir, filenames=expts, include_MUs=False,\n",
    "    time_embed=True, num_lags=num_lags )\n",
    "imagesc(data.dfs.detach().numpy())\n",
    "print(\"%d cells, %d time steps.\"%(data.NC, data.NT))"
   ]
  },
  {
   "cell_type": "code",
   "execution_count": 3,
   "metadata": {},
   "outputs": [],
   "source": [
    "# create ADAM params\n",
    "adam_pars = utils.create_optimizer_params(\n",
    "    optimizer_type='AdamW', batch_size=2000, num_workers=0,\n",
    "    learning_rate=0.01, early_stopping_patience=4,\n",
    "    optimize_graph=False, weight_decay = 0.1)\n",
    "adam_pars['device'] = device"
   ]
  },
  {
   "cell_type": "code",
   "execution_count": 4,
   "metadata": {},
   "outputs": [
    {
     "name": "stdout",
     "output_type": "stream",
     "text": [
      "  Reset cells_out to full dataset (11 cells).\n"
     ]
    }
   ],
   "source": [
    "## If there is enough memory on the device, can put the whole dataloader on the GPU\n",
    "#del train_ds , val_ds\n",
    "torch.cuda.empty_cache()\n",
    "\n",
    "data.set_cells()\n",
    "train_ds = GenericDataset(data[data.train_inds], device=device)\n",
    "val_ds = GenericDataset(data[data.val_inds], device=device)"
   ]
  },
  {
   "cell_type": "code",
   "execution_count": 7,
   "metadata": {},
   "outputs": [
    {
     "name": "stdout",
     "output_type": "stream",
     "text": [
      "Network 0:\n",
      "  Layer 0:\n",
      "      weight: torch.Size([210, 8])\n",
      "  Layer 1:\n",
      "      weight: torch.Size([72, 8])\n",
      "  Layer 2:\n",
      "      weight: torch.Size([72, 4])\n",
      "Network 1:\n",
      "  Layer 0:\n",
      "      weight: torch.Size([720, 11])\n",
      "      bias: torch.Size([11])\n"
     ]
    }
   ],
   "source": [
    "num_subs = [8, 8, 4]\n",
    "fws = [21, 9, 9]\n",
    "XTregB = 0.0001\n",
    "Greg = 0.001\n",
    "Creg= None\n",
    "clayers = []\n",
    "for ii in range(0,len(num_subs)):\n",
    "    clayers.append(\n",
    "        ConvLayer.layer_dict(\n",
    "            num_filters=num_subs[ii], bias=False, norm_type=1, num_inh=num_subs[ii]//2,\n",
    "            filter_dims=fws[ii], padding='same', NLtype='relu', initialize_center = True) )\n",
    "    clayers[ii]['output_norm'] = 'batch'\n",
    "    clayers[ii]['window'] = 'hamming'\n",
    "clayers[0]['input_dims'] = data.stim_dims\n",
    "clayers[0]['reg_vals'] = {'d2xt': XTregB, 'center': Creg, 'bcs':{'d2xt':1} }\n",
    "\n",
    "scaffold_net =  FFnetwork.ffnet_dict(\n",
    "    ffnet_type='scaffold',\n",
    "    xstim_n = 'stim', layer_list = clayers )\n",
    "\n",
    "# 'readout' layer\n",
    "readout_par = NDNLayer.layer_dict(\n",
    "    num_filters=data.NC, norm_type=0,\n",
    "    NLtype='softplus', bias=True,\n",
    "    pos_constraint=True,\n",
    "    initialize_center = True)\n",
    "readout_par['reg_vals'] = {'glocalx': Greg  }\n",
    "\n",
    "readout_net = FFnetwork.ffnet_dict(\n",
    "    xstim_n = None, ffnet_n=[0],\n",
    "    layer_list = [readout_par], ffnet_type='normal')\n",
    "\n",
    "cnn = NDN.NDN( ffnet_list=[scaffold_net, readout_net] )\n",
    "cnn.list_parameters()"
   ]
  },
  {
   "cell_type": "code",
   "execution_count": 8,
   "metadata": {},
   "outputs": [
    {
     "name": "stdout",
     "output_type": "stream",
     "text": [
      "\n",
      "GPU Available: True, GPU Used: True\n"
     ]
    },
    {
     "name": "stderr",
     "output_type": "stream",
     "text": [
      "Epoch 1: 100%|█████████████████████████████| 138/138 [00:05<00:00, 25.07it/s, train_loss=0.471]\n",
      "Validating ver=4: 100%|████████████████████████| 35/35 [00:00<00:00, 44.25it/s, val_loss=0.433]\n",
      "Epoch 2: 100%|█████████████████████████████| 138/138 [00:04<00:00, 34.31it/s, train_loss=0.416]\n",
      "Validating ver=4: 100%|████████████████████████| 35/35 [00:00<00:00, 46.12it/s, val_loss=0.421]\n",
      "Epoch 3: 100%|█████████████████████████████| 138/138 [00:04<00:00, 34.34it/s, train_loss=0.409]\n",
      "Validating ver=4: 100%|████████████████████████| 35/35 [00:00<00:00, 46.37it/s, val_loss=0.417]\n",
      "Epoch 4: 100%|█████████████████████████████| 138/138 [00:04<00:00, 34.35it/s, train_loss=0.405]\n",
      "Validating ver=4: 100%|████████████████████████| 35/35 [00:00<00:00, 44.12it/s, val_loss=0.415]\n",
      "Epoch 5: 100%|█████████████████████████████| 138/138 [00:03<00:00, 34.66it/s, train_loss=0.404]\n",
      "Validating ver=4: 100%|████████████████████████| 35/35 [00:00<00:00, 44.24it/s, val_loss=0.414]\n",
      "Epoch 6: 100%|█████████████████████████████| 138/138 [00:03<00:00, 34.74it/s, train_loss=0.402]\n",
      "Validating ver=4: 100%|████████████████████████| 35/35 [00:00<00:00, 44.24it/s, val_loss=0.414]\n",
      "Epoch 7: 100%|█████████████████████████████| 138/138 [00:04<00:00, 34.26it/s, train_loss=0.402]\n",
      "Validating ver=4: 100%|████████████████████████| 35/35 [00:00<00:00, 46.41it/s, val_loss=0.413]\n",
      "Epoch 8: 100%|█████████████████████████████| 138/138 [00:04<00:00, 34.30it/s, train_loss=0.401]\n",
      "Validating ver=4: 100%|████████████████████████| 35/35 [00:00<00:00, 46.79it/s, val_loss=0.413]\n",
      "Epoch 9: 100%|█████████████████████████████| 138/138 [00:04<00:00, 34.30it/s, train_loss=0.401]\n",
      "Validating ver=4: 100%|████████████████████████| 35/35 [00:00<00:00, 44.37it/s, val_loss=0.413]\n",
      "Epoch 10: 100%|██████████████████████████████| 138/138 [00:03<00:00, 34.65it/s, train_loss=0.4]\n",
      "Validating ver=4: 100%|████████████████████████| 35/35 [00:00<00:00, 44.28it/s, val_loss=0.413]\n",
      "Epoch 11: 100%|██████████████████████████████| 138/138 [00:03<00:00, 34.67it/s, train_loss=0.4]\n",
      "Validating ver=4: 100%|████████████████████████| 35/35 [00:00<00:00, 44.07it/s, val_loss=0.413]\n",
      "Epoch 12: 100%|██████████████████████████████| 138/138 [00:04<00:00, 34.33it/s, train_loss=0.4]\n",
      "Validating ver=4: 100%|████████████████████████| 35/35 [00:00<00:00, 46.36it/s, val_loss=0.413]\n",
      "Epoch 13: 100%|████████████████████████████| 138/138 [00:04<00:00, 34.39it/s, train_loss=0.399]\n",
      "Validating ver=4: 100%|████████████████████████| 35/35 [00:00<00:00, 46.95it/s, val_loss=0.414]\n"
     ]
    },
    {
     "name": "stdout",
     "output_type": "stream",
     "text": [
      "Early stopping\n",
      "Done fitting\n",
      "  Fit complete: 63.78055810928345 sec elapsed\n"
     ]
    },
    {
     "name": "stderr",
     "output_type": "stream",
     "text": [
      "Eval models: 100%|█████████████████████████████████████████████| 69/69 [00:00<00:00, 99.28it/s]\n"
     ]
    },
    {
     "name": "stdout",
     "output_type": "stream",
     "text": [
      "[ 0.5526042   0.640593    1.0906146   0.28850913  0.42516482 -0.00697494\n",
      "  0.06694365  0.09494638 -0.04503679  0.61552846  0.12202668] 0.34953812\n"
     ]
    },
    {
     "ename": "NameError",
     "evalue": "name 'pickle' is not defined",
     "output_type": "error",
     "traceback": [
      "\u001b[0;31m---------------------------------------------------------------------------\u001b[0m",
      "\u001b[0;31mNameError\u001b[0m                                 Traceback (most recent call last)",
      "Cell \u001b[0;32mIn[8], line 6\u001b[0m\n\u001b[1;32m      3\u001b[0m \u001b[38;5;28mprint\u001b[39m(LLs1, np\u001b[38;5;241m.\u001b[39mmean(LLs1))\n\u001b[1;32m      5\u001b[0m \u001b[38;5;28;01mwith\u001b[39;00m \u001b[38;5;28mopen\u001b[39m(\u001b[38;5;124m'\u001b[39m\u001b[38;5;124mcnn1.pickle\u001b[39m\u001b[38;5;124m'\u001b[39m, \u001b[38;5;124m'\u001b[39m\u001b[38;5;124mwb\u001b[39m\u001b[38;5;124m'\u001b[39m) \u001b[38;5;28;01mas\u001b[39;00m f:\n\u001b[0;32m----> 6\u001b[0m     \u001b[43mpickle\u001b[49m\u001b[38;5;241m.\u001b[39mdump(cnn, f)\n",
      "\u001b[0;31mNameError\u001b[0m: name 'pickle' is not defined"
     ]
    }
   ],
   "source": [
    "#cnn.fit_dl(train_ds, val_ds, **adam_pars, verbose=2)\n",
    "#LLs1 = cnn.eval_models(val_ds, null_adjusted=True)\n",
    "#print(LLs1, np.mean(LLs1))\n",
    "\n",
    "#with open('cnn1.pickle', 'wb') as f:\n",
    "#    pickle.dump(cnn, f)\n",
    "\n",
    "with open('cnn1.pickle', 'rb') as f:\n",
    "    cnn = pickle.load(f)"
   ]
  },
  {
   "cell_type": "code",
   "execution_count": 13,
   "metadata": {},
   "outputs": [
    {
     "data": {
      "image/png": "[encoded data removed]",
      "text/plain": [
       "<Figure size 1600x200 with 8 Axes>"
      ]
     },
     "metadata": {},
     "output_type": "display_data"
    }
   ],
   "source": [
    "cnn.plot_filters()"
   ]
  },
  {
   "cell_type": "code",
   "execution_count": 14,
   "metadata": {},
   "outputs": [
    {
     "name": "stdout",
     "output_type": "stream",
     "text": [
      "Network 0:\n",
      "  Layer 0:\n",
      "      weight: torch.Size([210, 8])\n",
      "  Layer 1:\n",
      "      weight: torch.Size([72, 8])\n",
      "  Layer 2:\n",
      "      weight: torch.Size([72, 4])\n",
      "Network 1:\n",
      "  Layer 0:\n",
      "      weight: torch.Size([720, 11])\n",
      "      bias: torch.Size([11])\n"
     ]
    }
   ],
   "source": [
    "# R2\n",
    "#m.fig()\n",
    "#plt.bar(range(11), met.r2(data, cnn0))\n",
    "#plt.show()\n",
    "\n",
    "cnn.list_parameters()"
   ]
  },
  {
   "cell_type": "code",
   "execution_count": 25,
   "metadata": {},
   "outputs": [
    {
     "name": "stdout",
     "output_type": "stream",
     "text": [
      "2 3 1\n",
      "(21, 10, 8) --> (8, 9, 8) --> (8, 9, 4) --> (20, 36, 11)\n"
     ]
    }
   ],
   "source": [
    "# plot using cool plotting code\n",
    "print(len(cnn.networks), len(cnn.networks[0].layers), len(cnn.networks[1].layers))\n",
    "\n",
    "# get the convolutional filters\n",
    "hidden0 = cnn.networks[0].layers[0].get_weights()\n",
    "hidden1 = cnn.networks[0].layers[1].get_weights()\n",
    "hidden2 = cnn.networks[0].layers[2].get_weights()\n",
    "output0 = cnn.networks[1].layers[0].get_weights()\n",
    "\n",
    "print(hidden0.shape, '-->',\n",
    "      hidden1.shape, '-->',\n",
    "      hidden2.shape, '-->',\n",
    "      output0.shape)"
   ]
  },
  {
   "cell_type": "code",
   "execution_count": null,
   "metadata": {},
   "outputs": [],
   "source": [
    "# reshape layers\n",
    "\n",
    "\n",
    "\n",
    "\n",
    "\n",
    "# hidden layer reshaped to be a list of 8 boxes\n",
    "# (21, 10, 8) --> (8, 10, 21)\n",
    "hidden_boxes = np.swapaxes(hidden, 0,2)\n",
    "# sums of the weights of each neuron\n",
    "# (8, 38, 11) --> (36, 11) --> (1, 36, 11)\n",
    "output_sums = np.expand_dims(np.sum(output, axis=0), 1)\n",
    "output_sums = np.swapaxes(output_sums, 0,2)\n",
    "\n",
    "print(output.shape, hidden_boxes.shape, output_sums.shape)\n",
    "\n",
    "output[:,0,0][output[:,0,0]<0]\n",
    "\n",
    "print(output.shape)\n",
    "\n",
    "# normalize the data we are giving the plot\n",
    "# preserve dimensionality\n",
    "# https://stackoverflow.com/questions/29046162/numpy-array-loss-of-dimension-when-masking\n",
    "posnorm = np.where(hidden_boxes>=0, hidden_boxes, 0) / np.max(hidden_boxes[hidden_boxes>=0])\n",
    "negnorm = np.where(hidden_boxes<0, hidden_boxes, 0) / np.abs(np.min(hidden_boxes[hidden_boxes<0]))\n",
    "hidden_boxes_normalized = posnorm + negnorm\n",
    "\n",
    "print(np.min(hidden_boxes_normalized), np.max(hidden_boxes_normalized))\n",
    "print(hidden_boxes_normalized.shape, output_sums.shape)"
   ]
  },
  {
   "cell_type": "code",
   "execution_count": 35,
   "metadata": {},
   "outputs": [
    {
     "name": "stdout",
     "output_type": "stream",
     "text": [
      "(21, 10, 8) --> (8, 9, 8) --> (8, 9, 4) --> (20, 36, 11)\n"
     ]
    }
   ],
   "source": [
    "def print_layers(layers):\n",
    "    for i, layer in enumerate(layers):\n",
    "        if i < len(layers)-1: # print with trailing arrow if it is not the last one\n",
    "            print(layer.shape, end=\" --> \")\n",
    "        else: # print without trailing arrow\n",
    "            print(layer.shape)\n",
    "\n",
    "def get_layers(model):\n",
    "    layers = []\n",
    "    for n in range(len(model.networks)): # iterate over networks\n",
    "        for l in range(len(model.networks[n].layers)): # iterate over layers for that network\n",
    "            layers.append(model.networks[n].layers[l].get_weights())\n",
    "    return layers\n",
    "\n",
    "# test get_layers(model)\n",
    "layers = get_layers(cnn)\n",
    "print_layers(layers)"
   ]
  },
  {
   "cell_type": "code",
   "execution_count": 46,
   "metadata": {},
   "outputs": [
    {
     "name": "stdout",
     "output_type": "stream",
     "text": [
      "(21, 10, 8) --> (8, 9, 8) --> (8, 9, 4) --> (20, 36, 11)\n",
      "(8, 10, 21) --> (8, 1, 9) --> (4, 1, 9) --> (11, 1, 36)\n"
     ]
    }
   ],
   "source": [
    "def make_layers(model):\n",
    "    output = []\n",
    "    \n",
    "    # get the layers from the model\n",
    "    layers = get_layers(model)\n",
    "    print_layers(layers)\n",
    "    \n",
    "    # for the 1D CNN we are using\n",
    "    # first layer is (width, height, num)\n",
    "    output.append(np.swapaxes(layers[0], 0,2))\n",
    "    \n",
    "    # further layers are (back_weights, width, num)\n",
    "    for layer in layers[1:]:\n",
    "        layer_sums = np.expand_dims(np.sum(layer, axis=0), 1)\n",
    "        layer_sums = np.swapaxes(layer_sums, 0,2)\n",
    "        output.append(layer_sums)\n",
    "    \n",
    "    # reshape the layers to make them drawable\n",
    "    \n",
    "    \n",
    "    # normalize the layers to make them between -1 and 1\n",
    "    \n",
    "    return output\n",
    "\n",
    "print_layers(make_layers(cnn))"
   ]
  },
  {
   "cell_type": "code",
   "execution_count": null,
   "metadata": {},
   "outputs": [],
   "source": [
    "# create weights\n",
    "\n",
    "col_idx = 1680 # terrible hack\n",
    "weights = {}\n",
    "# create the edge dictionary per neuron\n",
    "for c in range(output.shape[2]): # for each neuron\n",
    "    for col in range(output.shape[1]): # for each column in the neuron\n",
    "        i = 0 # start the id\n",
    "        weights[col_idx] = {}\n",
    "        #print(col_idx)\n",
    "        # normalize output\n",
    "        max_weight = np.max(output[:,col,c])\n",
    "        if max_weight == 0:\n",
    "                max_weight = 1\n",
    "        posnorm = output[:,col,c] / max_weight\n",
    "        # there is no negative value b/c we put pos constraint, need to more automagically account for this\n",
    "        #negnorm = np.where(output[:,col,c]<0, output[:,col,c], 0) / np.abs(np.min(output[:,col,c][output[:,col,c]<0]))\n",
    "        output_normalized = posnorm\n",
    "        #print(output_normalized.shape, np.min(output_normalized), np.max(output_normalized))\n",
    "        for b, w in enumerate(output_normalized): # for each box & its weight\n",
    "            for row in range(hidden_boxes[b,:,:].shape[0]): # for each row in the box\n",
    "                for row in range(hidden_boxes[b,:,:].shape[1]): # for each col in that row\n",
    "                    weights[col_idx][i] = w\n",
    "                    i += 1\n",
    "        col_idx += 1\n",
    "                \n",
    "#print(weights.keys())\n",
    "print(np.sum(hidden_boxes), np.sum(output_sums))"
   ]
  },
  {
   "cell_type": "code",
   "execution_count": 27,
   "metadata": {},
   "outputs": [],
   "source": [
    "def make_weights():\n",
    "    # create the weights between adjacent layers\n",
    "    \n",
    "    ..."
   ]
  },
  {
   "cell_type": "code",
   "execution_count": 48,
   "metadata": {},
   "outputs": [
    {
     "name": "stdout",
     "output_type": "stream",
     "text": [
      "(21, 10, 8) --> (8, 9, 8) --> (8, 9, 4) --> (20, 36, 11)\n",
      "(8, 10, 21) --> (8, 1, 9) --> (4, 1, 9) --> (11, 1, 36)\n"
     ]
    }
   ],
   "source": [
    "# call make_layers() and make_weights()\n",
    "layers = make_layers(cnn)\n",
    "print_layers(layers)"
   ]
  },
  {
   "cell_type": "code",
   "execution_count": 41,
   "metadata": {},
   "outputs": [],
   "source": [
    "from IPython.display import display, Javascript, HTML\n",
    "import json\n",
    "\n",
    "def draw_grids(data, edges, width, layer_heights, layer_dims, padding, layer_padding):\n",
    "    display(Javascript(\"\"\"\n",
    "        (function(element){\n",
    "            require(['grids'], function(grids) {\n",
    "                grids(element.get(0), %s, %s, %d, %s, %s, %d, %d);\n",
    "            });\n",
    "        })(element);\n",
    "    \"\"\" % (json.dumps(data), edges, width, layer_heights, layer_dims, padding, layer_padding)))"
   ]
  },
  {
   "cell_type": "code",
   "execution_count": 64,
   "metadata": {},
   "outputs": [
    {
     "data": {
      "application/javascript": [
       "require.config({paths: {d3: 'https://d3js.org/d3.v5.min'}});"
      ],
      "text/plain": [
       "<IPython.core.display.Javascript object>"
      ]
     },
     "metadata": {},
     "output_type": "display_data"
    },
    {
     "data": {
      "application/javascript": [
       "// First undefine 'circles' so we can easily reload this file.\n",
       "require.undef('grids');\n",
       "\n",
       "define('grids', ['d3'], function (d3) {\n",
       "    function draw(container, layers, edges, width, layer_heights, layer_dims, padding, layer_padding) {\n",
       "    \n",
       "        // TODO: remove this bad global var\n",
       "        var cells = [];\n",
       "        \n",
       "        // calculate total layer height\n",
       "        var height = 0;\n",
       "        for (var layer in layers) {\n",
       "            height += layer_heights[layer];\n",
       "            height += layer_padding;\n",
       "        }\n",
       "        // remove padding at the end\n",
       "        height -= layer_padding;\n",
       "        \n",
       "        function gridData(layers) {\n",
       "            console.log(layers);\n",
       "            console.log(edges);\n",
       "            \n",
       "            var id = 0;\n",
       "            var data = new Array();\n",
       "            for (var layer = 0; layer < layers.length; layer++) {\n",
       "                // get the rows and cols for this layer\n",
       "                var rows = layer_dims[layer].rows;\n",
       "                var cols = layer_dims[layer].cols;\n",
       "            \n",
       "                console.log('==LAYER==',layer);\n",
       "                var boxes = layers[layer]; // get the boxes out of the layer\n",
       "                var num_boxes = boxes.length;\n",
       "                 \n",
       "                console.log(layer_heights);\n",
       "                var layer_height = layer_heights[layer];\n",
       "                console.log('layer_height=',layer_height);\n",
       "                \n",
       "                var sqrows = boxes[0].length;\n",
       "                var sqcols = boxes[0][0].length;\n",
       "                // figure out the max integer width to avoid using floats with pixels\n",
       "                // computed_width = cols*col_width + (num_boxes-1)*padding\n",
       "                var box_width = 1;\n",
       "                console.log('sqcols',sqcols);\n",
       "                console.log(cols*(box_width+1)*sqcols);\n",
       "                while (cols*(box_width+1)*sqcols + (cols-1)*padding <= width) {\n",
       "                    box_width += 1;\n",
       "                    //console.log(cols*box_width*sqcols, (cols-1)*padding);\n",
       "                }\n",
       "                // TODO: don't need to compute these separately if aspect='square'\n",
       "                // computed_layer_height = rows*row_height + (num_boxes-1)*padding\n",
       "                var box_height = 1;\n",
       "                while (rows*(box_height+1)*sqrows + (rows-1)*padding <= layer_height) {\n",
       "                    box_height += 1;\n",
       "                }\n",
       "                \n",
       "                console.log('box_width', box_width, 'box_height', box_height);\n",
       "                \n",
       "                var box = 0;\n",
       "                // iterate over rows\n",
       "                for (var row = 0; row < rows; row++) {\n",
       "                    for (var col = 0; col < cols; col++) {\n",
       "                        // stop adding new squares if we run out of them\n",
       "                        if (box >= num_boxes) {\n",
       "                            break;\n",
       "                        }\n",
       "                    \n",
       "                        console.log('row='+row+', col='+col);\n",
       "                        \n",
       "                        // sum the previous layer_heights to determine the current layer starting position\n",
       "                        var prev_layer_heights = 0;\n",
       "                        for (var prev_layer = 0; prev_layer < layer; prev_layer++) {\n",
       "                            prev_layer_heights += layer_heights[prev_layer];\n",
       "                        }\n",
       "                        \n",
       "                        var ypos = row*box_height*sqrows + row*padding + prev_layer_heights + layer*layer_padding;\n",
       "                        var xpos = col*box_width*sqcols + col*padding;\n",
       "                        \n",
       "                        console.log('x',xpos,'y',ypos);\n",
       "                        \n",
       "                        for (var sqrow = 0; sqrow < sqrows; sqrow++) {\n",
       "                            for (var sqcol = 0; sqcol < sqcols; sqcol++) {\n",
       "                                var w = box_width;\n",
       "                                var h = box_height;\n",
       "                                //console.log('w='+w+',h='+h);\n",
       "                                var click = 0;\n",
       "                                var val = boxes[box][sqrow][sqcol];\n",
       "                                \n",
       "                                var props = {\n",
       "                                    x: xpos,\n",
       "                                    y: ypos,\n",
       "                                    width: w,\n",
       "                                    height: h,\n",
       "                                    click: click,\n",
       "                                    id: \"c\"+id,\n",
       "                                    assoc: edges[id],\n",
       "                                    color: \"rgb(\"+(127+128*val)+\",\"+(127+128*val)+\",\"+(127+128*val)+\")\",\n",
       "                                    val: val\n",
       "                                };\n",
       "                                \n",
       "                                data.push(new Array());\n",
       "                                data[row].push(props)\n",
       "                                cells.push(props); // push all the cells into a flat array for convenience \n",
       "                                \n",
       "                                // increment the x position. I.e. move it over by w\n",
       "                                xpos += w;                                \n",
       "                                id++; // incremenent the global id for the next cell\n",
       "                            }\n",
       "                            // reset the x position after a row is complete\n",
       "                            xpos = col*box_width*sqcols + col*padding;\n",
       "                            // increment the y position for the next row. Move it down by h\n",
       "                            ypos += h;\n",
       "                        }\n",
       "                        box++; // increment the box we are looking at\n",
       "                    }\n",
       "                }\n",
       "            }\n",
       "            return data;\n",
       "        }\n",
       "    \n",
       "        var gridData = gridData(layers);\t\n",
       "    \n",
       "        // set default width and height\n",
       "        //width = width || 400;\n",
       "        //height = height || 200;\n",
       "        \n",
       "        // create the grid svg \n",
       "        var grid = d3.select(container).append(\"svg\")\n",
       "            .attr('width', width)\n",
       "            .attr('height', height);\n",
       "        \n",
       "        var row = grid.selectAll(\".row\")\n",
       "        \t.data(gridData)\n",
       "        \t.enter().append(\"g\")\n",
       "        \t.attr(\"class\", \"row\");\n",
       "        \n",
       "        var column = row.selectAll(\".square\")\n",
       "        \t.data(function(d) { return d; })\n",
       "        \t.enter().append(\"rect\")\n",
       "        \t.attr(\"id\", function(d) { return d.id; })\n",
       "        \t.attr(\"class\",\"square\")\n",
       "        \t.attr(\"x\", function(d) { return d.x; })\n",
       "        \t.attr(\"y\", function(d) { return d.y; })\n",
       "        \t.attr(\"width\", function(d) { return d.width; })\n",
       "        \t.attr(\"height\", function(d) { return d.height; })\n",
       "        \t.style(\"fill\", function(d) { return d.color; })\n",
       "        \t.on('mouseover', function(d) {\n",
       "        \t    // highlight the cell as well\n",
       "        \t    d3.select(this)\n",
       "                    //.transition('fade').duration(200)\n",
       "                    //.style(\"opacity\", 1)\n",
       "                    //.style('fill', 'rgb(255,0,0)')\n",
       "                    //.attr(\"x\", d.x - 2)\n",
       "                    //.attr(\"y\", d.y - 2)\n",
       "                    //.attr(\"width\", d.width + 4)\n",
       "                    //.attr(\"height\", d.height + 4)\n",
       "                    .style(\"stroke\", \"rgb(255,0,0)\");\n",
       "        \t    //console.log('d', d);\n",
       "                for (var c in d.assoc) {\n",
       "                    var weight = Math.round(127 + 128*d.assoc[c]*cells[c].val);\n",
       "                    var reweighted_color = \"rgb(\"+weight+\",\"+weight+\",\"+weight+\")\";\n",
       "                    //console.log('c', c, 'w', weight, 'color', reweighted_color);\n",
       "                    d3.select('#c'+c)\n",
       "                        .transition('fade').duration(200)\n",
       "                        .attr(\"opacity\", 1.0)\n",
       "                        //.style(\"fill\", \"rgb(255,0,0)\");\n",
       "                        .style(\"fill\", reweighted_color);\n",
       "                }\n",
       "            })\n",
       "            .on('mouseout', function(d) {\n",
       "                // reset the cell's color \n",
       "                d3.select(this)\n",
       "                    //.transition('fade').duration(200)\n",
       "                    //.style(\"opacity\", 1)\n",
       "                    //.style('fill', d.color)\n",
       "                    //.attr(\"x\", d.x)\n",
       "                    //.attr(\"y\", d.y)\n",
       "                    //.attr(\"width\", d.width)\n",
       "                    //.attr(\"height\", d.height)\n",
       "                    .style(\"stroke\", \"none\");\n",
       "                for (var c in d.assoc) {\n",
       "                    d3.select('#c'+c)\n",
       "                        .transition('fade').duration(200)\n",
       "                        .attr(\"opacity\", 1.0)\n",
       "                        .style(\"fill\", cells[c].color);\n",
       "                }\n",
       "            });\n",
       "    }\n",
       "\n",
       "    return draw;\n",
       "});\n",
       "\n",
       "element.append('<small>&#x25C9; &#x25CB; &#x25EF; Loaded gridex.js &#x25CC; &#x25CE; &#x25CF;</small>');"
      ],
      "text/plain": [
       "<IPython.core.display.Javascript object>"
      ]
     },
     "metadata": {},
     "output_type": "display_data"
    },
    {
     "data": {
      "text/html": [
       "<style>\n",
       "svg grids {\n",
       "}\n",
       "</style>"
      ],
      "text/plain": [
       "<IPython.core.display.HTML object>"
      ]
     },
     "metadata": {},
     "output_type": "display_data"
    },
    {
     "data": {
      "application/javascript": [
       "\n",
       "        (function(element){\n",
       "            require(['grids'], function(grids) {\n",
       "                grids(element.get(0), [[[[-0.053839996457099915, 0.07525285333395004, -0.03250310197472572, -0.021615419536828995, -0.01437983289361, -0.025685852393507957, -0.13025155663490295, 0.04963450878858566, -0.0742642879486084, -0.0780533030629158, -0.06998040527105331, -0.012793639674782753, -0.15902017056941986, 0.0666145458817482, -0.029166024178266525, -0.011904584243893623, -0.013052237220108509, 0.017468800768256187, -0.029944712296128273, 0.0019353250972926617, 0.0473502054810524], [0.03829434514045715, 0.037003662437200546, 0.04633095860481262, 0.004174139816313982, 0.0964612364768982, 0.02429359033703804, 0.052976276725530624, 0.08459193259477615, -0.579738438129425, -2.96661114692688, -1.8775874376296997, -0.2380395233631134, -0.0641520693898201, 0.0051744780503213406, 0.014367037452757359, 0.034514494240283966, -0.018579518422484398, 0.06262674182653427, 0.0018586214864626527, 0.043720148503780365, 0.09570817649364471], [0.058255068957805634, 0.07940863817930222, -0.020020317286252975, 0.07130865007638931, 0.10976763069629669, 0.16665826737880707, 0.23703181743621826, 0.7843560576438904, 0.44844913482666016, -3.0382890701293945, -1.416795015335083, 0.7108896374702454, 0.1867031455039978, 0.2500138282775879, 0.13642989099025726, 0.23351643979549408, 0.012370076030492783, 0.030851121991872787, 0.05048147216439247, 0.02698456682264805, 0.09545527398586273], [-0.01527437288314104, -0.015609649010002613, -0.05916615203022957, -0.10852961242198944, -0.11243288218975067, -0.2114144265651703, -0.21565625071525574, 0.2502216696739197, 0.759192168712616, 0.6386954188346863, 0.9457826018333435, 0.61411052942276, 0.055645447224378586, -0.16118942201137543, -0.040084242820739746, -0.05053652077913284, -0.06335998326539993, -0.0724743902683258, -0.09525769203901291, 0.019357407465577126, 0.010455770418047905], [-0.03182004764676094, -0.007509593386203051, -0.09016015380620956, -0.09532991796731949, -0.1931913197040558, -0.12346475571393967, -0.3065114915370941, -0.5027003884315491, -0.2920704185962677, 1.292626976966858, 0.5517206192016602, -0.2632429003715515, -0.08345846086740494, -0.047921352088451385, -0.09075632691383362, -0.05824632942676544, -0.058370716869831085, 0.01767030544579029, 0.07321660965681076, -0.022795964032411575, -0.0068394336849451065], [-0.00767461396753788, -0.004112869035452604, -0.0456509068608284, 0.0037136434111744165, 0.009823456406593323, -0.038300663232803345, -0.0493500679731369, -0.3116454482078552, -0.3361430764198303, 0.7039632201194763, 0.25248730182647705, -0.23667095601558685, 0.06751175969839096, -0.026241786777973175, 0.020015545189380646, -0.08047433197498322, -0.06474734097719193, 0.07101702690124512, 0.03696339204907417, -0.0014395060716196895, 0.044039733707904816], [0.008706647902727127, -0.08449358493089676, -0.025569792836904526, 0.018366752192378044, 0.006331376265734434, 0.09160134196281433, 0.05191507562994957, -0.12392330169677734, -0.12767502665519714, 0.8648968935012817, 0.3666590750217438, -0.2521919906139374, 0.1367156207561493, 0.025110257789492607, 0.012289099395275116, 0.029494991526007652, 0.007782114669680595, 0.013614642433822155, -0.042357638478279114, 0.03230537474155426, -0.0253068245947361], [0.014984375797212124, 0.015606093220412731, 0.04382924363017082, 0.019596435129642487, -0.051920726895332336, -0.002687487518414855, -0.07657068222761154, -0.0064908722415566444, -0.06349927186965942, 0.38021475076675415, 0.1052500456571579, -0.1017955020070076, -0.048016589134931564, -0.06596328318119049, 0.030871786177158356, -0.04457501694560051, -0.01929657906293869, -0.05553101748228073, -0.03314758092164993, 0.036160580813884735, -0.02373470738530159], [-0.07690873742103577, 0.05742610618472099, -0.02621852047741413, 0.025884902104735374, 0.06629261374473572, -0.08454522490501404, -0.01940727047622204, -0.02485622465610504, -0.04312453046441078, 0.16865646839141846, 0.06186861917376518, -0.05123966187238693, -0.016462519764900208, -0.06060819700360298, 0.03218723461031914, 0.0039077624678611755, -0.019984986633062363, -0.06184643507003784, -0.02817862294614315, -0.0083184028044343, -0.024098975583910942], [-0.011353549547493458, 0.015474651008844376, 0.027960151433944702, -0.05890365317463875, 0.02756304107606411, -0.11386976391077042, 0.0708855390548706, -0.012068045325577259, 0.0676349326968193, 0.0566650852560997, 0.04357903078198433, 0.018364209681749344, 0.094167560338974, -0.010430270805954933, -0.05420004576444626, 0.00435221241787076, -0.05205373093485832, -0.008675849996507168, -0.058123014867305756, -0.004779985640197992, 0.01320712175220251]], [[-0.002308477181941271, -0.011254949495196342, -0.0005805543623864651, -0.009240182116627693, 0.04673894867300987, 0.023702183738350868, -0.02159186080098152, -0.02830221876502037, -0.05273362994194031, -0.028774790465831757, -0.005952791310846806, -0.07883112877607346, 0.020797131583094597, 0.05222348868846893, -0.021572578698396683, -0.019028473645448685, 0.02529640682041645, 0.032555412501096725, 0.013626310043036938, -0.015301816165447235, -0.026637418195605278], [-0.014994676224887371, -0.005762598942965269, -0.03853034973144531, -0.040948957204818726, 0.011793343350291252, 0.07236455380916595, -0.0184627715498209, 0.062070559710264206, -0.3081774413585663, -0.08554847538471222, -0.015865018591284752, -0.12478294223546982, -0.11936714500188828, -0.08424466103315353, 0.037363938987255096, -0.035642027854919434, 0.013682033866643906, 0.009955652058124542, 0.01347432378679514, 0.017905477434396744, -0.014750128611922264], [0.020167235285043716, 0.08541672676801682, 0.034870222210884094, 0.01940230093896389, 0.08224352449178696, 0.1444631814956665, 0.33620190620422363, -0.6133409738540649, -3.6751708984375, -0.4875766336917877, 0.2566606402397156, 0.2676331400871277, 0.22289025783538818, 0.2099096029996872, 0.1431528478860855, 0.14214500784873962, 0.10460316389799118, 0.09429976344108582, 0.0872117280960083, 0.07530229538679123, 0.05794984847307205], [0.07033344358205795, 0.15766014158725739, 0.0714891329407692, 0.1325468122959137, 0.18590512871742249, 0.028058549389243126, 0.5517328977584839, -0.0301650557667017, -3.507629156112671, 0.21910585463047028, 0.885047972202301, 0.4523117244243622, 0.3174070119857788, 0.096890889108181, 0.0836004838347435, 0.1066509336233139, 0.093602754175663, 0.11641864478588104, 0.0395585261285305, 0.054155461490154266, 0.04646182060241699], [-0.0006026296177878976, -0.010325874201953411, -0.023399339988827705, -0.004394273739308119, -0.07751325517892838, -0.25064316391944885, -0.03563789650797844, 0.2811359465122223, -0.1750108301639557, 0.20182475447654724, 0.16136854887008667, 0.06078138202428818, -0.02558540366590023, 0.045655861496925354, 0.018072985112667084, -0.030708884820342064, -0.031075000762939453, -0.027372635900974274, -0.04395981505513191, 0.03375623747706413, -0.029669413343071938], [-0.03625524789094925, -0.04741537570953369, -0.013160682283341885, -0.030614621937274933, -0.02890866808593273, -0.10243543982505798, -0.24844440817832947, 0.057254791259765625, 0.808933675289154, -0.08687599748373032, -0.23377485573291779, -0.07411696016788483, -0.12768001854419708, -0.05344882979989052, -0.023031212389469147, 0.028751732781529427, -0.06727025657892227, -0.0025734612718224525, -0.007410496007651091, -0.04606321081519127, 0.01898118481040001], [-0.008645781315863132, 0.021744806319475174, 0.021533163264393806, -0.01856524683535099, 0.016269663348793983, -0.020927056670188904, -0.03260659798979759, 0.05998298153281212, 0.619987428188324, -0.13209430873394012, -0.1346050351858139, -0.07429005950689316, 0.01419117208570242, 0.06629755347967148, 0.025749746710062027, -0.022942790761590004, -0.05822976678609848, 0.03152664005756378, 0.038167327642440796, -0.02840677835047245, 0.03482601419091225], [0.0005323555669747293, 0.006755146663635969, -0.011243305169045925, 0.03150266408920288, -0.055650029331445694, 0.026075759902596474, -0.10874000936746597, 0.230404794216156, 0.6095594167709351, -0.0857999250292778, -0.07955324649810791, -0.16446807980537415, 0.002861696295440197, -0.0623449832201004, -0.07185648381710052, -0.00034166514524258673, 0.0006578843458555639, -0.03964628279209137, -0.013775911182165146, 0.011551878415048122, -0.023922791704535484], [0.010963456705212593, 0.044261373579502106, 0.014403877779841423, -0.001836173702031374, -0.03745807707309723, 0.0008378330967389047, 0.037938542664051056, 0.0318245105445385, 0.3653968870639801, -0.01671404205262661, -0.05907879024744034, 0.011874374933540821, -0.06358490139245987, -0.07602834701538086, 0.03919975087046623, -0.09973688423633575, -0.05452002212405205, -0.03246275335550308, 0.0033056922256946564, -0.04288770630955696, 0.016637051478028297], [-0.016580980271100998, 0.0068032406270504, -0.03959409147500992, -0.03615650534629822, 0.011641484685242176, -0.025376804172992706, -0.022694630548357964, 0.060029707849025726, 0.20984376966953278, 0.05125520005822182, -0.04471145570278168, -0.003882823046296835, -0.11512382328510284, 0.018329378217458725, -0.007648152764886618, -0.04893886670470238, -0.0013569396687671542, -0.026980319991707802, -0.027456609532237053, -0.0406961552798748, 0.014921505935490131]], [[0.012725235894322395, -0.011518147774040699, -0.029530953615903854, -0.017263663932681084, 0.006903789006173611, -0.023605793714523315, -0.03084188885986805, -0.005509675480425358, -0.014467466622591019, 0.08505426347255707, -0.11562401056289673, 0.02735082432627678, 0.021206600591540337, 0.016951126977801323, -0.04954592138528824, 0.036525510251522064, 0.01207433920353651, 0.008555086329579353, 0.006938942242413759, -0.006000597961246967, -0.019118832424283028], [0.006317335646599531, -0.0221010260283947, 0.014377159997820854, -0.015460309572517872, -0.041443344205617905, -0.005830125417560339, -0.027789078652858734, -0.03756221756339073, 0.11241921782493591, 0.02404746226966381, 0.1572941392660141, 0.8717643022537231, 1.093459963798523, 0.9148417115211487, 0.42905116081237793, 0.15056051313877106, 0.01624651998281479, -0.004646920599043369, 0.005163021385669708, -0.07032959908246994, 0.02850964665412903], [-0.06890082359313965, -0.02432115003466606, -0.07232782244682312, -0.08373202383518219, -0.11280440539121628, -0.10733912885189056, -0.18796691298484802, -0.2834705114364624, -0.11191390454769135, -0.13085240125656128, -0.5422374606132507, 1.4104607105255127, 2.197416305541992, 1.4848765134811401, 0.23739926517009735, -0.1549973338842392, -0.11826974153518677, -0.20477432012557983, -0.08349669724702835, -0.04177047684788704, -0.187588170170784], [0.027264634147286415, -0.01511706504970789, -0.10611652582883835, 0.03870208188891411, -0.08217492699623108, -0.03964551165699959, -0.12804675102233887, -0.29480165243148804, -0.24838146567344666, -0.09143577516078949, -0.9672805070877075, -0.3032680153846741, -0.1341724842786789, -0.2802327573299408, -0.5073844790458679, -0.2580586373806, -0.18256503343582153, -0.15604539215564728, -0.050860125571489334, -0.06625356525182724, -0.04342970252037048], [0.027041763067245483, 0.0808057114481926, 0.07113676518201828, -0.010404231958091259, 0.1968635767698288, 0.06083017215132713, 0.08006833493709564, 0.08928657323122025, -0.07307852804660797, 0.01851123571395874, -0.33145642280578613, -1.2309260368347168, -1.7246819734573364, -1.1092844009399414, -0.38720887899398804, 0.10131590068340302, 0.23483547568321228, 0.15837398171424866, 0.09839268773794174, 0.08460462093353271, 0.0797167420387268], [-0.0086583960801363, 0.059395309537649155, 0.009863622486591339, 0.11038599163293839, 0.08265569061040878, 0.0836571604013443, 0.02613992802798748, 0.29326725006103516, 0.0741463303565979, 0.06253371387720108, 0.3173592686653137, -0.5355135202407837, -0.8965868353843689, -0.513117253780365, 0.03725670278072357, 0.2612787187099457, 0.11396348476409912, 0.12877129018306732, 0.0430978499352932, 0.08862893283367157, 0.0408562608063221], [-0.035477060824632645, 0.06501615792512894, 0.03439847752451897, 0.02012951672077179, 0.054264649748802185, -0.07564689964056015, -0.020889444276690483, 0.09082997590303421, 0.021811572834849358, 0.0796181783080101, 0.25147223472595215, -0.059473127126693726, -0.21511772274971008, -0.06621623784303665, 0.06548898667097092, 0.07845578342676163, -0.07663288712501526, -0.009823322296142578, -0.014363697730004787, -0.01320716179907322, -0.021738974377512932], [0.037708181887865067, -0.07237211614847183, 0.046065449714660645, -0.010206425562500954, 0.01173983234912157, 0.02412860468029976, -0.007251617033034563, 0.05148622393608093, 0.05640363693237305, -0.004139777738600969, 0.09362777322530746, 0.0024738474749028683, -0.16929246485233307, -0.11411742120981216, 0.012350935488939285, 0.0060423435643315315, -0.02679816633462906, -0.0008692660485394299, -0.017736338078975677, -0.00831359252333641, -0.02861056476831436], [0.01415547076612711, 0.02569904737174511, 0.06420902907848358, 0.010280530899763107, 0.04716096445918083, 0.02752319537103176, -0.06680755317211151, 0.05732371658086777, -0.08371219784021378, 0.018176183104515076, -0.016353629529476166, -0.09497911483049393, -0.12311407923698425, -0.0710650160908699, 0.05988972261548042, 0.09848736971616745, -0.08491717278957367, 0.0056928303092718124, -0.011368246749043465, -0.026955973356962204, -0.0564982071518898], [0.005002007819712162, 0.010919629596173763, 0.00943194143474102, 0.09032945334911346, -0.009671577252447605, 0.030126094818115234, 0.010064154863357544, 0.03465636074542999, 0.06023480370640755, -0.08845660835504532, 0.0805412158370018, 0.04832330718636513, -0.024169666692614555, 0.004047899506986141, 0.0671953409910202, -0.10367172956466675, -0.022572610527276993, -0.0019903546199202538, -0.01915641687810421, -0.02742554061114788, 0.005123116075992584]], [[0.00690328236669302, 0.057939983904361725, -0.04968322813510895, 0.0012293854961171746, -0.021356023848056793, 0.038965098559856415, 0.0014161848230287433, -0.14725199341773987, 0.08006719499826431, -0.018578220158815384, -0.015975596383213997, 0.008804173208773136, -0.041402217000722885, -0.08052371442317963, -0.10320741683244705, 0.06538765877485275, -0.05360647663474083, 0.06732690334320068, 0.012718497775495052, -0.08836296945810318, 0.014236165210604668], [-0.014159176498651505, 0.17551037669181824, -0.0007016876479610801, -0.05887703225016594, 0.1215047612786293, -0.15107259154319763, -0.02381225861608982, -0.09334895014762878, -0.021946163848042488, -0.031270597130060196, -0.0771702229976654, 0.03723869100213051, 0.0011647794162854552, -0.0004114775510970503, -0.07499058544635773, -0.01702030934393406, -0.08149005472660065, -0.13375189900398254, 0.03538867458701134, 0.03456113114953041, -0.06210654601454735], [0.01571786403656006, 0.009563806466758251, 0.15356990694999695, -0.07367831468582153, -0.03401344269514084, -0.06518802046775818, -0.19918645918369293, -0.12624049186706543, -0.4457874000072479, -0.7303886413574219, -0.7461610436439514, -0.7364838719367981, -0.12574134767055511, 0.3891845643520355, 0.19453543424606323, 0.05531566962599754, 0.050925951451063156, -0.178794726729393, 0.07926689833402634, 0.01792016439139843, 0.07737851142883301], [0.09735580533742905, -0.05956549197435379, 0.15229466557502747, 0.15474410355091095, -0.1667894721031189, 0.25357362627983093, 0.19988541305065155, 0.37287893891334534, 0.4361441731452942, 0.4080458879470825, -0.608012318611145, -1.1156078577041626, -0.7108632326126099, -0.062153421342372894, 0.15170320868492126, -0.2374042123556137, -0.19413062930107117, -0.24428518116474152, 0.10807570070028305, 0.0030694047454744577, 0.017544643953442574], [-0.07834991067647934, 0.010972429998219013, -0.03509220853447914, 0.018843472003936768, -0.06023583561182022, 0.05049540847539902, 0.02473294921219349, 0.048836078494787216, 0.7281700372695923, 1.578891396522522, 1.000890851020813, 0.21557293832302094, -0.4924791157245636, -0.7447221875190735, -0.3364119529724121, -0.3390566110610962, -0.25959834456443787, -0.13933973014354706, 0.1335948407649994, -0.13038840889930725, 0.005822236184030771], [-0.06527199596166611, -0.13633157312870026, 0.07443109154701233, 0.1114492118358612, -0.15991392731666565, 0.02526240237057209, -0.0836104229092598, -0.37152940034866333, -0.3516058623790741, 0.05907095596194267, 0.9773349165916443, 0.7704949975013733, 0.7314451932907104, -0.29979559779167175, -0.22144830226898193, 0.22506088018417358, 0.022334914654493332, -0.02599981240928173, 0.04169616848230362, 0.051073379814624786, -0.1764746755361557], [0.0013260889099910855, 0.007546164561063051, -0.01988106779754162, 0.01599801331758499, -0.05677030608057976, 0.1260213702917099, 0.14894847571849823, -0.04199553653597832, -0.43035489320755005, -0.3843521177768707, -0.22656865417957306, 0.6490240097045898, 0.39544597268104553, 0.19627231359481812, 0.15783405303955078, -0.09043145179748535, 0.25781580805778503, 0.06961999833583832, 0.010223079472780228, -0.09278199076652527, -0.06105125695466995], [0.08885953575372696, -0.020731840282678604, 0.0587063804268837, -0.03321750834584236, 0.06631863117218018, -0.06088974326848984, 0.05984949693083763, 0.12228657305240631, -0.005723923910409212, -0.1021508276462555, -0.17943955957889557, 0.15752583742141724, 0.27850764989852905, 0.12506645917892456, -0.01820630207657814, 0.045077722519636154, 0.028240516781806946, 0.019794955849647522, -0.019224019721150398, -0.015891114249825478, -0.011636593379080296], [0.01719178818166256, -0.0414346307516098, -0.12092559039592743, 0.008414769545197487, -0.004771647974848747, 0.09638180583715439, 0.0966074988245964, -0.20013047754764557, 0.07991862297058105, -0.10437195748090744, -0.060027409344911575, 0.09028933197259903, 0.0999293401837349, 0.13904611766338348, 0.0039850990287959576, 0.1449110507965088, 0.0680810883641243, -0.04465097561478615, 0.0023054364137351513, -0.02194114588201046, -0.06552641838788986], [0.05125034600496292, 0.008805455639958382, 0.03609706088900566, 0.055463969707489014, 0.05756596848368645, 0.03754781186580658, 0.049323998391628265, -0.08310836553573608, 0.00915674027055502, -0.14602647721767426, 0.11279433965682983, -0.19400648772716522, 0.06130607798695564, -0.02872379682958126, -0.010026137344539165, 0.04485183581709862, 0.10729142278432846, 0.08517786115407944, 0.007980292662978172, -0.003532145405188203, -0.019895175471901894]], [[0.024116966873407364, -0.013338283635675907, -0.0035872303415089846, 0.03373358026146889, 0.040179543197155, -0.01364558469504118, 0.012169714085757732, -0.0128712747246027, 0.06386616080999374, -0.03863349184393883, -0.027865031734108925, -0.03645232692360878, 0.07834181934595108, -0.08364173024892807, 0.024741698056459427, -0.05729459226131439, 0.10122619569301605, -0.06581557542085648, 0.045685745775699615, 0.024479037150740623, 0.07213622331619263], [-0.01607886515557766, -0.076680488884449, -0.0307278111577034, -0.16742445528507233, -0.1568344384431839, -0.08544617146253586, -0.15880869328975677, -0.25661903619766235, -0.18205305933952332, -0.11534101516008377, 0.10207556188106537, 0.09036748856306076, 0.009722878225147724, -0.022283628582954407, -0.1286260187625885, 0.012419269420206547, -0.00578515138477087, -0.0885498970746994, -0.032317157834768295, -0.03527498245239258, 0.01502186618745327], [-0.11652174592018127, -0.22954343259334564, -0.3179183006286621, -0.41272956132888794, -0.5551163554191589, -0.47911444306373596, -0.6619026064872742, -1.0406410694122314, -1.1693358421325684, -0.9281616806983948, -0.2558414936065674, -0.4976455569267273, -0.0771045833826065, -0.24480317533016205, -0.11139946430921555, -0.25262245535850525, -0.1625872254371643, -0.18981556594371796, -0.04479445517063141, 0.015521902590990067, -0.06799869984388351], [-0.0033775176852941513, -0.016716135665774345, 0.004196640104055405, -0.03829725831747055, -0.23805595934391022, -0.07349162548780441, -0.14976166188716888, -0.9703614115715027, -1.6272637844085693, -0.652389645576477, 0.11496459692716599, -0.3004383444786072, 0.3960843086242676, 0.11901909857988358, 0.03284336254000664, 0.19874151051044464, 0.15692594647407532, 0.10400654375553131, 0.19964313507080078, 0.17110970616340637, -0.009242221713066101], [0.02178022637963295, 0.08499709516763687, 0.08281456679105759, 0.2197098433971405, 0.14847169816493988, 0.2043735682964325, 0.4952109754085541, 0.10335411876440048, -0.49950817227363586, 0.7975016832351685, 0.7982193827629089, 0.1943158358335495, 0.35978397727012634, 0.17895418405532837, 0.09375198185443878, 0.09560688585042953, 0.13108347356319427, 0.061871208250522614, 0.07013092935085297, -0.020976321771740913, 0.012203618884086609], [0.03414914011955261, -0.03590238466858864, 0.015645964071154594, -0.03460311517119408, 0.028299199417233467, -0.029438873752951622, 0.055600300431251526, 0.37335294485092163, 0.29987195134162903, 0.8368836045265198, 0.47167742252349854, 0.0019490279955789447, -0.01949692890048027, -0.04928037151694298, -0.011499722488224506, -0.07624316960573196, -0.05649431794881821, -0.04399683699011803, -0.00831018015742302, -0.06315434724092484, 0.041982874274253845], [-0.029750680550932884, -0.019464248791337013, -0.024682512506842613, 0.039551302790641785, -0.07851263135671616, -0.030843786895275116, -0.05406791716814041, 0.26699772477149963, 0.4502631723880768, 0.24730534851551056, -0.01756550557911396, -0.10897236317396164, -0.09535669535398483, 0.0008254093118011951, -0.01910991035401821, -0.038276951760053635, 0.027571771293878555, 0.06568867713212967, -0.08075113594532013, -0.03922509774565697, -0.020938705652952194], [-0.02562774159014225, -0.016472775489091873, 0.006610894575715065, -0.009422444738447666, -0.007328639272600412, -0.068100705742836, -0.034009870141744614, 0.22816652059555054, 0.3257528841495514, 0.2813340723514557, 0.00795566476881504, -0.03517923876643181, -0.04276479035615921, -0.02766655571758747, 0.01924113743007183, -0.01626920886337757, -0.018337996676564217, -0.014975625090301037, -0.01585301198065281, -0.0010713019873946905, -0.09075978398323059], [0.03195397928357124, -0.0006471783271990716, 0.03193759173154831, 0.04992132633924484, 0.07159113138914108, 0.0055701350793242455, 0.01142149604856968, 0.16874784231185913, 0.1987829953432083, 0.08191478252410889, 0.07109755277633667, -0.03391163796186447, -0.03171728551387787, -0.025775428861379623, -0.07187271118164062, 0.05489914119243622, -0.1362847089767456, 0.012608855962753296, 0.019302481785416603, -0.004341352265328169, -0.017673982307314873], [-0.010337562300264835, 0.002123182639479637, 0.023649396374821663, 0.0036550210788846016, 0.03852831572294235, -0.005885748192667961, 0.05949164927005768, 0.04180076718330383, 0.22053630650043488, 0.006649434100836515, 0.032433412969112396, 0.053764406591653824, -0.0843162089586258, -0.014390969648957253, 0.0017126366728916764, 0.06579282879829407, -0.012122263200581074, -0.04218970611691475, -0.009289231151342392, -0.04116101935505867, -0.0039505669847130775]], [[-0.026206914335489273, 0.05231695994734764, 0.07964300364255905, -0.08156992495059967, 0.030213527381420135, -0.028843024745583534, 0.0145570058375597, 0.056759435683488846, 0.057854894548654556, -0.04797244444489479, 0.002845680806785822, -0.060508884489536285, 0.19758467376232147, -0.15126363933086395, 0.03472336381673813, -0.015593628399074078, -0.12279749661684036, -0.09531204402446747, -0.07092202454805374, 0.06818027049303055, 0.002198162954300642], [0.00474058510735631, -0.08592526614665985, 0.06451749801635742, -0.004650627728551626, -0.08125700801610947, -0.06936700642108917, 0.0992715060710907, -0.07233964651823044, -0.03624873235821724, -0.004818067420274019, -0.12773917615413666, -0.12305895239114761, 0.10568194836378098, 0.02970106527209282, 0.09392590075731277, 0.05356129631400108, -0.07362507283687592, -0.035505183041095734, -0.02084933966398239, -0.0802643671631813, -0.024491820484399796], [-0.06467531621456146, 0.08521043509244919, 0.06521689146757126, -0.004436032846570015, 0.023924939334392548, -0.01754254288971424, -0.14954215288162231, -0.15222325921058655, -0.09469334781169891, 0.13381685316562653, 0.1998831182718277, 0.45910945534706116, 0.9674330353736877, 0.8321216106414795, 0.4261065125465393, 0.05273926258087158, -0.11001330614089966, -0.08250980824232101, 0.00020596418471541256, -0.03694722801446915, -0.1239861249923706], [-0.03628292679786682, 0.0038529885932803154, 0.04106052592396736, 0.09248427301645279, -0.10635551810264587, -0.2438201606273651, 0.18469636142253876, -0.36817339062690735, -0.04770337790250778, 0.26405954360961914, 1.0185444355010986, 1.975010633468628, 0.2548099160194397, 0.3659714460372925, -0.43929335474967957, -0.5486937165260315, -0.5811964869499207, -0.31072375178337097, -0.21491926908493042, -0.03396880626678467, -0.07515113055706024], [0.014151697047054768, 0.03347942233085632, -0.10183098167181015, -0.13139143586158752, 0.04864669591188431, -0.10175014287233353, 0.27038469910621643, 0.016947951167821884, 0.040510423481464386, 0.49674561619758606, 0.7502415776252747, 0.45352405309677124, -1.5165513753890991, -1.2314505577087402, -0.6019563674926758, -0.2453528195619583, -0.24393969774246216, -0.11783960461616516, -0.13580234348773956, 0.0002828358265105635, -0.08402114361524582], [0.04473414272069931, -0.06434983760118484, 0.03627165034413338, -0.05938702076673508, 0.15770846605300903, 0.14933624863624573, 0.1114155650138855, 0.004145592451095581, 0.039506930857896805, 0.2365906983613968, 0.07279623299837112, -0.8179861903190613, -1.2177107334136963, -0.305813193321228, 0.18325909972190857, 0.3584483861923218, 0.20566321909427643, 0.04579731076955795, 0.1548924446105957, 0.043886251747608185, 0.08718027174472809], [0.04071557894349098, -0.07762105017900467, -0.016707347705960274, 0.014870449900627136, 0.11658284813165665, 0.06381746381521225, 0.03338299319148064, 0.1487530767917633, -0.20978939533233643, -0.2001676857471466, -0.343060702085495, -0.3850363790988922, -0.07591041177511215, 0.12178827077150345, 0.009250897914171219, 0.32288098335266113, 0.12353935837745667, 0.12906064093112946, 0.0420350581407547, 0.09660843014717102, 0.0500357523560524], [-0.017315752804279327, 0.0018357628723606467, -0.0593360960483551, 0.12757542729377747, 0.035591814666986465, 0.005444364156574011, -0.017149850726127625, -0.022868314757943153, -0.01671617664396763, -0.1526663601398468, -0.20543387532234192, -0.19310243427753448, 0.11675194650888443, -0.0305841825902462, -0.017545582726597786, 0.13402383029460907, 0.17970851063728333, 0.03021916374564171, -0.02913968451321125, 0.012717708945274353, 0.022865841165184975], [-0.004189139697700739, -0.03642399236559868, -0.004073862452059984, 0.03408036381006241, -0.07152339816093445, 0.05579608306288719, -0.03754400461912155, 0.0037701211404055357, -0.0521729476749897, -0.25937074422836304, -0.28379663825035095, -0.14754436910152435, -0.006426158826798201, 0.05278868228197098, -0.07142224907875061, 0.027610357850790024, 0.01890401914715767, 0.03569847345352173, 0.06212008371949196, -0.018708815798163414, 0.010581494309008121], [0.03557087853550911, 0.0488903634250164, -0.0094584496691823, -0.030254248529672623, 0.035316649824380875, -0.1011953353881836, 0.1222652941942215, 0.06256114691495895, 0.01809307560324669, -0.04862642288208008, -0.12095611542463303, -0.018074871972203255, 0.05436323210597038, 0.11809589713811874, 0.004925135523080826, 0.0866178348660469, 0.07002872228622437, 0.11358645558357239, -0.03784111142158508, 0.030147599056363106, -0.018119418993592262]], [[-0.011178437620401382, -0.13122937083244324, 0.054787758737802505, -0.04459356144070625, -0.1659068465232849, 0.07725335657596588, -0.08443381637334824, -0.06540624797344208, 0.0006037754938006401, -0.09064385294914246, 0.06443443149328232, 0.014927755109965801, 0.061584871262311935, 0.016895567998290062, -0.018749188631772995, 0.008900574408471584, 0.022856950759887695, -0.0862659141421318, 0.0863289162516594, 0.0269500520080328, 0.06472328305244446], [-0.006112482864409685, 0.043723516166210175, 0.015415502712130547, 0.051929689943790436, 0.09952990710735321, 0.21327197551727295, 0.07581742852926254, 0.18160593509674072, 0.3384629487991333, 0.007812641561031342, 0.19059067964553833, 0.08282520622015, 0.036869484931230545, 0.10141163319349289, -0.006700365804135799, -0.12120520323514938, -0.10268381983041763, -0.05975087359547615, 0.04339978098869324, -0.009290064685046673, -0.016583355143666267], [-0.08560282737016678, -0.019346866756677628, -0.07364919781684875, -0.018028102815151215, 0.15501463413238525, 0.17204612493515015, 0.12032786011695862, 0.42880743741989136, 0.6960034966468811, 0.00028187103453092277, 0.11872325092554092, 0.5107123851776123, 0.48725438117980957, 0.05650179088115692, -0.0991874560713768, -0.15300457179546356, 0.10190025717020035, -0.05573265254497528, 0.008303227834403515, 0.1676538586616516, -0.0022744350135326385], [-0.11717354506254196, 0.06132470443844795, 0.08681689947843552, -0.10234224796295166, 0.0990837961435318, 0.0647459551692009, -0.0343116857111454, 0.7988196611404419, -0.04676336795091629, -2.411749839782715, -1.1259502172470093, 0.397723913192749, 0.13240975141525269, -0.26216915249824524, -0.36527302861213684, -0.04820265993475914, -0.04210561886429787, -0.01710607297718525, -0.028453264385461807, 0.01198632549494505, -0.12793102860450745], [-0.05098222568631172, -0.015708599239587784, 0.07549731433391571, -0.044693052768707275, -0.134266197681427, 0.1389470100402832, -0.05451870709657669, 0.579060971736908, -0.2069847732782364, -2.594627618789673, -0.5699965953826904, 0.22580070793628693, 0.0034968340769410133, 0.46019184589385986, 0.18576477468013763, 0.21306687593460083, -0.04203720763325691, -0.056145455688238144, 0.07975766062736511, -0.051391784101724625, 0.08030671626329422], [0.025590313598513603, -0.04336244985461235, 0.08043307811021805, -0.14392486214637756, 0.07961142808198929, 0.03941073641180992, 0.0016400855965912342, 0.29992082715034485, -0.05340243875980377, -0.4307722747325897, 0.17377051711082458, -0.012120338156819344, 0.26953649520874023, 0.48598209023475647, 0.16401804983615875, 0.16151954233646393, 0.05791449174284935, -0.012521449476480484, -0.014978429302573204, 0.055292680859565735, 0.0035724814515560865], [0.02011321298778057, -0.03490670770406723, -0.0300581194460392, 0.025572076439857483, -0.027883091941475868, 0.15026195347309113, -0.07559884339570999, -0.03516080230474472, 0.09461700916290283, 0.18697139620780945, 0.1782909780740738, -0.1163163110613823, 0.036091648042201996, 0.14274713397026062, 0.11415678262710571, 0.023126933723688126, -0.04542767256498337, 0.0232712309807539, -0.12390029430389404, 0.016551239416003227, -0.07925231754779816], [-0.0398758128285408, -0.01297945249825716, 0.16684721410274506, 0.04529036581516266, -0.04598614200949669, -0.028768466785550117, 0.0884106233716011, 0.02005315199494362, -0.007798969745635986, 0.3117940425872803, 0.19670641422271729, -0.22513239085674286, -0.169534370303154, -0.06352183222770691, 0.05182626470923424, -0.07049952447414398, 0.028510041534900665, -0.127135768532753, 0.10232636332511902, -0.07728412747383118, -0.03508277237415314], [-0.054674528539180756, -0.013578473590314388, -0.03716535121202469, 0.013148951344192028, 0.0471498966217041, -0.09623751044273376, 0.058515723794698715, -0.12981562316417694, -0.004935894627124071, 0.26878121495246887, 0.12274361401796341, -0.20376701653003693, -0.08607541024684906, -0.12461545318365097, 0.11045804619789124, -0.06236861273646355, 0.07170820981264114, 0.02332458458840847, 0.018252601847052574, -0.1147785633802414, -0.07714790105819702], [0.05208925902843475, 0.009084039367735386, -0.02164316549897194, -0.09181483089923859, 0.004918769001960754, 0.14432074129581451, -0.09943138808012009, -0.12304636836051941, -0.00564102828502655, 0.06985850632190704, 0.24156349897384644, -0.002961905673146248, 0.022595232352614403, 0.08121959120035172, 0.1254945695400238, 0.015129847452044487, 0.007091550622135401, 0.0016030509723350406, -0.038288142532110214, -0.055579718202352524, 0.07023601233959198]], [[-0.04143190383911133, 0.047163188457489014, -0.1390460729598999, 0.12185359746217728, 0.07598774135112762, -0.08601699769496918, 0.03490490838885307, -0.10624874383211136, 0.07823744416236877, -0.09333587437868118, 0.0860760360956192, 0.047895900905132294, -0.009175289422273636, 0.07895656675100327, 0.008200610987842083, -0.044744376093149185, -0.10715210437774658, 0.019952300935983658, 0.0791308581829071, -0.022435173392295837, -0.0337308868765831], [-0.08354762196540833, 0.0686880350112915, 0.008638035506010056, 0.05458122491836548, 0.03950078785419464, 0.0073175933212041855, -0.0063568660989403725, 0.05694541335105896, -0.0011642532190307975, 0.27756422758102417, -0.17915859818458557, -0.09706263244152069, -0.2139807492494583, -0.34376513957977295, -0.03147387132048607, 0.01611589826643467, -0.01621304638683796, -0.07849203050136566, -0.05145464092493057, -0.025438103824853897, 0.013385843485593796], [0.07968217134475708, 0.12669914960861206, -0.08431749790906906, 0.08685417473316193, -0.10237600654363632, 0.10331153869628906, 0.25125014781951904, 0.3391683101654053, 0.31132251024246216, 0.5429449081420898, 0.7996245622634888, 0.20165878534317017, 0.21605762839317322, -0.1072487160563469, 0.26008352637290955, 0.11702532321214676, -0.059136610478162766, -0.028379224240779877, -0.07705263048410416, -0.015122435986995697, -0.02239714004099369], [-0.08149340748786926, -0.06100575998425484, -0.1557530164718628, -0.09071402251720428, -0.240455761551857, 0.07107509672641754, -0.20172201097011566, -0.008193686604499817, -0.40063637495040894, -0.43140846490859985, 1.6121169328689575, 1.59931218624115, 0.8070458173751831, 0.31120598316192627, 0.31419941782951355, -0.028096718713641167, 0.008806806989014149, -0.06448248773813248, 0.02683257684111595, -0.022959040477871895, -0.05135287344455719], [-0.0897132009267807, -0.005982167553156614, -0.026013750582933426, 0.0228558499366045, -0.06926142424345016, -0.13378354907035828, -0.26754385232925415, -0.13186368346214294, -0.4686712920665741, -1.8472425937652588, 0.15841177105903625, 0.25994718074798584, -0.23466628789901733, -0.13335180282592773, -0.24152600765228271, -0.12626880407333374, -0.08103203773498535, 0.10225023329257965, 0.1219990998506546, 0.04576602205634117, 0.008429867215454578], [0.04035257548093796, 0.04874240607023239, 0.1492794305086136, 0.017611779272556305, 0.023364828899502754, 0.053318366408348083, 0.09522146731615067, 0.27903231978416443, 0.20891383290290833, -0.9569056630134583, -1.0829604864120483, -0.8214558362960815, -0.5868085622787476, -0.31983184814453125, -0.11755169183015823, -0.06410697847604752, 0.005076130386441946, 0.22344070672988892, -0.07611542195081711, 0.11824079602956772, 0.15591831505298615], [0.04696591570973396, 0.07000118494033813, 0.02371826022863388, 0.08389857411384583, -0.0154037456959486, -0.0203835628926754, 0.1091184988617897, 0.13967140018939972, 0.3723336160182953, 0.15233616530895233, -0.6536403298377991, -0.6581137776374817, -0.19185659289360046, -0.0262682493776083, -0.005476230755448341, 0.037680044770240784, 0.12359989434480667, 0.12670938670635223, -0.04160565510392189, 0.045955315232276917, 0.10163628309965134], [0.07632873207330704, -0.0024016639217734337, 0.01788729429244995, 0.07170874625444412, -0.027833983302116394, -0.09920008480548859, -0.0036195458378642797, 0.0018283958779647946, 0.13094189763069153, 0.4002099931240082, -0.306288480758667, -0.256977379322052, -0.07598871737718582, 0.0938558429479599, -0.06343024224042892, -0.07051965594291687, 0.021541861817240715, -0.04498269408941269, 0.0954102873802185, -0.024368369951844215, -0.033608242869377136], [0.016608720645308495, 0.024885833263397217, -0.008260343223810196, 0.09469778835773468, 0.004982347600162029, -0.01917356252670288, -0.05011995881795883, -0.14210858941078186, -0.12439467012882233, 0.24880485236644745, 0.0057936618104577065, -0.0171204824000597, 0.09022273123264313, 0.0055528925731778145, -0.04832885041832924, -0.024839317426085472, 0.03317885473370552, 0.015776252374053, 0.049387235194444656, -0.0725897029042244, -0.1151692345738411], [0.0014764226507395506, 0.021432917565107346, 0.020313018932938576, -0.002393918577581644, 0.07462692260742188, 0.047085825353860855, -0.0036699611227959394, -0.16623927652835846, 0.02691345475614071, 0.09041909873485565, -0.12266415357589722, 0.023716755211353302, -0.026028720661997795, -0.00940739456564188, -0.013367431238293648, 0.009602141566574574, 0.09145698696374893, 0.01722213812172413, -0.01917925477027893, -0.011280545964837074, -0.07680904865264893]]], [[[0.34932011365890503, -0.11398066580295563, -0.3286440372467041, 1.1657497882843018, -2.34472918510437, -4.003535270690918, 1.3879969120025635, 2.7007851600646973, 0.9539145231246948]], [[0.055202558636665344, -0.2905943989753723, -2.562106132507324, -2.0661745071411133, -2.1207618713378906, -0.63179612159729, -2.3126535415649414, -1.3181838989257812, -0.9972649216651917]], [[-0.4973936080932617, -0.3224911391735077, -1.1688971519470215, -2.782926082611084, -0.6192247867584229, 2.571157693862915, 2.2898056507110596, -0.8221917152404785, -0.03393383324146271]], [[-0.0699358731508255, 0.7941015362739563, 1.9806287288665771, 2.5617618560791016, 4.626668453216553, 3.4972543716430664, 2.6246750354766846, 0.9727064371109009, 0.12893179059028625]], [[0.5020426511764526, 0.22120323777198792, 0.0016866456717252731, 1.0053083896636963, 0.9243865609169006, -0.23128440976142883, -1.9693846702575684, -0.11222341656684875, -0.21025176346302032]], [[-0.0277116559445858, 0.19408956170082092, -0.9816069006919861, -1.2853180170059204, -3.3274166584014893, -0.18487787246704102, 0.003985971212387085, 0.6733429431915283, 0.12473180890083313]], [[0.004064686596393585, -0.33673733472824097, -0.7811732292175293, 0.3806298077106476, 4.482688903808594, 2.466616630554199, 0.13392223417758942, 0.18490880727767944, 0.6566984057426453]], [[-0.4831353724002838, -1.3014650344848633, -2.079038381576538, -0.8163334131240845, 0.9107493162155151, -2.4928553104400635, -0.6213037967681885, 0.26453763246536255, 0.0282855536788702]]], [[[0.19637207686901093, -0.06374981254339218, -2.089529514312744, -5.416055679321289, -4.576921463012695, 1.9654407501220703, 1.6404078006744385, 0.1715286374092102, -0.43882256746292114]], [[-0.3880283236503601, -1.5174956321716309, -1.7114864587783813, -0.21169237792491913, -0.782206654548645, 0.9242753982543945, 1.0156358480453491, -0.24758100509643555, -0.6249532699584961]], [[-0.262723445892334, -0.7551451921463013, -1.0692466497421265, 2.654836416244507, 3.1513755321502686, 2.6457955837249756, 0.24459102749824524, 2.2082602977752686, 1.4024919271469116]], [[-0.05117376893758774, 0.254683256149292, 1.7601182460784912, 2.724649429321289, 2.1391854286193848, 2.391396999359131, 0.6765472888946533, 0.6988853216171265, 0.16268762946128845]]], [[[0.0, 0.0, 0.0, 0.0, 0.0, 0.0, 0.0, 0.0, 0.0, 0.0, 0.0, 0.0, 0.0, 0.0, 0.0, 0.0, 0.0, 2.105123281478882, 0.0, 0.0, 0.0, 0.0, 0.0, 0.0, 0.0, 0.0, 0.0, 0.0, 0.0, 0.0, 0.0, 0.0, 0.0, 0.0, 0.0, 0.0]], [[0.0, 0.0, 0.033802587538957596, 0.0, 0.0, 0.03265213593840599, 0.05016656219959259, 0.0, 0.05991826951503754, 0.13404196500778198, 0.3497774004936218, 1.1475237607955933, 1.683432698249817, 2.8535051345825195, 3.2143688201904297, 2.887873649597168, 2.6405816078186035, 1.2644455432891846, 0.503822922706604, 0.453959584236145, 0.018351824954152107, 0.10034046322107315, 0.16164559125900269, 0.14875106513500214, 0.039899975061416626, 0.013607876375317574, 0.038046520203351974, 0.03966903313994408, 0.00852120853960514, 0.07057403773069382, 0.0, 0.0, 0.0, 0.0, 0.0, 0.0]], [[0.04614471644163132, 0.0, 0.04447580873966217, 0.18430233001708984, 0.02888656035065651, 0.2810001075267792, 0.309181272983551, 0.2987128794193268, 0.12947618961334229, 0.12206505239009857, 0.18649834394454956, 0.21003441512584686, 0.6114273071289062, 1.0148488283157349, 1.4882203340530396, 0.9465640187263489, 2.334791421890259, 1.784399151802063, 1.7109270095825195, 0.5302588939666748, 0.7043542861938477, 0.8030152916908264, 0.4097898006439209, 0.13236287236213684, 0.051204703748226166, 0.11027513444423676, 0.1406150907278061, 0.07879047840833664, 0.1271187961101532, 0.08745317161083221, 0.16100044548511505, 0.10265495628118515, 0.0, 0.020806148648262024, 0.07365864515304565, 0.11964784562587738]], [[0.0, 0.0, 0.0, 0.0, 0.0, 0.0, 0.08115819096565247, 0.0, 0.12857472896575928, 0.08407619595527649, 0.11636923253536224, 0.22492429614067078, 0.5877134799957275, 0.7591516971588135, 0.7201256155967712, 1.2414507865905762, 0.4845867156982422, 1.6988784074783325, 0.5916564464569092, 0.5524455308914185, 0.16627830266952515, 0.020098382607102394, 0.3212927579879761, 0.08966593444347382, 0.14240890741348267, 0.03723956644535065, 0.05551537126302719, 0.0, 0.033811189234256744, 0.0, 0.0, 0.0, 0.0, 0.0, 0.0, 0.0]], [[0.0, 0.0, 0.0, 0.0, 0.062462061643600464, 0.01348305307328701, 0.1612434983253479, 0.0, 0.05238833278417587, 0.02128380537033081, 0.07497674226760864, 0.4354594349861145, 0.8672372698783875, 1.2748421430587769, 1.3197904825210571, 1.4629480838775635, 0.36094120144844055, 0.5148645639419556, 0.20056816935539246, 0.2669389545917511, 0.1599377542734146, 0.15053650736808777, 0.1663893163204193, 0.3282536268234253, 0.07397942245006561, 0.12508738040924072, 0.0173537265509367, 0.011400338262319565, 0.026928039267659187, 0.021112345159053802, 0.0, 0.003666915697976947, 0.0, 0.0, 0.0, 0.0]], [[0.006132356822490692, 0.0, 0.0, 0.09812057018280029, 0.10155203938484192, 0.20666837692260742, 0.0670565664768219, 0.1285674273967743, 0.2568538784980774, 0.32882237434387207, 0.3556508421897888, 0.1968275010585785, 0.25184696912765503, 0.6987091302871704, 0.8093904256820679, 0.9963089823722839, 0.8285872936248779, 1.2073675394058228, 0.6702649593353271, 0.912196159362793, 0.8151566982269287, 0.4041685163974762, 0.4642021656036377, 0.2861817479133606, 0.15527454018592834, 0.06909504532814026, 0.024872124195098877, 0.01529269851744175, 0.047111064195632935, 0.0, 0.06700647622346878, 0.04854503273963928, 0.0, 0.03829812631011009, 0.05654419958591461, 0.016673756763339043]], [[0.0, 0.0, 0.0, 0.0, 0.0, 0.0, 0.0, 0.0, 0.0, 0.0, 0.0, 0.0, 0.0, 0.030565138906240463, 0.027581391856074333, 0.11249852180480957, 0.5467199683189392, 0.10264074802398682, 0.3895283341407776, 0.6123987436294556, 0.5050083994865417, 0.7654938101768494, 0.3312780261039734, 0.16799409687519073, 0.013587306253612041, 0.0, 0.0, 0.0, 0.0, 0.0, 0.0, 0.0, 0.0, 0.0, 0.0, 0.0]], [[0.0, 0.01004429254680872, 0.00746872927993536, 0.0, 0.0, 0.0, 0.029537996277213097, 0.03243672475218773, 0.07743114233016968, 0.07164992392063141, 0.06865642964839935, 0.06907416135072708, 0.14410050213336945, 0.9583595395088196, 1.3948824405670166, 1.1545658111572266, 1.2380030155181885, 2.0010576248168945, 1.2555875778198242, 1.0211706161499023, 0.4798743724822998, 0.46665874123573303, 0.1117372214794159, 0.1880636066198349, 0.04621551185846329, 0.04108131304383278, 0.0, 0.0, 0.0, 0.0, 0.0, 0.04084582254290581, 0.0, 0.0, 0.0, 0.0]], [[0.0, 0.0, 0.0, 0.0, 0.0, 0.0, 0.0, 0.0, 0.0, 0.0, 0.0, 0.0, 0.0, 0.0, 0.3813457190990448, 0.4145972728729248, 1.0373823642730713, 0.7782548666000366, 0.7777537107467651, 1.0336344242095947, 0.13766790926456451, 0.32333895564079285, 0.18354035913944244, 0.20887045562267303, 0.0, 0.0, 0.0, 0.0, 0.0, 0.0, 0.0, 0.0, 0.0, 0.0, 0.0, 0.0]], [[0.0, 0.0, 0.0, 0.0, 0.17696361243724823, 0.0, 0.15259481966495514, 0.026828421279788017, 0.09618907421827316, 0.07317152619361877, 0.15480127930641174, 0.6085368990898132, 0.8554531931877136, 1.365553617477417, 1.7004063129425049, 2.373840570449829, 2.825666666030884, 1.4729461669921875, 2.1427693367004395, 1.4883992671966553, 0.766471266746521, 0.45417991280555725, 0.4980679750442505, 0.4614100754261017, 0.26010581851005554, 0.15394282341003418, 0.1620686948299408, 0.04666770249605179, 0.04545685648918152, 0.0, 0.0, 0.0, 0.0, 0.0, 0.0, 0.06574352085590363]], [[0.0, 0.0, 0.0, 0.0, 0.0, 0.0, 0.0, 0.0, 0.0, 0.0, 0.0, 0.0, 0.0, 0.0, 0.0, 0.0, 0.0, 0.9726458191871643, 0.0, 0.0, 0.0, 0.0, 0.0, 0.0, 0.0, 0.0, 0.0, 0.0, 0.0, 0.0, 0.0, 0.0, 0.0, 0.0, 0.0, 0.0]]]], {}, 800, {0: 200, 1: 100, 2: 50, 3: 200}, {0: {'rows': 2, 'cols': 4}, 1: {'rows': 2, 'cols': 4}, 2: {'rows': 1, 'cols': 4}, 3: {'rows': 4, 'cols': 3}}, 5, 20);\n",
       "            });\n",
       "        })(element);\n",
       "    "
      ],
      "text/plain": [
       "<IPython.core.display.Javascript object>"
      ]
     },
     "metadata": {},
     "output_type": "display_data"
    }
   ],
   "source": [
    "display(Javascript(\"require.config({paths: {d3: 'https://d3js.org/d3.v5.min'}});\"))\n",
    "display(Javascript(filename=\"grids.js\"))\n",
    "display(HTML(filename=\"grids.css.html\"))\n",
    "# the layers to display\n",
    "draw_grids([layer.tolist() for layer in layers],\n",
    "           {},\n",
    "           width=800,\n",
    "           layer_heights={0:200, 1:100, 2:50, 3:200},\n",
    "           layer_dims={0:{'rows':2, 'cols':4}, \n",
    "                       1:{'rows':2, 'cols':4},\n",
    "                       2:{'rows':1, 'cols':4},\n",
    "                       3:{'rows':4, 'cols':3}},\n",
    "           padding=5,\n",
    "           layer_padding=20)"
   ]
  },
  {
   "cell_type": "code",
   "execution_count": null,
   "metadata": {},
   "outputs": [],
   "source": []
  }
 ],
 "metadata": {
  "kernelspec": {
   "display_name": "Python 3 (ipykernel)",
   "language": "python",
   "name": "python3"
  },
  "language_info": {
   "codemirror_mode": {
    "name": "ipython",
    "version": 3
   },
   "file_extension": ".py",
   "mimetype": "text/x-python",
   "name": "python",
   "nbconvert_exporter": "python",
   "pygments_lexer": "ipython3",
   "version": "3.8.13"
  }
 },
 "nbformat": 4,
 "nbformat_minor": 1
}
