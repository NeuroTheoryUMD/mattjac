{
 "cells": [
  {
   "cell_type": "markdown",
   "metadata": {
    "collapsed": false
   },
   "source": [
    "## imports"
   ]
  },
  {
   "cell_type": "code",
   "execution_count": 16,
   "metadata": {
    "collapsed": true
   },
   "outputs": [
    {
     "name": "stdout",
     "output_type": "stream",
     "text": [
      "Running on Computer: [beast]\n",
      "Save_dir = ./Monocular/\n",
      "The autoreload extension is already loaded. To reload it, use:\n",
      "  %reload_ext autoreload\n"
     ]
    }
   ],
   "source": [
    "import sys\n",
    "import os\n",
    "import h5py\n",
    "\n",
    "# setup paths\n",
    "iteration = 1 # which version of this tutorial to run (in case want results in different dirs)\n",
    "NBname = 'color_cloud_initial{}'.format(iteration)\n",
    "\n",
    "myhost = os.uname()[1] # get name of machine\n",
    "print(\"Running on Computer: [%s]\" %myhost)\n",
    "\n",
    "datadir = './Mdata/'\n",
    "dirname = './Monocular/' # Working directory \n",
    "\n",
    "import numpy as np\n",
    "import scipy.io as sio\n",
    "from copy import deepcopy\n",
    "\n",
    "# plotting\n",
    "import matplotlib.pyplot as plt\n",
    "import mattplotlib as m\n",
    "import mattrics as met\n",
    "\n",
    "# Import torch\n",
    "import torch\n",
    "from torch import nn\n",
    "\n",
    "# NDN tools\n",
    "import NDNT.utils as utils # some other utilities\n",
    "from NDNT.utils import imagesc   # because I'm lazy\n",
    "from NDNT.utils import ss        # because I'm real lazy\n",
    "import NDNT.NDNT as NDN\n",
    "from NDNT.modules.layers import *\n",
    "from NDNT.networks import *\n",
    "from importlib import reload\n",
    "from time import time\n",
    "import dill # more comprehensive pickle\n",
    "\n",
    "from NTdatasets.generic import GenericDataset\n",
    "from NTdatasets.cumming.binocular import binocular_single\n",
    "\n",
    "device = torch.device(\"cuda:1\")\n",
    "dtype = torch.float32\n",
    "\n",
    "# Where saved models and checkpoints go -- this is to be automated\n",
    "print( 'Save_dir =', dirname)\n",
    "\n",
    "# Lazy stuff\n",
    "from NDNT.utils.DanUtils import ss\n",
    "from NDNT.utils.DanUtils import imagesc\n",
    "\n",
    "%load_ext autoreload\n",
    "%autoreload 2"
   ]
  },
  {
   "cell_type": "code",
   "execution_count": 2,
   "metadata": {
    "collapsed": false
   },
   "outputs": [
    {
     "name": "stdout",
     "output_type": "stream",
     "text": [
      "Loading expt04\n",
      "  Time embedding...\n",
      "11 cells, 362504 time steps.\n"
     ]
    },
    {
     "data": {
      "image/png": "[encoded data removed]",
      "text/plain": [
       "<Figure size 640x480 with 1 Axes>"
      ]
     },
     "metadata": {},
     "output_type": "display_data"
    }
   ],
   "source": [
    "# Load Data\n",
    "num_lags = 10\n",
    "expts = ['expt04']\n",
    "# this can handle multiple experiments\n",
    "#expts = ['expt04', 'expt05']\n",
    "\n",
    "from NTdatasets.cumming.monocular import MultiDataset\n",
    "data = MultiDataset(\n",
    "    datadir=datadir, filenames=expts, include_MUs=False,\n",
    "    time_embed=True, num_lags=num_lags )\n",
    "imagesc(data.dfs.detach().numpy())\n",
    "print(\"%d cells, %d time steps.\"%(data.NC, data.NT))"
   ]
  },
  {
   "cell_type": "markdown",
   "metadata": {
    "collapsed": false
   },
   "source": [
    "## cascade model"
   ]
  },
  {
   "cell_type": "code",
   "execution_count": 10,
   "metadata": {
    "collapsed": false
   },
   "outputs": [],
   "source": [
    "# jump right to shared models\n",
    "adam_pars = utils.create_optimizer_params(\n",
    "    optimizer_type='AdamW', batch_size=2000, num_workers=0,\n",
    "    learning_rate=0.01, early_stopping_patience=4,\n",
    "    optimize_graph=False, weight_decay = 0.1)\n",
    "adam_pars['device'] = device"
   ]
  },
  {
   "cell_type": "code",
   "execution_count": 11,
   "metadata": {
    "collapsed": false
   },
   "outputs": [
    {
     "name": "stdout",
     "output_type": "stream",
     "text": [
      "  Reset cells_out to full dataset (11 cells).\n"
     ]
    }
   ],
   "source": [
    "## If there is enough memory on the device, can put the whole dataloader on the GPU\n",
    "#del train_ds , val_ds\n",
    "torch.cuda.empty_cache()\n",
    "\n",
    "data.set_cells()\n",
    "train_ds = GenericDataset(data[data.train_inds], device=device)\n",
    "val_ds = GenericDataset(data[data.val_inds], device=device)"
   ]
  },
  {
   "cell_type": "code",
   "execution_count": 12,
   "metadata": {
    "collapsed": false
   },
   "outputs": [
    {
     "name": "stdout",
     "output_type": "stream",
     "text": [
      "Network 0:\n",
      "  Layer 0:\n",
      "      weight: torch.Size([210, 8])\n",
      "  Layer 1:\n",
      "      weight: torch.Size([72, 8])\n",
      "  Layer 2:\n",
      "      weight: torch.Size([72, 4])\n",
      "Network 1:\n",
      "  Layer 0:\n",
      "      weight: torch.Size([720, 11])\n",
      "      bias: torch.Size([11])\n"
     ]
    }
   ],
   "source": [
    "num_subs = [8, 8, 4]\n",
    "fws = [21, 9, 9]\n",
    "XTregB = 0.0001\n",
    "Greg = 0.001\n",
    "Creg= None\n",
    "clayers = []\n",
    "for ii in range(0,len(num_subs)):\n",
    "    clayers.append(\n",
    "        ConvLayer.layer_dict(\n",
    "            num_filters=num_subs[ii], bias=False, norm_type=1, num_inh=num_subs[ii]//2,\n",
    "            filter_dims=fws[ii], padding='same', NLtype='relu', initialize_center = True) )\n",
    "    clayers[ii]['output_norm'] = 'batch'\n",
    "    clayers[ii]['window'] = 'hamming'\n",
    "clayers[0]['input_dims'] = data.stim_dims\n",
    "clayers[0]['reg_vals'] = {'d2xt': XTregB, 'center': Creg, 'bcs':{'d2xt':1} }\n",
    "\n",
    "scaffold_net =  FFnetwork.ffnet_dict(\n",
    "    ffnet_type='scaffold',\n",
    "    xstim_n = 'stim', layer_list = clayers )\n",
    "\n",
    "# 'readout' layer\n",
    "readout_par = NDNLayer.layer_dict(\n",
    "    num_filters=data.NC, norm_type=0,\n",
    "    NLtype='softplus', bias=True,\n",
    "    pos_constraint=True,\n",
    "    initialize_center = True)\n",
    "readout_par['reg_vals'] = {'glocalx': Greg  }\n",
    "\n",
    "readout_net = FFnetwork.ffnet_dict(\n",
    "    xstim_n = None, ffnet_n=[0],\n",
    "    layer_list = [readout_par], ffnet_type='normal')\n",
    "\n",
    "cnn0 = NDN.NDN( ffnet_list=[scaffold_net, readout_net] )\n",
    "cnn0.list_parameters()"
   ]
  },
  {
   "cell_type": "code",
   "execution_count": 13,
   "metadata": {
    "collapsed": false
   },
   "outputs": [
    {
     "data": {
      "image/png": "[encoded data removed]",
      "text/plain": [
       "<Figure size 640x480 with 1 Axes>"
      ]
     },
     "metadata": {},
     "output_type": "display_data"
    }
   ],
   "source": [
    "reload(m)\n",
    "m.draw_model(cnn0)"
   ]
  },
  {
   "cell_type": "code",
   "execution_count": 14,
   "metadata": {
    "collapsed": false
   },
   "outputs": [
    {
     "name": "stdout",
     "output_type": "stream",
     "text": [
      "\n",
      "GPU Available: True, GPU Used: True\n"
     ]
    },
    {
     "name": "stderr",
     "output_type": "stream",
     "text": [
      "Epoch 1: 100%|███████████████████████████████████████████████████████| 138/138 [00:04<00:00, 30.11it/s, train_loss=0.462]\n",
      "Validating ver=2: 100%|██████████████████████████████████████████████████| 35/35 [00:00<00:00, 44.14it/s, val_loss=0.429]\n",
      "Epoch 2: 100%|███████████████████████████████████████████████████████| 138/138 [00:03<00:00, 35.81it/s, train_loss=0.414]\n",
      "Validating ver=2: 100%|███████████████████████████████████████████████████| 35/35 [00:00<00:00, 44.03it/s, val_loss=0.42]\n",
      "Epoch 3: 100%|███████████████████████████████████████████████████████| 138/138 [00:03<00:00, 35.78it/s, train_loss=0.408]\n",
      "Validating ver=2: 100%|██████████████████████████████████████████████████| 35/35 [00:00<00:00, 43.98it/s, val_loss=0.417]\n",
      "Epoch 4: 100%|███████████████████████████████████████████████████████| 138/138 [00:03<00:00, 35.89it/s, train_loss=0.405]\n",
      "Validating ver=2: 100%|██████████████████████████████████████████████████| 35/35 [00:00<00:00, 44.34it/s, val_loss=0.415]\n",
      "Epoch 5: 100%|███████████████████████████████████████████████████████| 138/138 [00:03<00:00, 35.63it/s, train_loss=0.403]\n",
      "Validating ver=2: 100%|██████████████████████████████████████████████████| 35/35 [00:00<00:00, 43.69it/s, val_loss=0.413]\n",
      "Epoch 6: 100%|███████████████████████████████████████████████████████| 138/138 [00:03<00:00, 36.04it/s, train_loss=0.402]\n",
      "Validating ver=2: 100%|██████████████████████████████████████████████████| 35/35 [00:00<00:00, 44.57it/s, val_loss=0.413]\n",
      "Epoch 7: 100%|███████████████████████████████████████████████████████| 138/138 [00:03<00:00, 36.24it/s, train_loss=0.401]\n",
      "Validating ver=2: 100%|██████████████████████████████████████████████████| 35/35 [00:00<00:00, 44.64it/s, val_loss=0.413]\n",
      "Epoch 8: 100%|█████████████████████████████████████████████████████████| 138/138 [00:03<00:00, 36.22it/s, train_loss=0.4]\n",
      "Validating ver=2: 100%|██████████████████████████████████████████████████| 35/35 [00:00<00:00, 44.63it/s, val_loss=0.413]\n",
      "Epoch 9: 100%|█████████████████████████████████████████████████████████| 138/138 [00:03<00:00, 36.02it/s, train_loss=0.4]\n",
      "Validating ver=2: 100%|██████████████████████████████████████████████████| 35/35 [00:00<00:00, 44.42it/s, val_loss=0.412]\n",
      "Epoch 10: 100%|██████████████████████████████████████████████████████| 138/138 [00:03<00:00, 36.09it/s, train_loss=0.399]\n",
      "Validating ver=2: 100%|██████████████████████████████████████████████████| 35/35 [00:00<00:00, 44.41it/s, val_loss=0.412]\n",
      "Epoch 11: 100%|██████████████████████████████████████████████████████| 138/138 [00:03<00:00, 35.99it/s, train_loss=0.399]\n",
      "Validating ver=2: 100%|██████████████████████████████████████████████████| 35/35 [00:00<00:00, 44.37it/s, val_loss=0.412]\n",
      "Epoch 12: 100%|██████████████████████████████████████████████████████| 138/138 [00:03<00:00, 36.10it/s, train_loss=0.399]\n",
      "Validating ver=2: 100%|██████████████████████████████████████████████████| 35/35 [00:00<00:00, 44.27it/s, val_loss=0.411]\n",
      "Epoch 13: 100%|██████████████████████████████████████████████████████| 138/138 [00:03<00:00, 36.06it/s, train_loss=0.399]\n",
      "Validating ver=2: 100%|██████████████████████████████████████████████████| 35/35 [00:00<00:00, 44.32it/s, val_loss=0.411]\n",
      "Epoch 14: 100%|██████████████████████████████████████████████████████| 138/138 [00:03<00:00, 36.03it/s, train_loss=0.399]\n",
      "Validating ver=2: 100%|██████████████████████████████████████████████████| 35/35 [00:00<00:00, 44.26it/s, val_loss=0.411]\n",
      "Epoch 15: 100%|██████████████████████████████████████████████████████| 138/138 [00:03<00:00, 36.09it/s, train_loss=0.398]\n",
      "Validating ver=2: 100%|██████████████████████████████████████████████████| 35/35 [00:00<00:00, 44.41it/s, val_loss=0.412]\n",
      "Epoch 16: 100%|██████████████████████████████████████████████████████| 138/138 [00:03<00:00, 35.66it/s, train_loss=0.398]\n",
      "Validating ver=2: 100%|██████████████████████████████████████████████████| 35/35 [00:00<00:00, 44.26it/s, val_loss=0.412]\n",
      "Epoch 17: 100%|██████████████████████████████████████████████████████| 138/138 [00:03<00:00, 35.98it/s, train_loss=0.398]\n",
      "Validating ver=2: 100%|██████████████████████████████████████████████████| 35/35 [00:00<00:00, 44.01it/s, val_loss=0.412]\n"
     ]
    },
    {
     "name": "stdout",
     "output_type": "stream",
     "text": [
      "Early stopping\n",
      "Done fitting\n",
      "  Fit complete: 80.31300902366638 sec elapsed\n"
     ]
    },
    {
     "name": "stderr",
     "output_type": "stream",
     "text": [
      "Eval models: 100%|███████████████████████████████████████████████████████████████████████| 69/69 [00:00<00:00, 94.80it/s]"
     ]
    },
    {
     "name": "stdout",
     "output_type": "stream",
     "text": [
      "[ 0.6030021   0.64705974  1.1051824   0.2888955   0.4448229  -0.02977848\n",
      "  0.0865618   0.12981057 -0.01627207  0.58167005  0.05734444] 0.35439083\n"
     ]
    },
    {
     "name": "stderr",
     "output_type": "stream",
     "text": [
      "\n"
     ]
    }
   ],
   "source": [
    "cnn0.fit_dl(train_ds, val_ds, **adam_pars, verbose=2)\n",
    "LLs1 = cnn0.eval_models(val_ds, null_adjusted=True)\n",
    "print(LLs1, np.mean(LLs1))"
   ]
  },
  {
   "cell_type": "code",
   "execution_count": 15,
   "metadata": {
    "collapsed": false
   },
   "outputs": [
    {
     "data": {
      "image/png": "[encoded data removed]",
      "text/plain": [
       "<Figure size 1600x200 with 8 Axes>"
      ]
     },
     "metadata": {},
     "output_type": "display_data"
    }
   ],
   "source": [
    "cnn0.plot_filters()"
   ]
  },
  {
   "cell_type": "code",
   "execution_count": 18,
   "metadata": {
    "collapsed": false
   },
   "outputs": [
    {
     "data": {
      "text/plain": [
       "<Figure size 640x480 with 0 Axes>"
      ]
     },
     "metadata": {},
     "output_type": "display_data"
    },
    {
     "data": {
      "image/png": "[encoded data removed]",
      "text/plain": [
       "<Figure size 2000x1000 with 1 Axes>"
      ]
     },
     "metadata": {},
     "output_type": "display_data"
    }
   ],
   "source": [
    "# R2\n",
    "m.fig()\n",
    "plt.bar(range(11), met.r2(data, cnn0))\n",
    "plt.show()"
   ]
  },
  {
   "cell_type": "markdown",
   "metadata": {
    "collapsed": false
   },
   "source": [
    "Can't seem to get rid of weird edge artifacts. Very likely the number of parameters is not adequately supported by the data."
   ]
  },
  {
   "cell_type": "markdown",
   "metadata": {
    "collapsed": false
   },
   "source": [
    "## can we fit multiple datasets simultaneously using the DataFilters? Does the NDNT support this, or do I need to add this feature?"
   ]
  },
  {
   "cell_type": "code",
   "execution_count": null,
   "metadata": {
    "collapsed": false
   },
   "outputs": [],
   "source": []
  }
 ],
 "metadata": {
  "kernelspec": {
   "display_name": "Python 3",
   "language": "python",
   "name": "python3"
  },
  "language_info": {
   "codemirror_mode": {
    "name": "ipython",
    "version": 2
   },
   "file_extension": ".py",
   "mimetype": "text/x-python",
   "name": "python",
   "nbconvert_exporter": "python",
   "pygments_lexer": "ipython2",
   "version": "2.7.6"
  }
 },
 "nbformat": 4,
 "nbformat_minor": 0
}
