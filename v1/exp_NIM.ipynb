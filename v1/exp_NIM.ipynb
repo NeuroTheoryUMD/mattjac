{
 "cells": [
  {
   "cell_type": "code",
   "execution_count": 1,
   "metadata": {
    "collapsed": true
   },
   "outputs": [
    {
     "name": "stdout",
     "output_type": "stream",
     "text": [
      "Invoking __init__.py for NDNT.utils\n"
     ]
    }
   ],
   "source": [
    "import experiment as exp\n",
    "import mattplotlib as mplt"
   ]
  },
  {
   "cell_type": "code",
   "execution_count": 2,
   "metadata": {
    "collapsed": false
   },
   "outputs": [],
   "source": [
    "e = exp.load(expname='exp_NIM', experiment_location='experiments')"
   ]
  },
  {
   "cell_type": "code",
   "execution_count": 7,
   "metadata": {
    "collapsed": false
   },
   "outputs": [
    {
     "name": "stdout",
     "output_type": "stream",
     "text": [
      "expt=='expt04'|name=='NIM_expt04'\n"
     ]
    },
    {
     "data": {
      "text/html": [
       "<div>\n",
       "<style scoped>\n",
       "    .dataframe tbody tr th:only-of-type {\n",
       "        vertical-align: middle;\n",
       "    }\n",
       "\n",
       "    .dataframe tbody tr th {\n",
       "        vertical-align: top;\n",
       "    }\n",
       "\n",
       "    .dataframe thead th {\n",
       "        text-align: right;\n",
       "    }\n",
       "</style>\n",
       "<table border=\"1\" class=\"dataframe\">\n",
       "  <thead>\n",
       "    <tr style=\"text-align: right;\">\n",
       "      <th></th>\n",
       "      <th>expt</th>\n",
       "      <th>name</th>\n",
       "      <th>trial</th>\n",
       "    </tr>\n",
       "  </thead>\n",
       "  <tbody>\n",
       "    <tr>\n",
       "      <th>0</th>\n",
       "      <td>expt04</td>\n",
       "      <td>NIM_expt04+expt05</td>\n",
       "      <td>&lt;experiment.Trial object at 0x7fc84189bd90&gt;</td>\n",
       "    </tr>\n",
       "    <tr>\n",
       "      <th>0</th>\n",
       "      <td>expt04</td>\n",
       "      <td>NIM_expt04+expt05+expt06+expt07</td>\n",
       "      <td>&lt;experiment.Trial object at 0x7fc83908ca90&gt;</td>\n",
       "    </tr>\n",
       "    <tr>\n",
       "      <th>0</th>\n",
       "      <td>expt04</td>\n",
       "      <td>NIM_expt04+expt05+expt06</td>\n",
       "      <td>&lt;experiment.Trial object at 0x7fc839002430&gt;</td>\n",
       "    </tr>\n",
       "    <tr>\n",
       "      <th>0</th>\n",
       "      <td>expt04</td>\n",
       "      <td>NIM_expt04</td>\n",
       "      <td>&lt;experiment.Trial object at 0x7fc839002220&gt;</td>\n",
       "    </tr>\n",
       "  </tbody>\n",
       "</table>\n",
       "</div>"
      ],
      "text/plain": [
       "     expt                             name  \\\n",
       "0  expt04                NIM_expt04+expt05   \n",
       "0  expt04  NIM_expt04+expt05+expt06+expt07   \n",
       "0  expt04         NIM_expt04+expt05+expt06   \n",
       "0  expt04                       NIM_expt04   \n",
       "\n",
       "                                         trial  \n",
       "0  <experiment.Trial object at 0x7fc84189bd90>  \n",
       "0  <experiment.Trial object at 0x7fc83908ca90>  \n",
       "0  <experiment.Trial object at 0x7fc839002430>  \n",
       "0  <experiment.Trial object at 0x7fc839002220>  "
      ]
     },
     "execution_count": 7,
     "metadata": {},
     "output_type": "execute_result"
    }
   ],
   "source": [
    "e.trials_by_param(union=True, expt='expt04', name='NIM_expt04')"
   ]
  },
  {
   "cell_type": "code",
   "execution_count": 4,
   "metadata": {
    "collapsed": false
   },
   "outputs": [
    {
     "data": {
      "text/html": [
       "<div>\n",
       "<style scoped>\n",
       "    .dataframe tbody tr th:only-of-type {\n",
       "        vertical-align: middle;\n",
       "    }\n",
       "\n",
       "    .dataframe tbody tr th {\n",
       "        vertical-align: top;\n",
       "    }\n",
       "\n",
       "    .dataframe thead th {\n",
       "        text-align: right;\n",
       "    }\n",
       "</style>\n",
       "<table border=\"1\" class=\"dataframe\">\n",
       "  <thead>\n",
       "    <tr style=\"text-align: right;\">\n",
       "      <th></th>\n",
       "      <th>expt</th>\n",
       "      <th>name</th>\n",
       "      <th>trial</th>\n",
       "    </tr>\n",
       "  </thead>\n",
       "  <tbody>\n",
       "    <tr>\n",
       "      <th>0</th>\n",
       "      <td>expt04</td>\n",
       "      <td>NIM_expt04+expt05</td>\n",
       "      <td>&lt;experiment.Trial object at 0x7fc84189bd90&gt;</td>\n",
       "    </tr>\n",
       "    <tr>\n",
       "      <th>0</th>\n",
       "      <td>expt04</td>\n",
       "      <td>NIM_expt04+expt05+expt06+expt07</td>\n",
       "      <td>&lt;experiment.Trial object at 0x7fc83908ca90&gt;</td>\n",
       "    </tr>\n",
       "    <tr>\n",
       "      <th>0</th>\n",
       "      <td>expt04</td>\n",
       "      <td>NIM_expt04+expt05+expt06</td>\n",
       "      <td>&lt;experiment.Trial object at 0x7fc839002430&gt;</td>\n",
       "    </tr>\n",
       "    <tr>\n",
       "      <th>0</th>\n",
       "      <td>expt04</td>\n",
       "      <td>NIM_expt04</td>\n",
       "      <td>&lt;experiment.Trial object at 0x7fc839002220&gt;</td>\n",
       "    </tr>\n",
       "  </tbody>\n",
       "</table>\n",
       "</div>"
      ],
      "text/plain": [
       "     expt                             name  \\\n",
       "0  expt04                NIM_expt04+expt05   \n",
       "0  expt04  NIM_expt04+expt05+expt06+expt07   \n",
       "0  expt04         NIM_expt04+expt05+expt06   \n",
       "0  expt04                       NIM_expt04   \n",
       "\n",
       "                                         trial  \n",
       "0  <experiment.Trial object at 0x7fc84189bd90>  \n",
       "0  <experiment.Trial object at 0x7fc83908ca90>  \n",
       "0  <experiment.Trial object at 0x7fc839002430>  \n",
       "0  <experiment.Trial object at 0x7fc839002220>  "
      ]
     },
     "execution_count": 4,
     "metadata": {},
     "output_type": "execute_result"
    }
   ],
   "source": [
    "e.trials.query(\"expt == 'expt04'\")"
   ]
  },
  {
   "cell_type": "code",
   "execution_count": 5,
   "metadata": {
    "collapsed": false
   },
   "outputs": [
    {
     "data": {
      "text/html": [
       "<div>\n",
       "<style scoped>\n",
       "    .dataframe tbody tr th:only-of-type {\n",
       "        vertical-align: middle;\n",
       "    }\n",
       "\n",
       "    .dataframe tbody tr th {\n",
       "        vertical-align: top;\n",
       "    }\n",
       "\n",
       "    .dataframe thead th {\n",
       "        text-align: right;\n",
       "    }\n",
       "</style>\n",
       "<table border=\"1\" class=\"dataframe\">\n",
       "  <thead>\n",
       "    <tr style=\"text-align: right;\">\n",
       "      <th></th>\n",
       "      <th>expt</th>\n",
       "      <th>name</th>\n",
       "      <th>trial</th>\n",
       "    </tr>\n",
       "  </thead>\n",
       "  <tbody>\n",
       "    <tr>\n",
       "      <th>0</th>\n",
       "      <td>expt04</td>\n",
       "      <td>NIM_expt04+expt05</td>\n",
       "      <td>&lt;experiment.Trial object at 0x7fc84189bd90&gt;</td>\n",
       "    </tr>\n",
       "    <tr>\n",
       "      <th>1</th>\n",
       "      <td>expt05</td>\n",
       "      <td>NIM_expt04+expt05</td>\n",
       "      <td>&lt;experiment.Trial object at 0x7fc84189bd90&gt;</td>\n",
       "    </tr>\n",
       "    <tr>\n",
       "      <th>0</th>\n",
       "      <td>expt04</td>\n",
       "      <td>NIM_expt04+expt05+expt06+expt07</td>\n",
       "      <td>&lt;experiment.Trial object at 0x7fc83908ca90&gt;</td>\n",
       "    </tr>\n",
       "    <tr>\n",
       "      <th>1</th>\n",
       "      <td>expt05</td>\n",
       "      <td>NIM_expt04+expt05+expt06+expt07</td>\n",
       "      <td>&lt;experiment.Trial object at 0x7fc83908ca90&gt;</td>\n",
       "    </tr>\n",
       "    <tr>\n",
       "      <th>2</th>\n",
       "      <td>expt06</td>\n",
       "      <td>NIM_expt04+expt05+expt06+expt07</td>\n",
       "      <td>&lt;experiment.Trial object at 0x7fc83908ca90&gt;</td>\n",
       "    </tr>\n",
       "    <tr>\n",
       "      <th>3</th>\n",
       "      <td>expt07</td>\n",
       "      <td>NIM_expt04+expt05+expt06+expt07</td>\n",
       "      <td>&lt;experiment.Trial object at 0x7fc83908ca90&gt;</td>\n",
       "    </tr>\n",
       "    <tr>\n",
       "      <th>0</th>\n",
       "      <td>expt04</td>\n",
       "      <td>NIM_expt04+expt05+expt06</td>\n",
       "      <td>&lt;experiment.Trial object at 0x7fc839002430&gt;</td>\n",
       "    </tr>\n",
       "    <tr>\n",
       "      <th>1</th>\n",
       "      <td>expt05</td>\n",
       "      <td>NIM_expt04+expt05+expt06</td>\n",
       "      <td>&lt;experiment.Trial object at 0x7fc839002430&gt;</td>\n",
       "    </tr>\n",
       "    <tr>\n",
       "      <th>2</th>\n",
       "      <td>expt06</td>\n",
       "      <td>NIM_expt04+expt05+expt06</td>\n",
       "      <td>&lt;experiment.Trial object at 0x7fc839002430&gt;</td>\n",
       "    </tr>\n",
       "    <tr>\n",
       "      <th>0</th>\n",
       "      <td>expt04</td>\n",
       "      <td>NIM_expt04</td>\n",
       "      <td>&lt;experiment.Trial object at 0x7fc839002220&gt;</td>\n",
       "    </tr>\n",
       "  </tbody>\n",
       "</table>\n",
       "</div>"
      ],
      "text/plain": [
       "     expt                             name  \\\n",
       "0  expt04                NIM_expt04+expt05   \n",
       "1  expt05                NIM_expt04+expt05   \n",
       "0  expt04  NIM_expt04+expt05+expt06+expt07   \n",
       "1  expt05  NIM_expt04+expt05+expt06+expt07   \n",
       "2  expt06  NIM_expt04+expt05+expt06+expt07   \n",
       "3  expt07  NIM_expt04+expt05+expt06+expt07   \n",
       "0  expt04         NIM_expt04+expt05+expt06   \n",
       "1  expt05         NIM_expt04+expt05+expt06   \n",
       "2  expt06         NIM_expt04+expt05+expt06   \n",
       "0  expt04                       NIM_expt04   \n",
       "\n",
       "                                         trial  \n",
       "0  <experiment.Trial object at 0x7fc84189bd90>  \n",
       "1  <experiment.Trial object at 0x7fc84189bd90>  \n",
       "0  <experiment.Trial object at 0x7fc83908ca90>  \n",
       "1  <experiment.Trial object at 0x7fc83908ca90>  \n",
       "2  <experiment.Trial object at 0x7fc83908ca90>  \n",
       "3  <experiment.Trial object at 0x7fc83908ca90>  \n",
       "0  <experiment.Trial object at 0x7fc839002430>  \n",
       "1  <experiment.Trial object at 0x7fc839002430>  \n",
       "2  <experiment.Trial object at 0x7fc839002430>  \n",
       "0  <experiment.Trial object at 0x7fc839002220>  "
      ]
     },
     "execution_count": 5,
     "metadata": {},
     "output_type": "execute_result"
    }
   ],
   "source": [
    "e.trials"
   ]
  },
  {
   "cell_type": "code",
   "execution_count": 6,
   "metadata": {
    "collapsed": false
   },
   "outputs": [
    {
     "ename": "AttributeError",
     "evalue": "'str' object has no attribute 'trial_info'",
     "output_type": "error",
     "traceback": [
      "\u001b[0;31m---------------------------------------------------------------------------\u001b[0m",
      "\u001b[0;31mAttributeError\u001b[0m                            Traceback (most recent call last)",
      "Cell \u001b[0;32mIn[6], line 2\u001b[0m\n\u001b[1;32m      1\u001b[0m mplt\u001b[38;5;241m.\u001b[39mlightmode()\n\u001b[0;32m----> 2\u001b[0m \u001b[43me\u001b[49m\u001b[38;5;241;43m.\u001b[39;49m\u001b[43mplot_LLs\u001b[49m\u001b[43m(\u001b[49m\u001b[43mtrials\u001b[49m\u001b[38;5;241;43m=\u001b[39;49m\u001b[43m[\u001b[49m\u001b[38;5;124;43m'\u001b[39;49m\u001b[38;5;124;43mNIM_expt04\u001b[39;49m\u001b[38;5;124;43m'\u001b[39;49m\u001b[43m,\u001b[49m\u001b[43m \u001b[49m\u001b[38;5;124;43m'\u001b[39;49m\u001b[38;5;124;43mNIM_expt04+expt05\u001b[39;49m\u001b[38;5;124;43m'\u001b[39;49m\u001b[43m,\u001b[49m\u001b[43m \u001b[49m\u001b[38;5;124;43m'\u001b[39;49m\u001b[38;5;124;43mNIM_expt04+expt05+expt06\u001b[39;49m\u001b[38;5;124;43m'\u001b[39;49m\u001b[43m,\u001b[49m\u001b[43m \u001b[49m\u001b[38;5;124;43m'\u001b[39;49m\u001b[38;5;124;43mNIM_expt04+expt05+expt06+expt07\u001b[39;49m\u001b[38;5;124;43m'\u001b[39;49m\u001b[43m]\u001b[49m\u001b[43m,\u001b[49m\u001b[43m \u001b[49m\u001b[43mfigsize\u001b[49m\u001b[38;5;241;43m=\u001b[39;49m\u001b[43m(\u001b[49m\u001b[38;5;241;43m20\u001b[39;49m\u001b[43m,\u001b[49m\u001b[38;5;241;43m5\u001b[39;49m\u001b[43m)\u001b[49m\u001b[43m)\u001b[49m\n",
      "File \u001b[0;32m~/projects/mattjac/v1/experiment.py:280\u001b[0m, in \u001b[0;36mExperiment.plot_LLs\u001b[0;34m(self, trials, figsize)\u001b[0m\n\u001b[1;32m    278\u001b[0m \u001b[38;5;28;01mdef\u001b[39;00m \u001b[38;5;21mplot_LLs\u001b[39m(\u001b[38;5;28mself\u001b[39m, trials\u001b[38;5;241m=\u001b[39m\u001b[38;5;28;01mNone\u001b[39;00m, figsize\u001b[38;5;241m=\u001b[39m(\u001b[38;5;241m15\u001b[39m,\u001b[38;5;241m5\u001b[39m)):\n\u001b[1;32m    279\u001b[0m     \u001b[38;5;66;03m# default to using all trials if not are specifically provided\u001b[39;00m\n\u001b[0;32m--> 280\u001b[0m     trial_names_to_use \u001b[38;5;241m=\u001b[39m [trial\u001b[38;5;241m.\u001b[39mtrial_info\u001b[38;5;241m.\u001b[39mname \u001b[38;5;28;01mfor\u001b[39;00m trial \u001b[38;5;129;01min\u001b[39;00m \u001b[38;5;28mself\u001b[39m\u001b[38;5;241m.\u001b[39mtrials]\n\u001b[1;32m    281\u001b[0m     \u001b[38;5;28;01mif\u001b[39;00m trials \u001b[38;5;129;01mis\u001b[39;00m \u001b[38;5;129;01mnot\u001b[39;00m \u001b[38;5;28;01mNone\u001b[39;00m:\n\u001b[1;32m    282\u001b[0m         trial_names_to_use \u001b[38;5;241m=\u001b[39m trials\n",
      "File \u001b[0;32m~/projects/mattjac/v1/experiment.py:280\u001b[0m, in \u001b[0;36m<listcomp>\u001b[0;34m(.0)\u001b[0m\n\u001b[1;32m    278\u001b[0m \u001b[38;5;28;01mdef\u001b[39;00m \u001b[38;5;21mplot_LLs\u001b[39m(\u001b[38;5;28mself\u001b[39m, trials\u001b[38;5;241m=\u001b[39m\u001b[38;5;28;01mNone\u001b[39;00m, figsize\u001b[38;5;241m=\u001b[39m(\u001b[38;5;241m15\u001b[39m,\u001b[38;5;241m5\u001b[39m)):\n\u001b[1;32m    279\u001b[0m     \u001b[38;5;66;03m# default to using all trials if not are specifically provided\u001b[39;00m\n\u001b[0;32m--> 280\u001b[0m     trial_names_to_use \u001b[38;5;241m=\u001b[39m [\u001b[43mtrial\u001b[49m\u001b[38;5;241;43m.\u001b[39;49m\u001b[43mtrial_info\u001b[49m\u001b[38;5;241m.\u001b[39mname \u001b[38;5;28;01mfor\u001b[39;00m trial \u001b[38;5;129;01min\u001b[39;00m \u001b[38;5;28mself\u001b[39m\u001b[38;5;241m.\u001b[39mtrials]\n\u001b[1;32m    281\u001b[0m     \u001b[38;5;28;01mif\u001b[39;00m trials \u001b[38;5;129;01mis\u001b[39;00m \u001b[38;5;129;01mnot\u001b[39;00m \u001b[38;5;28;01mNone\u001b[39;00m:\n\u001b[1;32m    282\u001b[0m         trial_names_to_use \u001b[38;5;241m=\u001b[39m trials\n",
      "\u001b[0;31mAttributeError\u001b[0m: 'str' object has no attribute 'trial_info'"
     ]
    }
   ],
   "source": [
    "mplt.lightmode()\n",
    "e.plot_LLs(trials=['NIM_expt04', 'NIM_expt04+expt05', 'NIM_expt04+expt05+expt06', 'NIM_expt04+expt05+expt06+expt07'], figsize=(20,5))"
   ]
  },
  {
   "cell_type": "code",
   "execution_count": null,
   "metadata": {
    "collapsed": false
   },
   "outputs": [],
   "source": [
    "e.plot_losses()"
   ]
  },
  {
   "cell_type": "code",
   "execution_count": null,
   "metadata": {
    "collapsed": false
   },
   "outputs": [],
   "source": [
    "e.trials"
   ]
  },
  {
   "cell_type": "code",
   "execution_count": null,
   "metadata": {
    "collapsed": false
   },
   "outputs": [],
   "source": []
  }
 ],
 "metadata": {
  "kernelspec": {
   "display_name": "Python 3",
   "language": "python",
   "name": "python3"
  },
  "language_info": {
   "codemirror_mode": {
    "name": "ipython",
    "version": 2
   },
   "file_extension": ".py",
   "mimetype": "text/x-python",
   "name": "python",
   "nbconvert_exporter": "python",
   "pygments_lexer": "ipython2",
   "version": "2.7.6"
  }
 },
 "nbformat": 4,
 "nbformat_minor": 0
}
