{
 "cells": [
  {
   "cell_type": "code",
   "execution_count": 1,
   "id": "initial_id",
   "metadata": {
    "ExecuteTime": {
     "end_time": "2023-08-16T20:37:24.477695Z",
     "start_time": "2023-08-16T20:37:22.723911Z"
    },
    "collapsed": true
   },
   "outputs": [
    {
     "name": "stdout",
     "output_type": "stream",
     "text": [
      "Invoking __init__.py for NDNT.utils\n"
     ]
    }
   ],
   "source": [
    "import sys\n",
    "sys.path.append('./lib')\n",
    "\n",
    "import numpy as np\n",
    "import optuna\n",
    "import torch\n",
    "import pickle\n",
    "\n",
    "# NDN tools\n",
    "import NDNT.utils as utils # some other utilities\n",
    "import NDNT.NDNT as NDN\n",
    "from NDNT.modules.layers import *\n",
    "from NDNT.networks import *\n",
    "from time import time\n",
    "\n",
    "from ColorDataUtils.multidata_utils import MultiExperiment\n",
    "from NDNT.utils import imagesc   # because I'm lazy\n",
    "from NDNT.utils import ss        # because I'm real lazy\n",
    "\n",
    "device = torch.device(\"cuda:1\")\n",
    "dtype = torch.float32\n",
    "\n",
    "datadir = '/home/dbutts/ColorV1/Data/'\n",
    "dirname = '/home/dbutts/ColorV1/CLRworkspace/'\n",
    "\n",
    "%load_ext autoreload\n",
    "%autoreload 2"
   ]
  },
  {
   "cell_type": "markdown",
   "id": "2b93d8f63d4b0ee9",
   "metadata": {
    "collapsed": false
   },
   "source": [
    "# load dataset"
   ]
  },
  {
   "cell_type": "code",
   "execution_count": 2,
   "id": "cf3a84bdb13616f1",
   "metadata": {
    "ExecuteTime": {
     "end_time": "2023-08-16T20:42:41.324323Z",
     "start_time": "2023-08-16T20:37:55.921912Z"
    },
    "collapsed": false
   },
   "outputs": [
    {
     "name": "stdout",
     "output_type": "stream",
     "text": [
      "  FILE_INFO: stim_locsLP list again -- ok but output check\n",
      "  FILE_INFO: stim_locsLP list again -- ok but output check\n",
      "  Disjoint data exists with this eye_config -- trunctating to first section.\n",
      "  FILE_INFO: stim_locsLP list again -- ok but output check\n",
      "  FILE_INFO: stim_locsLP list again -- ok but output check\n",
      "630240 total time steps, 833 units\n",
      "J220715 68.5% fixations remaining\n",
      "J220722 64.8% fixations remaining\n",
      "J220801 66.8% fixations remaining\n",
      "J220808 48.2% fixations remaining\n",
      "  Stim expansion for shift: [900, 492, 1000, 592]\n",
      "  Writing lam stim 0: overlap 60, 47\n",
      "  Writing lam stim 1: overlap 60, 53\n",
      "  Writing lam stim 2: overlap 33, 53\n",
      "  Writing lam stim 3: overlap 33, 47\n",
      "  Writing ETstim 0: overlap 7, 53\n",
      "  Writing ETstim 1: overlap 7, 47\n",
      "  Adding fixation point\n",
      "  Shifting stim...\n"
     ]
    },
    {
     "name": "stderr",
     "output_type": "stream",
     "text": [
      "100%|█████████████████████████████████████████████████| 34/34 [00:19<00:00,  1.72it/s]\n"
     ]
    },
    {
     "name": "stdout",
     "output_type": "stream",
     "text": [
      "  CROP: New stim size: 60 x 60\n",
      "  Done: expt 0\n",
      "  Stim expansion for shift: [906, 491, 1006, 591]\n",
      "  Writing lam stim 0: overlap 60, 49\n",
      "  Writing lam stim 1: overlap 60, 51\n",
      "  Writing lam stim 2: overlap 32, 51\n",
      "  Writing lam stim 3: overlap 32, 49\n",
      "  Writing ETstim 0: overlap 11, 51\n",
      "  Writing ETstim 1: overlap 11, 48\n",
      "  Adding fixation point\n",
      "  Shifting stim...\n"
     ]
    },
    {
     "name": "stderr",
     "output_type": "stream",
     "text": [
      "100%|█████████████████████████████████████████████████| 24/24 [00:16<00:00,  1.48it/s]\n"
     ]
    },
    {
     "name": "stdout",
     "output_type": "stream",
     "text": [
      "  CROP: New stim size: 60 x 60\n",
      "  Done: expt 1\n",
      "  Stim expansion for shift: [906, 491, 1006, 591]\n",
      "  Writing lam stim 0: overlap 60, 52\n",
      "  Writing lam stim 1: overlap 60, 48\n",
      "  Writing lam stim 2: overlap 30, 48\n",
      "  Writing lam stim 3: overlap 30, 52\n",
      "  Writing ETstim 0: overlap 9, 48\n",
      "  Writing ETstim 1: overlap 9, 50\n",
      "  Adding fixation point\n",
      "  Shifting stim...\n"
     ]
    },
    {
     "name": "stderr",
     "output_type": "stream",
     "text": [
      "100%|█████████████████████████████████████████████████| 36/36 [00:20<00:00,  1.74it/s]\n"
     ]
    },
    {
     "name": "stdout",
     "output_type": "stream",
     "text": [
      "  CROP: New stim size: 60 x 60\n",
      "  Done: expt 2\n",
      "  Stim expansion for shift: [906, 491, 1006, 591]\n",
      "  Writing lam stim 0: overlap 60, 57\n",
      "  Writing lam stim 1: overlap 60, 43\n",
      "  Writing lam stim 2: overlap 34, 43\n",
      "  Writing lam stim 3: overlap 34, 57\n",
      "  Writing ETstim 0: overlap 6, 42\n",
      "  Writing ETstim 1: overlap 6, 57\n",
      "  Adding fixation point\n",
      "  Shifting stim...\n"
     ]
    },
    {
     "name": "stderr",
     "output_type": "stream",
     "text": [
      "100%|█████████████████████████████████████████████████| 34/34 [00:19<00:00,  1.72it/s]\n"
     ]
    },
    {
     "name": "stdout",
     "output_type": "stream",
     "text": [
      "  CROP: New stim size: 60 x 60\n",
      "  Done: expt 3\n",
      "Stimulus assembly complete\n"
     ]
    }
   ],
   "source": [
    "# load data\n",
    "num_lags=16\n",
    "expt_names = ['J220715','J220722','J220801','J220808']\n",
    "expts = MultiExperiment(expt_names)\n",
    "data, drift_terms, mu0s = expts.load(datadir,\n",
    "                                     num_lags=num_lags,\n",
    "                                     et_metric_thresh=0.8,\n",
    "                                     array_types=['UT', 'UT', 'UT', 'UT'],\n",
    "                                     luminance_only=True)"
   ]
  },
  {
   "cell_type": "code",
   "execution_count": 3,
   "id": "1ab0022c784cba1b",
   "metadata": {
    "ExecuteTime": {
     "end_time": "2023-08-16T20:42:41.488017Z",
     "start_time": "2023-08-16T20:42:41.320960Z"
    },
    "collapsed": false
   },
   "outputs": [
    {
     "data": {
      "image/png": "[encoded data removed]",
      "text/plain": [
       "<Figure size 640x480 with 1 Axes>"
      ]
     },
     "metadata": {},
     "output_type": "display_data"
    }
   ],
   "source": [
    "imagesc(drift_terms)"
   ]
  },
  {
   "cell_type": "markdown",
   "id": "b162818dc996c92f",
   "metadata": {
    "collapsed": false
   },
   "source": [
    "# adam params"
   ]
  },
  {
   "cell_type": "code",
   "execution_count": 19,
   "id": "5518eca0bf14401b",
   "metadata": {
    "ExecuteTime": {
     "end_time": "2023-08-16T22:23:38.260617Z",
     "start_time": "2023-08-16T22:23:38.236053Z"
    },
    "collapsed": false
   },
   "outputs": [],
   "source": [
    "class Model:\n",
    "    def __init__(self, ndn_model, LLs, trial):\n",
    "        self.ndn_model = ndn_model\n",
    "        self.LLs = LLs\n",
    "        self.trial = trial\n",
    "\n",
    "adam_parsT = utils.create_optimizer_params(\n",
    "    optimizer_type='AdamW',\n",
    "    batch_size=2, # * 240 timesteps\n",
    "    num_workers=0,\n",
    "    learning_rate=0.0017,\n",
    "    early_stopping_patience=4,\n",
    "    optimize_graph=False,\n",
    "    weight_decay=0.235,\n",
    "    max_epochs=1)\n",
    "adam_parsT['device'] = device\n",
    "#adam_parsT['accumulated_grad_batches'] = 6\n",
    "\n",
    "# setup\n",
    "data.device = device\n",
    "NCv = data.NC\n",
    "NT = data.robs.shape[0]\n",
    "NA = data.Xdrift.shape[1]"
   ]
  },
  {
   "cell_type": "markdown",
   "id": "c239f8d7760e289a",
   "metadata": {
    "collapsed": false
   },
   "source": [
    "# model params"
   ]
  },
  {
   "cell_type": "code",
   "execution_count": 20,
   "id": "a2910a8ebefc3a21",
   "metadata": {
    "ExecuteTime": {
     "end_time": "2023-08-16T22:23:38.957917Z",
     "start_time": "2023-08-16T22:23:38.939605Z"
    },
    "collapsed": false
   },
   "outputs": [],
   "source": [
    "# some good starting parameters\n",
    "Treg = 0.01\n",
    "Xreg = 0.000001\n",
    "Mreg = 0.0001\n",
    "Creg = None\n",
    "Dreg = 0.5\n",
    "\n",
    "folder_name = 'models/test_core'\n",
    "num_trials = 10"
   ]
  },
  {
   "cell_type": "markdown",
   "id": "d2293a91e039e08b",
   "metadata": {
    "collapsed": false
   },
   "source": [
    "# define model"
   ]
  },
  {
   "cell_type": "code",
   "execution_count": 21,
   "id": "250069efdfab7e83",
   "metadata": {
    "ExecuteTime": {
     "end_time": "2023-08-16T22:23:39.828064Z",
     "start_time": "2023-08-16T22:23:39.810702Z"
    },
    "collapsed": false
   },
   "outputs": [],
   "source": [
    "def make_model(trial):\n",
    "    LGNpars = STconvLayer.layer_dict(\n",
    "        input_dims = data.stim_dims,\n",
    "        num_filters=4,\n",
    "        num_inh=2,\n",
    "        bias=False,\n",
    "        norm_type=1,\n",
    "        filter_dims=[1,  # channels\n",
    "                     7,  # width\n",
    "                     7,  # height\n",
    "                     14], # lags\n",
    "        NLtype='relu',\n",
    "        initialize_center=True)\n",
    "    LGNpars['output_norm']='batch'\n",
    "    LGNpars['window']='hamming'\n",
    "    LGNpars['reg_vals'] = {'d2x':Xreg,\n",
    "                           'd2t':Treg,\n",
    "                           'center': Creg, # None\n",
    "                           'edge_t':100} # just pushes the edge to be sharper\n",
    "    \n",
    "    num_subs = trial.suggest_int('num_subs', 10, 50)\n",
    "    num_inh = trial.suggest_float('num_inh', 0.1, 0.7)\n",
    "    proj_pars = ConvLayer.layer_dict(\n",
    "        num_filters=num_subs,\n",
    "        bias=False,\n",
    "        norm_type=1,\n",
    "        num_inh=int(num_inh*num_subs),\n",
    "        filter_dims=trial.suggest_int('proj_filter_width', 7, 29, step=2),\n",
    "        NLtype=trial.suggest_categorical('proj_NLtype', ['lin', 'relu']),\n",
    "        initialize_center=True,\n",
    "        pos_constraint=True)\n",
    "    proj_pars['output_norm']='batch'\n",
    "    proj_pars['window']='hamming'\n",
    "    \n",
    "    iter_layer = IterLayer.layer_dict(\n",
    "        num_filters=num_subs,\n",
    "        num_inh=int(num_inh*num_subs),\n",
    "        bias=False,\n",
    "        num_iter=trial.suggest_int('num_iter', 2, 8),\n",
    "        output_config='full',\n",
    "        pos_constraint=True,\n",
    "        norm_type=1,\n",
    "        filter_width=trial.suggest_int('iter_filter_width', 7, 47, step=2),\n",
    "        num_lags=2,\n",
    "        NLtype='relu',\n",
    "        initialize_center=False,\n",
    "        res_layer=False)\n",
    "    iter_layer['output_norm'] = 'batch'\n",
    "    \n",
    "    scaffold_net =  FFnetwork.ffnet_dict(\n",
    "        ffnet_type='scaffold',\n",
    "        xstim_n='stim',\n",
    "        layer_list=[LGNpars, proj_pars, iter_layer],\n",
    "        scaffold_levels=[1,2])\n",
    "    \n",
    "    ## 1: READOUT\n",
    "    # reads out from a specific location in the scaffold network\n",
    "    # this location is specified by the mus\n",
    "    readout_pars = ReadoutLayer.layer_dict(\n",
    "        num_filters=NCv,\n",
    "        NLtype='lin',\n",
    "        bias=False,\n",
    "        pos_constraint=True)\n",
    "    # for defining how to sample from the mu (location) of the receptive field\n",
    "    readout_pars['gauss_type'] = 'isotropic'\n",
    "    readout_pars['reg_vals'] = {'max': Mreg}\n",
    "    \n",
    "    readout_net = FFnetwork.ffnet_dict(\n",
    "        xstim_n = None,\n",
    "        ffnet_n=[0],\n",
    "        layer_list = [readout_pars],\n",
    "        ffnet_type='readout')\n",
    "    \n",
    "    ## 2: DRIFT\n",
    "    drift_pars = NDNLayer.layer_dict(\n",
    "        input_dims=[1,1,1,NA],\n",
    "        num_filters=NCv,\n",
    "        bias=False,\n",
    "        norm_type=0,\n",
    "        NLtype='lin')\n",
    "    drift_pars['reg_vals'] = {'d2t': Dreg}\n",
    "    \n",
    "    drift_net = FFnetwork.ffnet_dict(xstim_n = 'Xdrift', layer_list = [drift_pars])\n",
    "    \n",
    "    ## 3: COMB \n",
    "    comb_layer = ChannelLayer.layer_dict(\n",
    "        num_filters=NCv,\n",
    "        NLtype='softplus',\n",
    "        bias=True)\n",
    "    comb_layer['weights_initializer'] = 'ones'\n",
    "    \n",
    "    comb_net = FFnetwork.ffnet_dict(\n",
    "        xstim_n = None,\n",
    "        ffnet_n=[1,2],\n",
    "        layer_list=[comb_layer],\n",
    "        ffnet_type='add')\n",
    "    \n",
    "    cnn = NDN.NDN(ffnet_list = [scaffold_net, readout_net, drift_net, comb_net],\n",
    "                  loss_type='poisson')\n",
    "    cnn.block_sample = True\n",
    "    \n",
    "    ## Network 1: readout: fixed mus / sigmas\n",
    "    cnn.networks[1].layers[0].sample = False\n",
    "    # mus and sigmas are the centers and \"widths\" of the receptive field center to start at\n",
    "    cnn.networks[1].layers[0].mu.data = torch.tensor(mu0s, dtype=torch.float32)\n",
    "    cnn.networks[1].set_parameters(val=False, name='mu')\n",
    "    cnn.networks[1].set_parameters(val=False, name='sigma')\n",
    "    \n",
    "    ## Network 2: drift: not fit\n",
    "    cnn.networks[2].layers[0].weight.data = torch.tensor(drift_terms, dtype=torch.float32)\n",
    "    cnn.networks[2].set_parameters(val=False)\n",
    "    \n",
    "    ## Network 3: Comb\n",
    "    cnn.networks[-1].set_parameters(val=False, name='weight')\n",
    "\n",
    "    return cnn\n",
    "\n",
    "\n",
    "def objective(trial):\n",
    "    cnn = make_model(trial)\n",
    "\n",
    "    cnn.fit(data, **adam_parsT, verbose=2)\n",
    "    LLs = cnn.eval_models(data, data_inds=data.val_blks, batch_size=5)\n",
    "\n",
    "    null_adjusted_LLs = expts.LLsNULL-LLs\n",
    "\n",
    "    cnn_model = Model(cnn, null_adjusted_LLs, trial)\n",
    "\n",
    "    with open(folder_name+'/cnn_'+str(trial.number)+'.pkl', 'wb') as f:\n",
    "        pickle.dump(cnn_model, f)\n",
    "\n",
    "    # dump the intermediate study, but this will be off by one trial\n",
    "    with open(folder_name+'/study.pkl', 'wb') as f:\n",
    "        pickle.dump(study, f)\n",
    "\n",
    "    return np.mean(null_adjusted_LLs)"
   ]
  },
  {
   "cell_type": "markdown",
   "id": "608092251c531e8c",
   "metadata": {
    "collapsed": false
   },
   "source": [
    "# run study"
   ]
  },
  {
   "cell_type": "code",
   "execution_count": 22,
   "id": "5b30c6a700fc6422",
   "metadata": {
    "ExecuteTime": {
     "end_time": "2023-08-16T22:23:40.967713Z",
     "start_time": "2023-08-16T22:23:40.938538Z"
    },
    "collapsed": false
   },
   "outputs": [
    {
     "name": "stdout",
     "output_type": "stream",
     "text": [
      "Model passed all checks\n"
     ]
    }
   ],
   "source": [
    "from ColorDataUtils.model_validation import validate_model, MockTrial\n",
    "\n",
    "val_map = {\n",
    "    'iter_filter_width': 15,\n",
    "    'num_inh': 0.69,\n",
    "    'num_iter': 7,\n",
    "    'num_subs': 45,\n",
    "    'proj_NLtype': 'relu',\n",
    "    'proj_filter_width': 15,\n",
    "}\n",
    "\n",
    "mock_trial = MockTrial(val_map)\n",
    "model = make_model(mock_trial)\n",
    "\n",
    "validate_model(model)"
   ]
  },
  {
   "cell_type": "code",
   "execution_count": null,
   "id": "ecffd3d702259354",
   "metadata": {
    "ExecuteTime": {
     "start_time": "2023-08-16T22:23:41.656924Z"
    },
    "collapsed": false,
    "is_executing": true
   },
   "outputs": [
    {
     "name": "stderr",
     "output_type": "stream",
     "text": [
      "[I 2023-08-16 18:23:41,695] A new study created in memory with name: Four datasets w/o initializing LGN weights\n"
     ]
    },
    {
     "name": "stdout",
     "output_type": "stream",
     "text": [
      "Model: M587_CsCX_R_N_A\n",
      "\n",
      "GPU Available: True, GPU Used: True\n"
     ]
    },
    {
     "name": "stderr",
     "output_type": "stream",
     "text": [
      "Epoch 1:   1%|▎                    | 14/1050 [00:22<27:10,  1.57s/it, train_loss=0.13]\n"
     ]
    },
    {
     "name": "stdout",
     "output_type": "stream",
     "text": [
      "Done fitting\n",
      "  Fit complete: 22.142834424972534 sec elapsed\n"
     ]
    },
    {
     "name": "stderr",
     "output_type": "stream",
     "text": [
      "Eval models:   0%|                                            | 0/106 [00:00<?, ?it/s]"
     ]
    }
   ],
   "source": [
    "# create study\n",
    "study = optuna.create_study(direction='maximize',\n",
    "                            study_name='Four datasets w/o initializing LGN weights')\n",
    "\n",
    "# enqueue initial parameters\n",
    "study.enqueue_trial(val_map)\n",
    "\n",
    "# run the study\n",
    "from cProfile import Profile\n",
    "from pstats import SortKey, Stats\n",
    "\n",
    "with Profile() as profile:\n",
    "    print(f\"{study.optimize(objective, n_trials=1) = }\")\n",
    "    (\n",
    "        Stats(profile)\n",
    "        .strip_dirs()\n",
    "        .sort_stats(SortKey.CALLS)\n",
    "        .print_stats()\n",
    "    )\n",
    "\n",
    "# dump the final study\n",
    "with open(folder_name+'/study.pkl', 'wb') as f:\n",
    "    pickle.dump(study, f)\n",
    "\n",
    "# print the best trial\n",
    "print(study.best_trial.number, study.best_params)"
   ]
  },
  {
   "cell_type": "code",
   "execution_count": null,
   "id": "c3aeb5dd67496e9d",
   "metadata": {
    "collapsed": false
   },
   "outputs": [],
   "source": []
  }
 ],
 "metadata": {
  "kernelspec": {
   "display_name": "Python 3",
   "language": "python",
   "name": "python3"
  },
  "language_info": {
   "codemirror_mode": {
    "name": "ipython",
    "version": 2
   },
   "file_extension": ".py",
   "mimetype": "text/x-python",
   "name": "python",
   "nbconvert_exporter": "python",
   "pygments_lexer": "ipython2",
   "version": "2.7.6"
  }
 },
 "nbformat": 4,
 "nbformat_minor": 5
}
