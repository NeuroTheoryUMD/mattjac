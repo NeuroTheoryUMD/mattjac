{
 "cells": [
  {
   "cell_type": "markdown",
   "metadata": {
    "collapsed": false
   },
   "source": [
    "# imports"
   ]
  },
  {
   "cell_type": "code",
   "execution_count": 1,
   "metadata": {
    "ExecuteTime": {
     "end_time": "2023-07-10T15:41:31.640355Z",
     "start_time": "2023-07-10T15:41:29.762463Z"
    },
    "collapsed": false
   },
   "outputs": [
    {
     "name": "stdout",
     "output_type": "stream",
     "text": [
      "Running on Computer: [ca1]\n",
      "Invoking __init__.py for NDNT.utils\n",
      "Save_dir = /home/dbutts/ColorV1/CLRworkspace/\n",
      "cuda:1\n"
     ]
    }
   ],
   "source": [
    "import sys\n",
    "sys.path.append('./lib')\n",
    "\n",
    "import os\n",
    "import h5py\n",
    "\n",
    "# setup paths\n",
    "iteration = 1 # which version of this tutorial to run (in case want results in different dirs)\n",
    "NBname = 'color_cloud_initial{}'.format(iteration)\n",
    "\n",
    "myhost = os.uname()[1] # get name of machine\n",
    "print(\"Running on Computer: [%s]\" %myhost)\n",
    "\n",
    "datadir = '/home/dbutts/ColorV1/Data/'\n",
    "dirname = '/home/dbutts/ColorV1/CLRworkspace/' # Working directory \n",
    "\n",
    "import numpy as np\n",
    "import torch\n",
    "import pickle\n",
    "import os\n",
    "import optuna\n",
    "from time import time\n",
    "import scipy.io as sio\n",
    "import matplotlib.pyplot as plt\n",
    "import scipy.io as sio\n",
    "from copy import deepcopy\n",
    "\n",
    "# plotting\n",
    "import matplotlib.pyplot as plt\n",
    "\n",
    "# Import torch\n",
    "import torch\n",
    "from torch import nn\n",
    "\n",
    "# NDN tools\n",
    "import NDNT.utils as utils # some other utilities\n",
    "import NDNT.NDNT as NDN\n",
    "from NDNT.modules.layers import NDNLayer, ConvLayer, STconvLayer, Tlayer, ChannelLayer, IterSTlayer, ReadoutLayer\n",
    "from NDNT.networks import FFnetwork\n",
    "from time import time\n",
    "import dill\n",
    "\n",
    "from NTdatasets.generic import GenericDataset\n",
    "import NTdatasets.conway.cloud_datasets as datasets\n",
    "\n",
    "# Utilities\n",
    "import ColorDataUtils.ConwayUtils as CU\n",
    "import ColorDataUtils.EyeTrackingUtils as ETutils\n",
    "from NDNT.utils import imagesc   # because I'm lazy\n",
    "from NDNT.utils import ss        # because I'm real lazy\n",
    "\n",
    "device = torch.device(\"cuda:1\")\n",
    "dtype = torch.float32\n",
    "\n",
    "# Where saved models and checkpoints go -- this is to be automated\n",
    "print( 'Save_dir =', dirname)\n",
    "print(device)\n",
    "%load_ext autoreload\n",
    "%autoreload 2\n",
    "\n",
    "torch.cuda.empty_cache()\n",
    "\n",
    "class Model:\n",
    "    def __init__(self, ndn_model, LLs, trial):\n",
    "        self.ndn_model = ndn_model\n",
    "        self.LLs = LLs\n",
    "        self.trial = trial"
   ]
  },
  {
   "cell_type": "markdown",
   "metadata": {
    "collapsed": false
   },
   "source": [
    "# load data (all stim)"
   ]
  },
  {
   "cell_type": "code",
   "execution_count": 2,
   "metadata": {
    "ExecuteTime": {
     "end_time": "2023-07-06T15:15:51.806304Z",
     "start_time": "2023-07-06T15:14:11.421201Z"
    },
    "collapsed": false
   },
   "outputs": [
    {
     "name": "stdout",
     "output_type": "stream",
     "text": [
      "Reducing stimulus channels (3) to first dimension\n",
      "Loading data into memory...\n",
      "Adjusting stimulus read from disk: mean | std = -0.000 | 0.269\n",
      "T-range: 0 167520\n",
      "  Trimming experiment 365280->167520 time points based on eye_config and Tmax\n",
      "100.04785895347595 sec elapsed\n",
      "167520 (167520 valid) time points\n",
      "29 laminar units, 210 ET units\n",
      "  Redoing fix_n with saccade inputs: 6827 saccades\n",
      "3795 fixations\n"
     ]
    }
   ],
   "source": [
    "fn = 'Jocamo_220715_full_CC_ETCC_nofix_v08'\n",
    "num_lags=16\n",
    "\n",
    "t0 = time()\n",
    "data = datasets.ColorClouds(\n",
    "    datadir=datadir, filenames=[fn], eye_config=3, drift_interval=16,\n",
    "    luminance_only=True, binocular=False, include_MUs=True, num_lags=num_lags,\n",
    "    trial_sample=True)\n",
    "t1 = time()\n",
    "print(t1-t0, 'sec elapsed')\n",
    "\n",
    "NT = data.robs.shape[0]\n",
    "NA = data.Xdrift.shape[1]\n",
    "print(\"%d (%d valid) time points\"%(NT, len(data)))\n",
    "#data.valid_inds = np.arange(NT, dtype=np.int64)\n",
    "\n",
    "lam_units = np.where(data.channel_map < 32)[0]\n",
    "ETunits = np.where(data.channel_map >= 32)[0]\n",
    "UTunits = np.where(data.channel_map >= 32+127)[0]\n",
    "\n",
    "print( \"%d laminar units, %d ET units\"%(len(lam_units), len(ETunits)))\n",
    "\n",
    "# Replace DFs\n",
    "matdat = sio.loadmat(datadir+'Jocamo_220715_full_CC_ETCC_nofix_v08_DFextra.mat')\n",
    "data.dfs = torch.tensor( matdat['XDF'][:NT, :], dtype=torch.float32 )\n",
    "\n",
    "# Pull correct saccades\n",
    "matdat = sio.loadmat( datadir+'Jocamo_220715_full_CC_ETCC_v08_ETupdate.mat')\n",
    "sac_ts_all = matdat['ALLsac_bins'][0, :]\n",
    "\n",
    "data.process_fixations( sac_ts_all )\n",
    "sac_tsB = matdat['sac_binsB'][0, :]\n",
    "sac_tsL = matdat['sac_binsL'][0, :]\n",
    "sac_tsR = matdat['sac_binsR'][0, :]\n",
    "\n",
    "NFIX = torch.max(data.fix_n).detach().numpy()\n",
    "print(NFIX, 'fixations')\n",
    "et1kHzB = matdat['et1kHzB']\n",
    "et60B = matdat['et60HzB']\n",
    "et60all = matdat['et60Hz_all']"
   ]
  },
  {
   "cell_type": "code",
   "execution_count": 3,
   "metadata": {
    "ExecuteTime": {
     "end_time": "2023-07-06T15:15:51.890567Z",
     "start_time": "2023-07-06T15:15:51.803624Z"
    },
    "collapsed": false
   },
   "outputs": [
    {
     "name": "stdout",
     "output_type": "stream",
     "text": [
      "174 out of 195 units used\n",
      "Output set to 174 cells\n"
     ]
    }
   ],
   "source": [
    "# Set cells-to-analyze and pull best model configuration and mus\n",
    "Reff = torch.mul(data.robs[:, UTunits], data.dfs[:, UTunits]).numpy()\n",
    "nspks = np.sum(Reff, axis=0)\n",
    "a = np.where(nspks > 10)[0]\n",
    "valET = UTunits[a]\n",
    "NCv = len(valET)\n",
    "print(\"%d out of %d units used\"%(len(valET), len(UTunits)))\n",
    "\n",
    "## CONVERT LLsNULL, which is based on \n",
    "\n",
    "# Read in previous data\n",
    "dirname2 = dirname+'0715/et/'\n",
    "matdat = sio.loadmat(dirname2+'LLsGLM.mat')\n",
    "Dreg = matdat['Dreg']\n",
    "top_corner = matdat['top_corner'][:, 0]\n",
    "\n",
    "data.set_cells(valET)"
   ]
  },
  {
   "cell_type": "code",
   "execution_count": 4,
   "metadata": {
    "ExecuteTime": {
     "end_time": "2023-07-06T15:16:40.783222Z",
     "start_time": "2023-07-06T15:15:51.892970Z"
    },
    "collapsed": false
   },
   "outputs": [
    {
     "data": {
      "image/png": "[encoded data removed]",
      "text/plain": [
       "<Figure size 500x500 with 1 Axes>"
      ]
     },
     "metadata": {},
     "output_type": "display_data"
    },
    {
     "name": "stdout",
     "output_type": "stream",
     "text": [
      "  Stim expansion for shift: [900, 492, 1000, 592]\n",
      "  Writing lam stim 0: overlap 60, 47\n",
      "  Writing lam stim 1: overlap 60, 53\n",
      "  Writing lam stim 2: overlap 33, 53\n",
      "  Writing lam stim 3: overlap 33, 47\n",
      "  Writing ETstim 0: overlap 7, 53\n",
      "  Writing ETstim 1: overlap 7, 47\n",
      "  Adding fixation point\n",
      "  Shifting stim...\n",
      "  CROP: New stim size: 60 x 60\n",
      "  Done\n"
     ]
    }
   ],
   "source": [
    "# Load shifts and previous models\n",
    "dirname2 = dirname+'0715/et/'\n",
    "SHfile = sio.loadmat( dirname2 + 'BDshifts1.mat' )\n",
    "fix_n = SHfile['fix_n']\n",
    "shifts = SHfile['shifts']\n",
    "metricsLL = SHfile['metricsLL']\n",
    "metricsTH = SHfile['metricsTH']\n",
    "ETshifts = SHfile['ETshifts']\n",
    "ETmetrics = SHfile['ETmetrics']\n",
    "Ukeeps = SHfile['Ctrain']\n",
    "XVkeeps = SHfile['Cval']\n",
    "\n",
    "# Make 60x60 STAs (and GLMs)\n",
    "Xshift = 14 #8+4 \n",
    "Yshift = -3 #-10+4\n",
    "NX = 60\n",
    "\n",
    "new_tc = np.array([top_corner[0]-Xshift, top_corner[1]-Yshift], dtype=np.int64)\n",
    "data.draw_stim_locations(top_corner = new_tc, L=NX)\n",
    "\n",
    "data.assemble_stimulus(top_corner=[new_tc[0], new_tc[1]], L=NX, fixdot=0, shifts=-shifts)"
   ]
  },
  {
   "cell_type": "code",
   "execution_count": 29,
   "metadata": {
    "ExecuteTime": {
     "end_time": "2023-07-06T15:36:26.324737Z",
     "start_time": "2023-07-06T15:36:26.282848Z"
    },
    "collapsed": false
   },
   "outputs": [
    {
     "data": {
      "text/plain": [
       "tensor([[0., 0., 0.,  ..., 0., 0., 0.],\n",
       "        [0., 0., 0.,  ..., 0., 0., 0.],\n",
       "        [0., 0., 0.,  ..., 0., 0., 0.],\n",
       "        ...,\n",
       "        [0., 0., 0.,  ..., 0., 0., 0.],\n",
       "        [0., 0., 0.,  ..., 0., 0., 0.],\n",
       "        [0., 0., 0.,  ..., 1., 0., 1.]])"
      ]
     },
     "execution_count": 29,
     "metadata": {},
     "output_type": "execute_result"
    }
   ],
   "source": [
    "data.dfs_out"
   ]
  },
  {
   "cell_type": "code",
   "execution_count": 5,
   "metadata": {
    "ExecuteTime": {
     "end_time": "2023-07-06T15:16:40.800755Z",
     "start_time": "2023-07-06T15:16:40.782045Z"
    },
    "collapsed": false
   },
   "outputs": [
    {
     "name": "stdout",
     "output_type": "stream",
     "text": [
      "68.5% fixations remaining\n"
     ]
    }
   ],
   "source": [
    "goodfix = np.where(ETmetrics[:,1] < 0.80)[0]\n",
    "valfix = torch.zeros([ETmetrics.shape[0], 1], dtype=torch.float32)\n",
    "valfix[goodfix] = 1.0\n",
    "# Test base-level performance (full DFs and then modify DFs)\n",
    "#DFsave = deepcopy(data2.dfs)  # this is also in data.dfs\n",
    "data.dfs_out *= valfix\n",
    "print(\"%0.1f%% fixations remaining\"%(100*len(goodfix)/ETmetrics.shape[0]))\n",
    "\n",
    "dirname2 = dirname+'0715/NewGLMs/'\n",
    "matdat = sio.loadmat(dirname2+'J0715ProcGLMinfo.mat')\n",
    "LLsNULL = matdat['LLsNULL'][:,0]\n",
    "LLsGLM = matdat['LLsGLM'][:,0]\n",
    "LLsGLM2 = matdat['LLsGLM2'][:,0]\n",
    "drift_terms = matdat['drift_terms']\n",
    "valET = matdat['cells']\n",
    "RFcenters = matdat['RFcenters']\n",
    "#'Gregs': Gopt[:,None], 'XTregs': Xopt\n",
    "#'top_corner': new_tc[:, None]})\n",
    "mu0s = utils.pixel2grid(deepcopy(RFcenters[:, [1, 0]]), L=NX)\n",
    "\n",
    "\n",
    "fw0 = 7\n",
    "Treg = 0.01\n",
    "Xreg = 0.000001\n",
    "Mreg = 0.0001\n",
    "Creg = None\n",
    "Dreg = 0.5\n",
    "Gnet = 0.005\n",
    "num_iter = 4"
   ]
  },
  {
   "cell_type": "markdown",
   "metadata": {
    "collapsed": false
   },
   "source": [
    "# define model components"
   ]
  },
  {
   "cell_type": "code",
   "execution_count": null,
   "metadata": {
    "collapsed": false
   },
   "outputs": [],
   "source": [
    "adam_parsT = utils.create_optimizer_params(\n",
    "    optimizer_type='AdamW',\n",
    "    batch_size=4,\n",
    "    num_workers=0,\n",
    "    learning_rate=0.01,\n",
    "    early_stopping_patience=10,  # changed from 4\n",
    "    optimize_graph=False,\n",
    "    weight_decay = 0.2)\n",
    "adam_parsT['device'] = device\n",
    "adam_parsT['accumulated_grad_batches'] = 6\n",
    "\n",
    "LGNpars = STconvLayer.layer_dict(\n",
    "    input_dims = data.stim_dims, num_filters=LGNsubs, bias=False, norm_type=1,\n",
    "    filter_dims=[1,fw0,fw0,LGNlags] , NLtype='relu', initialize_center=True)\n",
    "LGNpars['output_norm']='batch'\n",
    "LGNpars['window']='hamming'\n",
    "LGNpars['reg_vals'] = {'d2x':Xreg, 'd2t':Treg, 'center': Creg, 'edge_t':100}\n",
    "\n",
    "proj_pars = ConvLayer.layer_dict(\n",
    "    num_filters=num_subs, bias=False, norm_type=1, num_inh=num_subs//2,\n",
    "    filter_dims=proj_width, NLtype='lin', initialize_center=True)\n",
    "proj_pars['output_norm']='batch'\n",
    "proj_pars['window']='hamming'\n",
    "\n",
    "Ilayers = IterSTlayer.layer_dict(\n",
    "    num_filters=num_subs, bias=False, num_iter=num_iter, output_config='full',\n",
    "    pos_constraint=True,\n",
    "    norm_type=1, num_inh=num_subs//2, filter_width=fwI, num_lags=2,\n",
    "    NLtype='relu', initialize_center=False)\n",
    "Ilayers['output_norm'] = 'batch'\n",
    "# Ilayers['reg_vals'] = {'glocal': Gnet}  \n",
    "\n",
    "scaffold_net =  FFnetwork.ffnet_dict(\n",
    "    ffnet_type='scaffold', xstim_n = 'stim', layer_list=[LGNpars, proj_pars, Ilayers], scaffold_levels=[1,2] )\n",
    "\n",
    "## 1: READOUT\n",
    "readout_pars = ReadoutLayer.layer_dict(\n",
    "    num_filters=NCv, NLtype='lin', bias=False, pos_constraint=True)\n",
    "readout_pars['gauss_type'] = 'isotropic'\n",
    "readout_pars['reg_vals'] = {'max': Mreg}\n",
    "\n",
    "readout_net = FFnetwork.ffnet_dict(\n",
    "    xstim_n = None, ffnet_n=[0],\n",
    "    layer_list = [readout_pars], ffnet_type='readout')\n",
    "\n",
    "## 2: DRIFT\n",
    "drift_pars = NDNLayer.layer_dict(\n",
    "    input_dims=[1,1,1,NA], num_filters=NCv, bias=False, norm_type=0, NLtype='lin')\n",
    "drift_pars['reg_vals'] = {'d2t': Dreg }\n",
    "\n",
    "drift_net =  FFnetwork.ffnet_dict( xstim_n = 'Xdrift', layer_list = [drift_pars] )\n",
    "\n",
    "## 3: COMB \n",
    "comb_layer = ChannelLayer.layer_dict(\n",
    "    num_filters = NCv, NLtype='softplus', bias=True)\n",
    "comb_layer['weights_initializer'] = 'ones'\n",
    "\n",
    "comb_net = FFnetwork.ffnet_dict(\n",
    "    xstim_n = None, ffnet_n=[1,2],\n",
    "    layer_list = [comb_layer], ffnet_type='add')\n",
    "\n",
    "\n",
    "## LESS ITERATIONS AND LINEAR PROJECTION LAYER (!)\n",
    "\n",
    "LGNmods = []\n",
    "LLsLGN = np.zeros([NCv, 3])\n",
    "for rep in range(3):\n",
    "    cnn_iter = NDN.NDN( ffnet_list = [scaffold_net, readout_net, drift_net, comb_net], loss_type='poisson')\n",
    "    cnn_iter.block_sample = True\n",
    "\n",
    "    ## Network 1: readout: fixed mus / sigmas\n",
    "    cnn_iter.networks[1].layers[0].sample = False\n",
    "    #cnnI1.networks[1].layers[0].mu.data = deepcopy(cnn0x.networks[1].layers[0].mu.data)\n",
    "    cnn_iter.networks[1].layers[0].mu.data = torch.tensor(mu0s, dtype=torch.float32)\n",
    "    cnn_iter.networks[1].set_parameters(val=False, name='mu')\n",
    "    cnn_iter.networks[1].set_parameters(val=False, name='sigma')\n",
    "\n",
    "    ## Network 2: drift: not fit\n",
    "    cnn_iter.networks[2].layers[0].weight.data = torch.tensor(drift_terms, dtype=torch.float32)\n",
    "    cnn_iter.networks[2].set_parameters(val=False)\n",
    "\n",
    "    ## Network 3: Comb\n",
    "    cnn_iter.networks[-1].set_parameters(val=False, name='weight')\n",
    "\n",
    "    cnn_iter.fit( data, **adam_parsT, verbose=2, )\n",
    "    LLs = cnn_iter.eval_models(data, data_inds=data.val_blks, batch_size=5)\n",
    "    print(np.mean(LLsNULL-LLs))\n",
    "    LLsLGN[:, rep] = deepcopy(LLsNULL-LLs)\n",
    "    LGNmods.append(deepcopy(cnn_iter))"
   ]
  },
  {
   "cell_type": "markdown",
   "metadata": {
    "collapsed": false
   },
   "source": [
    "# OPTUNA"
   ]
  },
  {
   "cell_type": "code",
   "execution_count": null,
   "metadata": {
    "ExecuteTime": {
     "start_time": "2023-07-05T22:22:15.812605Z"
    },
    "collapsed": false
   },
   "outputs": [
    {
     "name": "stderr",
     "output_type": "stream",
     "text": [
      "[I 2023-07-05 18:22:15,856] A new study created in memory with name: no-name-f1e2d16d-e7b7-4e78-a29f-a3d8df716e71\n"
     ]
    },
    {
     "name": "stdout",
     "output_type": "stream",
     "text": [
      "input dims [174, 1, 1, 1]\n",
      "Model: M174_CsCX_R_N_A\n",
      "\n",
      "GPU Available: True, GPU Used: True\n"
     ]
    },
    {
     "name": "stderr",
     "output_type": "stream",
     "text": [
      "Epoch 1: 100%|██████████████████████████████████████████████████████████████████████████████████████████████| 279/279 [02:32<00:00,  1.82it/s, train_loss=0.408]\n",
      "Validating ver=3: 100%|█████████████████████████████████████████████████████████████████████████████████████████| 70/70 [00:09<00:00,  7.73it/s, val_loss=0.302]\n",
      "Epoch 2: 100%|██████████████████████████████████████████████████████████████████████████████████████████████| 279/279 [02:32<00:00,  1.83it/s, train_loss=0.402]\n",
      "Validating ver=3: 100%|█████████████████████████████████████████████████████████████████████████████████████████| 70/70 [00:09<00:00,  7.71it/s, val_loss=0.301]\n",
      "Epoch 3: 100%|██████████████████████████████████████████████████████████████████████████████████████████████| 279/279 [02:31<00:00,  1.84it/s, train_loss=0.402]\n",
      "Validating ver=3: 100%|█████████████████████████████████████████████████████████████████████████████████████████| 70/70 [00:09<00:00,  7.73it/s, val_loss=0.301]\n",
      "Epoch 4: 100%|██████████████████████████████████████████████████████████████████████████████████████████████| 279/279 [02:31<00:00,  1.84it/s, train_loss=0.402]\n",
      "Validating ver=3: 100%|███████████████████████████████████████████████████████████████████████████████████████████| 70/70 [00:09<00:00,  7.72it/s, val_loss=0.3]\n",
      "Epoch 5: 100%|██████████████████████████████████████████████████████████████████████████████████████████████| 279/279 [02:31<00:00,  1.84it/s, train_loss=0.401]\n",
      "Validating ver=3: 100%|███████████████████████████████████████████████████████████████████████████████████████████| 70/70 [00:09<00:00,  7.73it/s, val_loss=0.3]\n",
      "Epoch 6: 100%|██████████████████████████████████████████████████████████████████████████████████████████████| 279/279 [02:31<00:00,  1.84it/s, train_loss=0.401]\n",
      "Validating ver=3: 100%|███████████████████████████████████████████████████████████████████████████████████████████| 70/70 [00:09<00:00,  7.71it/s, val_loss=0.3]\n",
      "Epoch 7: 100%|██████████████████████████████████████████████████████████████████████████████████████████████| 279/279 [02:31<00:00,  1.84it/s, train_loss=0.401]\n",
      "Validating ver=3: 100%|███████████████████████████████████████████████████████████████████████████████████████████| 70/70 [00:09<00:00,  7.72it/s, val_loss=0.3]\n",
      "Epoch 8: 100%|██████████████████████████████████████████████████████████████████████████████████████████████| 279/279 [02:31<00:00,  1.84it/s, train_loss=0.401]\n",
      "Validating ver=3: 100%|███████████████████████████████████████████████████████████████████████████████████████████| 70/70 [00:09<00:00,  7.73it/s, val_loss=0.3]\n",
      "Epoch 9: 100%|██████████████████████████████████████████████████████████████████████████████████████████████| 279/279 [02:32<00:00,  1.83it/s, train_loss=0.401]\n",
      "Validating ver=3: 100%|███████████████████████████████████████████████████████████████████████████████████████████| 70/70 [00:09<00:00,  7.73it/s, val_loss=0.3]\n",
      "Epoch 10: 100%|█████████████████████████████████████████████████████████████████████████████████████████████| 279/279 [02:32<00:00,  1.84it/s, train_loss=0.401]\n",
      "Validating ver=3: 100%|███████████████████████████████████████████████████████████████████████████████████████████| 70/70 [00:09<00:00,  7.72it/s, val_loss=0.3]\n",
      "Epoch 11: 100%|█████████████████████████████████████████████████████████████████████████████████████████████| 279/279 [02:32<00:00,  1.84it/s, train_loss=0.401]\n",
      "Validating ver=3: 100%|█████████████████████████████████████████████████████████████████████████████████████████| 70/70 [00:09<00:00,  7.73it/s, val_loss=0.299]\n",
      "Epoch 12: 100%|█████████████████████████████████████████████████████████████████████████████████████████████| 279/279 [02:31<00:00,  1.84it/s, train_loss=0.401]\n",
      "Validating ver=3: 100%|█████████████████████████████████████████████████████████████████████████████████████████| 70/70 [00:09<00:00,  7.72it/s, val_loss=0.299]\n",
      "Epoch 13: 100%|█████████████████████████████████████████████████████████████████████████████████████████████| 279/279 [02:31<00:00,  1.84it/s, train_loss=0.401]\n",
      "Validating ver=3: 100%|█████████████████████████████████████████████████████████████████████████████████████████| 70/70 [00:09<00:00,  7.72it/s, val_loss=0.299]\n",
      "Epoch 14:  25%|███████████████████████▌                                                                      | 70/279 [00:38<01:53,  1.84it/s, train_loss=0.408]"
     ]
    }
   ],
   "source": [
    "matt_cnns = []\n",
    "\n",
    "def objective(trial):\n",
    "    adam_parsT = utils.create_optimizer_params(\n",
    "        optimizer_type='AdamW',\n",
    "        batch_size=2, # * 240 timesteps\n",
    "        num_workers=0,\n",
    "        learning_rate=trial.suggest_float('learning_rate', 0.001, 0.1),\n",
    "        early_stopping_patience=4,\n",
    "        optimize_graph=False,\n",
    "        weight_decay=trial.suggest_float('weight_decay', 0.01, 1.0))\n",
    "    adam_parsT['device'] = device\n",
    "    # how many batches to wait for before calculating the gradient\n",
    "    adam_parsT['accumulated_grad_batches'] = 6\n",
    "\n",
    "    LGNpars = STconvLayer.layer_dict(\n",
    "        input_dims = data.stim_dims, \n",
    "        num_filters=4,\n",
    "        bias=False, \n",
    "        norm_type=1,\n",
    "        filter_dims=[1,  # channels\n",
    "                     7,  # width\n",
    "                     7,  # height\n",
    "                     11], # lags\n",
    "        NLtype='relu',\n",
    "        initialize_center=True)\n",
    "    LGNpars['output_norm']='batch'\n",
    "    LGNpars['window']='hamming'\n",
    "    LGNpars['reg_vals'] = {'d2x':Xreg,\n",
    "                           'd2t':Treg,\n",
    "                           'center': Creg,\n",
    "                           'edge_t':100} # just pushes the edge to be sharper\n",
    "    \n",
    "    num_subs = trial.suggest_int('num_subs', 10, 50)\n",
    "    num_inh = trial.suggest_float('num_inh', 0.1, 0.7)\n",
    "    proj_pars = ConvLayer.layer_dict(\n",
    "        num_filters=num_subs,\n",
    "        bias=False,\n",
    "        norm_type=1,\n",
    "        num_inh=int(num_inh*num_subs),\n",
    "        filter_dims=trial.suggest_int('proj_filter_width', 9, 29, step=2),\n",
    "        NLtype='lin',\n",
    "        initialize_center=True)\n",
    "    proj_pars['output_norm']='batch'\n",
    "    proj_pars['window']='hamming'\n",
    "    \n",
    "    iter_layers = IterSTlayer.layer_dict(\n",
    "        num_filters=num_subs,\n",
    "        num_inh=int(num_inh*num_subs),\n",
    "        bias=False,\n",
    "        num_iter=4,\n",
    "        output_config='full',\n",
    "        pos_constraint=True,\n",
    "        norm_type=1,\n",
    "        filter_width=trial.suggest_int('iter_filter_width', 5, 17, step=2),\n",
    "        num_lags=2,\n",
    "        NLtype='relu',\n",
    "        initialize_center=False)\n",
    "    iter_layers['output_norm'] = 'batch'\n",
    "    #iter_layers['reg_vals'] = {'glocal': 1e-5*trial.suggest_int('iter_glocal', 10, 1e10, log=True)}\n",
    "    \n",
    "    scaffold_net =  FFnetwork.ffnet_dict(\n",
    "        ffnet_type='scaffold',\n",
    "        xstim_n='stim',\n",
    "        layer_list=[LGNpars, proj_pars, iter_layers],\n",
    "        scaffold_levels=[1,2])\n",
    "    \n",
    "    ## 1: READOUT\n",
    "    # reads out from a specific location in the scaffold network\n",
    "    # this location is specified by the mus\n",
    "    readout_pars = ReadoutLayer.layer_dict(\n",
    "        num_filters=NCv,\n",
    "        NLtype='lin',\n",
    "        bias=False,\n",
    "        pos_constraint=True)\n",
    "    # for defining how to sample from the mu (location) of the receptive field\n",
    "    readout_pars['gauss_type'] = 'isotropic'\n",
    "    readout_pars['reg_vals'] = {'max': Mreg}\n",
    "    \n",
    "    readout_net = FFnetwork.ffnet_dict(\n",
    "        xstim_n = None,\n",
    "        ffnet_n=[0],\n",
    "        layer_list = [readout_pars],\n",
    "        ffnet_type='readout')\n",
    "    \n",
    "    ## 2: DRIFT\n",
    "    drift_pars = NDNLayer.layer_dict(\n",
    "        input_dims=[1,1,1,NA],\n",
    "        num_filters=NCv,\n",
    "        bias=False,\n",
    "        norm_type=0,\n",
    "        NLtype='lin')\n",
    "    drift_pars['reg_vals'] = {'d2t': Dreg}\n",
    "    \n",
    "    drift_net = FFnetwork.ffnet_dict(xstim_n = 'Xdrift', layer_list = [drift_pars])\n",
    "    \n",
    "    ## 3: COMB \n",
    "    comb_layer = ChannelLayer.layer_dict(\n",
    "        num_filters=NCv,\n",
    "        NLtype='softplus',\n",
    "        bias=True)\n",
    "    comb_layer['weights_initializer'] = 'ones'\n",
    "    \n",
    "    comb_net = FFnetwork.ffnet_dict(\n",
    "        xstim_n = None,\n",
    "        ffnet_n=[1,2],\n",
    "        layer_list=[comb_layer],\n",
    "        ffnet_type='add')\n",
    "\n",
    "    cnn = NDN.NDN(ffnet_list = [scaffold_net, readout_net, drift_net, comb_net],\n",
    "                  loss_type='poisson')\n",
    "    cnn.block_sample = True\n",
    "\n",
    "    ## Network 1: readout: fixed mus / sigmas\n",
    "    cnn.networks[1].layers[0].sample = False\n",
    "    # mus and sigmas are the centers and \"widths\" of the receptive field center to start at\n",
    "    cnn.networks[1].layers[0].mu.data = torch.tensor(mu0s, dtype=torch.float32)\n",
    "    cnn.networks[1].set_parameters(val=False, name='mu')\n",
    "    cnn.networks[1].set_parameters(val=False, name='sigma')\n",
    "\n",
    "    ## Network 2: drift: not fit\n",
    "    cnn.networks[2].layers[0].weight.data = torch.tensor(drift_terms, dtype=torch.float32)\n",
    "    cnn.networks[2].set_parameters(val=False)\n",
    "\n",
    "    ## Network 3: Comb\n",
    "    cnn.networks[-1].set_parameters(val=False, name='weight')\n",
    "\n",
    "    cnn.fit(data, **adam_parsT, verbose=2)\n",
    "    LLs = cnn.eval_models(data, data_inds=data.val_blks, batch_size=5)\n",
    "\n",
    "    cnn_model = Model(cnn, LLsNULL-LLs, study)\n",
    "    matt_cnns.append(cnn_model)\n",
    "\n",
    "    with open('models/cnns_01/cnn_'+str(len(study.trials))+'pkl', 'wb') as f:\n",
    "        pickle.dump(cnn_model, f)\n",
    "\n",
    "    return LLsNULL-LLs\n",
    "\n",
    "\n",
    "#study = optuna.create_study(direction='maximize', pruner=optuna.pruners.HyperbandPruner())\n",
    "study = optuna.create_study(direction='maximize')\n",
    "\n",
    "# enqueue initial parameters\n",
    "study.enqueue_trial(\n",
    "    {'learning_rate': 0.01,\n",
    "     'weight_decay': 0.2,\n",
    "     'num_subs': 30,\n",
    "     'num_inh': 0.5,\n",
    "     'proj_filter_width': 17,\n",
    "     'iter_filter_width': 7})\n",
    "\n",
    "study.optimize(objective, n_trials=10)\n",
    "\n",
    "with open('models/cnns_01/cnn_best.pkl', 'wb') as f:\n",
    "    pickle.dump(matt_cnns[study.best_trial.number], f)\n",
    "\n",
    "print(study.best_trial.number, study.best_params)"
   ]
  },
  {
   "cell_type": "markdown",
   "metadata": {
    "collapsed": false
   },
   "source": [
    "# analyze models"
   ]
  },
  {
   "cell_type": "code",
   "execution_count": 8,
   "metadata": {
    "ExecuteTime": {
     "end_time": "2023-07-10T15:44:20.974036Z",
     "start_time": "2023-07-10T15:44:20.545030Z"
    },
    "collapsed": false
   },
   "outputs": [],
   "source": [
    "# load models\n",
    "cnns = []\n",
    "for i in range(1, 30):\n",
    "    with open('models/cnns_02/cnn_'+str(i)+'.pkl', 'rb') as f:\n",
    "        cnns.append(pickle.load(f))\n",
    "        \n",
    "with open('models/cnns_02/study.pkl', 'rb') as f:\n",
    "    study = pickle.load(f)"
   ]
  },
  {
   "cell_type": "code",
   "execution_count": 9,
   "metadata": {
    "ExecuteTime": {
     "end_time": "2023-07-10T15:44:32.475247Z",
     "start_time": "2023-07-10T15:44:32.337303Z"
    },
    "collapsed": false
   },
   "outputs": [
    {
     "data": {
      "image/png": "[encoded data removed]",
      "text/plain": [
       "<Figure size 1000x500 with 1 Axes>"
      ]
     },
     "metadata": {},
     "output_type": "display_data"
    }
   ],
   "source": [
    "# plot LLs\n",
    "fig = plt.figure(figsize=(10, 5))\n",
    "plt.plot([np.mean(cnn.LLs) for cnn in cnns])\n",
    "# put an asterisk on the best model\n",
    "plt.plot(study.best_trial.number, np.mean(cnns[study.best_trial.number].LLs), '*')\n",
    "plt.show()"
   ]
  },
  {
   "cell_type": "code",
   "execution_count": 15,
   "metadata": {
    "ExecuteTime": {
     "end_time": "2023-07-10T15:46:54.927189Z",
     "start_time": "2023-07-10T15:46:54.909251Z"
    },
    "collapsed": false
   },
   "outputs": [
    {
     "data": {
      "text/plain": [
       "{'learning_rate': 0.0019458712436933295,\n",
       " 'weight_decay': 0.16992260049675675,\n",
       " 'num_subs': 29,\n",
       " 'num_inh': 0.5260602414050571,\n",
       " 'proj_filter_width': 19,\n",
       " 'iter_filter_width': 7}"
      ]
     },
     "execution_count": 15,
     "metadata": {},
     "output_type": "execute_result"
    }
   ],
   "source": [
    "# print the parameters in the best model\n",
    "cnns[study.best_trial.number].trial.params"
   ]
  },
  {
   "cell_type": "code",
   "execution_count": null,
   "metadata": {
    "collapsed": false
   },
   "outputs": [],
   "source": []
  }
 ],
 "metadata": {
  "kernelspec": {
   "display_name": "Python 3",
   "language": "python",
   "name": "python3"
  },
  "language_info": {
   "codemirror_mode": {
    "name": "ipython",
    "version": 2
   },
   "file_extension": ".py",
   "mimetype": "text/x-python",
   "name": "python",
   "nbconvert_exporter": "python",
   "pygments_lexer": "ipython2",
   "version": "2.7.6"
  }
 },
 "nbformat": 4,
 "nbformat_minor": 0
}
