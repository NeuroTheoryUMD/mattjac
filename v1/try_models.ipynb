{
 "cells": [
  {
   "cell_type": "markdown",
   "metadata": {
    "collapsed": false
   },
   "source": [
    "# imports"
   ]
  },
  {
   "cell_type": "code",
   "execution_count": 3,
   "metadata": {
    "collapsed": false
   },
   "outputs": [
    {
     "name": "stdout",
     "output_type": "stream",
     "text": [
      "Running on Computer: [beast]\n",
      "Save_dir = ./Monocular/\n",
      "The autoreload extension is already loaded. To reload it, use:\n",
      "  %reload_ext autoreload\n"
     ]
    }
   ],
   "source": [
    "import sys\n",
    "import os\n",
    "import h5py\n",
    "import mattplotlib\n",
    "\n",
    "# setup paths\n",
    "iteration = 1 # which version of this tutorial to run (in case want results in different dirs)\n",
    "NBname = 'color_cloud_initial{}'.format(iteration)\n",
    "\n",
    "myhost = os.uname()[1] # get name of machine\n",
    "print(\"Running on Computer: [%s]\" %myhost)\n",
    "\n",
    "datadir = './Mdata/'\n",
    "dirname = './Monocular/' # Working directory \n",
    "\n",
    "import numpy as np\n",
    "import scipy.io as sio\n",
    "import pickle\n",
    "from copy import deepcopy\n",
    "\n",
    "# plotting\n",
    "import seaborn as sns\n",
    "import seaborn_image as isns\n",
    "import matplotlib.pyplot as plt\n",
    "import mattplotlib as mplt\n",
    "import mattrics as met\n",
    "\n",
    "# Import torch\n",
    "import torch\n",
    "from torch import nn\n",
    "\n",
    "# NDN tools\n",
    "import NDNT.utils as utils # some other utilities\n",
    "from NDNT.utils import imagesc   # because I'm lazy\n",
    "from NDNT.utils import ss        # because I'm real lazy\n",
    "import NDNT.NDNT as NDN\n",
    "from NDNT.modules.layers import *\n",
    "from NDNT.networks import *\n",
    "from importlib import reload\n",
    "from time import time\n",
    "import dill # more comprehensive pickle\n",
    "\n",
    "from NTdatasets.generic import GenericDataset\n",
    "from NTdatasets.cumming.binocular import binocular_single\n",
    "\n",
    "device = torch.device(\"cuda:1\")\n",
    "dtype = torch.float32\n",
    "\n",
    "# Where saved models and checkpoints go -- this is to be automated\n",
    "print( 'Save_dir =', dirname)\n",
    "\n",
    "# Lazy stuff\n",
    "from NDNT.utils.DanUtils import ss\n",
    "from NDNT.utils.DanUtils import imagesc\n",
    "\n",
    "%load_ext autoreload\n",
    "%autoreload 2"
   ]
  },
  {
   "cell_type": "markdown",
   "metadata": {
    "collapsed": false
   },
   "source": [
    "# load data"
   ]
  },
  {
   "cell_type": "code",
   "execution_count": 4,
   "metadata": {
    "collapsed": false
   },
   "outputs": [
    {
     "name": "stdout",
     "output_type": "stream",
     "text": [
      "Loading expt04\n",
      "  Time embedding...\n",
      "11 cells, 362504 time steps.\n"
     ]
    },
    {
     "data": {
      "image/png": "[encoded data removed]",
      "text/plain": [
       "<Figure size 640x480 with 1 Axes>"
      ]
     },
     "metadata": {},
     "output_type": "display_data"
    }
   ],
   "source": [
    "# load data\n",
    "# Load Data\n",
    "num_lags = 10\n",
    "expts = ['expt04']\n",
    "# this can handle multiple experiments\n",
    "#expts = ['expt04', 'expt05']\n",
    "\n",
    "from NTdatasets.cumming.monocular import MultiDataset\n",
    "data = MultiDataset(\n",
    "    datadir=datadir, filenames=expts, include_MUs=False,\n",
    "    time_embed=True, num_lags=num_lags )\n",
    "imagesc(data.dfs.detach().numpy())\n",
    "print(\"%d cells, %d time steps.\"%(data.NC, data.NT))"
   ]
  },
  {
   "cell_type": "markdown",
   "metadata": {
    "collapsed": false
   },
   "source": [
    "# three layer network"
   ]
  },
  {
   "cell_type": "code",
   "execution_count": 14,
   "metadata": {
    "collapsed": false
   },
   "outputs": [
    {
     "data": {
      "text/plain": [
       "NDN(\n",
       "  (loss_module): PoissonLoss_datafilter(\n",
       "    (loss): PoissonNLLLoss()\n",
       "    (lossNR): PoissonNLLLoss()\n",
       "  )\n",
       "  (loss): PoissonLoss_datafilter(\n",
       "    (loss): PoissonNLLLoss()\n",
       "    (lossNR): PoissonNLLLoss()\n",
       "  )\n",
       "  (val_loss): PoissonLoss_datafilter(\n",
       "    (loss): PoissonNLLLoss()\n",
       "    (lossNR): PoissonNLLLoss()\n",
       "  )\n",
       "  (networks): ModuleList(\n",
       "    (0): FFnetwork(\n",
       "      (layers): ModuleList(\n",
       "        (0): NDNLayer(\n",
       "          (NL): ReLU()\n",
       "          (reg): Regularization(\n",
       "            (reg_modules): ModuleList()\n",
       "          )\n",
       "        )\n",
       "      )\n",
       "    )\n",
       "    (1): FFnetwork(\n",
       "      (layers): ModuleList(\n",
       "        (0): NDNLayer(\n",
       "          (NL): ReLU()\n",
       "          (reg): Regularization(\n",
       "            (reg_modules): ModuleList()\n",
       "          )\n",
       "        )\n",
       "        (1): NDNLayer(\n",
       "          (NL): ReLU()\n",
       "          (reg): Regularization(\n",
       "            (reg_modules): ModuleList()\n",
       "          )\n",
       "        )\n",
       "      )\n",
       "    )\n",
       "    (2): FFnetwork(\n",
       "      (layers): ModuleList(\n",
       "        (0): NDNLayer(\n",
       "          (NL): ReLU()\n",
       "          (reg): Regularization(\n",
       "            (reg_modules): ModuleList()\n",
       "          )\n",
       "        )\n",
       "      )\n",
       "    )\n",
       "  )\n",
       ")"
      ]
     },
     "execution_count": 14,
     "metadata": {},
     "output_type": "execute_result"
    },
    {
     "data": {
      "image/png": "[encoded data removed]",
      "text/plain": [
       "<Figure size 640x480 with 1 Axes>"
      ]
     },
     "metadata": {},
     "output_type": "display_data"
    }
   ],
   "source": [
    "import model_factory as mf\n",
    "import model as m\n",
    "\n",
    "layer0 = m.Layer().norm_type(m.Norm.none).NLtype(m.NL.relu).bias(False).initialize_center(True).reg_vals({'l1':0.1, 'localx':0.001, 'bcs':{'d2xt':1}}).num_filters(6)\n",
    "layer1 = m.Layer().norm_type(m.Norm.none).NLtype(m.NL.relu).bias(False).initialize_center(True).reg_vals({'l1':0.1, 'localx':0.001, 'bcs':{'d2xt':1}}).num_filters(6)\n",
    "layer2 = m.Layer().norm_type(m.Norm.none).NLtype(m.NL.relu).bias(False).initialize_center(True).reg_vals({'l1':0.1, 'localx':0.001, 'bcs':{'d2xt':1}}).num_filters(6)\n",
    "layer3 = m.Layer().norm_type(m.Norm.none).NLtype(m.NL.relu).bias(False).initialize_center(True).reg_vals({'l1':0.1, 'localx':0.001, 'bcs':{'d2xt':1}}).num_filters(6)\n",
    "\n",
    "inp_stim = m.Input(covariate='stim', input_dims=[1,36,1,10])\n",
    "netA = m.Network(layers=[layer0], name='A')\n",
    "netB = m.Network(layers=[layer1, layer2], name='B')\n",
    "netC = m.Network(layers=[layer3], name='C')\n",
    "output_11 = m.Output(num_neurons=11)\n",
    "\n",
    "inp_stim.to(netA)\n",
    "netA.to(netB)\n",
    "netB.to(netC)\n",
    "netC.to(output_11)\n",
    "model = m.Model(output_11)\n",
    "\n",
    "created_models = mf.create_models(model, verbose=False)\n",
    "\n",
    "created_models[0].draw_network()\n",
    "\n",
    "created_models[0].NDN"
   ]
  },
  {
   "cell_type": "code",
   "execution_count": 13,
   "metadata": {
    "collapsed": false
   },
   "outputs": [
    {
     "name": "stdout",
     "output_type": "stream",
     "text": [
      "\n",
      "GPU Available: True, GPU Used: True\n",
      "Epoch 1: train loss 30.4848 val loss 29.2294\n",
      "Epoch 2: train loss 29.3507 val loss 29.1711\n",
      "Epoch 3: train loss 29.3278 val loss 29.1335\n",
      "Epoch 4: train loss 29.2184 val loss 28.9659\n",
      "Epoch 5: train loss 29.1554 val loss 28.9726\n",
      "Epoch 6: train loss 29.2292 val loss 29.0752\n",
      "Epoch 7: train loss 29.2170 val loss 29.0462\n",
      "Epoch 8: train loss 29.1562 val loss 28.9692\n",
      "Early stopping\n",
      "Done fitting\n",
      "  Fit complete: 69.63084030151367 sec elapsed\n"
     ]
    }
   ],
   "source": [
    "# create ADAM params\n",
    "adam_pars = utils.create_optimizer_params(\n",
    "    optimizer_type='AdamW', batch_size=2000, num_workers=0,\n",
    "    learning_rate=0.01, early_stopping_patience=4,\n",
    "    optimize_graph=False, weight_decay = 0.1)\n",
    "adam_pars['device'] = device\n",
    "\n",
    "created_models[0].NDN.fit(data, **adam_pars)"
   ]
  },
  {
   "cell_type": "code",
   "execution_count": null,
   "metadata": {
    "collapsed": false
   },
   "outputs": [],
   "source": []
  }
 ],
 "metadata": {
  "kernelspec": {
   "display_name": "Python 3",
   "language": "python",
   "name": "python3"
  },
  "language_info": {
   "codemirror_mode": {
    "name": "ipython",
    "version": 2
   },
   "file_extension": ".py",
   "mimetype": "text/x-python",
   "name": "python",
   "nbconvert_exporter": "python",
   "pygments_lexer": "ipython2",
   "version": "2.7.6"
  }
 },
 "nbformat": 4,
 "nbformat_minor": 0
}
