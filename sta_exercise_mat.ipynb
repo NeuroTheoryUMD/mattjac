{
 "cells": [
  {
   "cell_type": "markdown",
   "id": "ac897230-9cd0-439b-80bc-e88a5c71c894",
   "metadata": {},
   "source": [
    "# Problem Set solution, implemented using a matrix representation and with good documentation"
   ]
  },
  {
   "cell_type": "code",
   "execution_count": 5,
   "id": "f52dbb74-6065-4c0f-8d0b-ae3f9539c6de",
   "metadata": {},
   "outputs": [],
   "source": [
    "from scipy.io import loadmat\n",
    "import numpy as np\n",
    "import matplotlib.pyplot as plt\n",
    "import math\n",
    "import pprint"
   ]
  },
  {
   "cell_type": "code",
   "execution_count": 50,
   "id": "766a42c2-75d5-45a5-9630-f8d7c51fd6ef",
   "metadata": {},
   "outputs": [],
   "source": [
    "# bin the spiks by their associated stims\n",
    "def associate_spiks_to_stims(spiks, stims, dt):\n",
    "    max_stim = len(stims) * dt\n",
    "    # put a tiny amount of extra time at the end of the bin to make sure that we include the extreme times\n",
    "    epsilon = dt / 2\n",
    "    return np.histogram(spiks, bins=np.arange(0, max_stim+epsilon, dt), range=(0, max_stim))[0]\n",
    "\n",
    "\n",
    "# combine the spiks and stims by as columns\n",
    "def merge_spiks_and_stims(spiks, stims, dt):\n",
    "    spiks_per_stim = associate_spiks_to_stims(spiks, stims, dt)\n",
    "    return np.column_stack([stims.flatten(), spiks_per_stim])\n",
    "\n",
    "\n",
    "# shifts vector by the amount (shift can be positive or negative)\n",
    "# fills the empty elements with zeros\n",
    "def shift_vector(vector, shift):\n",
    "    if shift > len(vector):\n",
    "        shift = len(vector)\n",
    "    elif shift < 0 and abs(shift) > len(vector):\n",
    "        shift = -len(vector)\n",
    "    \n",
    "    if shift > 0:\n",
    "        shifted = np.concatenate((np.zeros((shift)), vector[:-shift]), axis=None)\n",
    "    elif shift < 0:\n",
    "        shifted = np.concatenate((vector[abs(shift):], np.zeros((abs(shift)))), axis=None)\n",
    "    else:\n",
    "        shifted = vector\n",
    "    \n",
    "    return shifted\n",
    "\n",
    "\n",
    "def calc_sta(merged, num_lags):\n",
    "    sta = []\n",
    "    for lag in range(0, num_lags):\n",
    "        lagged_stim = shift_vector(merged[:,0], lag)\n",
    "        sta.append(np.sum(lagged_stim * merged[:,1]) / np.sum(merged[:,1]))\n",
    "    sta = np.array(sta)\n",
    "    return sta\n",
    "\n",
    "\n",
    "def g_convolve(s, k):\n",
    "    # pad to make causal\n",
    "    k2 = np.zeros(len(k)*2-1)\n",
    "    k2[len(k)-1:] = [i for i in k] # reverse the kernel before convolving it with s\n",
    "    g = np.convolve(s, k2, mode='same')\n",
    "    return g\n",
    "\n",
    "\n",
    "def nl_func(nl, g_stim):\n",
    "    x = np.arange(-6, 6, 0.2)\n",
    "    # find the closest nl value for the given g_stim\n",
    "    for i in range(len(x)-1):\n",
    "        if g_stim >= x[i] and g_stim < x[i+1]:\n",
    "            return nl[i]\n",
    "    return -1"
   ]
  },
  {
   "cell_type": "code",
   "execution_count": null,
   "id": "a64a54ef-43b4-484a-8b71-8627066429c2",
   "metadata": {},
   "outputs": [],
   "source": []
  },
  {
   "cell_type": "markdown",
   "id": "bcfef66c-8de4-4c30-afb4-827ca4c52d42",
   "metadata": {},
   "source": [
    "## Load the data"
   ]
  },
  {
   "cell_type": "code",
   "execution_count": 51,
   "id": "d89cb90a-199c-4146-a16a-dd9e1601df99",
   "metadata": {},
   "outputs": [],
   "source": [
    "# 1. load the data\n",
    "d = loadmat('LGN_FFdata.mat')\n",
    "\n",
    "spiks = d['FFspks'][0].flatten() # number is number of seconds from the start for that spike\n",
    "stims = d['FFstim'].flatten() # the stimlus value at the time step\n",
    "dt = d['DTstim'][0].flatten() # time between each stimulus"
   ]
  },
  {
   "cell_type": "markdown",
   "id": "0d4c0c2d-c2a7-4f6f-a716-d9302f7dd87f",
   "metadata": {},
   "source": [
    "## Put the data into a matrix form to make manipulating it easier"
   ]
  },
  {
   "cell_type": "code",
   "execution_count": 52,
   "id": "a0fe47e3-3665-4618-b019-418fd7e12035",
   "metadata": {},
   "outputs": [
    {
     "data": {
      "text/plain": [
       "array([[-1.66558397,  0.        ],\n",
       "       [ 0.125332  ,  0.        ],\n",
       "       [ 0.28767601,  0.        ],\n",
       "       ...,\n",
       "       [-0.72446799,  0.        ],\n",
       "       [-0.068865  ,  0.        ],\n",
       "       [ 0.        ,  1.        ]])"
      ]
     },
     "execution_count": 52,
     "metadata": {},
     "output_type": "execute_result"
    }
   ],
   "source": [
    "# make a matrix: NT x lags\n",
    "# 2. calculate the STA for the neuron --> g()\n",
    "merged = merge_spiks_and_stims(spiks, stims, dt)\n",
    "merged"
   ]
  },
  {
   "cell_type": "code",
   "execution_count": 60,
   "id": "92784400-5a8d-4468-a363-507049c57bcf",
   "metadata": {},
   "outputs": [],
   "source": [
    "# shift the stimulus vector over by each lag to construct the time embedding\n",
    "num_lags = 12\n",
    "# embedding matrix is NxL (N = number of trials (i.e. len of stimulus), L = number of lags to use)\n",
    "embedding = np.zeros((len(stims), num_lags)) # add an extra column for the stims\n",
    "for lag in range(0, num_lags):\n",
    "    lagged_stim = shift_vector(stims, lag)\n",
    "    embedding[:,lag] = lagged_stim.T # put the shifted stimulus in the lag column\n",
    "    #embedding[:,lag] = merge_spiks_and_stims(spiks, lagged_stim, dt)[:,1]"
   ]
  },
  {
   "cell_type": "code",
   "execution_count": 64,
   "id": "854f4d63-2864-4b14-8bc8-864f70807000",
   "metadata": {},
   "outputs": [],
   "source": [
    "response = merge_spiks_and_stims(spiks, stims, dt)[:,1]"
   ]
  },
  {
   "cell_type": "code",
   "execution_count": 61,
   "id": "9a16913b-e65c-4fb5-a84e-95b1232617f1",
   "metadata": {},
   "outputs": [
    {
     "data": {
      "text/plain": [
       "array([ True,  True,  True, ...,  True,  True,  True])"
      ]
     },
     "execution_count": 61,
     "metadata": {},
     "output_type": "execute_result"
    }
   ],
   "source": [
    "embedding[:,0] == stims"
   ]
  },
  {
   "cell_type": "code",
   "execution_count": 69,
   "id": "74bc7364-d58b-4926-abb5-a20220044ea2",
   "metadata": {},
   "outputs": [
    {
     "data": {
      "text/plain": [
       "((14391,), (14391, 12))"
      ]
     },
     "execution_count": 69,
     "metadata": {},
     "output_type": "execute_result"
    }
   ],
   "source": [
    "response.shape, embedding.shape"
   ]
  },
  {
   "cell_type": "code",
   "execution_count": 71,
   "id": "04d88704-4848-40dd-9d44-43cb69365660",
   "metadata": {},
   "outputs": [
    {
     "data": {
      "text/plain": [
       "[<matplotlib.lines.Line2D at 0x156a859d0>]"
      ]
     },
     "execution_count": 71,
     "metadata": {},
     "output_type": "execute_result"
    },
    {
     "data": {
      "image/png": "[encoded data removed]",
      "text/plain": [
       "<Figure size 432x288 with 1 Axes>"
      ]
     },
     "metadata": {
      "needs_background": "light"
     },
     "output_type": "display_data"
    }
   ],
   "source": [
    "plt.plot(np.matmul(embedding.T, response))"
   ]
  },
  {
   "cell_type": "code",
   "execution_count": null,
   "id": "f66d2582-7405-4d5c-8cdf-99026639bf2a",
   "metadata": {},
   "outputs": [],
   "source": []
  }
 ],
 "metadata": {
  "kernelspec": {
   "display_name": "Python 3 (ipykernel)",
   "language": "python",
   "name": "python3"
  },
  "language_info": {
   "codemirror_mode": {
    "name": "ipython",
    "version": 3
   },
   "file_extension": ".py",
   "mimetype": "text/x-python",
   "name": "python",
   "nbconvert_exporter": "python",
   "pygments_lexer": "ipython3",
   "version": "3.9.10"
  }
 },
 "nbformat": 4,
 "nbformat_minor": 5
}
