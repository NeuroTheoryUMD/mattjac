{
 "cells": [
  {
   "cell_type": "code",
   "execution_count": 66,
   "id": "c2128ae2-aa80-42da-b2a2-4f8149d6e4f6",
   "metadata": {},
   "outputs": [],
   "source": [
    "from scipy.io import loadmat\n",
    "import numpy as np\n",
    "import matplotlib.pyplot as plt\n",
    "import math"
   ]
  },
  {
   "cell_type": "markdown",
   "id": "93dea9aa-f7b9-477f-b3b0-a41462f925d9",
   "metadata": {},
   "source": [
    "### Load the data"
   ]
  },
  {
   "cell_type": "code",
   "execution_count": 50,
   "id": "85b1a402-7b35-4ec1-9611-537d43f6d7fd",
   "metadata": {},
   "outputs": [],
   "source": [
    "d = loadmat('LGN_FFdata.mat')"
   ]
  },
  {
   "cell_type": "code",
   "execution_count": 49,
   "id": "bbfb5a4d-ea1f-4701-a4c0-a281db7f546e",
   "metadata": {},
   "outputs": [
    {
     "data": {
      "text/plain": [
       "dict_keys(['__header__', '__version__', '__globals__', 'DTstim', 'FFspks', 'FFstim', 'FFstimR', 'FFspksR'])"
      ]
     },
     "execution_count": 49,
     "metadata": {},
     "output_type": "execute_result"
    }
   ],
   "source": [
    "d.keys()"
   ]
  },
  {
   "cell_type": "code",
   "execution_count": 72,
   "id": "17662c07-1e2a-4142-b0b8-a99105f7ae73",
   "metadata": {},
   "outputs": [
    {
     "data": {
      "text/plain": [
       "16567"
      ]
     },
     "execution_count": 72,
     "metadata": {},
     "output_type": "execute_result"
    }
   ],
   "source": [
    "spiks = d['FFspks'][0] # number is number of seconds from the start for that spike\n",
    "stims = d['FFstim']\n",
    "dt = d['DTstim'][0] # time between each stimulus\n",
    "len(d['FFspksR'][0]) # data has -1s in it for each trial repeat\n",
    "# Firing rate is probability of firing for a stimulus\n",
    "# average rate is a rate parameter for a Poisson process"
   ]
  },
  {
   "cell_type": "code",
   "execution_count": 76,
   "id": "39cb857e-5845-4f38-9e44-3edad0ce8d66",
   "metadata": {},
   "outputs": [
    {
     "data": {
      "text/plain": [
       "array([[-1.66558397],\n",
       "       [ 0.125332  ],\n",
       "       [ 0.28767601],\n",
       "       ...,\n",
       "       [-0.72446799],\n",
       "       [-0.068865  ],\n",
       "       [ 0.        ]])"
      ]
     },
     "execution_count": 76,
     "metadata": {},
     "output_type": "execute_result"
    }
   ],
   "source": [
    "stims # this is the intensity of the stimulus at this presentation"
   ]
  },
  {
   "cell_type": "code",
   "execution_count": 77,
   "id": "333394ff-934a-4030-ba16-a6c99baf763f",
   "metadata": {},
   "outputs": [
    {
     "name": "stdout",
     "output_type": "stream",
     "text": [
      "14391\n"
     ]
    },
    {
     "data": {
      "image/png": "[encoded data removed]",
      "text/plain": [
       "<Figure size 432x288 with 1 Axes>"
      ]
     },
     "metadata": {
      "needs_background": "light"
     },
     "output_type": "display_data"
    }
   ],
   "source": [
    "plt.hist(stims)\n",
    "print(len(stims))"
   ]
  },
  {
   "cell_type": "code",
   "execution_count": 78,
   "id": "99dc63a2-a1ca-40be-bb05-e3302c9e178a",
   "metadata": {},
   "outputs": [
    {
     "data": {
      "text/plain": [
       "array([120.00814013])"
      ]
     },
     "execution_count": 78,
     "metadata": {},
     "output_type": "execute_result"
    }
   ],
   "source": [
    "len(stims) * dt"
   ]
  },
  {
   "cell_type": "code",
   "execution_count": 80,
   "id": "ecf05546-6bf1-4d84-a651-1618792c1fe7",
   "metadata": {},
   "outputs": [],
   "source": [
    "t = 0.02\n",
    "stim_idx = math.floor(t/dt) # the stimulus trial at any time\n",
    "# get multiple columns in the vector by passing in multiple indices\n",
    "\n",
    "# we can also do some interesting matrix math to make it simpler to do\n"
   ]
  },
  {
   "cell_type": "code",
   "execution_count": 113,
   "id": "07e3592d-4d2c-4fa8-8709-e0779338e255",
   "metadata": {},
   "outputs": [
    {
     "data": {
      "text/plain": [
       "(0.06999999999999318, 120.00457499999999)"
      ]
     },
     "execution_count": 113,
     "metadata": {},
     "output_type": "execute_result"
    }
   ],
   "source": [
    "min(spiks), max(spiks)"
   ]
  },
  {
   "cell_type": "code",
   "execution_count": null,
   "id": "aae28611-0cee-450f-834c-41ebce8930b6",
   "metadata": {},
   "outputs": [],
   "source": []
  },
  {
   "cell_type": "markdown",
   "id": "052a780f-39a6-4ea1-b5d1-e34463686587",
   "metadata": {},
   "source": [
    "### A. Calculate the average stimulus for all spike times."
   ]
  },
  {
   "cell_type": "code",
   "execution_count": 153,
   "id": "96be122c-9bcd-4876-8905-9c1a706a69a8",
   "metadata": {},
   "outputs": [],
   "source": [
    "# bin the spiks by their associated stims\n",
    "def associate_spiks_to_stims(spiks, stims):\n",
    "    max_spik = np.max(spiks) + dt\n",
    "    return np.histogram(spiks, bins=np.arange(0, max_spik, dt))[0]"
   ]
  },
  {
   "cell_type": "code",
   "execution_count": 131,
   "id": "aae951be-2ac9-41da-a7f5-9c672bd48770",
   "metadata": {},
   "outputs": [
    {
     "data": {
      "text/plain": [
       "(14391, 14391)"
      ]
     },
     "execution_count": 131,
     "metadata": {},
     "output_type": "execute_result"
    }
   ],
   "source": [
    "spiks_per_stim = associate_spiks_to_stims(spiks, stims)\n",
    "len(stims), len(spiks_per_stim)"
   ]
  },
  {
   "cell_type": "code",
   "execution_count": 154,
   "id": "3e3e363c-6ff9-4bdc-b48d-8407d11b2b20",
   "metadata": {},
   "outputs": [],
   "source": [
    "# Whenever there is a spike,\n",
    "# sum the stimulus values and divide by the number of spikes\n",
    "stim_sum = 0.\n",
    "stim_count = 0.\n",
    "for stim_idx, spik in enumerate(spiks_per_stim):\n",
    "    if spik > 0:\n",
    "        stim_sum += spik * stims[stim_idx]\n",
    "        # we want to multiply the stims by the number of spiks it elicited\n",
    "        stim_count += spik\n",
    "avg_stim_when_spiks = stim_sum / stim_count"
   ]
  },
  {
   "cell_type": "code",
   "execution_count": 155,
   "id": "80223594-527a-4a16-9e45-2945f7383fc5",
   "metadata": {},
   "outputs": [
    {
     "data": {
      "text/plain": [
       "0.05954608809527265"
      ]
     },
     "execution_count": 155,
     "metadata": {},
     "output_type": "execute_result"
    }
   ],
   "source": [
    "avg_stim_when_spiks[0]\n",
    "# should be 0.059 or so"
   ]
  },
  {
   "cell_type": "code",
   "execution_count": 144,
   "id": "d826db4d-a7c0-4b4b-9508-496a12541e49",
   "metadata": {},
   "outputs": [
    {
     "data": {
      "text/plain": [
       "(-3.7988569736480713, 3.747612953186035)"
      ]
     },
     "execution_count": 144,
     "metadata": {},
     "output_type": "execute_result"
    }
   ],
   "source": [
    "np.min(stims), np.max(stims)"
   ]
  },
  {
   "cell_type": "markdown",
   "id": "b05bfaaa-e967-478f-93cf-a646841b53de",
   "metadata": {},
   "source": [
    "### B. Calculate and plot the full spike-triggered average of the neuron."
   ]
  },
  {
   "cell_type": "code",
   "execution_count": 151,
   "id": "f121d9b2-6e93-4d18-a6f0-ef688e9b8c50",
   "metadata": {},
   "outputs": [
    {
     "data": {
      "text/plain": [
       "array([0.00833911])"
      ]
     },
     "execution_count": 151,
     "metadata": {},
     "output_type": "execute_result"
    }
   ],
   "source": [
    "dt # the time steps between the stimulus presentations"
   ]
  },
  {
   "cell_type": "code",
   "execution_count": 152,
   "id": "c69b99e4-4229-47e7-85fc-46ec67895969",
   "metadata": {},
   "outputs": [],
   "source": [
    "# moving window across the binned spikes, in 100ms (.1) bins\n",
    "window_size = math.ceil(.1 / dt)"
   ]
  },
  {
   "cell_type": "code",
   "execution_count": 162,
   "id": "75689f12-f901-42ff-812c-22600213fc06",
   "metadata": {},
   "outputs": [],
   "source": [
    "# slide the window over the stims\n",
    "stas = []\n",
    "for stim_idx in range(window_size, len(stims)):\n",
    "    # get the average over the last <window_size> from the current stim\n",
    "    stim_sum = 0.\n",
    "    stim_count = 0.\n",
    "    for stim, spik in zip(stims[stim_idx-window_size:stim_idx], spiks_per_stim[stim_idx-window_size:stim_idx]):\n",
    "        if spik > 0:\n",
    "            stim_sum += spik * stim\n",
    "            stim_count += spik\n",
    "    if stim_count > 0:\n",
    "        avg_stim_when_spiks = (stim_sum / stim_count)[0]\n",
    "    else:\n",
    "        avg_stim_when_spiks = 0\n",
    "    stas.append(avg_stim_when_spiks)"
   ]
  },
  {
   "cell_type": "code",
   "execution_count": 175,
   "id": "7847c377-33b5-4e2c-a512-602095faee3f",
   "metadata": {},
   "outputs": [
    {
     "data": {
      "text/plain": [
       "[<matplotlib.lines.Line2D at 0x145a24b80>]"
      ]
     },
     "execution_count": 175,
     "metadata": {},
     "output_type": "execute_result"
    },
    {
     "data": {
      "image/png": "[encoded data removed]",
      "text/plain": [
       "<Figure size 432x288 with 1 Axes>"
      ]
     },
     "metadata": {
      "needs_background": "light"
     },
     "output_type": "display_data"
    }
   ],
   "source": [
    "fig = plt.figure()\n",
    "fig.subplots_adjust(top=0.8)\n",
    "ax1 = fig.add_subplot(211)\n",
    "ax1.set_xlabel('time')\n",
    "ax1.set_ylabel('average spike count')\n",
    "ax1.set_title('Spike Triggered Averages')\n",
    "ax1.plot(stas)"
   ]
  },
  {
   "cell_type": "markdown",
   "id": "42b2995c-72ce-4590-b375-a49d7ad27694",
   "metadata": {},
   "source": [
    "### NOTE: this is nothing"
   ]
  },
  {
   "cell_type": "code",
   "execution_count": 180,
   "id": "f3667318-7d49-4643-bb67-8a9ac941a11d",
   "metadata": {},
   "outputs": [
    {
     "data": {
      "text/plain": [
       "<matplotlib.collections.PathCollection at 0x145c84970>"
      ]
     },
     "execution_count": 180,
     "metadata": {},
     "output_type": "execute_result"
    },
    {
     "data": {
      "image/png": "[encoded data removed]",
      "text/plain": [
       "<Figure size 432x288 with 1 Axes>"
      ]
     },
     "metadata": {
      "needs_background": "light"
     },
     "output_type": "display_data"
    }
   ],
   "source": [
    "fig = plt.figure()\n",
    "fig.subplots_adjust(top=0.8)\n",
    "ax2 = fig.add_subplot(211)\n",
    "ax2.set_xlabel('stimulus')\n",
    "ax2.set_ylabel('average stimulus for spikes')\n",
    "ax2.set_title('Stimulus vs. Spike Triggered Averages')\n",
    "ax2.scatter(stims[window_size:], stas)"
   ]
  },
  {
   "cell_type": "code",
   "execution_count": null,
   "id": "47ad7a76-af15-45c7-8fa2-24b7a6b6683a",
   "metadata": {},
   "outputs": [],
   "source": []
  },
  {
   "cell_type": "markdown",
   "id": "67d05a10-49b9-4911-a621-69394cf447cf",
   "metadata": {},
   "source": [
    "# Problem Set, done with matrices to make it simplerm"
   ]
  },
  {
   "cell_type": "markdown",
   "id": "b70505c5-4bd7-4982-a026-266952a90b6f",
   "metadata": {},
   "source": [
    "## 1. Temporal receptive field of a neuron"
   ]
  },
  {
   "cell_type": "markdown",
   "id": "ab33381e-7e90-4d49-bd6b-03ead90f1519",
   "metadata": {},
   "source": [
    "### A. Average stimulus value for all spike times"
   ]
  },
  {
   "cell_type": "code",
   "execution_count": 192,
   "id": "c7073b63-3b50-4dde-bf8e-f5ac02e4d37b",
   "metadata": {},
   "outputs": [],
   "source": [
    "# bin the spiks by their associated stims\n",
    "def associate_spiks_to_stims(spiks, stims):\n",
    "    max_spik = np.max(spiks) + dt\n",
    "    return np.histogram(spiks, bins=np.arange(0, max_spik, dt))[0]\n",
    "\n",
    "# combine the spiks and stims by as columns\n",
    "def merge_spiks_and_stims(spiks, stims):\n",
    "    spiks_per_stim = associate_spiks_to_stims(spiks, stims)\n",
    "    return np.column_stack([stims.flatten(), spiks_per_stim])"
   ]
  },
  {
   "cell_type": "code",
   "execution_count": 193,
   "id": "a7c21e43-6ad8-4200-b29c-74f1f8e377a7",
   "metadata": {},
   "outputs": [],
   "source": [
    "merged = merge_spiks_and_stims(spiks, stims)"
   ]
  },
  {
   "cell_type": "code",
   "execution_count": 194,
   "id": "3948ccf0-d4ab-46f6-9d58-23a15d70519d",
   "metadata": {},
   "outputs": [
    {
     "data": {
      "text/plain": [
       "array([[-1.66558397,  0.        ],\n",
       "       [ 0.125332  ,  0.        ],\n",
       "       [ 0.28767601,  0.        ],\n",
       "       ...,\n",
       "       [-0.72446799,  0.        ],\n",
       "       [-0.068865  ,  0.        ],\n",
       "       [ 0.        ,  1.        ]])"
      ]
     },
     "execution_count": 194,
     "metadata": {},
     "output_type": "execute_result"
    }
   ],
   "source": [
    "merged"
   ]
  },
  {
   "cell_type": "code",
   "execution_count": 202,
   "id": "5aa21ab0-d953-4a2f-a057-9b3db6a33ff8",
   "metadata": {},
   "outputs": [
    {
     "data": {
      "text/plain": [
       "0.05954608809527265"
      ]
     },
     "execution_count": 202,
     "metadata": {},
     "output_type": "execute_result"
    }
   ],
   "source": [
    "# average stimulus for all spike times\n",
    "np.sum(merged[:,0] * merged[:,1]) / np.sum(merged[:,1])"
   ]
  },
  {
   "cell_type": "markdown",
   "id": "25c43f95-124e-4086-b51a-1cb9eb408410",
   "metadata": {},
   "source": [
    "### B. STA of the neuron"
   ]
  },
  {
   "cell_type": "code",
   "execution_count": 209,
   "id": "7eb3782b-3e86-4d9a-b695-71bea76e8034",
   "metadata": {},
   "outputs": [],
   "source": [
    "# moving window across the binned spikes, in 100ms (.1) bins\n",
    "w = math.ceil(.1 / dt)"
   ]
  },
  {
   "cell_type": "code",
   "execution_count": 210,
   "id": "0560ac38-b744-4776-ab70-b2f4eb9471b6",
   "metadata": {},
   "outputs": [
    {
     "name": "stderr",
     "output_type": "stream",
     "text": [
      "/var/folders/rc/lxb7w_kn1gd1gppq2y1hq2tm0000gn/T/ipykernel_6060/1333173150.py:1: RuntimeWarning: invalid value encountered in double_scalars\n",
      "  sta = [np.sum(merged[i-w:i,0] * merged[i-w:i,1]) / np.sum(merged[i-w:i,1]) for i in range(w, len(stims))]\n"
     ]
    }
   ],
   "source": [
    "sta = [np.sum(merged[i-w:i,0] * merged[i-w:i,1]) / np.sum(merged[i-w:i,1]) for i in range(w, len(stims))]"
   ]
  },
  {
   "cell_type": "code",
   "execution_count": 207,
   "id": "321374b5-b244-4996-bb2e-90619e08e9f4",
   "metadata": {},
   "outputs": [
    {
     "data": {
      "text/plain": [
       "[<matplotlib.lines.Line2D at 0x145b62a90>]"
      ]
     },
     "execution_count": 207,
     "metadata": {},
     "output_type": "execute_result"
    },
    {
     "data": {
      "image/png": "[encoded data removed]",
      "text/plain": [
       "<Figure size 432x288 with 1 Axes>"
      ]
     },
     "metadata": {
      "needs_background": "light"
     },
     "output_type": "display_data"
    }
   ],
   "source": [
    "plt.plot(sta)"
   ]
  },
  {
   "cell_type": "markdown",
   "id": "ff7b951c-4dc5-4fba-836b-a80ffa4df7ee",
   "metadata": {},
   "source": [
    "## 2. Calculating the spiking nonlinearity"
   ]
  },
  {
   "cell_type": "code",
   "execution_count": null,
   "id": "7d9e29c2-b54c-4acb-8547-8b6e96e54c2c",
   "metadata": {},
   "outputs": [],
   "source": []
  }
 ],
 "metadata": {
  "kernelspec": {
   "display_name": "Python 3 (ipykernel)",
   "language": "python",
   "name": "python3"
  },
  "language_info": {
   "codemirror_mode": {
    "name": "ipython",
    "version": 3
   },
   "file_extension": ".py",
   "mimetype": "text/x-python",
   "name": "python",
   "nbconvert_exporter": "python",
   "pygments_lexer": "ipython3",
   "version": "3.9.10"
  }
 },
 "nbformat": 4,
 "nbformat_minor": 5
}
