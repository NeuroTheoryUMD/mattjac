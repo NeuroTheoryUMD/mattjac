{
 "cells": [
  {
   "cell_type": "code",
   "execution_count": 66,
   "id": "c2128ae2-aa80-42da-b2a2-4f8149d6e4f6",
   "metadata": {},
   "outputs": [],
   "source": [
    "from scipy.io import loadmat\n",
    "import numpy as np\n",
    "import matplotlib.pyplot as plt\n",
    "import math"
   ]
  },
  {
   "cell_type": "markdown",
   "id": "93dea9aa-f7b9-477f-b3b0-a41462f925d9",
   "metadata": {},
   "source": [
    "### Load the data"
   ]
  },
  {
   "cell_type": "code",
   "execution_count": 50,
   "id": "85b1a402-7b35-4ec1-9611-537d43f6d7fd",
   "metadata": {},
   "outputs": [],
   "source": [
    "d = loadmat('LGN_FFdata.mat')"
   ]
  },
  {
   "cell_type": "code",
   "execution_count": 49,
   "id": "bbfb5a4d-ea1f-4701-a4c0-a281db7f546e",
   "metadata": {},
   "outputs": [
    {
     "data": {
      "text/plain": [
       "dict_keys(['__header__', '__version__', '__globals__', 'DTstim', 'FFspks', 'FFstim', 'FFstimR', 'FFspksR'])"
      ]
     },
     "execution_count": 49,
     "metadata": {},
     "output_type": "execute_result"
    }
   ],
   "source": [
    "d.keys()"
   ]
  },
  {
   "cell_type": "code",
   "execution_count": 72,
   "id": "17662c07-1e2a-4142-b0b8-a99105f7ae73",
   "metadata": {},
   "outputs": [
    {
     "data": {
      "text/plain": [
       "16567"
      ]
     },
     "execution_count": 72,
     "metadata": {},
     "output_type": "execute_result"
    }
   ],
   "source": [
    "spiks = d['FFspks'][0] # number is number of seconds from the start for that spike\n",
    "stims = d['FFstim']\n",
    "dt = d['DTstim'][0] # time between each stimulus\n",
    "len(d['FFspksR'][0]) # data has -1s in it for each trial repeat\n",
    "# Firing rate is probability of firing for a stimulus\n",
    "# average rate is a rate parameter for a Poisson process"
   ]
  },
  {
   "cell_type": "code",
   "execution_count": 76,
   "id": "39cb857e-5845-4f38-9e44-3edad0ce8d66",
   "metadata": {},
   "outputs": [
    {
     "data": {
      "text/plain": [
       "array([[-1.66558397],\n",
       "       [ 0.125332  ],\n",
       "       [ 0.28767601],\n",
       "       ...,\n",
       "       [-0.72446799],\n",
       "       [-0.068865  ],\n",
       "       [ 0.        ]])"
      ]
     },
     "execution_count": 76,
     "metadata": {},
     "output_type": "execute_result"
    }
   ],
   "source": [
    "stims # this is the intensity of the stimulus at this presentation"
   ]
  },
  {
   "cell_type": "code",
   "execution_count": 77,
   "id": "333394ff-934a-4030-ba16-a6c99baf763f",
   "metadata": {},
   "outputs": [
    {
     "name": "stdout",
     "output_type": "stream",
     "text": [
      "14391\n"
     ]
    },
    {
     "data": {
      "image/png": "[encoded data removed]",
      "text/plain": [
       "<Figure size 432x288 with 1 Axes>"
      ]
     },
     "metadata": {
      "needs_background": "light"
     },
     "output_type": "display_data"
    }
   ],
   "source": [
    "plt.hist(stims)\n",
    "print(len(stims))"
   ]
  },
  {
   "cell_type": "code",
   "execution_count": 78,
   "id": "99dc63a2-a1ca-40be-bb05-e3302c9e178a",
   "metadata": {},
   "outputs": [
    {
     "data": {
      "text/plain": [
       "array([120.00814013])"
      ]
     },
     "execution_count": 78,
     "metadata": {},
     "output_type": "execute_result"
    }
   ],
   "source": [
    "len(stims) * dt"
   ]
  },
  {
   "cell_type": "code",
   "execution_count": 80,
   "id": "ecf05546-6bf1-4d84-a651-1618792c1fe7",
   "metadata": {},
   "outputs": [],
   "source": [
    "t = 0.02\n",
    "stim_idx = math.floor(t/dt) # the stimulus trial at any time\n",
    "# get multiple columns in the vector by passing in multiple indices\n",
    "\n",
    "# we can also do some interesting matrix math to make it simpler to do\n"
   ]
  },
  {
   "cell_type": "code",
   "execution_count": 113,
   "id": "07e3592d-4d2c-4fa8-8709-e0779338e255",
   "metadata": {},
   "outputs": [
    {
     "data": {
      "text/plain": [
       "(0.06999999999999318, 120.00457499999999)"
      ]
     },
     "execution_count": 113,
     "metadata": {},
     "output_type": "execute_result"
    }
   ],
   "source": [
    "min(spiks), max(spiks)"
   ]
  },
  {
   "cell_type": "code",
   "execution_count": null,
   "id": "aae28611-0cee-450f-834c-41ebce8930b6",
   "metadata": {},
   "outputs": [],
   "source": []
  },
  {
   "cell_type": "markdown",
   "id": "052a780f-39a6-4ea1-b5d1-e34463686587",
   "metadata": {},
   "source": [
    "### A. Calculate the average stimulus for all spike times."
   ]
  },
  {
   "cell_type": "code",
   "execution_count": 153,
   "id": "96be122c-9bcd-4876-8905-9c1a706a69a8",
   "metadata": {},
   "outputs": [],
   "source": [
    "# TODO: This is a flat list of spikes, do we need to break it into rows per trial?\n",
    "# TODO: How do we know which trial each set of spikes is related to?\n",
    "\n",
    "# bin the spiks by their associated stims\n",
    "def associate_spiks_to_stims(spiks, stims):\n",
    "    max_spik = np.max(spiks) + dt\n",
    "    return np.histogram(spiks, bins=np.arange(0, max_spik, dt))[0]"
   ]
  },
  {
   "cell_type": "code",
   "execution_count": 131,
   "id": "aae951be-2ac9-41da-a7f5-9c672bd48770",
   "metadata": {},
   "outputs": [
    {
     "data": {
      "text/plain": [
       "(14391, 14391)"
      ]
     },
     "execution_count": 131,
     "metadata": {},
     "output_type": "execute_result"
    }
   ],
   "source": [
    "spiks_per_stim = associate_spiks_to_stims(spiks, stims)\n",
    "len(stims), len(spiks_per_stim)"
   ]
  },
  {
   "cell_type": "code",
   "execution_count": 154,
   "id": "3e3e363c-6ff9-4bdc-b48d-8407d11b2b20",
   "metadata": {},
   "outputs": [],
   "source": [
    "# Whenever there is a spike,\n",
    "# sum the stimulus values and divide by the number of spikes\n",
    "stim_sum = 0.\n",
    "stim_count = 0.\n",
    "for stim_idx, spik in enumerate(spiks_per_stim):\n",
    "    if spik > 0:\n",
    "        stim_sum += spik * stims[stim_idx]\n",
    "        # we want to multiply the stims by the number of spiks it elicited\n",
    "        stim_count += spik\n",
    "avg_stim_when_spiks = stim_sum / stim_count"
   ]
  },
  {
   "cell_type": "code",
   "execution_count": 155,
   "id": "80223594-527a-4a16-9e45-2945f7383fc5",
   "metadata": {},
   "outputs": [
    {
     "data": {
      "text/plain": [
       "0.05954608809527265"
      ]
     },
     "execution_count": 155,
     "metadata": {},
     "output_type": "execute_result"
    }
   ],
   "source": [
    "avg_stim_when_spiks[0]\n",
    "# should be 0.059 or so"
   ]
  },
  {
   "cell_type": "code",
   "execution_count": 144,
   "id": "d826db4d-a7c0-4b4b-9508-496a12541e49",
   "metadata": {},
   "outputs": [
    {
     "data": {
      "text/plain": [
       "(-3.7988569736480713, 3.747612953186035)"
      ]
     },
     "execution_count": 144,
     "metadata": {},
     "output_type": "execute_result"
    }
   ],
   "source": [
    "np.min(stims), np.max(stims)"
   ]
  },
  {
   "cell_type": "markdown",
   "id": "b05bfaaa-e967-478f-93cf-a646841b53de",
   "metadata": {},
   "source": [
    "### B. Calculate and plot the full spike-triggered average of the neuron."
   ]
  },
  {
   "cell_type": "code",
   "execution_count": 151,
   "id": "f121d9b2-6e93-4d18-a6f0-ef688e9b8c50",
   "metadata": {},
   "outputs": [
    {
     "data": {
      "text/plain": [
       "array([0.00833911])"
      ]
     },
     "execution_count": 151,
     "metadata": {},
     "output_type": "execute_result"
    }
   ],
   "source": [
    "dt # the time steps between the stimulus presentations"
   ]
  },
  {
   "cell_type": "code",
   "execution_count": 152,
   "id": "c69b99e4-4229-47e7-85fc-46ec67895969",
   "metadata": {},
   "outputs": [],
   "source": [
    "# moving window across the binned spikes, in 100ms (.1) bins\n",
    "window_size = math.ceil(.1 / dt)"
   ]
  },
  {
   "cell_type": "code",
   "execution_count": 162,
   "id": "75689f12-f901-42ff-812c-22600213fc06",
   "metadata": {},
   "outputs": [],
   "source": [
    "# slide the window over the stims\n",
    "stas = []\n",
    "for stim_idx in range(window_size, len(stims)):\n",
    "    #stims_in_window = stims[stim_idx - window_size : stim_idx]\n",
    "    \n",
    "    # get the average over the last <window_size> from the current stim\n",
    "    stim_sum = 0.\n",
    "    stim_count = 0.\n",
    "    for stim, spik in zip(stims[stim_idx-window_size:stim_idx], spiks_per_stim[stim_idx-window_size:stim_idx]):\n",
    "        if spik > 0:\n",
    "            stim_sum += spik * stim\n",
    "            stim_count += spik\n",
    "    if stim_count > 0:\n",
    "        avg_stim_when_spiks = (stim_sum / stim_count)[0]\n",
    "    else:\n",
    "        avg_stim_when_spiks = 0\n",
    "    stas.append(avg_stim_when_spiks)"
   ]
  },
  {
   "cell_type": "code",
   "execution_count": 164,
   "id": "f3667318-7d49-4643-bb67-8a9ac941a11d",
   "metadata": {},
   "outputs": [
    {
     "data": {
      "text/plain": [
       "[<matplotlib.lines.Line2D at 0x140a06490>]"
      ]
     },
     "execution_count": 164,
     "metadata": {},
     "output_type": "execute_result"
    },
    {
     "data": {
      "image/png": "[encoded data removed]",
      "text/plain": [
       "<Figure size 432x288 with 1 Axes>"
      ]
     },
     "metadata": {
      "needs_background": "light"
     },
     "output_type": "display_data"
    }
   ],
   "source": [
    "plt.plot(stas)"
   ]
  },
  {
   "cell_type": "code",
   "execution_count": null,
   "id": "47ad7a76-af15-45c7-8fa2-24b7a6b6683a",
   "metadata": {},
   "outputs": [],
   "source": []
  },
  {
   "cell_type": "code",
   "execution_count": 46,
   "id": "ab4519da-43ca-4dcc-9b0c-f0f134ae6184",
   "metadata": {},
   "outputs": [],
   "source": [
    "firingrate = np.histogram(spiks, bins=np.arange(0., 1., 0.001))[0] / 4."
   ]
  },
  {
   "cell_type": "code",
   "execution_count": 47,
   "id": "acd84c7a-f016-45af-ab2a-cf6169401ee0",
   "metadata": {},
   "outputs": [
    {
     "data": {
      "text/plain": [
       "[<matplotlib.lines.Line2D at 0x120a8ffd0>]"
      ]
     },
     "execution_count": 99,
     "metadata": {},
     "output_type": "execute_result"
    },
    {
     "data": {
      "image/png": "[encoded data removed]",
      "text/plain": [
       "<Figure size 432x288 with 1 Axes>"
      ]
     },
     "metadata": {
      "needs_background": "light"
     },
     "output_type": "display_data"
    }
   ],
   "source": [
    "plt.plot(firingrate)"
   ]
  },
  {
   "cell_type": "code",
   "execution_count": null,
   "id": "041d3a87-889f-43a2-a1f0-6f0447320577",
   "metadata": {},
   "outputs": [],
   "source": []
  }
 ],
 "metadata": {
  "kernelspec": {
   "display_name": "Python 3 (ipykernel)",
   "language": "python",
   "name": "python3"
  },
  "language_info": {
   "codemirror_mode": {
    "name": "ipython",
    "version": 3
   },
   "file_extension": ".py",
   "mimetype": "text/x-python",
   "name": "python",
   "nbconvert_exporter": "python",
   "pygments_lexer": "ipython3",
   "version": "3.9.10"
  }
 },
 "nbformat": 4,
 "nbformat_minor": 5
}
