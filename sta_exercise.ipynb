{
 "cells": [
  {
   "cell_type": "code",
   "execution_count": 1,
   "id": "c2128ae2-aa80-42da-b2a2-4f8149d6e4f6",
   "metadata": {},
   "outputs": [],
   "source": [
    "from scipy.io import loadmat\n",
    "import numpy as np\n",
    "import matplotlib.pyplot as plt\n",
    "import math"
   ]
  },
  {
   "cell_type": "markdown",
   "id": "93dea9aa-f7b9-477f-b3b0-a41462f925d9",
   "metadata": {},
   "source": [
    "### Load the data"
   ]
  },
  {
   "cell_type": "code",
   "execution_count": 2,
   "id": "85b1a402-7b35-4ec1-9611-537d43f6d7fd",
   "metadata": {},
   "outputs": [],
   "source": [
    "d = loadmat('LGN_FFdata.mat')"
   ]
  },
  {
   "cell_type": "code",
   "execution_count": 3,
   "id": "bbfb5a4d-ea1f-4701-a4c0-a281db7f546e",
   "metadata": {},
   "outputs": [
    {
     "data": {
      "text/plain": [
       "dict_keys(['__header__', '__version__', '__globals__', 'DTstim', 'FFspks', 'FFstim', 'FFstimR', 'FFspksR'])"
      ]
     },
     "execution_count": 3,
     "metadata": {},
     "output_type": "execute_result"
    }
   ],
   "source": [
    "d.keys()"
   ]
  },
  {
   "cell_type": "code",
   "execution_count": 4,
   "id": "17662c07-1e2a-4142-b0b8-a99105f7ae73",
   "metadata": {},
   "outputs": [
    {
     "data": {
      "text/plain": [
       "16567"
      ]
     },
     "execution_count": 4,
     "metadata": {},
     "output_type": "execute_result"
    }
   ],
   "source": [
    "spiks = d['FFspks'][0] # number is number of seconds from the start for that spike\n",
    "stims = d['FFstim']\n",
    "dt = d['DTstim'][0] # time between each stimulus\n",
    "len(d['FFspksR'][0]) # data has -1s in it for each trial repeat\n",
    "# Firing rate is probability of firing for a stimulus\n",
    "# average rate is a rate parameter for a Poisson process"
   ]
  },
  {
   "cell_type": "code",
   "execution_count": 5,
   "id": "39cb857e-5845-4f38-9e44-3edad0ce8d66",
   "metadata": {},
   "outputs": [
    {
     "data": {
      "text/plain": [
       "array([[-1.66558397],\n",
       "       [ 0.125332  ],\n",
       "       [ 0.28767601],\n",
       "       ...,\n",
       "       [-0.72446799],\n",
       "       [-0.068865  ],\n",
       "       [ 0.        ]])"
      ]
     },
     "execution_count": 5,
     "metadata": {},
     "output_type": "execute_result"
    }
   ],
   "source": [
    "stims # this is the intensity of the stimulus at this presentation"
   ]
  },
  {
   "cell_type": "code",
   "execution_count": 6,
   "id": "333394ff-934a-4030-ba16-a6c99baf763f",
   "metadata": {},
   "outputs": [
    {
     "name": "stdout",
     "output_type": "stream",
     "text": [
      "14391\n"
     ]
    },
    {
     "data": {
      "image/png": "[encoded data removed]",
      "text/plain": [
       "<Figure size 432x288 with 1 Axes>"
      ]
     },
     "metadata": {
      "needs_background": "light"
     },
     "output_type": "display_data"
    }
   ],
   "source": [
    "plt.hist(stims)\n",
    "print(len(stims))"
   ]
  },
  {
   "cell_type": "code",
   "execution_count": 7,
   "id": "99dc63a2-a1ca-40be-bb05-e3302c9e178a",
   "metadata": {},
   "outputs": [
    {
     "data": {
      "text/plain": [
       "array([120.00814013])"
      ]
     },
     "execution_count": 7,
     "metadata": {},
     "output_type": "execute_result"
    }
   ],
   "source": [
    "len(stims) * dt"
   ]
  },
  {
   "cell_type": "code",
   "execution_count": 8,
   "id": "ecf05546-6bf1-4d84-a651-1618792c1fe7",
   "metadata": {},
   "outputs": [],
   "source": [
    "t = 0.02\n",
    "stim_idx = math.floor(t/dt) # the stimulus trial at any time\n",
    "# get multiple columns in the vector by passing in multiple indices\n",
    "\n",
    "# we can also do some interesting matrix math to make it simpler to do\n"
   ]
  },
  {
   "cell_type": "code",
   "execution_count": 9,
   "id": "07e3592d-4d2c-4fa8-8709-e0779338e255",
   "metadata": {},
   "outputs": [
    {
     "data": {
      "text/plain": [
       "(0.06999999999999318, 120.00457499999999)"
      ]
     },
     "execution_count": 9,
     "metadata": {},
     "output_type": "execute_result"
    }
   ],
   "source": [
    "min(spiks), max(spiks)"
   ]
  },
  {
   "cell_type": "code",
   "execution_count": null,
   "id": "aae28611-0cee-450f-834c-41ebce8930b6",
   "metadata": {},
   "outputs": [],
   "source": []
  },
  {
   "cell_type": "markdown",
   "id": "052a780f-39a6-4ea1-b5d1-e34463686587",
   "metadata": {},
   "source": [
    "### A. Calculate the average stimulus for all spike times."
   ]
  },
  {
   "cell_type": "code",
   "execution_count": 10,
   "id": "96be122c-9bcd-4876-8905-9c1a706a69a8",
   "metadata": {},
   "outputs": [],
   "source": [
    "# bin the spiks by their associated stims\n",
    "def associate_spiks_to_stims(spiks, stims):\n",
    "    max_spik = np.max(spiks) + dt\n",
    "    return np.histogram(spiks, bins=np.arange(0, max_spik, dt))[0]"
   ]
  },
  {
   "cell_type": "code",
   "execution_count": 11,
   "id": "aae951be-2ac9-41da-a7f5-9c672bd48770",
   "metadata": {},
   "outputs": [
    {
     "data": {
      "text/plain": [
       "(14391, 14391)"
      ]
     },
     "execution_count": 11,
     "metadata": {},
     "output_type": "execute_result"
    }
   ],
   "source": [
    "spiks_per_stim = associate_spiks_to_stims(spiks, stims)\n",
    "len(stims), len(spiks_per_stim)"
   ]
  },
  {
   "cell_type": "code",
   "execution_count": 12,
   "id": "3e3e363c-6ff9-4bdc-b48d-8407d11b2b20",
   "metadata": {},
   "outputs": [],
   "source": [
    "# Whenever there is a spike,\n",
    "# sum the stimulus values and divide by the number of spikes\n",
    "stim_sum = 0.\n",
    "stim_count = 0.\n",
    "for stim_idx, spik in enumerate(spiks_per_stim):\n",
    "    if spik > 0:\n",
    "        stim_sum += spik * stims[stim_idx]\n",
    "        # we want to multiply the stims by the number of spiks it elicited\n",
    "        stim_count += spik\n",
    "avg_stim_when_spiks = stim_sum / stim_count"
   ]
  },
  {
   "cell_type": "code",
   "execution_count": 13,
   "id": "80223594-527a-4a16-9e45-2945f7383fc5",
   "metadata": {},
   "outputs": [
    {
     "data": {
      "text/plain": [
       "0.05954608809527265"
      ]
     },
     "execution_count": 13,
     "metadata": {},
     "output_type": "execute_result"
    }
   ],
   "source": [
    "avg_stim_when_spiks[0]\n",
    "# should be 0.059 or so"
   ]
  },
  {
   "cell_type": "code",
   "execution_count": 14,
   "id": "d826db4d-a7c0-4b4b-9508-496a12541e49",
   "metadata": {},
   "outputs": [
    {
     "data": {
      "text/plain": [
       "(-3.7988569736480713, 3.747612953186035)"
      ]
     },
     "execution_count": 14,
     "metadata": {},
     "output_type": "execute_result"
    }
   ],
   "source": [
    "np.min(stims), np.max(stims)"
   ]
  },
  {
   "cell_type": "markdown",
   "id": "b05bfaaa-e967-478f-93cf-a646841b53de",
   "metadata": {},
   "source": [
    "### B. Calculate and plot the full spike-triggered average of the neuron."
   ]
  },
  {
   "cell_type": "code",
   "execution_count": 15,
   "id": "f121d9b2-6e93-4d18-a6f0-ef688e9b8c50",
   "metadata": {},
   "outputs": [
    {
     "data": {
      "text/plain": [
       "array([0.00833911])"
      ]
     },
     "execution_count": 15,
     "metadata": {},
     "output_type": "execute_result"
    }
   ],
   "source": [
    "dt # the time steps between the stimulus presentations"
   ]
  },
  {
   "cell_type": "code",
   "execution_count": 16,
   "id": "c69b99e4-4229-47e7-85fc-46ec67895969",
   "metadata": {},
   "outputs": [],
   "source": [
    "# moving window across the binned spikes, in 100ms (.1) bins\n",
    "window_size = math.ceil(.1 / dt)"
   ]
  },
  {
   "cell_type": "code",
   "execution_count": 17,
   "id": "75689f12-f901-42ff-812c-22600213fc06",
   "metadata": {},
   "outputs": [],
   "source": [
    "# slide the window over the stims\n",
    "stas = []\n",
    "for stim_idx in range(window_size, len(stims)):\n",
    "    # get the average over the last <window_size> from the current stim\n",
    "    stim_sum = 0.\n",
    "    stim_count = 0.\n",
    "    for stim, spik in zip(stims[stim_idx-window_size:stim_idx], spiks_per_stim[stim_idx-window_size:stim_idx]):\n",
    "        if spik > 0:\n",
    "            stim_sum += spik * stim\n",
    "            stim_count += spik\n",
    "    if stim_count > 0:\n",
    "        avg_stim_when_spiks = (stim_sum / stim_count)[0]\n",
    "    else:\n",
    "        avg_stim_when_spiks = 0\n",
    "    stas.append(avg_stim_when_spiks)"
   ]
  },
  {
   "cell_type": "code",
   "execution_count": 18,
   "id": "7847c377-33b5-4e2c-a512-602095faee3f",
   "metadata": {},
   "outputs": [
    {
     "data": {
      "text/plain": [
       "[<matplotlib.lines.Line2D at 0x1210df640>]"
      ]
     },
     "execution_count": 18,
     "metadata": {},
     "output_type": "execute_result"
    },
    {
     "data": {
      "image/png": "[encoded data removed]",
      "text/plain": [
       "<Figure size 432x288 with 1 Axes>"
      ]
     },
     "metadata": {
      "needs_background": "light"
     },
     "output_type": "display_data"
    }
   ],
   "source": [
    "fig = plt.figure()\n",
    "fig.subplots_adjust(top=0.8)\n",
    "ax1 = fig.add_subplot(211)\n",
    "ax1.set_xlabel('time')\n",
    "ax1.set_ylabel('average spike count')\n",
    "ax1.set_title('Spike Triggered Averages')\n",
    "ax1.plot(stas)"
   ]
  },
  {
   "cell_type": "markdown",
   "id": "42b2995c-72ce-4590-b375-a49d7ad27694",
   "metadata": {},
   "source": [
    "### NOTE: this is nothing"
   ]
  },
  {
   "cell_type": "code",
   "execution_count": 19,
   "id": "f3667318-7d49-4643-bb67-8a9ac941a11d",
   "metadata": {},
   "outputs": [
    {
     "data": {
      "text/plain": [
       "<matplotlib.collections.PathCollection at 0x12136b940>"
      ]
     },
     "execution_count": 19,
     "metadata": {},
     "output_type": "execute_result"
    },
    {
     "data": {
      "image/png": "[encoded data removed]",
      "text/plain": [
       "<Figure size 432x288 with 1 Axes>"
      ]
     },
     "metadata": {
      "needs_background": "light"
     },
     "output_type": "display_data"
    }
   ],
   "source": [
    "fig = plt.figure()\n",
    "fig.subplots_adjust(top=0.8)\n",
    "ax2 = fig.add_subplot(211)\n",
    "ax2.set_xlabel('stimulus')\n",
    "ax2.set_ylabel('average stimulus for spikes')\n",
    "ax2.set_title('Stimulus vs. Spike Triggered Averages')\n",
    "ax2.scatter(stims[window_size:], stas)"
   ]
  },
  {
   "cell_type": "code",
   "execution_count": null,
   "id": "47ad7a76-af15-45c7-8fa2-24b7a6b6683a",
   "metadata": {},
   "outputs": [],
   "source": []
  },
  {
   "cell_type": "markdown",
   "id": "67d05a10-49b9-4911-a621-69394cf447cf",
   "metadata": {},
   "source": [
    "# Problem Set, done with matrices to make it simpler"
   ]
  },
  {
   "cell_type": "markdown",
   "id": "b70505c5-4bd7-4982-a026-266952a90b6f",
   "metadata": {},
   "source": [
    "## 1. Temporal receptive field of a neuron"
   ]
  },
  {
   "cell_type": "markdown",
   "id": "ab33381e-7e90-4d49-bd6b-03ead90f1519",
   "metadata": {},
   "source": [
    "### A. Average stimulus value for all spike times"
   ]
  },
  {
   "cell_type": "code",
   "execution_count": 20,
   "id": "c7073b63-3b50-4dde-bf8e-f5ac02e4d37b",
   "metadata": {},
   "outputs": [],
   "source": [
    "# bin the spiks by their associated stims\n",
    "def associate_spiks_to_stims(spiks, stims):\n",
    "    max_spik = np.max(spiks) + dt\n",
    "    return np.histogram(spiks, bins=np.arange(0, max_spik, dt))[0]\n",
    "\n",
    "# combine the spiks and stims by as columns\n",
    "def merge_spiks_and_stims(spiks, stims):\n",
    "    spiks_per_stim = associate_spiks_to_stims(spiks, stims)\n",
    "    return np.column_stack([stims.flatten(), spiks_per_stim])"
   ]
  },
  {
   "cell_type": "code",
   "execution_count": 21,
   "id": "a7c21e43-6ad8-4200-b29c-74f1f8e377a7",
   "metadata": {},
   "outputs": [],
   "source": [
    "merged = merge_spiks_and_stims(spiks, stims)"
   ]
  },
  {
   "cell_type": "code",
   "execution_count": 22,
   "id": "3948ccf0-d4ab-46f6-9d58-23a15d70519d",
   "metadata": {},
   "outputs": [
    {
     "data": {
      "text/plain": [
       "array([[-1.66558397,  0.        ],\n",
       "       [ 0.125332  ,  0.        ],\n",
       "       [ 0.28767601,  0.        ],\n",
       "       ...,\n",
       "       [-0.72446799,  0.        ],\n",
       "       [-0.068865  ,  0.        ],\n",
       "       [ 0.        ,  1.        ]])"
      ]
     },
     "execution_count": 22,
     "metadata": {},
     "output_type": "execute_result"
    }
   ],
   "source": [
    "merged"
   ]
  },
  {
   "cell_type": "code",
   "execution_count": 23,
   "id": "5aa21ab0-d953-4a2f-a057-9b3db6a33ff8",
   "metadata": {},
   "outputs": [
    {
     "data": {
      "text/plain": [
       "0.05954608809527265"
      ]
     },
     "execution_count": 23,
     "metadata": {},
     "output_type": "execute_result"
    }
   ],
   "source": [
    "# average stimulus for all spike times\n",
    "np.sum(merged[:,0] * merged[:,1]) / np.sum(merged[:,1])"
   ]
  },
  {
   "cell_type": "markdown",
   "id": "1a7bc98d-093f-44e9-a686-bece784b5abe",
   "metadata": {},
   "source": [
    "### Updates"
   ]
  },
  {
   "cell_type": "code",
   "execution_count": 24,
   "id": "44035aa3-2197-4c93-b5f9-14b97bab0730",
   "metadata": {},
   "outputs": [],
   "source": [
    "# S0 is stimulus at spike times\n",
    "# S1 is stimulus shifted 1 time lag (dt)\n",
    "# S2 is stimulus shifted 2 time lags"
   ]
  },
  {
   "cell_type": "markdown",
   "id": "25c43f95-124e-4086-b51a-1cb9eb408410",
   "metadata": {},
   "source": [
    "### B. STA of the neuron"
   ]
  },
  {
   "cell_type": "code",
   "execution_count": 25,
   "id": "7eb3782b-3e86-4d9a-b695-71bea76e8034",
   "metadata": {},
   "outputs": [
    {
     "data": {
      "text/plain": [
       "12"
      ]
     },
     "execution_count": 25,
     "metadata": {},
     "output_type": "execute_result"
    }
   ],
   "source": [
    "# moving window across the binned spikes, in 100ms (.1) bins\n",
    "w = math.ceil(.1 / dt)\n",
    "w"
   ]
  },
  {
   "cell_type": "code",
   "execution_count": 26,
   "id": "0560ac38-b744-4776-ab70-b2f4eb9471b6",
   "metadata": {},
   "outputs": [],
   "source": [
    "sta = []\n",
    "for i in range(w, len(stims)):\n",
    "    if np.sum(merged[i-w:i,1]) > 0:\n",
    "        sta.append(np.sum(merged[i-w:i,0] * merged[i-w:i,1]) / np.sum(merged[i-w:i,1]))\n",
    "    else: # if there are no spikes in the window, it is 0\n",
    "        sta.append(0)\n",
    "sta = np.array(sta)"
   ]
  },
  {
   "cell_type": "code",
   "execution_count": 27,
   "id": "321374b5-b244-4996-bb2e-90619e08e9f4",
   "metadata": {},
   "outputs": [
    {
     "data": {
      "text/plain": [
       "[<matplotlib.lines.Line2D at 0x1213de520>]"
      ]
     },
     "execution_count": 27,
     "metadata": {},
     "output_type": "execute_result"
    },
    {
     "data": {
      "image/png": "[encoded data removed]",
      "text/plain": [
       "<Figure size 432x288 with 1 Axes>"
      ]
     },
     "metadata": {
      "needs_background": "light"
     },
     "output_type": "display_data"
    }
   ],
   "source": [
    "plt.plot(sta)"
   ]
  },
  {
   "cell_type": "markdown",
   "id": "012c5e21-baa3-4962-bd4f-e8ac5b304787",
   "metadata": {},
   "source": [
    "### Let's try this again"
   ]
  },
  {
   "cell_type": "code",
   "execution_count": 28,
   "id": "8917336f-bc47-4739-8640-6bad7b2a6ad2",
   "metadata": {},
   "outputs": [
    {
     "data": {
      "text/plain": [
       "12"
      ]
     },
     "execution_count": 28,
     "metadata": {},
     "output_type": "execute_result"
    }
   ],
   "source": [
    "# moving window across the binned spikes, in 100ms (.1) bins\n",
    "num_lags = math.ceil(.1 / dt)\n",
    "num_lags"
   ]
  },
  {
   "cell_type": "code",
   "execution_count": 29,
   "id": "b3263693-198a-4d44-8da5-758a6cd04991",
   "metadata": {},
   "outputs": [],
   "source": [
    "# shifts vector by the amount (shift can be positive or negative)\n",
    "# fills the empty elements with zeros\n",
    "def shift_vector(vector, shift):\n",
    "    if shift > len(vector):\n",
    "        shift = len(vector)\n",
    "    elif shift < 0 and abs(shift) > len(vector):\n",
    "        shift = -len(vector)\n",
    "    \n",
    "    if shift > 0:\n",
    "        shifted = np.concatenate((np.zeros((shift)), vector[:-shift]), axis=None)\n",
    "    elif shift < 0:\n",
    "        shifted = np.concatenate((vector[abs(shift):], np.zeros((abs(shift)))), axis=None)\n",
    "    else:\n",
    "        shifted = vector\n",
    "    \n",
    "    return shifted"
   ]
  },
  {
   "cell_type": "code",
   "execution_count": 30,
   "id": "cc530077-912d-450c-8d0a-c5e46649e778",
   "metadata": {},
   "outputs": [
    {
     "data": {
      "text/plain": [
       "array([4., 5., 0., 0., 0.])"
      ]
     },
     "execution_count": 30,
     "metadata": {},
     "output_type": "execute_result"
    }
   ],
   "source": [
    "a = [1, 2, 3, 4, 5]\n",
    "shift_vector(a, -3)"
   ]
  },
  {
   "cell_type": "code",
   "execution_count": 165,
   "id": "8a1e69d0-f3b9-47f8-a2cb-e66a443ba680",
   "metadata": {},
   "outputs": [],
   "source": [
    "def learn_sta(merged, num_lags):\n",
    "    sta = []\n",
    "    for lag in range(0, num_lags):\n",
    "        lagged_stim = shift_vector(merged[:,0], lag)\n",
    "        sta.append(np.sum(lagged_stim * merged[:,1]) / np.sum(merged[:,1]))\n",
    "    sta = np.array(sta)\n",
    "    return sta"
   ]
  },
  {
   "cell_type": "code",
   "execution_count": 166,
   "id": "540a4dce-a2f5-46d4-8621-ba704b889690",
   "metadata": {},
   "outputs": [
    {
     "data": {
      "text/plain": [
       "(12,\n",
       " array([ 0.05954609,  0.00736425,  0.01464575,  0.29132787,  0.77145262,\n",
       "        -0.77350106, -0.40184529,  0.00930294, -0.13743719,  0.01446317,\n",
       "         0.0745255 ,  0.12431743]))"
      ]
     },
     "execution_count": 166,
     "metadata": {},
     "output_type": "execute_result"
    }
   ],
   "source": [
    "sta = learn_sta(merged, num_lags=12)\n",
    "len(sta), sta"
   ]
  },
  {
   "cell_type": "code",
   "execution_count": 33,
   "id": "f77b9074-30f6-4b25-8b9e-f8ecd99b0777",
   "metadata": {},
   "outputs": [
    {
     "data": {
      "text/plain": [
       "[<matplotlib.lines.Line2D at 0x12144f700>]"
      ]
     },
     "execution_count": 33,
     "metadata": {},
     "output_type": "execute_result"
    },
    {
     "data": {
      "image/png": "[encoded data removed]",
      "text/plain": [
       "<Figure size 432x288 with 1 Axes>"
      ]
     },
     "metadata": {
      "needs_background": "light"
     },
     "output_type": "display_data"
    }
   ],
   "source": [
    "plt.plot(sta)"
   ]
  },
  {
   "cell_type": "markdown",
   "id": "ff7b951c-4dc5-4fba-836b-a80ffa4df7ee",
   "metadata": {},
   "source": [
    "## 2. Calculating the spiking nonlinearity"
   ]
  },
  {
   "cell_type": "markdown",
   "id": "7d4c3c7e-0a0a-4af5-b0b0-df192d7a233f",
   "metadata": {},
   "source": [
    "### A. Calculate the stimulus convolved with the receptive field"
   ]
  },
  {
   "cell_type": "code",
   "execution_count": 38,
   "id": "7324d6d3-c5e6-4469-adc8-91eb42c7367e",
   "metadata": {},
   "outputs": [],
   "source": [
    "# slide the STA filter over the stimulus,\n",
    "# each stimulus value becomes a dot product of a length-12 sliding window and the filter"
   ]
  },
  {
   "cell_type": "code",
   "execution_count": 39,
   "id": "5ea80a4c-422b-42b2-bdcd-b28529c5a655",
   "metadata": {},
   "outputs": [],
   "source": [
    "# it looks like if we divide the vector by its standard deviation, it has a std of 1\n",
    "# TODO: figure out why this is the case\n",
    "normalized_sta = sta / np.std(sta)"
   ]
  },
  {
   "cell_type": "code",
   "execution_count": 129,
   "id": "d01d2c02-ab74-418e-b507-3f2bb28468d0",
   "metadata": {},
   "outputs": [],
   "source": [
    "def kernel_response(stims, kernel):\n",
    "    # pad the stims with zeros to be able to use the kernel from the start of the stims\n",
    "    padded_stims = np.concatenate((np.zeros((len(kernel)-1)), stims), axis=None)\n",
    "    \n",
    "    # slide the window over the stims\n",
    "    # TODO: change to the matrix method for better bookkeeping\n",
    "    filtered_stims = []\n",
    "    for i in range(len(kernel), len(padded_stims)+1):\n",
    "        filtered_stims.append(np.dot(padded_stims[i-len(kernel):i], kernel))\n",
    "    return np.array(filtered_stims)"
   ]
  },
  {
   "cell_type": "code",
   "execution_count": 130,
   "id": "9e54bcb2-3057-417a-9020-35052f6c1ba6",
   "metadata": {},
   "outputs": [
    {
     "data": {
      "text/plain": [
       "array([1. , 2.5, 5. , 4. , 5. , 8. ])"
      ]
     },
     "execution_count": 130,
     "metadata": {},
     "output_type": "execute_result"
    }
   ],
   "source": [
    "# test that the kernel response does what we expect in the happy path\n",
    "def test_kernel_response_happy():\n",
    "    test_kernel = np.array([0, 0.5, 1])\n",
    "    test_stims = np.array([1, 2, 4, 2, 4, 6])\n",
    "    \n",
    "    return kernel_response(test_stims, test_kernel)\n",
    "\n",
    "test_kernel_response_happy()"
   ]
  },
  {
   "cell_type": "code",
   "execution_count": 131,
   "id": "8b68f9bb-dec9-4fa3-a36a-14a36ac5c50d",
   "metadata": {},
   "outputs": [],
   "source": [
    "def g_convolve(s, k):    \n",
    "    g = np.convolve(s, k, mode='same')\n",
    "    return g"
   ]
  },
  {
   "cell_type": "code",
   "execution_count": 132,
   "id": "f9f3de34-87b3-4ba5-94ca-eb7ce31d3919",
   "metadata": {},
   "outputs": [
    {
     "data": {
      "text/plain": [
       "array([0.5, 2. , 4. , 5. , 4. , 7. ])"
      ]
     },
     "execution_count": 132,
     "metadata": {},
     "output_type": "execute_result"
    }
   ],
   "source": [
    "# test that the g_convolve does what we expect in the happy path\n",
    "def test_g_convolve_happy():\n",
    "    test_kernel = np.array([0, 0.5, 1])\n",
    "    test_stims = np.array([1, 2, 4, 2, 4, 6])\n",
    "    \n",
    "    return g_convolve(test_stims, test_kernel)\n",
    "\n",
    "test_g_convolve_happy()"
   ]
  },
  {
   "cell_type": "code",
   "execution_count": 133,
   "id": "7d9e29c2-b54c-4acb-8547-8b6e96e54c2c",
   "metadata": {},
   "outputs": [],
   "source": [
    "filtered_stims = kernel_response(stims, normalized_sta)"
   ]
  },
  {
   "cell_type": "code",
   "execution_count": 134,
   "id": "d510e610-0051-47b6-9ad0-42eb1cb6502f",
   "metadata": {},
   "outputs": [],
   "source": [
    "# remove negative values from the filter response\n",
    "nonneg_filtered_stims = list(map(lambda x: x if x >= 0 else 0, filtered_stims))"
   ]
  },
  {
   "cell_type": "code",
   "execution_count": 135,
   "id": "7e5c4eb7-1923-4eb8-a914-ce1b2315a390",
   "metadata": {},
   "outputs": [
    {
     "data": {
      "image/png": "[encoded data removed]",
      "text/plain": [
       "<Figure size 432x288 with 1 Axes>"
      ]
     },
     "metadata": {
      "needs_background": "light"
     },
     "output_type": "display_data"
    }
   ],
   "source": [
    "axt = plt.axes([1, 1, 2, 1])\n",
    "#axt.plot(stims[50:100], label='stims')\n",
    "#axt.plot(filtered_stims[50:100], label='filtered_stims')\n",
    "axt.plot(nonneg_filtered_stims[50:100], label='filtered_stims')\n",
    "axt.plot([r for s,r in merged[50:100]], label='spikes')\n",
    "axt.legend()\n",
    "plt.show()"
   ]
  },
  {
   "cell_type": "code",
   "execution_count": null,
   "id": "ea57d0b6-0798-440c-89f6-b884af17a4ce",
   "metadata": {},
   "outputs": [],
   "source": []
  },
  {
   "cell_type": "markdown",
   "id": "6518ef86-2d18-4b00-a660-8d015366fe33",
   "metadata": {},
   "source": [
    "### B. Calculate the histogram for the value of the filtered stimulus"
   ]
  },
  {
   "cell_type": "code",
   "execution_count": 147,
   "id": "94d0f6bc-b6ec-44d6-8f35-71fd4bd9d6b8",
   "metadata": {},
   "outputs": [],
   "source": [
    "histb = np.histogram(filtered_stims, bins=np.arange(-6, 6, 0.2))[0]"
   ]
  },
  {
   "cell_type": "code",
   "execution_count": 148,
   "id": "a9339ba9-7ba1-438c-9f57-67b17d6c326e",
   "metadata": {},
   "outputs": [
    {
     "data": {
      "text/plain": [
       "[<matplotlib.lines.Line2D at 0x177171190>]"
      ]
     },
     "execution_count": 148,
     "metadata": {},
     "output_type": "execute_result"
    },
    {
     "data": {
      "image/png": "[encoded data removed]",
      "text/plain": [
       "<Figure size 432x288 with 1 Axes>"
      ]
     },
     "metadata": {
      "needs_background": "light"
     },
     "output_type": "display_data"
    }
   ],
   "source": [
    "plt.plot(histb)"
   ]
  },
  {
   "cell_type": "markdown",
   "id": "a1d08cfa-61dd-4dea-8844-d347efb378b8",
   "metadata": {},
   "source": [
    "### C. Calculate the histogram for the value of the filtered stimulus for just the spike times"
   ]
  },
  {
   "cell_type": "code",
   "execution_count": 142,
   "id": "597e7722-2a82-4669-b58a-58931858654a",
   "metadata": {},
   "outputs": [
    {
     "data": {
      "text/plain": [
       "array([    8,    16,    23, ..., 14377, 14383, 14390])"
      ]
     },
     "execution_count": 142,
     "metadata": {},
     "output_type": "execute_result"
    }
   ],
   "source": [
    "# filter the filtered_stims for just when there is a spike\n",
    "indices_when_spiking = (merged[:,1] > 0).nonzero()[0]\n",
    "indices_when_spiking"
   ]
  },
  {
   "cell_type": "code",
   "execution_count": 155,
   "id": "fe3394e5-00ff-4613-b88f-9755b08901fa",
   "metadata": {},
   "outputs": [],
   "source": [
    "filtered_stims_when_spiking = filtered_stims[indices_when_spiking]\n",
    "histc = np.histogram(filtered_stims_when_spiking, bins=np.arange(-6, 6, 0.2))[0]"
   ]
  },
  {
   "cell_type": "code",
   "execution_count": 156,
   "id": "1f9e5ae1-dd88-43ff-912a-8d9df4c04582",
   "metadata": {},
   "outputs": [
    {
     "data": {
      "image/png": "[encoded data removed]",
      "text/plain": [
       "<Figure size 432x288 with 1 Axes>"
      ]
     },
     "metadata": {
      "needs_background": "light"
     },
     "output_type": "display_data"
    }
   ],
   "source": [
    "axc = plt.axes([1, 1, 2, 1])\n",
    "axc.plot(histc, label='responses only when spiking')\n",
    "axc.plot(histb, label='all filter responses')\n",
    "axc.legend()\n",
    "plt.show()"
   ]
  },
  {
   "cell_type": "markdown",
   "id": "b750526f-d725-4103-94d1-1f57b45f40f7",
   "metadata": {},
   "source": [
    "### D. Plot the spiking nonlinearity"
   ]
  },
  {
   "cell_type": "code",
   "execution_count": 157,
   "id": "b994bab4-6c07-44aa-9573-97ee6588e4b2",
   "metadata": {},
   "outputs": [
    {
     "data": {
      "text/plain": [
       "(59, 59)"
      ]
     },
     "execution_count": 157,
     "metadata": {},
     "output_type": "execute_result"
    }
   ],
   "source": [
    "len(histb), len(histc)"
   ]
  },
  {
   "cell_type": "code",
   "execution_count": 160,
   "id": "d99bdb6e-08c7-40c1-a310-bed7a08bc727",
   "metadata": {},
   "outputs": [
    {
     "data": {
      "text/plain": [
       "[<matplotlib.lines.Line2D at 0x177435580>]"
      ]
     },
     "execution_count": 160,
     "metadata": {},
     "output_type": "execute_result"
    },
    {
     "data": {
      "image/png": "[encoded data removed]",
      "text/plain": [
       "<Figure size 432x288 with 1 Axes>"
      ]
     },
     "metadata": {
      "needs_background": "light"
     },
     "output_type": "display_data"
    }
   ],
   "source": [
    "plt.plot(histc / histb)"
   ]
  },
  {
   "cell_type": "code",
   "execution_count": null,
   "id": "0a4c9ad1-b2f8-4ea6-be0c-2326f7db4fa8",
   "metadata": {},
   "outputs": [],
   "source": []
  },
  {
   "cell_type": "markdown",
   "id": "509aaced-19e0-4a9b-a52b-bc85ad17f81f",
   "metadata": {},
   "source": [
    "## 3. Model Predictions and Cross-Validation"
   ]
  },
  {
   "cell_type": "code",
   "execution_count": 163,
   "id": "6c92c27c-9e32-49f9-9939-a28f36fabf76",
   "metadata": {},
   "outputs": [
    {
     "data": {
      "text/plain": [
       "array([[-0.36726299],\n",
       "       [-1.43565404],\n",
       "       [ 0.39810801],\n",
       "       ...,\n",
       "       [-0.14322101],\n",
       "       [-1.12856805],\n",
       "       [ 0.295412  ]])"
      ]
     },
     "execution_count": 163,
     "metadata": {},
     "output_type": "execute_result"
    }
   ],
   "source": [
    "d['FFstimR']"
   ]
  },
  {
   "cell_type": "code",
   "execution_count": 164,
   "id": "78e5ec2f-29c7-4c51-b794-433eb96c2eb9",
   "metadata": {},
   "outputs": [
    {
     "data": {
      "text/plain": [
       "array([[ 0.01605,  0.01745,  0.0192 , ...,  9.95055,  9.99795, -1.     ]])"
      ]
     },
     "execution_count": 164,
     "metadata": {},
     "output_type": "execute_result"
    }
   ],
   "source": [
    "d['FFspksR']"
   ]
  },
  {
   "cell_type": "markdown",
   "id": "a567a216-8fff-44ba-88b8-1813b623c898",
   "metadata": {},
   "source": [
    "### A."
   ]
  },
  {
   "cell_type": "code",
   "execution_count": 168,
   "id": "1af46c3a-f07c-4fc8-892d-04a31d9075ff",
   "metadata": {},
   "outputs": [],
   "source": [
    "# calculate the neurons firing rate as a function of time, using a bin size DTstim\n"
   ]
  },
  {
   "cell_type": "code",
   "execution_count": null,
   "id": "ad7122c3-4878-47be-8915-b77682dcd7ab",
   "metadata": {},
   "outputs": [],
   "source": [
    "# plot the firing rate between 800ms and 1000ms, vertical axis units in Hz\n"
   ]
  }
 ],
 "metadata": {
  "kernelspec": {
   "display_name": "Python 3 (ipykernel)",
   "language": "python",
   "name": "python3"
  },
  "language_info": {
   "codemirror_mode": {
    "name": "ipython",
    "version": 3
   },
   "file_extension": ".py",
   "mimetype": "text/x-python",
   "name": "python",
   "nbconvert_exporter": "python",
   "pygments_lexer": "ipython3",
   "version": "3.9.10"
  }
 },
 "nbformat": 4,
 "nbformat_minor": 5
}
